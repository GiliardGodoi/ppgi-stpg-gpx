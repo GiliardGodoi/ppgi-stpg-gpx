{
 "cells": [
  {
   "cell_type": "code",
   "execution_count": 1,
   "id": "reverse-possible",
   "metadata": {},
   "outputs": [],
   "source": [
    "from ga4stpg.util import STEIN_B\n",
    "from ga4stpg.graph import ReaderORLibrary, UGraph\n",
    "from ga4stpg.graph.util import is_steiner_tree\n",
    "from ga4stpg.tree.evaluation import EvaluateTreeGraph\n",
    "from ga4stpg.tree.generate import GenerateBasedRandomWalk, GenerateBasedPrimRST"
   ]
  },
  {
   "cell_type": "code",
   "execution_count": 2,
   "id": "still-linux",
   "metadata": {},
   "outputs": [],
   "source": [
    "import seaborn as sns\n",
    "from matplotlib import pyplot as plt \n",
    "\n",
    "from collections import Counter\n",
    "from statistics import mean, stdev\n",
    "from os import path"
   ]
  },
  {
   "cell_type": "code",
   "execution_count": 3,
   "id": "fiscal-mexico",
   "metadata": {},
   "outputs": [],
   "source": [
    "from scipy import stats"
   ]
  },
  {
   "cell_type": "code",
   "execution_count": 4,
   "id": "clear-breathing",
   "metadata": {},
   "outputs": [],
   "source": [
    "import config"
   ]
  },
  {
   "cell_type": "code",
   "execution_count": 5,
   "id": "manufactured-memphis",
   "metadata": {},
   "outputs": [
    {
     "name": "stdout",
     "output_type": "stream",
     "text": [
      "steinb16.txt\n"
     ]
    }
   ],
   "source": [
    "INDEX = 15\n",
    "filename = STEIN_B[INDEX][0]\n",
    "\n",
    "print(filename)\n",
    "\n",
    "filename = path.join(config.dataset_directory, filename)\n",
    "stpg = ReaderORLibrary().parser(filename)"
   ]
  },
  {
   "cell_type": "code",
   "execution_count": 6,
   "id": "opponent-platform",
   "metadata": {},
   "outputs": [
    {
     "name": "stdout",
     "output_type": "stream",
     "text": [
      "STPG information \n",
      " - - - - - - - - - - \n",
      "Instance:  B16\n",
      "Best Known cost:  127\n",
      "Nro. Node: 100\n",
      "Nro. Edges: 200\n",
      "Nro. Terminals: 17\n",
      "Terminals: \n",
      " {97, 37, 69, 72, 9, 76, 60, 81, 82, 17, 20, 21, 54, 87, 25, 59, 28}\n"
     ]
    }
   ],
   "source": [
    "print(\"STPG information\", '\\n', 10*'- ')\n",
    "print('Instance: ', stpg.name)\n",
    "print('Best Known cost: ', STEIN_B[INDEX][1])\n",
    "print(\"Nro. Node:\", stpg.nro_nodes)\n",
    "print(\"Nro. Edges:\", stpg.nro_edges)\n",
    "print(\"Nro. Terminals:\", stpg.nro_terminals)\n",
    "print(\"Terminals: \\n\", stpg.terminals)"
   ]
  },
  {
   "cell_type": "code",
   "execution_count": 7,
   "id": "robust-taste",
   "metadata": {},
   "outputs": [],
   "source": [
    "nro_individuals = 1_000"
   ]
  },
  {
   "cell_type": "code",
   "execution_count": 8,
   "id": "declared-manner",
   "metadata": {},
   "outputs": [],
   "source": [
    "gen_randomWalk = GenerateBasedRandomWalk(stpg)\n",
    "evaluator = EvaluateTreeGraph(stpg)"
   ]
  },
  {
   "cell_type": "code",
   "execution_count": 9,
   "id": "controlled-worship",
   "metadata": {},
   "outputs": [
    {
     "name": "stdout",
     "output_type": "stream",
     "text": [
      "Wall time: 4.66 s\n"
     ]
    }
   ],
   "source": [
    "%%time\n",
    "costs_randomWalk = [evaluator(gen_randomWalk())[0] \n",
    "                       for _ in range(nro_individuals)]"
   ]
  },
  {
   "cell_type": "code",
   "execution_count": 10,
   "id": "olive-imperial",
   "metadata": {},
   "outputs": [
    {
     "name": "stdout",
     "output_type": "stream",
     "text": [
      "5.554669679948276e-13\n",
      "True\n"
     ]
    }
   ],
   "source": [
    "result_randomWalk = stats.shapiro(costs_randomWalk)\n",
    "\n",
    "print(result_randomWalk.pvalue)\n",
    "\n",
    "print(result_randomWalk.pvalue < 0.05)"
   ]
  },
  {
   "cell_type": "code",
   "execution_count": null,
   "id": "solved-pastor",
   "metadata": {},
   "outputs": [],
   "source": []
  },
  {
   "cell_type": "code",
   "execution_count": 11,
   "id": "integral-amsterdam",
   "metadata": {},
   "outputs": [
    {
     "data": {
      "text/plain": [
       "(array([  1.,   0.,   0.,   1.,   1.,   2.,  12.,  27.,  63., 153., 232.,\n",
       "        255., 172.,  66.,  15.]),\n",
       " array([366.        , 382.13333333, 398.26666667, 414.4       ,\n",
       "        430.53333333, 446.66666667, 462.8       , 478.93333333,\n",
       "        495.06666667, 511.2       , 527.33333333, 543.46666667,\n",
       "        559.6       , 575.73333333, 591.86666667, 608.        ]),\n",
       " <BarContainer object of 15 artists>)"
      ]
     },
     "execution_count": 11,
     "metadata": {},
     "output_type": "execute_result"
    },
    {
     "data": {
      "image/png": "[encoded data removed]",
      "text/plain": [
       "<Figure size 432x288 with 1 Axes>"
      ]
     },
     "metadata": {
      "needs_background": "light"
     },
     "output_type": "display_data"
    }
   ],
   "source": [
    "cost_mean = mean(costs_randomWalk)\n",
    "cost_stdev = stdev(costs_randomWalk)\n",
    "\n",
    "_ = plt.hist(costs_randomWalk, bins=15)\n",
    "# plt.vlines(cost_mean, 0, 3000, colors='red')"
   ]
  },
  {
   "cell_type": "code",
   "execution_count": 12,
   "id": "dietary-snapshot",
   "metadata": {},
   "outputs": [
    {
     "name": "stdout",
     "output_type": "stream",
     "text": [
      "542.178\n",
      "26.158834083357014\n"
     ]
    }
   ],
   "source": [
    "print(cost_mean)\n",
    "print(cost_stdev)"
   ]
  },
  {
   "cell_type": "code",
   "execution_count": null,
   "id": "prostate-document",
   "metadata": {},
   "outputs": [],
   "source": []
  },
  {
   "cell_type": "code",
   "execution_count": 13,
   "id": "adopted-perth",
   "metadata": {},
   "outputs": [],
   "source": [
    "gen_primRST = GenerateBasedPrimRST(stpg)"
   ]
  },
  {
   "cell_type": "code",
   "execution_count": 14,
   "id": "perfect-campus",
   "metadata": {},
   "outputs": [
    {
     "name": "stdout",
     "output_type": "stream",
     "text": [
      "Wall time: 1.55 s\n"
     ]
    }
   ],
   "source": [
    "%%time\n",
    "cost_primBased = [evaluator(gen_primRST())[0] \n",
    "                      for _ in range(nro_individuals)]"
   ]
  },
  {
   "cell_type": "code",
   "execution_count": 15,
   "id": "nasty-bennett",
   "metadata": {},
   "outputs": [
    {
     "data": {
      "text/plain": [
       "(array([  1.,   0.,   0.,   0.,   2.,  11.,  18.,  46., 130., 209., 279.,\n",
       "        191.,  83.,  28.,   2.]),\n",
       " array([384.        , 399.86666667, 415.73333333, 431.6       ,\n",
       "        447.46666667, 463.33333333, 479.2       , 495.06666667,\n",
       "        510.93333333, 526.8       , 542.66666667, 558.53333333,\n",
       "        574.4       , 590.26666667, 606.13333333, 622.        ]),\n",
       " <BarContainer object of 15 artists>)"
      ]
     },
     "execution_count": 15,
     "metadata": {},
     "output_type": "execute_result"
    },
    {
     "data": {
      "image/png": "[encoded data removed]",
      "text/plain": [
       "<Figure size 432x288 with 1 Axes>"
      ]
     },
     "metadata": {
      "needs_background": "light"
     },
     "output_type": "display_data"
    }
   ],
   "source": [
    "cost_mean = mean(cost_primBased)\n",
    "cost_stdev = stdev(cost_primBased)\n",
    "\n",
    "_ = plt.hist(cost_primBased, bins=15)\n",
    "# plt.vlines(cost_mean, 0, 3000, colors='red')"
   ]
  },
  {
   "cell_type": "code",
   "execution_count": 16,
   "id": "olympic-supplier",
   "metadata": {},
   "outputs": [
    {
     "name": "stdout",
     "output_type": "stream",
     "text": [
      "545.775\n",
      "25.50421219798486\n"
     ]
    }
   ],
   "source": [
    "print(cost_mean)\n",
    "print(cost_stdev)"
   ]
  },
  {
   "cell_type": "code",
   "execution_count": 24,
   "id": "entertaining-cleaners",
   "metadata": {},
   "outputs": [
    {
     "name": "stdout",
     "output_type": "stream",
     "text": [
      "2.388412134735063e-09\n",
      "True\n"
     ]
    }
   ],
   "source": [
    "shapiro_test = stats.shapiro(cost_primBased)\n",
    "\n",
    "print(shapiro_test.pvalue)\n",
    "\n",
    "print(shapiro_test.pvalue < 0.05)"
   ]
  },
  {
   "cell_type": "code",
   "execution_count": null,
   "id": "fuzzy-conversion",
   "metadata": {},
   "outputs": [],
   "source": []
  },
  {
   "cell_type": "code",
   "execution_count": 18,
   "id": "careful-uniform",
   "metadata": {},
   "outputs": [],
   "source": [
    "result_ttest = stats.ttest_ind(costs_randomWalk, cost_primBased)"
   ]
  },
  {
   "cell_type": "code",
   "execution_count": 19,
   "id": "difficult-tours",
   "metadata": {},
   "outputs": [
    {
     "name": "stdout",
     "output_type": "stream",
     "text": [
      "Ttest_indResult(statistic=-3.1134404542473773, pvalue=0.0018754063729885253)\n",
      "\n",
      "True\n"
     ]
    }
   ],
   "source": [
    "print(result_ttest)\n",
    "print()\n",
    "print(result_ttest.pvalue < 0.005)"
   ]
  },
  {
   "cell_type": "code",
   "execution_count": 20,
   "id": "pretty-protest",
   "metadata": {},
   "outputs": [],
   "source": [
    "result_ttest2 = stats.ttest_ind(costs_randomWalk, \n",
    "                               cost_primBased, \n",
    "                               equal_var=False)"
   ]
  },
  {
   "cell_type": "code",
   "execution_count": 21,
   "id": "super-bidder",
   "metadata": {},
   "outputs": [
    {
     "data": {
      "text/plain": [
       "0.001875423265072838"
      ]
     },
     "execution_count": 21,
     "metadata": {},
     "output_type": "execute_result"
    }
   ],
   "source": [
    "result_ttest2.pvalue"
   ]
  },
  {
   "cell_type": "code",
   "execution_count": 23,
   "id": "banned-convertible",
   "metadata": {},
   "outputs": [
    {
     "name": "stdout",
     "output_type": "stream",
     "text": [
      "True\n"
     ]
    }
   ],
   "source": [
    "print(result_ttest2.pvalue < 0.05)"
   ]
  },
  {
   "cell_type": "code",
   "execution_count": null,
   "id": "vertical-extension",
   "metadata": {},
   "outputs": [],
   "source": []
  }
 ],
 "metadata": {
  "kernelspec": {
   "display_name": "Python 3.7 (steiner)",
   "language": "python",
   "name": "steiner"
  },
  "language_info": {
   "codemirror_mode": {
    "name": "ipython",
    "version": 3
   },
   "file_extension": ".py",
   "mimetype": "text/x-python",
   "name": "python",
   "nbconvert_exporter": "python",
   "pygments_lexer": "ipython3",
   "version": "3.7.9"
  }
 },
 "nbformat": 4,
 "nbformat_minor": 5
}
