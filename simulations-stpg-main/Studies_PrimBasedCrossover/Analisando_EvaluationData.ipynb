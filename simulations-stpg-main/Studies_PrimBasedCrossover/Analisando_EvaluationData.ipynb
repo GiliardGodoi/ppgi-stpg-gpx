{
 "metadata": {
  "language_info": {
   "codemirror_mode": {
    "name": "ipython",
    "version": 3
   },
   "file_extension": ".py",
   "mimetype": "text/x-python",
   "name": "python",
   "nbconvert_exporter": "python",
   "pygments_lexer": "ipython3",
   "version": "3.7.9-final"
  },
  "orig_nbformat": 2,
  "kernelspec": {
   "name": "python3",
   "display_name": "Python 3.7.9 64-bit ('simu-steiner': conda)",
   "metadata": {
    "interpreter": {
     "hash": "3469fd5f58a4424b781f86b8e15f0f210a2e6ad2f12845e0680bc68b62027f9a"
    }
   }
  }
 },
 "nbformat": 4,
 "nbformat_minor": 2,
 "cells": [
  {
   "cell_type": "code",
   "execution_count": 1,
   "metadata": {},
   "outputs": [],
   "source": [
    "import pandas as pd \n",
    "import matplotlib.pyplot as pyplot\n",
    "import seaborn as sns \n",
    "import os\n",
    "from os import path"
   ]
  },
  {
   "cell_type": "code",
   "execution_count": 4,
   "metadata": {},
   "outputs": [
    {
     "output_type": "execute_result",
     "data": {
      "text/plain": [
       "['B1',\n",
       " 'B2',\n",
       " 'B3',\n",
       " 'B4',\n",
       " 'B5',\n",
       " 'B6',\n",
       " 'B7',\n",
       " 'B8',\n",
       " 'B9',\n",
       " 'B10',\n",
       " 'B11',\n",
       " 'B12',\n",
       " 'B13',\n",
       " 'B14',\n",
       " 'B15',\n",
       " 'B16',\n",
       " 'B17',\n",
       " 'B18']"
      ]
     },
     "metadata": {},
     "execution_count": 4
    }
   ],
   "source": [
    "mainfolder = path.join('..', '..', 'ppgi-stpg-gpx', 'data', 'sim_mutations')\n",
    "\n",
    "# One can read the instance's folders using\n",
    "# os.listdir(mainfolder)\n",
    "# But for God's sake, I want already sorted\n",
    "folders = [f'B{ii}' for ii in range(1,19)]\n",
    "\n",
    "folders"
   ]
  },
  {
   "cell_type": "code",
   "execution_count": 9,
   "metadata": {},
   "outputs": [],
   "source": [
    "data = list()\n",
    "for folder in folders:\n",
    "    for trial in range(1, 51):\n",
    "        fname = path.join(mainfolder, folder, f'trial_{trial}_simulation.csv')\n",
    "        df = pd.read_csv(fname)\n",
    "        data.append(df)\n",
    "            "
   ]
  },
  {
   "cell_type": "code",
   "execution_count": 14,
   "metadata": {},
   "outputs": [],
   "source": [
    "frame = pd.concat(data, ignore_index=True)"
   ]
  },
  {
   "cell_type": "code",
   "execution_count": 16,
   "metadata": {},
   "outputs": [
    {
     "output_type": "execute_result",
     "data": {
      "text/plain": [
       "   nro_trial instance_problem  nro_nodes  nro_edges  nro_terminals  \\\n",
       "0          1               B1         50         63              9   \n",
       "1          2               B1         50         63              9   \n",
       "2          3               B1         50         63              9   \n",
       "3          4               B1         50         63              9   \n",
       "4          5               B1         50         63              9   \n",
       "\n",
       "   global_optimum  tx_mutation  population_size  max_generation  best_cost  \\\n",
       "0              82          0.2              100            4000         82   \n",
       "1              82          0.2              100            4000         82   \n",
       "2              82          0.2              100            4000         82   \n",
       "3              82          0.2              100            4000         82   \n",
       "4              82          0.2              100            4000         82   \n",
       "\n",
       "   best_fitness  iterations  run_time  max_last_improvement       stopped_by  \n",
       "0           181           2  0.257912                     1  BestKnowReached  \n",
       "1            21           5  0.476664                     4  BestKnowReached  \n",
       "2             9          13  1.411891                    12  BestKnowReached  \n",
       "3           186           2  0.233285                     1  BestKnowReached  \n",
       "4           168           3  0.326453                     2  BestKnowReached  "
      ],
      "text/html": "<div>\n<style scoped>\n    .dataframe tbody tr th:only-of-type {\n        vertical-align: middle;\n    }\n\n    .dataframe tbody tr th {\n        vertical-align: top;\n    }\n\n    .dataframe thead th {\n        text-align: right;\n    }\n</style>\n<table border=\"1\" class=\"dataframe\">\n  <thead>\n    <tr style=\"text-align: right;\">\n      <th></th>\n      <th>nro_trial</th>\n      <th>instance_problem</th>\n      <th>nro_nodes</th>\n      <th>nro_edges</th>\n      <th>nro_terminals</th>\n      <th>global_optimum</th>\n      <th>tx_mutation</th>\n      <th>population_size</th>\n      <th>max_generation</th>\n      <th>best_cost</th>\n      <th>best_fitness</th>\n      <th>iterations</th>\n      <th>run_time</th>\n      <th>max_last_improvement</th>\n      <th>stopped_by</th>\n    </tr>\n  </thead>\n  <tbody>\n    <tr>\n      <th>0</th>\n      <td>1</td>\n      <td>B1</td>\n      <td>50</td>\n      <td>63</td>\n      <td>9</td>\n      <td>82</td>\n      <td>0.2</td>\n      <td>100</td>\n      <td>4000</td>\n      <td>82</td>\n      <td>181</td>\n      <td>2</td>\n      <td>0.257912</td>\n      <td>1</td>\n      <td>BestKnowReached</td>\n    </tr>\n    <tr>\n      <th>1</th>\n      <td>2</td>\n      <td>B1</td>\n      <td>50</td>\n      <td>63</td>\n      <td>9</td>\n      <td>82</td>\n      <td>0.2</td>\n      <td>100</td>\n      <td>4000</td>\n      <td>82</td>\n      <td>21</td>\n      <td>5</td>\n      <td>0.476664</td>\n      <td>4</td>\n      <td>BestKnowReached</td>\n    </tr>\n    <tr>\n      <th>2</th>\n      <td>3</td>\n      <td>B1</td>\n      <td>50</td>\n      <td>63</td>\n      <td>9</td>\n      <td>82</td>\n      <td>0.2</td>\n      <td>100</td>\n      <td>4000</td>\n      <td>82</td>\n      <td>9</td>\n      <td>13</td>\n      <td>1.411891</td>\n      <td>12</td>\n      <td>BestKnowReached</td>\n    </tr>\n    <tr>\n      <th>3</th>\n      <td>4</td>\n      <td>B1</td>\n      <td>50</td>\n      <td>63</td>\n      <td>9</td>\n      <td>82</td>\n      <td>0.2</td>\n      <td>100</td>\n      <td>4000</td>\n      <td>82</td>\n      <td>186</td>\n      <td>2</td>\n      <td>0.233285</td>\n      <td>1</td>\n      <td>BestKnowReached</td>\n    </tr>\n    <tr>\n      <th>4</th>\n      <td>5</td>\n      <td>B1</td>\n      <td>50</td>\n      <td>63</td>\n      <td>9</td>\n      <td>82</td>\n      <td>0.2</td>\n      <td>100</td>\n      <td>4000</td>\n      <td>82</td>\n      <td>168</td>\n      <td>3</td>\n      <td>0.326453</td>\n      <td>2</td>\n      <td>BestKnowReached</td>\n    </tr>\n  </tbody>\n</table>\n</div>"
     },
     "metadata": {},
     "execution_count": 16
    }
   ],
   "source": [
    "frame.head()"
   ]
  },
  {
   "cell_type": "code",
   "execution_count": 17,
   "metadata": {},
   "outputs": [
    {
     "output_type": "stream",
     "name": "stdout",
     "text": [
      "<class 'pandas.core.frame.DataFrame'>\nRangeIndex: 900 entries, 0 to 899\nData columns (total 15 columns):\n #   Column                Non-Null Count  Dtype  \n---  ------                --------------  -----  \n 0   nro_trial             900 non-null    int64  \n 1   instance_problem      900 non-null    object \n 2   nro_nodes             900 non-null    int64  \n 3   nro_edges             900 non-null    int64  \n 4   nro_terminals         900 non-null    int64  \n 5   global_optimum        900 non-null    int64  \n 6   tx_mutation           900 non-null    float64\n 7   population_size       900 non-null    int64  \n 8   max_generation        900 non-null    int64  \n 9   best_cost             900 non-null    int64  \n 10  best_fitness          900 non-null    int64  \n 11  iterations            900 non-null    int64  \n 12  run_time              900 non-null    float64\n 13  max_last_improvement  900 non-null    int64  \n 14  stopped_by            900 non-null    object \ndtypes: float64(2), int64(11), object(2)\nmemory usage: 105.6+ KB\n"
     ]
    }
   ],
   "source": [
    "frame.info()"
   ]
  },
  {
   "cell_type": "code",
   "execution_count": 18,
   "metadata": {},
   "outputs": [
    {
     "output_type": "execute_result",
     "data": {
      "text/plain": [
       "900"
      ]
     },
     "metadata": {},
     "execution_count": 18
    }
   ],
   "source": [
    "18 * 50"
   ]
  },
  {
   "cell_type": "code",
   "execution_count": 19,
   "metadata": {},
   "outputs": [],
   "source": [
    "group = frame[['instance_problem', 'best_cost', 'iterations', 'max_last_improvement']].groupby('instance_problem')"
   ]
  },
  {
   "cell_type": "code",
   "execution_count": 45,
   "metadata": {},
   "outputs": [],
   "source": [
    "result = (group\n",
    "            .agg(['mean', 'std'])\n",
    "            .reindex(folders).round(2))"
   ]
  },
  {
   "cell_type": "code",
   "execution_count": 46,
   "metadata": {},
   "outputs": [
    {
     "output_type": "execute_result",
     "data": {
      "text/plain": [
       "                 best_cost       iterations         max_last_improvement  \\\n",
       "                      mean   std       mean     std                 mean   \n",
       "instance_problem                                                           \n",
       "B1                   82.00  0.00       6.36    6.95                 5.36   \n",
       "B2                   83.00  0.00       8.24    8.69                 7.24   \n",
       "B3                  138.00  0.00       9.22    8.74                 8.22   \n",
       "B4                   59.78  1.22     177.38  242.61                 6.38   \n",
       "B5                   62.92  0.40     493.32  101.81                12.32   \n",
       "B6                  124.00  0.00     531.48   30.30                30.48   \n",
       "B7                  111.72  0.45     362.38  226.17                 1.38   \n",
       "B8                  104.12  0.59      23.52   98.69                 2.52   \n",
       "B9                  220.00  0.00       3.02    0.59                 2.02   \n",
       "B10                  86.00  0.00       9.54    9.58                 8.54   \n",
       "B11                  94.58  1.46     620.14  169.93               119.14   \n",
       "B12                 179.04  0.49     654.22  140.22               153.22   \n",
       "B13                 176.08  1.71     628.58  161.95               127.58   \n",
       "B14                 240.64  0.53     719.40  224.59               218.40   \n",
       "B15                 329.68  0.79     520.30   62.19                19.30   \n",
       "B16                 152.44  3.01     779.88  256.19               278.88   \n",
       "B17                 131.20  0.49     256.84  200.83               175.84   \n",
       "B18                 220.16  1.31     691.18  210.26               190.18   \n",
       "\n",
       "                          \n",
       "                     std  \n",
       "instance_problem          \n",
       "B1                  6.95  \n",
       "B2                  8.69  \n",
       "B3                  8.74  \n",
       "B4                  7.38  \n",
       "B5                 11.35  \n",
       "B6                 30.30  \n",
       "B7                  1.56  \n",
       "B8                  2.52  \n",
       "B9                  0.59  \n",
       "B10                 9.58  \n",
       "B11               169.93  \n",
       "B12               140.22  \n",
       "B13               161.95  \n",
       "B14               224.59  \n",
       "B15                62.19  \n",
       "B16               256.19  \n",
       "B17               161.05  \n",
       "B18               210.26  "
      ],
      "text/html": "<div>\n<style scoped>\n    .dataframe tbody tr th:only-of-type {\n        vertical-align: middle;\n    }\n\n    .dataframe tbody tr th {\n        vertical-align: top;\n    }\n\n    .dataframe thead tr th {\n        text-align: left;\n    }\n\n    .dataframe thead tr:last-of-type th {\n        text-align: right;\n    }\n</style>\n<table border=\"1\" class=\"dataframe\">\n  <thead>\n    <tr>\n      <th></th>\n      <th colspan=\"2\" halign=\"left\">best_cost</th>\n      <th colspan=\"2\" halign=\"left\">iterations</th>\n      <th colspan=\"2\" halign=\"left\">max_last_improvement</th>\n    </tr>\n    <tr>\n      <th></th>\n      <th>mean</th>\n      <th>std</th>\n      <th>mean</th>\n      <th>std</th>\n      <th>mean</th>\n      <th>std</th>\n    </tr>\n    <tr>\n      <th>instance_problem</th>\n      <th></th>\n      <th></th>\n      <th></th>\n      <th></th>\n      <th></th>\n      <th></th>\n    </tr>\n  </thead>\n  <tbody>\n    <tr>\n      <th>B1</th>\n      <td>82.00</td>\n      <td>0.00</td>\n      <td>6.36</td>\n      <td>6.95</td>\n      <td>5.36</td>\n      <td>6.95</td>\n    </tr>\n    <tr>\n      <th>B2</th>\n      <td>83.00</td>\n      <td>0.00</td>\n      <td>8.24</td>\n      <td>8.69</td>\n      <td>7.24</td>\n      <td>8.69</td>\n    </tr>\n    <tr>\n      <th>B3</th>\n      <td>138.00</td>\n      <td>0.00</td>\n      <td>9.22</td>\n      <td>8.74</td>\n      <td>8.22</td>\n      <td>8.74</td>\n    </tr>\n    <tr>\n      <th>B4</th>\n      <td>59.78</td>\n      <td>1.22</td>\n      <td>177.38</td>\n      <td>242.61</td>\n      <td>6.38</td>\n      <td>7.38</td>\n    </tr>\n    <tr>\n      <th>B5</th>\n      <td>62.92</td>\n      <td>0.40</td>\n      <td>493.32</td>\n      <td>101.81</td>\n      <td>12.32</td>\n      <td>11.35</td>\n    </tr>\n    <tr>\n      <th>B6</th>\n      <td>124.00</td>\n      <td>0.00</td>\n      <td>531.48</td>\n      <td>30.30</td>\n      <td>30.48</td>\n      <td>30.30</td>\n    </tr>\n    <tr>\n      <th>B7</th>\n      <td>111.72</td>\n      <td>0.45</td>\n      <td>362.38</td>\n      <td>226.17</td>\n      <td>1.38</td>\n      <td>1.56</td>\n    </tr>\n    <tr>\n      <th>B8</th>\n      <td>104.12</td>\n      <td>0.59</td>\n      <td>23.52</td>\n      <td>98.69</td>\n      <td>2.52</td>\n      <td>2.52</td>\n    </tr>\n    <tr>\n      <th>B9</th>\n      <td>220.00</td>\n      <td>0.00</td>\n      <td>3.02</td>\n      <td>0.59</td>\n      <td>2.02</td>\n      <td>0.59</td>\n    </tr>\n    <tr>\n      <th>B10</th>\n      <td>86.00</td>\n      <td>0.00</td>\n      <td>9.54</td>\n      <td>9.58</td>\n      <td>8.54</td>\n      <td>9.58</td>\n    </tr>\n    <tr>\n      <th>B11</th>\n      <td>94.58</td>\n      <td>1.46</td>\n      <td>620.14</td>\n      <td>169.93</td>\n      <td>119.14</td>\n      <td>169.93</td>\n    </tr>\n    <tr>\n      <th>B12</th>\n      <td>179.04</td>\n      <td>0.49</td>\n      <td>654.22</td>\n      <td>140.22</td>\n      <td>153.22</td>\n      <td>140.22</td>\n    </tr>\n    <tr>\n      <th>B13</th>\n      <td>176.08</td>\n      <td>1.71</td>\n      <td>628.58</td>\n      <td>161.95</td>\n      <td>127.58</td>\n      <td>161.95</td>\n    </tr>\n    <tr>\n      <th>B14</th>\n      <td>240.64</td>\n      <td>0.53</td>\n      <td>719.40</td>\n      <td>224.59</td>\n      <td>218.40</td>\n      <td>224.59</td>\n    </tr>\n    <tr>\n      <th>B15</th>\n      <td>329.68</td>\n      <td>0.79</td>\n      <td>520.30</td>\n      <td>62.19</td>\n      <td>19.30</td>\n      <td>62.19</td>\n    </tr>\n    <tr>\n      <th>B16</th>\n      <td>152.44</td>\n      <td>3.01</td>\n      <td>779.88</td>\n      <td>256.19</td>\n      <td>278.88</td>\n      <td>256.19</td>\n    </tr>\n    <tr>\n      <th>B17</th>\n      <td>131.20</td>\n      <td>0.49</td>\n      <td>256.84</td>\n      <td>200.83</td>\n      <td>175.84</td>\n      <td>161.05</td>\n    </tr>\n    <tr>\n      <th>B18</th>\n      <td>220.16</td>\n      <td>1.31</td>\n      <td>691.18</td>\n      <td>210.26</td>\n      <td>190.18</td>\n      <td>210.26</td>\n    </tr>\n  </tbody>\n</table>\n</div>"
     },
     "metadata": {},
     "execution_count": 46
    }
   ],
   "source": [
    "result"
   ]
  },
  {
   "cell_type": "code",
   "execution_count": 25,
   "metadata": {},
   "outputs": [],
   "source": [
    "# result.to_clipboard()"
   ]
  },
  {
   "cell_type": "code",
   "execution_count": 47,
   "metadata": {},
   "outputs": [
    {
     "output_type": "stream",
     "name": "stdout",
     "text": [
      "\\begin{tabular}{lrrrrrr}\n\\toprule\n{} & \\multicolumn{2}{l}{best\\_cost} & \\multicolumn{2}{l}{iterations} & \\multicolumn{2}{l}{max\\_last\\_improvement} \\\\\n{} &      mean &   std &       mean &     std &                 mean &     std \\\\\ninstance\\_problem &           &       &            &         &                      &         \\\\\n\\midrule\nB1               &     82.00 &  0.00 &       6.36 &    6.95 &                 5.36 &    6.95 \\\\\nB2               &     83.00 &  0.00 &       8.24 &    8.69 &                 7.24 &    8.69 \\\\\nB3               &    138.00 &  0.00 &       9.22 &    8.74 &                 8.22 &    8.74 \\\\\nB4               &     59.78 &  1.22 &     177.38 &  242.61 &                 6.38 &    7.38 \\\\\nB5               &     62.92 &  0.40 &     493.32 &  101.81 &                12.32 &   11.35 \\\\\nB6               &    124.00 &  0.00 &     531.48 &   30.30 &                30.48 &   30.30 \\\\\nB7               &    111.72 &  0.45 &     362.38 &  226.17 &                 1.38 &    1.56 \\\\\nB8               &    104.12 &  0.59 &      23.52 &   98.69 &                 2.52 &    2.52 \\\\\nB9               &    220.00 &  0.00 &       3.02 &    0.59 &                 2.02 &    0.59 \\\\\nB10              &     86.00 &  0.00 &       9.54 &    9.58 &                 8.54 &    9.58 \\\\\nB11              &     94.58 &  1.46 &     620.14 &  169.93 &               119.14 &  169.93 \\\\\nB12              &    179.04 &  0.49 &     654.22 &  140.22 &               153.22 &  140.22 \\\\\nB13              &    176.08 &  1.71 &     628.58 &  161.95 &               127.58 &  161.95 \\\\\nB14              &    240.64 &  0.53 &     719.40 &  224.59 &               218.40 &  224.59 \\\\\nB15              &    329.68 &  0.79 &     520.30 &   62.19 &                19.30 &   62.19 \\\\\nB16              &    152.44 &  3.01 &     779.88 &  256.19 &               278.88 &  256.19 \\\\\nB17              &    131.20 &  0.49 &     256.84 &  200.83 &               175.84 &  161.05 \\\\\nB18              &    220.16 &  1.31 &     691.18 &  210.26 &               190.18 &  210.26 \\\\\n\\bottomrule\n\\end{tabular}\n\n"
     ]
    }
   ],
   "source": [
    "print(result.to_latex())"
   ]
  },
  {
   "cell_type": "code",
   "execution_count": 42,
   "metadata": {},
   "outputs": [],
   "source": [
    "result2 = (pd.crosstab(frame['instance_problem'], frame['stopped_by'])\n",
    "            .reindex(folders))"
   ]
  },
  {
   "cell_type": "code",
   "execution_count": 43,
   "metadata": {},
   "outputs": [
    {
     "output_type": "execute_result",
     "data": {
      "text/plain": [
       "stopped_by        BestKnowReached  Stagnation\n",
       "instance_problem                             \n",
       "B1                             50           0\n",
       "B2                             50           0\n",
       "B3                             50           0\n",
       "B4                             33          17\n",
       "B5                              2          48\n",
       "B6                              0          50\n",
       "B7                             14          36\n",
       "B8                             48           2\n",
       "B9                             50           0\n",
       "B10                            50           0\n",
       "B11                             0          50\n",
       "B12                             0          50\n",
       "B13                             0          50\n",
       "B14                             0          50\n",
       "B15                             0          50\n",
       "B16                             0          50\n",
       "B17                            42           8\n",
       "B18                             0          50"
      ],
      "text/html": "<div>\n<style scoped>\n    .dataframe tbody tr th:only-of-type {\n        vertical-align: middle;\n    }\n\n    .dataframe tbody tr th {\n        vertical-align: top;\n    }\n\n    .dataframe thead th {\n        text-align: right;\n    }\n</style>\n<table border=\"1\" class=\"dataframe\">\n  <thead>\n    <tr style=\"text-align: right;\">\n      <th>stopped_by</th>\n      <th>BestKnowReached</th>\n      <th>Stagnation</th>\n    </tr>\n    <tr>\n      <th>instance_problem</th>\n      <th></th>\n      <th></th>\n    </tr>\n  </thead>\n  <tbody>\n    <tr>\n      <th>B1</th>\n      <td>50</td>\n      <td>0</td>\n    </tr>\n    <tr>\n      <th>B2</th>\n      <td>50</td>\n      <td>0</td>\n    </tr>\n    <tr>\n      <th>B3</th>\n      <td>50</td>\n      <td>0</td>\n    </tr>\n    <tr>\n      <th>B4</th>\n      <td>33</td>\n      <td>17</td>\n    </tr>\n    <tr>\n      <th>B5</th>\n      <td>2</td>\n      <td>48</td>\n    </tr>\n    <tr>\n      <th>B6</th>\n      <td>0</td>\n      <td>50</td>\n    </tr>\n    <tr>\n      <th>B7</th>\n      <td>14</td>\n      <td>36</td>\n    </tr>\n    <tr>\n      <th>B8</th>\n      <td>48</td>\n      <td>2</td>\n    </tr>\n    <tr>\n      <th>B9</th>\n      <td>50</td>\n      <td>0</td>\n    </tr>\n    <tr>\n      <th>B10</th>\n      <td>50</td>\n      <td>0</td>\n    </tr>\n    <tr>\n      <th>B11</th>\n      <td>0</td>\n      <td>50</td>\n    </tr>\n    <tr>\n      <th>B12</th>\n      <td>0</td>\n      <td>50</td>\n    </tr>\n    <tr>\n      <th>B13</th>\n      <td>0</td>\n      <td>50</td>\n    </tr>\n    <tr>\n      <th>B14</th>\n      <td>0</td>\n      <td>50</td>\n    </tr>\n    <tr>\n      <th>B15</th>\n      <td>0</td>\n      <td>50</td>\n    </tr>\n    <tr>\n      <th>B16</th>\n      <td>0</td>\n      <td>50</td>\n    </tr>\n    <tr>\n      <th>B17</th>\n      <td>42</td>\n      <td>8</td>\n    </tr>\n    <tr>\n      <th>B18</th>\n      <td>0</td>\n      <td>50</td>\n    </tr>\n  </tbody>\n</table>\n</div>"
     },
     "metadata": {},
     "execution_count": 43
    }
   ],
   "source": [
    "result2"
   ]
  },
  {
   "cell_type": "code",
   "execution_count": 44,
   "metadata": {},
   "outputs": [
    {
     "output_type": "stream",
     "name": "stdout",
     "text": [
      "\\begin{tabular}{lrr}\n\\toprule\nstopped\\_by &  BestKnowReached &  Stagnation \\\\\ninstance\\_problem &                  &             \\\\\n\\midrule\nB1               &               50 &           0 \\\\\nB2               &               50 &           0 \\\\\nB3               &               50 &           0 \\\\\nB4               &               33 &          17 \\\\\nB5               &                2 &          48 \\\\\nB6               &                0 &          50 \\\\\nB7               &               14 &          36 \\\\\nB8               &               48 &           2 \\\\\nB9               &               50 &           0 \\\\\nB10              &               50 &           0 \\\\\nB11              &                0 &          50 \\\\\nB12              &                0 &          50 \\\\\nB13              &                0 &          50 \\\\\nB14              &                0 &          50 \\\\\nB15              &                0 &          50 \\\\\nB16              &                0 &          50 \\\\\nB17              &               42 &           8 \\\\\nB18              &                0 &          50 \\\\\n\\bottomrule\n\\end{tabular}\n\n"
     ]
    }
   ],
   "source": [
    "print(result2.to_latex())"
   ]
  },
  {
   "cell_type": "code",
   "execution_count": null,
   "metadata": {},
   "outputs": [],
   "source": []
  }
 ]
}