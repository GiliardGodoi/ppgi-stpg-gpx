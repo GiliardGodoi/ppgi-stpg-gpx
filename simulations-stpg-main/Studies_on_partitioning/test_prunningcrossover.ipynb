{
 "cells": [
  {
   "cell_type": "code",
   "execution_count": 1,
   "metadata": {},
   "outputs": [],
   "source": [
    "import numpy as np \n",
    "import pandas as pd\n",
    "from os import path\n",
    "from random import choice, shuffle\n",
    "\n",
    "from ga4stpg.graph import Graph, ReaderORLibrary\n",
    "from ga4stpg.graph.steiner import (prunning_mst, shortest_path,\n",
    "                            shortest_path_origin_prim,\n",
    "                            prunning_kruskal_mst,\n",
    "                            shortest_path_with_origin)\n",
    "\n",
    "from ga4stpg.graph.util import (is_steiner_tree, \n",
    "                                has_cycle,\n",
    "                                gg_total_weight)\n",
    "\n",
    "from ga4stpg.tree.prunningcrossover import PrunningMSTCrossover\n",
    "from ga4stpg.tree.evaluation import EvaluateTreeGraph"
   ]
  },
  {
   "cell_type": "code",
   "execution_count": 2,
   "metadata": {},
   "outputs": [],
   "source": [
    "datasets = path.join('..', '..', 'ppgi-stpg-gpx', 'datasets', 'ORLibrary')\n",
    "instance_file = 'steinc5.txt'\n",
    "\n",
    "path_to_instance = path.join(datasets, instance_file)\n",
    "\n",
    "assert path.exists(path_to_instance)\n",
    "\n",
    "stpg = ReaderORLibrary().parser(path_to_instance)"
   ]
  },
  {
   "cell_type": "code",
   "execution_count": 3,
   "metadata": {},
   "outputs": [],
   "source": [
    "\n",
    "crossover = PrunningMSTCrossover(stpg)\n",
    "evaluator = EvaluateTreeGraph(stpg)"
   ]
  },
  {
   "cell_type": "code",
   "execution_count": 4,
   "metadata": {},
   "outputs": [
    {
     "output_type": "stream",
     "name": "stdout",
     "text": [
      "[141, 407, 235, 227, 219, 155, 22, 484, 206, 262]  ...\n"
     ]
    }
   ],
   "source": [
    "\n",
    "\n",
    "vertices = list(stpg.graph.vertices)\n",
    "\n",
    "shuffle(vertices)\n",
    "\n",
    "print(vertices[:10],' ...')"
   ]
  },
  {
   "cell_type": "code",
   "execution_count": 5,
   "metadata": {},
   "outputs": [],
   "source": [
    "# Exemplo para criação de um único individuo\n",
    "\n",
    "# v = vertices.pop()\n",
    "\n",
    "# aa, aa_cost = shortest_path_with_origin(stpg.graph, v, stpg.terminals)\n",
    "\n",
    "# r, test = is_steiner_tree(aa, stpg)\n",
    "\n",
    "# (r, test)"
   ]
  },
  {
   "cell_type": "code",
   "execution_count": 6,
   "metadata": {},
   "outputs": [
    {
     "output_type": "stream",
     "name": "stdout",
     "text": [
      "Wall time: 12.6 s\n"
     ]
    }
   ],
   "source": [
    "%%time\n",
    "\n",
    "data = list()\n",
    "\n",
    "for _ in range(200):\n",
    "    v = vertices.pop()\n",
    "    aa, aa_cost = prunning_mst(stpg.graph, v, stpg.terminals)\n",
    "    e_aacost, _ = evaluator(aa)\n",
    "    assert aa_cost == e_aacost, f'{aa_cost} != {e_aacost}'\n",
    "    is_aa_st, _ = is_steiner_tree(aa, stpg)\n",
    "    \n",
    "    u = vertices.pop()\n",
    "    bb, bb_cost = prunning_mst(stpg.graph, u, stpg.terminals)\n",
    "    e_bbcost, _ = evaluator(bb)\n",
    "    assert bb_cost == e_bbcost, f'{bb_cost} != {e_bbcost}'\n",
    "    is_bb_st, _ = is_steiner_tree(bb, stpg)\n",
    "    \n",
    "    child = crossover(aa, bb)\n",
    "    cc_cost, _  = evaluator(child)\n",
    "    is_cc_st, _ = is_steiner_tree(child, stpg)\n",
    "\n",
    "    equal_to_aa = child.edges == aa.edges\n",
    "    equal_to_bb = child.edges == bb.edges\n",
    "    \n",
    "    data.append([v, u, is_aa_st, is_bb_st, is_cc_st, aa_cost, bb_cost, cc_cost, equal_to_aa, equal_to_bb])"
   ]
  },
  {
   "cell_type": "code",
   "execution_count": 7,
   "metadata": {},
   "outputs": [],
   "source": [
    "assert aa.edges == aa.edges"
   ]
  },
  {
   "cell_type": "code",
   "execution_count": 8,
   "metadata": {},
   "outputs": [],
   "source": [
    "columns_name = ['start_a', \n",
    "                'start_b', \n",
    "                'is_aa_st', \n",
    "                'is_bb_st', \n",
    "                'is_cc_st' ,\n",
    "                'a_cost', \n",
    "                'b_cost', \n",
    "                'c_cost',\n",
    "                'equal_to_aa',\n",
    "                'equal_to_bb'\n",
    "                ]\n",
    "                \n",
    "frame = pd.DataFrame(data, columns=columns_name)"
   ]
  },
  {
   "cell_type": "code",
   "execution_count": 9,
   "metadata": {},
   "outputs": [],
   "source": [
    "frame['less_both'] = (frame['c_cost'] < frame['a_cost']) & (frame['c_cost'] < frame['b_cost'])"
   ]
  },
  {
   "cell_type": "code",
   "execution_count": 10,
   "metadata": {},
   "outputs": [],
   "source": [
    "frame['less_equal_both'] = (frame['c_cost'] <= frame['a_cost']) & (frame['c_cost'] <= frame['b_cost'])"
   ]
  },
  {
   "cell_type": "code",
   "execution_count": 11,
   "metadata": {},
   "outputs": [],
   "source": [
    "frame['less_a'] = (frame['c_cost'] <= frame['a_cost'])"
   ]
  },
  {
   "cell_type": "code",
   "execution_count": 12,
   "metadata": {},
   "outputs": [],
   "source": [
    "frame['less_b'] = (frame['c_cost'] <= frame['b_cost'])"
   ]
  },
  {
   "cell_type": "code",
   "execution_count": 13,
   "metadata": {},
   "outputs": [],
   "source": [
    "frame['greater_a'] = (frame['c_cost'] > frame['a_cost'])\n",
    "frame['greater_b'] = (frame['c_cost'] > frame['b_cost'])"
   ]
  },
  {
   "cell_type": "code",
   "execution_count": 14,
   "metadata": {},
   "outputs": [
    {
     "output_type": "execute_result",
     "data": {
      "text/plain": [
       "   start_a  start_b  is_aa_st  is_bb_st  is_cc_st  a_cost  b_cost  c_cost  \\\n",
       "0      412      352      True      True      True    1630    1637    1630   \n",
       "1      131      318      True      True      True    1637    1640    1634   \n",
       "2      493      299      True      True      True    1634    1637    1634   \n",
       "3      279       40      True      True      True    1636    1636    1636   \n",
       "4      153      327      True      True      True    1640    1640    1640   \n",
       "\n",
       "   equal_to_aa  equal_to_bb  less_both  less_equal_both  less_a  less_b  \\\n",
       "0        False        False      False             True    True    True   \n",
       "1        False        False       True             True    True    True   \n",
       "2        False        False      False             True    True    True   \n",
       "3        False        False      False             True    True    True   \n",
       "4        False        False      False             True    True    True   \n",
       "\n",
       "   greater_a  greater_b  \n",
       "0      False      False  \n",
       "1      False      False  \n",
       "2      False      False  \n",
       "3      False      False  \n",
       "4      False      False  "
      ],
      "text/html": "<div>\n<style scoped>\n    .dataframe tbody tr th:only-of-type {\n        vertical-align: middle;\n    }\n\n    .dataframe tbody tr th {\n        vertical-align: top;\n    }\n\n    .dataframe thead th {\n        text-align: right;\n    }\n</style>\n<table border=\"1\" class=\"dataframe\">\n  <thead>\n    <tr style=\"text-align: right;\">\n      <th></th>\n      <th>start_a</th>\n      <th>start_b</th>\n      <th>is_aa_st</th>\n      <th>is_bb_st</th>\n      <th>is_cc_st</th>\n      <th>a_cost</th>\n      <th>b_cost</th>\n      <th>c_cost</th>\n      <th>equal_to_aa</th>\n      <th>equal_to_bb</th>\n      <th>less_both</th>\n      <th>less_equal_both</th>\n      <th>less_a</th>\n      <th>less_b</th>\n      <th>greater_a</th>\n      <th>greater_b</th>\n    </tr>\n  </thead>\n  <tbody>\n    <tr>\n      <th>0</th>\n      <td>412</td>\n      <td>352</td>\n      <td>True</td>\n      <td>True</td>\n      <td>True</td>\n      <td>1630</td>\n      <td>1637</td>\n      <td>1630</td>\n      <td>False</td>\n      <td>False</td>\n      <td>False</td>\n      <td>True</td>\n      <td>True</td>\n      <td>True</td>\n      <td>False</td>\n      <td>False</td>\n    </tr>\n    <tr>\n      <th>1</th>\n      <td>131</td>\n      <td>318</td>\n      <td>True</td>\n      <td>True</td>\n      <td>True</td>\n      <td>1637</td>\n      <td>1640</td>\n      <td>1634</td>\n      <td>False</td>\n      <td>False</td>\n      <td>True</td>\n      <td>True</td>\n      <td>True</td>\n      <td>True</td>\n      <td>False</td>\n      <td>False</td>\n    </tr>\n    <tr>\n      <th>2</th>\n      <td>493</td>\n      <td>299</td>\n      <td>True</td>\n      <td>True</td>\n      <td>True</td>\n      <td>1634</td>\n      <td>1637</td>\n      <td>1634</td>\n      <td>False</td>\n      <td>False</td>\n      <td>False</td>\n      <td>True</td>\n      <td>True</td>\n      <td>True</td>\n      <td>False</td>\n      <td>False</td>\n    </tr>\n    <tr>\n      <th>3</th>\n      <td>279</td>\n      <td>40</td>\n      <td>True</td>\n      <td>True</td>\n      <td>True</td>\n      <td>1636</td>\n      <td>1636</td>\n      <td>1636</td>\n      <td>False</td>\n      <td>False</td>\n      <td>False</td>\n      <td>True</td>\n      <td>True</td>\n      <td>True</td>\n      <td>False</td>\n      <td>False</td>\n    </tr>\n    <tr>\n      <th>4</th>\n      <td>153</td>\n      <td>327</td>\n      <td>True</td>\n      <td>True</td>\n      <td>True</td>\n      <td>1640</td>\n      <td>1640</td>\n      <td>1640</td>\n      <td>False</td>\n      <td>False</td>\n      <td>False</td>\n      <td>True</td>\n      <td>True</td>\n      <td>True</td>\n      <td>False</td>\n      <td>False</td>\n    </tr>\n  </tbody>\n</table>\n</div>"
     },
     "metadata": {},
     "execution_count": 14
    }
   ],
   "source": [
    "frame.head()"
   ]
  },
  {
   "cell_type": "code",
   "execution_count": 15,
   "metadata": {},
   "outputs": [
    {
     "output_type": "execute_result",
     "data": {
      "text/plain": [
       "       is_aa_st is_bb_st is_cc_st equal_to_bb equal_to_aa\n",
       "count       200      200      200         200         200\n",
       "unique        1        1        1           1           1\n",
       "top        True     True     True       False       False\n",
       "freq        200      200      200         200         200"
      ],
      "text/html": "<div>\n<style scoped>\n    .dataframe tbody tr th:only-of-type {\n        vertical-align: middle;\n    }\n\n    .dataframe tbody tr th {\n        vertical-align: top;\n    }\n\n    .dataframe thead th {\n        text-align: right;\n    }\n</style>\n<table border=\"1\" class=\"dataframe\">\n  <thead>\n    <tr style=\"text-align: right;\">\n      <th></th>\n      <th>is_aa_st</th>\n      <th>is_bb_st</th>\n      <th>is_cc_st</th>\n      <th>equal_to_bb</th>\n      <th>equal_to_aa</th>\n    </tr>\n  </thead>\n  <tbody>\n    <tr>\n      <th>count</th>\n      <td>200</td>\n      <td>200</td>\n      <td>200</td>\n      <td>200</td>\n      <td>200</td>\n    </tr>\n    <tr>\n      <th>unique</th>\n      <td>1</td>\n      <td>1</td>\n      <td>1</td>\n      <td>1</td>\n      <td>1</td>\n    </tr>\n    <tr>\n      <th>top</th>\n      <td>True</td>\n      <td>True</td>\n      <td>True</td>\n      <td>False</td>\n      <td>False</td>\n    </tr>\n    <tr>\n      <th>freq</th>\n      <td>200</td>\n      <td>200</td>\n      <td>200</td>\n      <td>200</td>\n      <td>200</td>\n    </tr>\n  </tbody>\n</table>\n</div>"
     },
     "metadata": {},
     "execution_count": 15
    }
   ],
   "source": [
    "frame[['is_aa_st', 'is_bb_st', 'is_cc_st', 'equal_to_bb', 'equal_to_aa']].describe()"
   ]
  },
  {
   "cell_type": "code",
   "execution_count": 16,
   "metadata": {},
   "outputs": [
    {
     "output_type": "execute_result",
     "data": {
      "text/plain": [
       "a_cost    1630\n",
       "b_cost    1630\n",
       "c_cost    1630\n",
       "dtype: int64"
      ]
     },
     "metadata": {},
     "execution_count": 16
    }
   ],
   "source": [
    "frame[['a_cost', 'b_cost','c_cost']].min()"
   ]
  },
  {
   "cell_type": "code",
   "execution_count": 17,
   "metadata": {},
   "outputs": [
    {
     "output_type": "execute_result",
     "data": {
      "text/plain": [
       "a_cost    1655\n",
       "b_cost    1652\n",
       "c_cost    1652\n",
       "dtype: int64"
      ]
     },
     "metadata": {},
     "execution_count": 17
    }
   ],
   "source": [
    "frame[['a_cost', 'b_cost','c_cost']].max()"
   ]
  },
  {
   "cell_type": "code",
   "execution_count": 18,
   "metadata": {},
   "outputs": [
    {
     "output_type": "execute_result",
     "data": {
      "text/plain": [
       "       less_both less_a less_b less_equal_both\n",
       "count        200    200    200             200\n",
       "unique         2      2      2               2\n",
       "top        False   True   True           False\n",
       "freq         186    148    132             112"
      ],
      "text/html": "<div>\n<style scoped>\n    .dataframe tbody tr th:only-of-type {\n        vertical-align: middle;\n    }\n\n    .dataframe tbody tr th {\n        vertical-align: top;\n    }\n\n    .dataframe thead th {\n        text-align: right;\n    }\n</style>\n<table border=\"1\" class=\"dataframe\">\n  <thead>\n    <tr style=\"text-align: right;\">\n      <th></th>\n      <th>less_both</th>\n      <th>less_a</th>\n      <th>less_b</th>\n      <th>less_equal_both</th>\n    </tr>\n  </thead>\n  <tbody>\n    <tr>\n      <th>count</th>\n      <td>200</td>\n      <td>200</td>\n      <td>200</td>\n      <td>200</td>\n    </tr>\n    <tr>\n      <th>unique</th>\n      <td>2</td>\n      <td>2</td>\n      <td>2</td>\n      <td>2</td>\n    </tr>\n    <tr>\n      <th>top</th>\n      <td>False</td>\n      <td>True</td>\n      <td>True</td>\n      <td>False</td>\n    </tr>\n    <tr>\n      <th>freq</th>\n      <td>186</td>\n      <td>148</td>\n      <td>132</td>\n      <td>112</td>\n    </tr>\n  </tbody>\n</table>\n</div>"
     },
     "metadata": {},
     "execution_count": 18
    }
   ],
   "source": [
    "frame[['less_both', 'less_a', 'less_b', 'less_equal_both']].describe()"
   ]
  },
  {
   "cell_type": "code",
   "execution_count": 19,
   "metadata": {},
   "outputs": [
    {
     "output_type": "execute_result",
     "data": {
      "text/plain": [
       "     a_cost  b_cost  c_cost  equal_to_bb  equal_to_aa\n",
       "8      1637    1638    1639        False        False\n",
       "16     1640    1636    1641        False        False\n",
       "31     1630    1634    1636        False        False\n",
       "72     1638    1634    1640        False        False\n",
       "124    1638    1637    1640        False        False\n",
       "127    1638    1636    1640        False        False\n",
       "161    1638    1637    1639        False        False\n",
       "181    1637    1638    1639        False        False"
      ],
      "text/html": "<div>\n<style scoped>\n    .dataframe tbody tr th:only-of-type {\n        vertical-align: middle;\n    }\n\n    .dataframe tbody tr th {\n        vertical-align: top;\n    }\n\n    .dataframe thead th {\n        text-align: right;\n    }\n</style>\n<table border=\"1\" class=\"dataframe\">\n  <thead>\n    <tr style=\"text-align: right;\">\n      <th></th>\n      <th>a_cost</th>\n      <th>b_cost</th>\n      <th>c_cost</th>\n      <th>equal_to_bb</th>\n      <th>equal_to_aa</th>\n    </tr>\n  </thead>\n  <tbody>\n    <tr>\n      <th>8</th>\n      <td>1637</td>\n      <td>1638</td>\n      <td>1639</td>\n      <td>False</td>\n      <td>False</td>\n    </tr>\n    <tr>\n      <th>16</th>\n      <td>1640</td>\n      <td>1636</td>\n      <td>1641</td>\n      <td>False</td>\n      <td>False</td>\n    </tr>\n    <tr>\n      <th>31</th>\n      <td>1630</td>\n      <td>1634</td>\n      <td>1636</td>\n      <td>False</td>\n      <td>False</td>\n    </tr>\n    <tr>\n      <th>72</th>\n      <td>1638</td>\n      <td>1634</td>\n      <td>1640</td>\n      <td>False</td>\n      <td>False</td>\n    </tr>\n    <tr>\n      <th>124</th>\n      <td>1638</td>\n      <td>1637</td>\n      <td>1640</td>\n      <td>False</td>\n      <td>False</td>\n    </tr>\n    <tr>\n      <th>127</th>\n      <td>1638</td>\n      <td>1636</td>\n      <td>1640</td>\n      <td>False</td>\n      <td>False</td>\n    </tr>\n    <tr>\n      <th>161</th>\n      <td>1638</td>\n      <td>1637</td>\n      <td>1639</td>\n      <td>False</td>\n      <td>False</td>\n    </tr>\n    <tr>\n      <th>181</th>\n      <td>1637</td>\n      <td>1638</td>\n      <td>1639</td>\n      <td>False</td>\n      <td>False</td>\n    </tr>\n  </tbody>\n</table>\n</div>"
     },
     "metadata": {},
     "execution_count": 19
    }
   ],
   "source": [
    "frame[frame['greater_a'] & frame['greater_b']][['a_cost', 'b_cost', 'c_cost', 'equal_to_bb', 'equal_to_aa']]"
   ]
  },
  {
   "cell_type": "code",
   "execution_count": 20,
   "metadata": {},
   "outputs": [
    {
     "output_type": "execute_result",
     "data": {
      "text/plain": [
       "     a_cost  b_cost  c_cost  equal_to_bb  equal_to_aa\n",
       "7      1630    1636    1636        False        False\n",
       "24     1637    1652    1652        False        False\n",
       "26     1634    1638    1638        False        False\n",
       "32     1630    1640    1640        False        False\n",
       "33     1630    1634    1634        False        False\n",
       "37     1630    1637    1634        False        False\n",
       "40     1636    1640    1640        False        False\n",
       "41     1634    1637    1636        False        False\n",
       "49     1630    1638    1638        False        False\n",
       "56     1633    1636    1636        False        False\n",
       "61     1634    1636    1636        False        False\n",
       "63     1636    1640    1640        False        False\n",
       "64     1638    1640    1640        False        False\n",
       "65     1633    1638    1638        False        False\n",
       "70     1634    1638    1638        False        False\n",
       "73     1630    1636    1636        False        False\n",
       "80     1636    1640    1639        False        False\n",
       "82     1634    1636    1636        False        False\n",
       "83     1634    1640    1635        False        False\n",
       "84     1636    1638    1638        False        False\n",
       "92     1634    1638    1638        False        False\n",
       "95     1634    1638    1638        False        False\n",
       "97     1630    1640    1636        False        False\n",
       "102    1630    1638    1636        False        False\n",
       "111    1637    1640    1638        False        False\n",
       "113    1637    1640    1638        False        False\n",
       "116    1634    1640    1635        False        False\n",
       "120    1630    1638    1638        False        False\n",
       "131    1636    1640    1638        False        False\n",
       "133    1634    1638    1638        False        False\n",
       "135    1634    1640    1640        False        False\n",
       "149    1634    1636    1636        False        False\n",
       "151    1634    1640    1640        False        False\n",
       "155    1638    1640    1639        False        False\n",
       "156    1636    1637    1637        False        False\n",
       "157    1636    1638    1638        False        False\n",
       "162    1637    1638    1638        False        False\n",
       "168    1633    1634    1634        False        False\n",
       "173    1634    1640    1635        False        False\n",
       "177    1634    1636    1636        False        False\n",
       "183    1630    1634    1634        False        False\n",
       "193    1631    1640    1640        False        False\n",
       "195    1636    1640    1638        False        False\n",
       "198    1633    1640    1635        False        False"
      ],
      "text/html": "<div>\n<style scoped>\n    .dataframe tbody tr th:only-of-type {\n        vertical-align: middle;\n    }\n\n    .dataframe tbody tr th {\n        vertical-align: top;\n    }\n\n    .dataframe thead th {\n        text-align: right;\n    }\n</style>\n<table border=\"1\" class=\"dataframe\">\n  <thead>\n    <tr style=\"text-align: right;\">\n      <th></th>\n      <th>a_cost</th>\n      <th>b_cost</th>\n      <th>c_cost</th>\n      <th>equal_to_bb</th>\n      <th>equal_to_aa</th>\n    </tr>\n  </thead>\n  <tbody>\n    <tr>\n      <th>7</th>\n      <td>1630</td>\n      <td>1636</td>\n      <td>1636</td>\n      <td>False</td>\n      <td>False</td>\n    </tr>\n    <tr>\n      <th>24</th>\n      <td>1637</td>\n      <td>1652</td>\n      <td>1652</td>\n      <td>False</td>\n      <td>False</td>\n    </tr>\n    <tr>\n      <th>26</th>\n      <td>1634</td>\n      <td>1638</td>\n      <td>1638</td>\n      <td>False</td>\n      <td>False</td>\n    </tr>\n    <tr>\n      <th>32</th>\n      <td>1630</td>\n      <td>1640</td>\n      <td>1640</td>\n      <td>False</td>\n      <td>False</td>\n    </tr>\n    <tr>\n      <th>33</th>\n      <td>1630</td>\n      <td>1634</td>\n      <td>1634</td>\n      <td>False</td>\n      <td>False</td>\n    </tr>\n    <tr>\n      <th>37</th>\n      <td>1630</td>\n      <td>1637</td>\n      <td>1634</td>\n      <td>False</td>\n      <td>False</td>\n    </tr>\n    <tr>\n      <th>40</th>\n      <td>1636</td>\n      <td>1640</td>\n      <td>1640</td>\n      <td>False</td>\n      <td>False</td>\n    </tr>\n    <tr>\n      <th>41</th>\n      <td>1634</td>\n      <td>1637</td>\n      <td>1636</td>\n      <td>False</td>\n      <td>False</td>\n    </tr>\n    <tr>\n      <th>49</th>\n      <td>1630</td>\n      <td>1638</td>\n      <td>1638</td>\n      <td>False</td>\n      <td>False</td>\n    </tr>\n    <tr>\n      <th>56</th>\n      <td>1633</td>\n      <td>1636</td>\n      <td>1636</td>\n      <td>False</td>\n      <td>False</td>\n    </tr>\n    <tr>\n      <th>61</th>\n      <td>1634</td>\n      <td>1636</td>\n      <td>1636</td>\n      <td>False</td>\n      <td>False</td>\n    </tr>\n    <tr>\n      <th>63</th>\n      <td>1636</td>\n      <td>1640</td>\n      <td>1640</td>\n      <td>False</td>\n      <td>False</td>\n    </tr>\n    <tr>\n      <th>64</th>\n      <td>1638</td>\n      <td>1640</td>\n      <td>1640</td>\n      <td>False</td>\n      <td>False</td>\n    </tr>\n    <tr>\n      <th>65</th>\n      <td>1633</td>\n      <td>1638</td>\n      <td>1638</td>\n      <td>False</td>\n      <td>False</td>\n    </tr>\n    <tr>\n      <th>70</th>\n      <td>1634</td>\n      <td>1638</td>\n      <td>1638</td>\n      <td>False</td>\n      <td>False</td>\n    </tr>\n    <tr>\n      <th>73</th>\n      <td>1630</td>\n      <td>1636</td>\n      <td>1636</td>\n      <td>False</td>\n      <td>False</td>\n    </tr>\n    <tr>\n      <th>80</th>\n      <td>1636</td>\n      <td>1640</td>\n      <td>1639</td>\n      <td>False</td>\n      <td>False</td>\n    </tr>\n    <tr>\n      <th>82</th>\n      <td>1634</td>\n      <td>1636</td>\n      <td>1636</td>\n      <td>False</td>\n      <td>False</td>\n    </tr>\n    <tr>\n      <th>83</th>\n      <td>1634</td>\n      <td>1640</td>\n      <td>1635</td>\n      <td>False</td>\n      <td>False</td>\n    </tr>\n    <tr>\n      <th>84</th>\n      <td>1636</td>\n      <td>1638</td>\n      <td>1638</td>\n      <td>False</td>\n      <td>False</td>\n    </tr>\n    <tr>\n      <th>92</th>\n      <td>1634</td>\n      <td>1638</td>\n      <td>1638</td>\n      <td>False</td>\n      <td>False</td>\n    </tr>\n    <tr>\n      <th>95</th>\n      <td>1634</td>\n      <td>1638</td>\n      <td>1638</td>\n      <td>False</td>\n      <td>False</td>\n    </tr>\n    <tr>\n      <th>97</th>\n      <td>1630</td>\n      <td>1640</td>\n      <td>1636</td>\n      <td>False</td>\n      <td>False</td>\n    </tr>\n    <tr>\n      <th>102</th>\n      <td>1630</td>\n      <td>1638</td>\n      <td>1636</td>\n      <td>False</td>\n      <td>False</td>\n    </tr>\n    <tr>\n      <th>111</th>\n      <td>1637</td>\n      <td>1640</td>\n      <td>1638</td>\n      <td>False</td>\n      <td>False</td>\n    </tr>\n    <tr>\n      <th>113</th>\n      <td>1637</td>\n      <td>1640</td>\n      <td>1638</td>\n      <td>False</td>\n      <td>False</td>\n    </tr>\n    <tr>\n      <th>116</th>\n      <td>1634</td>\n      <td>1640</td>\n      <td>1635</td>\n      <td>False</td>\n      <td>False</td>\n    </tr>\n    <tr>\n      <th>120</th>\n      <td>1630</td>\n      <td>1638</td>\n      <td>1638</td>\n      <td>False</td>\n      <td>False</td>\n    </tr>\n    <tr>\n      <th>131</th>\n      <td>1636</td>\n      <td>1640</td>\n      <td>1638</td>\n      <td>False</td>\n      <td>False</td>\n    </tr>\n    <tr>\n      <th>133</th>\n      <td>1634</td>\n      <td>1638</td>\n      <td>1638</td>\n      <td>False</td>\n      <td>False</td>\n    </tr>\n    <tr>\n      <th>135</th>\n      <td>1634</td>\n      <td>1640</td>\n      <td>1640</td>\n      <td>False</td>\n      <td>False</td>\n    </tr>\n    <tr>\n      <th>149</th>\n      <td>1634</td>\n      <td>1636</td>\n      <td>1636</td>\n      <td>False</td>\n      <td>False</td>\n    </tr>\n    <tr>\n      <th>151</th>\n      <td>1634</td>\n      <td>1640</td>\n      <td>1640</td>\n      <td>False</td>\n      <td>False</td>\n    </tr>\n    <tr>\n      <th>155</th>\n      <td>1638</td>\n      <td>1640</td>\n      <td>1639</td>\n      <td>False</td>\n      <td>False</td>\n    </tr>\n    <tr>\n      <th>156</th>\n      <td>1636</td>\n      <td>1637</td>\n      <td>1637</td>\n      <td>False</td>\n      <td>False</td>\n    </tr>\n    <tr>\n      <th>157</th>\n      <td>1636</td>\n      <td>1638</td>\n      <td>1638</td>\n      <td>False</td>\n      <td>False</td>\n    </tr>\n    <tr>\n      <th>162</th>\n      <td>1637</td>\n      <td>1638</td>\n      <td>1638</td>\n      <td>False</td>\n      <td>False</td>\n    </tr>\n    <tr>\n      <th>168</th>\n      <td>1633</td>\n      <td>1634</td>\n      <td>1634</td>\n      <td>False</td>\n      <td>False</td>\n    </tr>\n    <tr>\n      <th>173</th>\n      <td>1634</td>\n      <td>1640</td>\n      <td>1635</td>\n      <td>False</td>\n      <td>False</td>\n    </tr>\n    <tr>\n      <th>177</th>\n      <td>1634</td>\n      <td>1636</td>\n      <td>1636</td>\n      <td>False</td>\n      <td>False</td>\n    </tr>\n    <tr>\n      <th>183</th>\n      <td>1630</td>\n      <td>1634</td>\n      <td>1634</td>\n      <td>False</td>\n      <td>False</td>\n    </tr>\n    <tr>\n      <th>193</th>\n      <td>1631</td>\n      <td>1640</td>\n      <td>1640</td>\n      <td>False</td>\n      <td>False</td>\n    </tr>\n    <tr>\n      <th>195</th>\n      <td>1636</td>\n      <td>1640</td>\n      <td>1638</td>\n      <td>False</td>\n      <td>False</td>\n    </tr>\n    <tr>\n      <th>198</th>\n      <td>1633</td>\n      <td>1640</td>\n      <td>1635</td>\n      <td>False</td>\n      <td>False</td>\n    </tr>\n  </tbody>\n</table>\n</div>"
     },
     "metadata": {},
     "execution_count": 20
    }
   ],
   "source": [
    "frame[frame['greater_a'] & frame['less_b'] ][['a_cost', 'b_cost', 'c_cost', 'equal_to_bb', 'equal_to_aa']]"
   ]
  },
  {
   "cell_type": "code",
   "execution_count": 22,
   "metadata": {},
   "outputs": [
    {
     "output_type": "execute_result",
     "data": {
      "text/plain": [
       "          a_cost    b_cost    c_cost\n",
       "a_cost  1.000000 -0.035680  0.434085\n",
       "b_cost -0.035680  1.000000  0.496839\n",
       "c_cost  0.434085  0.496839  1.000000"
      ],
      "text/html": "<div>\n<style scoped>\n    .dataframe tbody tr th:only-of-type {\n        vertical-align: middle;\n    }\n\n    .dataframe tbody tr th {\n        vertical-align: top;\n    }\n\n    .dataframe thead th {\n        text-align: right;\n    }\n</style>\n<table border=\"1\" class=\"dataframe\">\n  <thead>\n    <tr style=\"text-align: right;\">\n      <th></th>\n      <th>a_cost</th>\n      <th>b_cost</th>\n      <th>c_cost</th>\n    </tr>\n  </thead>\n  <tbody>\n    <tr>\n      <th>a_cost</th>\n      <td>1.000000</td>\n      <td>-0.035680</td>\n      <td>0.434085</td>\n    </tr>\n    <tr>\n      <th>b_cost</th>\n      <td>-0.035680</td>\n      <td>1.000000</td>\n      <td>0.496839</td>\n    </tr>\n    <tr>\n      <th>c_cost</th>\n      <td>0.434085</td>\n      <td>0.496839</td>\n      <td>1.000000</td>\n    </tr>\n  </tbody>\n</table>\n</div>"
     },
     "metadata": {},
     "execution_count": 22
    }
   ],
   "source": [
    "frame[['a_cost', 'b_cost', 'c_cost']].corr()"
   ]
  },
  {
   "cell_type": "code",
   "execution_count": null,
   "metadata": {},
   "outputs": [],
   "source": []
  }
 ],
 "metadata": {
  "kernelspec": {
   "display_name": "Python 3",
   "language": "python",
   "name": "python3"
  },
  "language_info": {
   "codemirror_mode": {
    "name": "ipython",
    "version": 3
   },
   "file_extension": ".py",
   "mimetype": "text/x-python",
   "name": "python",
   "nbconvert_exporter": "python",
   "pygments_lexer": "ipython3",
   "version": "3.7.9-final"
  }
 },
 "nbformat": 4,
 "nbformat_minor": 4
}