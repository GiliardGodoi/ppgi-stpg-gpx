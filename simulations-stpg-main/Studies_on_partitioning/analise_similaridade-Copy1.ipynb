{
 "cells": [
  {
   "cell_type": "code",
   "execution_count": 1,
   "metadata": {},
   "outputs": [],
   "source": [
    "import sys; sys.path.append('..')\n",
    "from os import path"
   ]
  },
  {
   "cell_type": "code",
   "execution_count": 2,
   "metadata": {},
   "outputs": [],
   "source": [
    "from graph import Graph\n",
    "from graph.reader import read_problem"
   ]
  },
  {
   "cell_type": "code",
   "execution_count": 3,
   "metadata": {},
   "outputs": [],
   "source": [
    "problema = path.join('..', 'datasets', 'ORLibrary', 'steinb16.txt')\n",
    "\n",
    "STPG = read_problem(problema)"
   ]
  },
  {
   "cell_type": "code",
   "execution_count": 4,
   "metadata": {},
   "outputs": [
    {
     "data": {
      "text/plain": [
       "17"
      ]
     },
     "execution_count": 4,
     "metadata": {},
     "output_type": "execute_result"
    }
   ],
   "source": [
    "assert len(STPG.terminals) == STPG.nro_terminals\n",
    "\n",
    "STPG.nro_terminals"
   ]
  },
  {
   "cell_type": "code",
   "execution_count": 5,
   "metadata": {},
   "outputs": [
    {
     "data": {
      "text/plain": [
       "100"
      ]
     },
     "execution_count": 5,
     "metadata": {},
     "output_type": "execute_result"
    }
   ],
   "source": [
    "STPG.nro_nodes"
   ]
  },
  {
   "cell_type": "code",
   "execution_count": 6,
   "metadata": {},
   "outputs": [
    {
     "data": {
      "text/plain": [
       "200"
      ]
     },
     "execution_count": 6,
     "metadata": {},
     "output_type": "execute_result"
    }
   ],
   "source": [
    "STPG.nro_edges"
   ]
  },
  {
   "cell_type": "code",
   "execution_count": 7,
   "metadata": {},
   "outputs": [
    {
     "name": "stdout",
     "output_type": "stream",
     "text": [
      "{97, 37, 69, 72, 9, 76, 60, 81, 82, 17, 20, 21, 54, 87, 25, 59, 28}\n"
     ]
    }
   ],
   "source": [
    "print(STPG.terminals)"
   ]
  },
  {
   "cell_type": "markdown",
   "metadata": {},
   "source": [
    "---\n",
    "\n",
    "## Algoritmo Genético"
   ]
  },
  {
   "cell_type": "code",
   "execution_count": 8,
   "metadata": {},
   "outputs": [],
   "source": [
    "from base.binary.combiner import crossover_1point, crossover_2points, crossover_uniform\n",
    "from base.chromosome import random_binary\n",
    "from base.condition import BestKnownReached, BestSolutionKnowReached, Stagnation\n",
    "from base.customevol import SteinerEvolution as Evolution\n",
    "from base.customevol import SteinerPopulation as Population\n",
    "from base.mutate import flip_onebit\n",
    "from base.normalization import normalize\n",
    "from base.pickers import random_picker\n",
    "from base.selector import roullete\n",
    "from base.tracker import DataTracker\n",
    "from base.util import display, update_best, update_generation\n",
    "\n",
    "from treetools import Eval"
   ]
  },
  {
   "cell_type": "code",
   "execution_count": 9,
   "metadata": {},
   "outputs": [],
   "source": [
    "tamanho_populacao = 10\n",
    "comprimento_cromosso = STPG.nro_nodes - STPG.nro_terminals\n",
    "\n",
    "tx_mutacao = 0.2\n",
    "prob_troca_gene = 0.6"
   ]
  },
  {
   "cell_type": "code",
   "execution_count": 10,
   "metadata": {},
   "outputs": [],
   "source": [
    "populacao = (Population(chromosomes=[random_binary(comprimento_cromosso) for _ in range(tamanho_populacao) ],\n",
    "                        eval_function=Eval(STPG),\n",
    "                        maximize=True)\n",
    "                        .evaluate()\n",
    "                        .callback(normalize)\n",
    "                        .callback(update_best))"
   ]
  },
  {
   "cell_type": "code",
   "execution_count": 11,
   "metadata": {},
   "outputs": [
    {
     "data": {
      "text/plain": [
       "10"
      ]
     },
     "execution_count": 11,
     "metadata": {},
     "output_type": "execute_result"
    }
   ],
   "source": [
    "len(populacao)"
   ]
  },
  {
   "cell_type": "code",
   "execution_count": 12,
   "metadata": {},
   "outputs": [],
   "source": [
    "evolution = (Evolution()\n",
    "                .evaluate()\n",
    "                .callback(normalize)\n",
    "                .callback(update_best)\n",
    "                .select(selection_func=roullete)\n",
    "                .crossover(combiner=crossover_uniform, \n",
    "                           parent_picker=random_picker, \n",
    "                           pbcrossover=prob_troca_gene)\n",
    "                .mutate(mutate_function=flip_onebit, \n",
    "                        probability=tx_mutacao)\n",
    "                .callback(update_generation)\n",
    "                .callback(display, every=100))"
   ]
  },
  {
   "cell_type": "code",
   "execution_count": 13,
   "metadata": {},
   "outputs": [
    {
     "name": "stdout",
     "output_type": "stream",
     "text": [
      "Population 4e4cfa | size 10 | generation 100\n",
      "Population 4e4cfa | size 10 | generation 200\n",
      "Population 4e4cfa | size 10 | generation 300\n",
      "Population 4e4cfa | size 10 | generation 400\n",
      "Population 4e4cfa | size 10 | generation 500\n",
      "Wall time: 8.56 s\n"
     ]
    }
   ],
   "source": [
    "%%time\n",
    "\n",
    "result = populacao.evolve(evolution, n=500)"
   ]
  },
  {
   "cell_type": "code",
   "execution_count": 14,
   "metadata": {},
   "outputs": [
    {
     "data": {
      "text/plain": [
       "8.561229099999998"
      ]
     },
     "execution_count": 14,
     "metadata": {},
     "output_type": "execute_result"
    }
   ],
   "source": [
    "result.runtime"
   ]
  },
  {
   "cell_type": "code",
   "execution_count": 15,
   "metadata": {},
   "outputs": [
    {
     "data": {
      "text/plain": [
       "144"
      ]
     },
     "execution_count": 15,
     "metadata": {},
     "output_type": "execute_result"
    }
   ],
   "source": [
    "result.documented_best.cost"
   ]
  },
  {
   "cell_type": "code",
   "execution_count": 16,
   "metadata": {},
   "outputs": [
    {
     "data": {
      "text/plain": [
       "442"
      ]
     },
     "execution_count": 16,
     "metadata": {},
     "output_type": "execute_result"
    }
   ],
   "source": [
    "result.documented_best.last_improvement"
   ]
  },
  {
   "cell_type": "code",
   "execution_count": 17,
   "metadata": {},
   "outputs": [
    {
     "data": {
      "text/plain": [
       "'00000100001000000101001101110101000101101010010101000110000000001100010001111000010'"
      ]
     },
     "execution_count": 17,
     "metadata": {},
     "output_type": "execute_result"
    }
   ],
   "source": [
    "result.documented_best.chromosome"
   ]
  },
  {
   "cell_type": "code",
   "execution_count": 18,
   "metadata": {},
   "outputs": [
    {
     "data": {
      "text/plain": [
       "83"
      ]
     },
     "execution_count": 18,
     "metadata": {},
     "output_type": "execute_result"
    }
   ],
   "source": [
    "assert len(result.documented_best.chromosome) == comprimento_cromosso\n",
    "\n",
    "len(result.documented_best.chromosome)"
   ]
  },
  {
   "cell_type": "markdown",
   "metadata": {},
   "source": [
    "---"
   ]
  },
  {
   "cell_type": "code",
   "execution_count": 19,
   "metadata": {},
   "outputs": [],
   "source": [
    "individuos = sorted(result, key=lambda x: x.cost )"
   ]
  },
  {
   "cell_type": "code",
   "execution_count": 20,
   "metadata": {},
   "outputs": [
    {
     "name": "stdout",
     "output_type": "stream",
     "text": [
      "149\n",
      "150\n",
      "150\n",
      "150\n",
      "150\n",
      "150\n",
      "155\n",
      "156\n",
      "156\n",
      "161\n"
     ]
    }
   ],
   "source": [
    "for individuo in individuos:\n",
    "    print(individuo.cost)"
   ]
  },
  {
   "cell_type": "code",
   "execution_count": 21,
   "metadata": {},
   "outputs": [
    {
     "data": {
      "text/plain": [
       "list"
      ]
     },
     "execution_count": 21,
     "metadata": {},
     "output_type": "execute_result"
    }
   ],
   "source": [
    "type(individuos)"
   ]
  },
  {
   "cell_type": "code",
   "execution_count": 22,
   "metadata": {},
   "outputs": [],
   "source": [
    "from treetools import Converter\n",
    "\n",
    "converter = Converter(STPG)"
   ]
  },
  {
   "cell_type": "code",
   "execution_count": 23,
   "metadata": {},
   "outputs": [],
   "source": [
    "individuos = [converter.binary2treegraph(individuo) for individuo in individuos ]"
   ]
  },
  {
   "cell_type": "code",
   "execution_count": 24,
   "metadata": {},
   "outputs": [
    {
     "data": {
      "text/plain": [
       "defaultdict(dict,\n",
       "            {6: {64: 1, 28: 1, 56: 5},\n",
       "             9: {36: 5},\n",
       "             12: {64: 1, 17: 10},\n",
       "             17: {12: 10},\n",
       "             20: {85: 2},\n",
       "             21: {60: 2},\n",
       "             22: {45: 5, 33: 6},\n",
       "             24: {46: 1, 90: 3},\n",
       "             25: {72: 1, 87: 3, 53: 5},\n",
       "             26: {78: 3},\n",
       "             28: {6: 1, 58: 5},\n",
       "             29: {48: 1, 92: 3, 60: 7},\n",
       "             30: {34: 2, 81: 8},\n",
       "             32: {43: 2, 79: 2, 97: 3},\n",
       "             33: {22: 6, 59: 10},\n",
       "             34: {97: 1, 30: 2},\n",
       "             36: {46: 1, 78: 1, 9: 5},\n",
       "             37: {91: 5},\n",
       "             39: {72: 1, 91: 1},\n",
       "             43: {32: 2, 87: 2},\n",
       "             45: {65: 2, 83: 3, 22: 5},\n",
       "             46: {24: 1, 36: 1},\n",
       "             48: {29: 1, 58: 1},\n",
       "             50: {65: 1, 54: 3},\n",
       "             52: {79: 1},\n",
       "             53: {99: 1, 25: 5},\n",
       "             54: {50: 3},\n",
       "             56: {90: 1, 6: 5},\n",
       "             58: {48: 1, 28: 5},\n",
       "             59: {33: 10},\n",
       "             60: {21: 2, 29: 7},\n",
       "             64: {6: 1, 12: 1},\n",
       "             65: {50: 1, 45: 2},\n",
       "             69: {87: 4},\n",
       "             72: {25: 1, 39: 1},\n",
       "             76: {92: 9},\n",
       "             78: {36: 1, 26: 3, 93: 4},\n",
       "             79: {52: 1, 32: 2},\n",
       "             81: {30: 8},\n",
       "             82: {87: 1},\n",
       "             83: {45: 3, 99: 3},\n",
       "             85: {93: 1, 20: 2},\n",
       "             87: {82: 1, 43: 2, 25: 3, 69: 4},\n",
       "             90: {56: 1, 24: 3},\n",
       "             91: {39: 1, 37: 5},\n",
       "             92: {29: 3, 97: 5, 76: 9},\n",
       "             93: {85: 1, 78: 4},\n",
       "             97: {34: 1, 32: 3, 92: 5},\n",
       "             99: {53: 1, 83: 3}})"
      ]
     },
     "execution_count": 24,
     "metadata": {},
     "output_type": "execute_result"
    }
   ],
   "source": [
    "parent = individuos[0]\n",
    "\n",
    "parent.chromosome.edges"
   ]
  },
  {
   "cell_type": "code",
   "execution_count": 25,
   "metadata": {},
   "outputs": [
    {
     "data": {
      "text/plain": [
       "False"
      ]
     },
     "execution_count": 25,
     "metadata": {},
     "output_type": "execute_result"
    }
   ],
   "source": [
    "parent.is_connected"
   ]
  },
  {
   "cell_type": "code",
   "execution_count": 26,
   "metadata": {},
   "outputs": [
    {
     "data": {
      "text/plain": [
       "0"
      ]
     },
     "execution_count": 26,
     "metadata": {},
     "output_type": "execute_result"
    }
   ],
   "source": [
    "parent.qtd_partitions"
   ]
  },
  {
   "cell_type": "markdown",
   "metadata": {},
   "source": [
    "---"
   ]
  },
  {
   "cell_type": "code",
   "execution_count": 27,
   "metadata": {},
   "outputs": [],
   "source": [
    "import networkx as nx\n",
    "from matplotlib import pyplot as plt\n",
    "import math\n",
    "\n",
    "from draw import hierarchy_pos"
   ]
  },
  {
   "cell_type": "code",
   "execution_count": 28,
   "metadata": {},
   "outputs": [],
   "source": [
    "def convert_graph(graph, color='black'):\n",
    "    G = nx.Graph()\n",
    "    for v, value in graph.items():\n",
    "        G.add_node(v)\n",
    "        for w, weight in value.items():\n",
    "            if w in G[v]:\n",
    "                continue\n",
    "            G.add_edge(v, w, weight=weight, color=color)\n",
    "    return G    "
   ]
  },
  {
   "cell_type": "code",
   "execution_count": 29,
   "metadata": {},
   "outputs": [],
   "source": [
    "def plotar_(individuo, raiz):\n",
    "    \n",
    "    grafo = convert_graph(individuo.chromosome.edges)\n",
    "    \n",
    "    \n",
    "    pos = hierarchy_pos(grafo, root=raiz, width = 2*math.pi, xcenter=0)\n",
    "    \n",
    "    pos_t = {u: (r * math.cos(theta), r * math.sin(theta)) for u, (theta, r) in pos.items()}\n",
    "    \n",
    "    nx.draw(grafo,\n",
    "        pos_t,\n",
    "        node_color='#A0CBE2',\n",
    "        edge_color='black',\n",
    "        width=2, \n",
    "        node_size=100,\n",
    "        with_labels=True)\n",
    "\n",
    "    nx.draw_networkx_nodes(grafo,\n",
    "                           pos=pos_t,\n",
    "                           nodelist = STPG.terminals,\n",
    "                           node_color = 'red', \n",
    "                           node_size = 150)\n",
    "\n",
    "    plt.show()"
   ]
  },
  {
   "cell_type": "code",
   "execution_count": 30,
   "metadata": {},
   "outputs": [
    {
     "data": {
      "image/png": "[encoded data removed]",
      "text/plain": [
       "<Figure size 432x288 with 1 Axes>"
      ]
     },
     "metadata": {},
     "output_type": "display_data"
    }
   ],
   "source": [
    "plotar_(individuos[0], 97)"
   ]
  },
  {
   "cell_type": "code",
   "execution_count": 31,
   "metadata": {},
   "outputs": [
    {
     "data": {
      "image/png": "[encoded data removed]",
      "text/plain": [
       "<Figure size 432x288 with 1 Axes>"
      ]
     },
     "metadata": {},
     "output_type": "display_data"
    }
   ],
   "source": [
    "plotar_(individuos[1], 97)"
   ]
  },
  {
   "cell_type": "code",
   "execution_count": null,
   "metadata": {},
   "outputs": [],
   "source": []
  },
  {
   "cell_type": "code",
   "execution_count": null,
   "metadata": {},
   "outputs": [],
   "source": []
  },
  {
   "cell_type": "code",
   "execution_count": null,
   "metadata": {},
   "outputs": [],
   "source": []
  }
 ],
 "metadata": {
  "kernelspec": {
   "display_name": "Python 3",
   "language": "python",
   "name": "python3"
  },
  "language_info": {
   "codemirror_mode": {
    "name": "ipython",
    "version": 3
   },
   "file_extension": ".py",
   "mimetype": "text/x-python",
   "name": "python",
   "nbconvert_exporter": "python",
   "pygments_lexer": "ipython3",
   "version": "3.8.3"
  }
 },
 "nbformat": 4,
 "nbformat_minor": 4
}
