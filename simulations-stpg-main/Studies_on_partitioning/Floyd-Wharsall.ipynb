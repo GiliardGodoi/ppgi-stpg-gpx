{
 "cells": [
  {
   "cell_type": "code",
   "execution_count": 1,
   "metadata": {},
   "outputs": [],
   "source": [
    "import sys; sys.path.append('..')"
   ]
  },
  {
   "cell_type": "code",
   "execution_count": 2,
   "metadata": {},
   "outputs": [],
   "source": [
    "from graph import Graph\n",
    "from graph.util import has_cycle"
   ]
  },
  {
   "cell_type": "code",
   "execution_count": 3,
   "metadata": {},
   "outputs": [],
   "source": [
    "aa = Graph(edges={\n",
    "    'E' : {'C' : 5},\n",
    "    'C' : {'E' : 5 , 'D' : 4, 'B' : 10},\n",
    "    'D' : {'C' : 4 , 'F' : 9},\n",
    "    'F' : {'D' : 9 , 'A' : 3},\n",
    "    'B' : {'C' : 10, 'A' : 11},\n",
    "    'A' : {'F' : 3 , 'B' : 11}\n",
    "})"
   ]
  },
  {
   "cell_type": "code",
   "execution_count": 4,
   "metadata": {},
   "outputs": [
    {
     "data": {
      "text/plain": [
       "True"
      ]
     },
     "execution_count": 4,
     "metadata": {},
     "output_type": "execute_result"
    }
   ],
   "source": [
    "has_cycle(aa)"
   ]
  },
  {
   "cell_type": "code",
   "execution_count": 5,
   "metadata": {},
   "outputs": [
    {
     "data": {
      "text/plain": [
       "['A', 'B', 'C', 'D', 'E', 'F']"
      ]
     },
     "execution_count": 5,
     "metadata": {},
     "output_type": "execute_result"
    }
   ],
   "source": [
    "vertices = sorted(list(aa.vertices))\n",
    "\n",
    "vertices"
   ]
  },
  {
   "cell_type": "code",
   "execution_count": 6,
   "metadata": {},
   "outputs": [],
   "source": [
    "W = list()\n",
    "for i, v in enumerate(vertices):\n",
    "    W.append(list())\n",
    "    for j, u in enumerate(vertices):\n",
    "            W[i].append(aa.W(v,u))"
   ]
  },
  {
   "cell_type": "code",
   "execution_count": 7,
   "metadata": {},
   "outputs": [
    {
     "data": {
      "text/plain": [
       "[[0, 11, inf, inf, inf, 3],\n",
       " [11, 0, 10, inf, inf, inf],\n",
       " [inf, 10, 0, 4, 5, inf],\n",
       " [inf, inf, 4, 0, inf, 9],\n",
       " [inf, inf, 5, inf, 0, inf],\n",
       " [3, inf, inf, 9, inf, 0]]"
      ]
     },
     "execution_count": 7,
     "metadata": {},
     "output_type": "execute_result"
    }
   ],
   "source": [
    "W"
   ]
  },
  {
   "cell_type": "code",
   "execution_count": 8,
   "metadata": {},
   "outputs": [],
   "source": [
    "# algoritmo de Floy O(V³)\n",
    "for k, _ in enumerate(vertices):\n",
    "    for i, v in enumerate(vertices):\n",
    "        for j, u in enumerate(vertices):\n",
    "            W[i][j] = min(W[i][j], (W[i][k] + W[k][j]))"
   ]
  },
  {
   "cell_type": "code",
   "execution_count": 9,
   "metadata": {},
   "outputs": [
    {
     "data": {
      "text/plain": [
       "[[0, 11, 16, 12, 21, 3],\n",
       " [11, 0, 10, 14, 15, 14],\n",
       " [16, 10, 0, 4, 5, 13],\n",
       " [12, 14, 4, 0, 9, 9],\n",
       " [21, 15, 5, 9, 0, 18],\n",
       " [3, 14, 13, 9, 18, 0]]"
      ]
     },
     "execution_count": 9,
     "metadata": {},
     "output_type": "execute_result"
    }
   ],
   "source": [
    "W"
   ]
  },
  {
   "cell_type": "code",
   "execution_count": 10,
   "metadata": {},
   "outputs": [
    {
     "data": {
      "text/plain": [
       "['A', 'B', 'C', 'D', 'E', 'F']"
      ]
     },
     "execution_count": 10,
     "metadata": {},
     "output_type": "execute_result"
    }
   ],
   "source": [
    "vertices"
   ]
  },
  {
   "cell_type": "markdown",
   "metadata": {},
   "source": [
    "---"
   ]
  },
  {
   "cell_type": "code",
   "execution_count": 11,
   "metadata": {},
   "outputs": [],
   "source": [
    "from collections import deque"
   ]
  },
  {
   "cell_type": "code",
   "execution_count": 12,
   "metadata": {},
   "outputs": [],
   "source": []
  },
  {
   "cell_type": "code",
   "execution_count": 20,
   "metadata": {},
   "outputs": [],
   "source": [
    "linkedlist = deque()\n",
    "\n",
    "for letra in ['A', 'B', 'C', 'D']:\n",
    "    linkedlist.appendleft(letra)\n",
    "    \n",
    "    \n",
    "for letra in ['W', 'X', 'Y', 'Z']:\n",
    "    linkedlist.appendleft(letra)"
   ]
  },
  {
   "cell_type": "code",
   "execution_count": 21,
   "metadata": {},
   "outputs": [
    {
     "data": {
      "text/plain": [
       "deque(['Z', 'Y', 'X', 'W', 'D', 'C', 'B', 'A'])"
      ]
     },
     "execution_count": 21,
     "metadata": {},
     "output_type": "execute_result"
    }
   ],
   "source": [
    "linkedlist"
   ]
  },
  {
   "cell_type": "code",
   "execution_count": 22,
   "metadata": {},
   "outputs": [
    {
     "name": "stdout",
     "output_type": "stream",
     "text": [
      "Z\n",
      "Y\n",
      "X\n",
      "W\n",
      "D\n",
      "C\n",
      "B\n",
      "A\n"
     ]
    }
   ],
   "source": [
    "while linkedlist:\n",
    "    print(linkedlist.popleft())"
   ]
  },
  {
   "cell_type": "code",
   "execution_count": null,
   "metadata": {},
   "outputs": [],
   "source": []
  }
 ],
 "metadata": {
  "kernelspec": {
   "display_name": "Python 3",
   "language": "python",
   "name": "python3"
  },
  "language_info": {
   "codemirror_mode": {
    "name": "ipython",
    "version": 3
   },
   "file_extension": ".py",
   "mimetype": "text/x-python",
   "name": "python",
   "nbconvert_exporter": "python",
   "pygments_lexer": "ipython3",
   "version": "3.8.3"
  }
 },
 "nbformat": 4,
 "nbformat_minor": 4
}
