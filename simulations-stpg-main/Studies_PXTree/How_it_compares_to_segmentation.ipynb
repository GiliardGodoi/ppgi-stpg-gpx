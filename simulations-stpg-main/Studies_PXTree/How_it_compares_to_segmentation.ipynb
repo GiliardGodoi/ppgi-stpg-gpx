{
 "metadata": {
  "language_info": {
   "codemirror_mode": {
    "name": "ipython",
    "version": 3
   },
   "file_extension": ".py",
   "mimetype": "text/x-python",
   "name": "python",
   "nbconvert_exporter": "python",
   "pygments_lexer": "ipython3",
   "version": "3.7.9-final"
  },
  "orig_nbformat": 2,
  "kernelspec": {
   "name": "python3",
   "display_name": "Python 3",
   "language": "python"
  }
 },
 "nbformat": 4,
 "nbformat_minor": 2,
 "cells": [
  {
   "source": [
    "# Comparing two procedures to find partitions:\n"
   ],
   "cell_type": "markdown",
   "metadata": {}
  },
  {
   "source": [
    "## Setup: \n",
    "\n",
    "- Reading the problem instance;\n",
    "- Generating two individuals;"
   ],
   "cell_type": "markdown",
   "metadata": {}
  },
  {
   "cell_type": "code",
   "execution_count": 1,
   "metadata": {},
   "outputs": [],
   "source": [
    "from os import path\n",
    "from pprint import pprint\n",
    "from ga4stpg.graph.reader import ReaderORLibrary\n",
    "\n",
    "instance_problem = \"steinb5.txt\"\n",
    "folder_datasets = path.join('..', '..', 'ppgi-stpg-gpx', 'datasets', 'ORLibrary')\n",
    "filename = path.join(folder_datasets, instance_problem)\n",
    "\n",
    "STPG = ReaderORLibrary().parser(filename)\n",
    "\n",
    "def f_weight(x, y):\n",
    "    return STPG.graph.weight(x,y)"
   ]
  },
  {
   "cell_type": "code",
   "execution_count": 2,
   "metadata": {},
   "outputs": [
    {
     "output_type": "stream",
     "name": "stdout",
     "text": [
      "STPG information \n - - - - - - - - - -  \n\nInstance:  B5\nNro. Node: 50\nNro. Edges: 100\nNro. Terminals: 13\nTerminals: \n {3, 35, 5, 37, 7, 39, 13, 15, 16, 20, 23, 24, 31}\n"
     ]
    }
   ],
   "source": [
    "print(\"STPG information\", '\\n', 10*'- ','\\n')\n",
    "print('Instance: ', STPG.name)\n",
    "print(\"Nro. Node:\", STPG.nro_nodes)\n",
    "print(\"Nro. Edges:\", STPG.nro_edges)\n",
    "print(\"Nro. Terminals:\", STPG.nro_terminals)\n",
    "print(\"Terminals: \\n\", STPG.terminals)"
   ]
  },
  {
   "cell_type": "code",
   "execution_count": 3,
   "metadata": {},
   "outputs": [
    {
     "output_type": "stream",
     "name": "stdout",
     "text": [
      "(246, 1)\n(243, 1)\n"
     ]
    }
   ],
   "source": [
    "from ga4stpg.graph.util import is_steiner_tree\n",
    "from ga4stpg.tree.evaluation import EvaluateTreeGraph\n",
    "from ga4stpg.tree.generate import GenerateBasedRandomWalk\n",
    "from ga4stpg.tree.mutate import Prunning\n",
    "\n",
    "generator = GenerateBasedRandomWalk(STPG)\n",
    "evaluator = EvaluateTreeGraph(STPG)\n",
    "prunning  = Prunning(STPG)\n",
    "\n",
    "red  = generator()\n",
    "blue = generator()\n",
    "\n",
    "print(evaluator(red))\n",
    "print(evaluator(blue))"
   ]
  },
  {
   "cell_type": "code",
   "execution_count": 4,
   "metadata": {},
   "outputs": [
    {
     "output_type": "stream",
     "name": "stdout",
     "text": [
      "(141, 1)\n(118, 1)\n"
     ]
    }
   ],
   "source": [
    "red = prunning(red)\n",
    "blue = prunning(blue)\n",
    "\n",
    "print(evaluator(red))\n",
    "print(evaluator(blue))"
   ]
  },
  {
   "cell_type": "code",
   "execution_count": 5,
   "metadata": {},
   "outputs": [
    {
     "output_type": "execute_result",
     "data": {
      "text/plain": [
       "(True,\n",
       " {'has_cycle': False,\n",
       "  'all_terminals_in': True,\n",
       "  'all_leaves_are_terminals': True,\n",
       "  'all_edges_are_reliable': True,\n",
       "  'graph_is_connected': True})"
      ]
     },
     "metadata": {},
     "execution_count": 5
    }
   ],
   "source": [
    "is_steiner_tree(red, STPG)"
   ]
  },
  {
   "cell_type": "code",
   "execution_count": 6,
   "metadata": {},
   "outputs": [
    {
     "output_type": "execute_result",
     "data": {
      "text/plain": [
       "(True,\n",
       " {'has_cycle': False,\n",
       "  'all_terminals_in': True,\n",
       "  'all_leaves_are_terminals': True,\n",
       "  'all_edges_are_reliable': True,\n",
       "  'graph_is_connected': True})"
      ]
     },
     "metadata": {},
     "execution_count": 6
    }
   ],
   "source": [
    "is_steiner_tree(blue, STPG)"
   ]
  },
  {
   "source": [
    "## Find components in Partition Crossover"
   ],
   "cell_type": "markdown",
   "metadata": {}
  },
  {
   "cell_type": "code",
   "execution_count": 7,
   "metadata": {},
   "outputs": [],
   "source": [
    "from collections import deque\n",
    "from operator import attrgetter\n",
    "from random import choice\n",
    "\n",
    "from ga4stpg.graph import UGraph\n",
    "from ga4stpg.graph.disjointsets import DisjointSets"
   ]
  },
  {
   "cell_type": "code",
   "execution_count": 8,
   "metadata": {},
   "outputs": [],
   "source": [
    "class Component:\n",
    "\n",
    "    def __init__(self, first, second, initialcost=0):\n",
    "        self.edges = {first : None, second : first}\n",
    "        self.portal = set()\n",
    "        self.cost = initialcost\n",
    "\n",
    "    def add(self, first, second):\n",
    "        self.edges[second] = first\n",
    "\n",
    "    def __contains__(self, value):\n",
    "        return value in self.edges\n",
    "\n",
    "    def __str__(self):\n",
    "        return self.__repr__()\n",
    "\n",
    "    def __repr__(self):\n",
    "        return f\"Component <{self.portal}>\""
   ]
  },
  {
   "cell_type": "code",
   "execution_count": 9,
   "metadata": {},
   "outputs": [],
   "source": [
    "def compose(red : UGraph, blue : UGraph):\n",
    "    '''\n",
    "    Parameters:\n",
    "    ----------\n",
    "        red, blue : Graph\n",
    "\n",
    "    Return:\n",
    "    -------\n",
    "        g_union, g_common, g_star : Graph\n",
    "    '''\n",
    "\n",
    "    g_union  = UGraph()\n",
    "    g_common = UGraph()\n",
    "    g_star   = UGraph()\n",
    "\n",
    "    for v, u in red.gen_undirect_edges():\n",
    "        g_union.add_edge(v, u)\n",
    "        if not blue.has_edge(v,u):\n",
    "            g_star.add_edge(v,u)\n",
    "\n",
    "    for v, u in blue.gen_undirect_edges():\n",
    "        g_union.add_edge(v, u)\n",
    "        if red.has_edge(v,u):\n",
    "            g_common.add_edge(v, u)\n",
    "        else:\n",
    "            g_star.add_edge(v,u)\n",
    "\n",
    "\n",
    "    return g_union, g_common, g_star"
   ]
  },
  {
   "cell_type": "code",
   "execution_count": 10,
   "metadata": {},
   "outputs": [],
   "source": [
    "# def connected(self, g_union : UGraph, red : UGraph, blue : UGraph, start : 'node'):\n",
    "def find_components( g_union : UGraph, red : UGraph, blue : UGraph, start : 'node', f_weight):\n",
    "\n",
    "        linkedlist = deque([start])\n",
    "        visited = set()\n",
    "        parents = DisjointSets()\n",
    "        # f_weight = f_weight\n",
    "\n",
    "        for v in g_union.vertices:\n",
    "            parents.make_set(v)\n",
    "\n",
    "        def chase(main, node, component):\n",
    "\n",
    "            if (node in red) and (node in blue):\n",
    "                if node not in visited and node not in linkedlist:\n",
    "                    linkedlist.appendleft(node)\n",
    "\n",
    "                component.portal.add(node)\n",
    "                return\n",
    "\n",
    "            for w in main.adjacent_to(node):\n",
    "                if w in component.edges:\n",
    "                    continue\n",
    "                component.add(node, w)\n",
    "                component.cost += f_weight(node, w)\n",
    "                chase(main, w, component)\n",
    "            # end for loop\n",
    "            visited.add(node)\n",
    "\n",
    "        components_red  = list()\n",
    "        components_blue = list()\n",
    "\n",
    "        while linkedlist:\n",
    "            u = linkedlist.pop()\n",
    "            visited.add(u)\n",
    "            for v in g_union.adjacent_to(u):\n",
    "                if v in visited:\n",
    "                    continue\n",
    "                if red.has_edge(u,v) and blue.has_edge(u,v):\n",
    "                    linkedlist.append(v)\n",
    "                    parents.union(u, v)\n",
    "\n",
    "                elif red.has_edge(u,v):\n",
    "                    component = Component(u, v, initialcost=f_weight(u,v))\n",
    "                    chase(red, v, component)\n",
    "                    chase(red, u, component)\n",
    "                    components_red.append(component)\n",
    "\n",
    "                elif blue.has_edge(u,v):\n",
    "                    component = Component(u, v, initialcost=f_weight(u,v))\n",
    "                    chase(blue, v, component)\n",
    "                    chase(blue, u, component)\n",
    "                    components_blue.append(component)\n",
    "            # end for loop\n",
    "        # end while loop\n",
    "        return components_red, components_blue, parents"
   ]
  },
  {
   "cell_type": "code",
   "execution_count": null,
   "metadata": {},
   "outputs": [],
   "source": []
  },
  {
   "source": [
    "## Find Segments' procedure"
   ],
   "cell_type": "markdown",
   "metadata": {}
  },
  {
   "cell_type": "code",
   "execution_count": 11,
   "metadata": {},
   "outputs": [],
   "source": [
    "from ga4stpg.edgeset import UEdge, EdgeSet\n",
    "\n",
    "class Segment:\n",
    "\n",
    "    def __init__(self):\n",
    "        self.edges = EdgeSet()\n",
    "        self.cost = 0\n",
    "        self.portals = set()\n",
    "\n",
    "    def __len__(self):\n",
    "        return len(self.edges)\n",
    "\n",
    "    def __str__(self):\n",
    "        return f'Segment <{self.portals}>'\n",
    "    \n",
    "    def __repr__(self):\n",
    "        return self.__str__()\n",
    "\n",
    "    def __iter__(self):\n",
    "        return iter(self.edges)\n",
    "\n",
    "    @property\n",
    "    def bounds(self):\n",
    "        return frozenset(self.portals)\n",
    "    \n",
    "    def add(self, v, u):\n",
    "        self.edges.add(UEdge(v, u))"
   ]
  },
  {
   "cell_type": "code",
   "execution_count": 12,
   "metadata": {},
   "outputs": [],
   "source": [
    "from random import randrange\n",
    "\n",
    "def f_weight(v, u):\n",
    "    if STPG.graph.has_edge(v, u):\n",
    "        return STPG.graph.weight(v, u)\n",
    "    else:\n",
    "        return 0\n",
    "\n",
    "def find_segments(graph, common_nodes):\n",
    "    visited = set()\n",
    "\n",
    "    # start = None\n",
    "    # index = randrange(0, len(common_nodes))\n",
    "    # for i, nro in enumerate(common_nodes):\n",
    "    #     if i == index:\n",
    "    #         start = nro\n",
    "    #         break \n",
    "    # assert start is not None\n",
    "    # stack_outter = [start]\n",
    "    stack_outter = list(common_nodes)\n",
    "    result = list()\n",
    "\n",
    "    def search(start, neighbor):\n",
    "        segment = Segment()\n",
    "        segment.portals.add(start)\n",
    "        segment.add(start, neighbor)\n",
    "        segment.cost += f_weight(start, neighbor)\n",
    "        \n",
    "        stack_inner = [neighbor]\n",
    "\n",
    "        while stack_inner:\n",
    "            u = stack_inner.pop()\n",
    "            visited.add(u)\n",
    "            if u not in common_nodes:\n",
    "                counter = 0\n",
    "                for w in graph.adjacent_to(u):\n",
    "                    if w not in visited:\n",
    "                        stack_inner.append(w)\n",
    "                        segment.add(u, w)\n",
    "                        segment.cost += f_weight(u, w)\n",
    "                        counter += 1\n",
    "                if counter == 0:\n",
    "                    segment.portals.add(u)                    \n",
    "            else:\n",
    "                stack_outter.append(u)\n",
    "                segment.portals.add(u)\n",
    "        # end while\n",
    "        return segment\n",
    "        # end search\n",
    "\n",
    "    while stack_outter:\n",
    "        s = stack_outter.pop()\n",
    "        \n",
    "        visited.add(s)\n",
    "        for v in graph.adjacent_to(s):\n",
    "            if v not in visited:\n",
    "                seg = search(s, v)\n",
    "                result.append(seg)\n",
    "\n",
    "    return result"
   ]
  },
  {
   "source": [
    "## Finding components"
   ],
   "cell_type": "markdown",
   "metadata": {}
  },
  {
   "cell_type": "code",
   "execution_count": 13,
   "metadata": {},
   "outputs": [],
   "source": [
    "g_union, g_common, g_star = compose(red, blue)\n",
    "\n",
    "start = choice(tuple(STPG.terminals))\n",
    "\n",
    "first, second, group = find_components( g_union, red, blue, start, f_weight)"
   ]
  },
  {
   "cell_type": "code",
   "execution_count": 14,
   "metadata": {},
   "outputs": [
    {
     "output_type": "stream",
     "name": "stdout",
     "text": [
      "7\n10\n"
     ]
    }
   ],
   "source": [
    "print(len(first))\n",
    "print(len(second))"
   ]
  },
  {
   "source": [
    "## Finding Segments"
   ],
   "cell_type": "markdown",
   "metadata": {}
  },
  {
   "cell_type": "code",
   "execution_count": 15,
   "metadata": {},
   "outputs": [
    {
     "output_type": "execute_result",
     "data": {
      "text/plain": [
       "21"
      ]
     },
     "metadata": {},
     "execution_count": 15
    }
   ],
   "source": [
    "child     = UGraph()\n",
    "red_only  = UGraph()\n",
    "blue_only = UGraph()\n",
    "\n",
    "# - - - - - - - - - - - - - - - - - - - -\n",
    "for v, u in red.gen_undirect_edges():\n",
    "    if blue.has_edge(v, u):\n",
    "        child.add_edge(v, u)\n",
    "    else:\n",
    "        red_only.add_edge(v, u)\n",
    "\n",
    "# - - - - - - - - - - - - - - - - - - - -\n",
    "for v, u in blue.gen_undirect_edges():\n",
    "    if not red.has_edge(v, u):\n",
    "        blue_only.add_edge(v, u)\n",
    "\n",
    "common_nodes = set(red.vertices) & set(blue.vertices)\n",
    "len(common_nodes)"
   ]
  },
  {
   "cell_type": "code",
   "execution_count": 16,
   "metadata": {},
   "outputs": [
    {
     "output_type": "execute_result",
     "data": {
      "text/plain": [
       "{3, 4, 5, 7, 12, 16, 20, 21, 23, 25, 31, 37, 39, 48, 49}"
      ]
     },
     "metadata": {},
     "execution_count": 16
    }
   ],
   "source": [
    "common_nodes_red = set(red_only.vertices) & set(blue.vertices)\n",
    "\n",
    "common_nodes_red"
   ]
  },
  {
   "cell_type": "code",
   "execution_count": 17,
   "metadata": {},
   "outputs": [
    {
     "output_type": "execute_result",
     "data": {
      "text/plain": [
       "{3, 4, 5, 7, 12, 16, 21, 23, 25, 26, 37, 39, 48, 49}"
      ]
     },
     "metadata": {},
     "execution_count": 17
    }
   ],
   "source": [
    "common_nodes_blue = set(blue_only.vertices) & set(red.vertices)\n",
    "\n",
    "common_nodes_blue"
   ]
  },
  {
   "cell_type": "code",
   "execution_count": 18,
   "metadata": {},
   "outputs": [],
   "source": [
    "red_segments  = find_segments(red_only, common_nodes_red)\n",
    "blue_segments = find_segments(blue_only, common_nodes_blue)"
   ]
  },
  {
   "cell_type": "code",
   "execution_count": 19,
   "metadata": {},
   "outputs": [
    {
     "output_type": "stream",
     "name": "stdout",
     "text": [
      "7\n9\n"
     ]
    }
   ],
   "source": [
    "print(len(red_segments))\n",
    "print(len(blue_segments))"
   ]
  },
  {
   "cell_type": "code",
   "execution_count": 20,
   "metadata": {},
   "outputs": [
    {
     "output_type": "stream",
     "name": "stdout",
     "text": [
      "O número de componentes é igual ao número de segmentos encontrados?\nTrue\nFalse\n"
     ]
    }
   ],
   "source": [
    "\n",
    "print(\"O número de componentes é igual ao número de segmentos encontrados?\")\n",
    "print(len(red_segments) == len(first))\n",
    "print(len(blue_segments) == len(second))"
   ]
  },
  {
   "cell_type": "code",
   "execution_count": null,
   "metadata": {},
   "outputs": [],
   "source": []
  },
  {
   "cell_type": "code",
   "execution_count": 21,
   "metadata": {},
   "outputs": [
    {
     "output_type": "stream",
     "name": "stdout",
     "text": [
      "G_common e child possuem o mesmo conjunto de vértices? True\nG_common e child possuem o mesmo conjunto de arestas? True\n"
     ]
    }
   ],
   "source": [
    "# As arestas e vértices de g_common e child são iguais\n",
    "\n",
    "print(\"G_common e child possuem o mesmo conjunto de vértices?\", end=' ')\n",
    "print(set(g_common.vertices) == set(child.vertices))\n",
    "\n",
    "gcommon_edges = set()\n",
    "for edge in g_common.gen_undirect_edges():\n",
    "    gcommon_edges.add((min(edge), max(edge)))\n",
    "\n",
    "child_edges = set()\n",
    "for edge in child.gen_undirect_edges():\n",
    "    child_edges.add((min(edge), max(edge)))\n",
    "\n",
    "print(\"G_common e child possuem o mesmo conjunto de arestas?\", end=' ')\n",
    "print(gcommon_edges == child_edges)"
   ]
  },
  {
   "cell_type": "code",
   "execution_count": 22,
   "metadata": {},
   "outputs": [
    {
     "output_type": "stream",
     "name": "stdout",
     "text": [
      "Os vértices presentes em red_only e blue_only são os mesmos presentes em gstar_vertices?\nTrue\n"
     ]
    }
   ],
   "source": [
    "\n",
    "_nodes = set()\n",
    "for v in red_only.vertices:\n",
    "    _nodes.add(v)\n",
    "for v in blue_only.vertices:\n",
    "    _nodes.add(v)\n",
    "\n",
    "gstar_vertices = set(g_star.vertices)\n",
    "\n",
    "print(\"Os vértices presentes em red_only e blue_only são os mesmos presentes em gstar_vertices?\")\n",
    "print(gstar_vertices == _nodes)"
   ]
  },
  {
   "cell_type": "code",
   "execution_count": 23,
   "metadata": {},
   "outputs": [
    {
     "output_type": "stream",
     "name": "stdout",
     "text": [
      "Os vertices de common_nodes são os mesmos que os vértices em 'G_STAR'?\nFalse\n\nQuais vértices aparecem em common_gstar que não aparecem em common_nodes\nset()\n\nEsses vértices estão presentes em g_common?\nTrue\n"
     ]
    }
   ],
   "source": [
    "# A variável common_nodes guarda os vértices que são comuns aos subgrafos formados pelas arestas presentes em apenas um dos pais.\n",
    "# Os vertices de common_nodes são os mesmos que os vértices em 'G_STAR' ?\n",
    "\n",
    "common_gstar = set(v for v in g_star.vertices if (red.has_node(v) and blue.has_node(v)))\n",
    "\n",
    "print(\"Os vertices de common_nodes são os mesmos que os vértices em 'G_STAR'?\")\n",
    "print(common_gstar == common_nodes)\n",
    "\n",
    "print(\"\\nQuais vértices aparecem em common_gstar que não aparecem em common_nodes\")\n",
    "diffset = common_gstar - common_nodes\n",
    "\n",
    "print(diffset)\n",
    "\n",
    "gcommon_vertices = set(g_common.vertices)\n",
    "print(\"\\nEsses vértices estão presentes em g_common?\")\n",
    "print(diffset.issubset(gcommon_vertices))"
   ]
  },
  {
   "cell_type": "code",
   "execution_count": 24,
   "metadata": {},
   "outputs": [
    {
     "output_type": "stream",
     "name": "stdout",
     "text": [
      "Todos os vértices portais de 'first' são vértices comuns?\n"
     ]
    },
    {
     "output_type": "execute_result",
     "data": {
      "text/plain": [
       "True"
      ]
     },
     "metadata": {},
     "execution_count": 24
    }
   ],
   "source": [
    "print(\"Todos os vértices portais de 'first' são vértices comuns?\")\n",
    "all(red.has_node(p) and blue.has_node(p) \n",
    "    for component in first\n",
    "        for p in component.portal)"
   ]
  },
  {
   "cell_type": "code",
   "execution_count": 25,
   "metadata": {},
   "outputs": [
    {
     "output_type": "stream",
     "name": "stdout",
     "text": [
      "Todos os vértices portais de second são vértices comuns?\n"
     ]
    },
    {
     "output_type": "execute_result",
     "data": {
      "text/plain": [
       "True"
      ]
     },
     "metadata": {},
     "execution_count": 25
    }
   ],
   "source": [
    "print(\"Todos os vértices portais de second são vértices comuns?\")\n",
    "all(red.has_node(p) and blue.has_node(p) \n",
    "    for component in second\n",
    "        for p in component.portal)"
   ]
  },
  {
   "cell_type": "code",
   "execution_count": 26,
   "metadata": {},
   "outputs": [
    {
     "output_type": "stream",
     "name": "stdout",
     "text": [
      "Todos os vértices portais de red_segments são vértices comuns? \n"
     ]
    },
    {
     "output_type": "execute_result",
     "data": {
      "text/plain": [
       "True"
      ]
     },
     "metadata": {},
     "execution_count": 26
    }
   ],
   "source": [
    "print(\"Todos os vértices portais de red_segments são vértices comuns? \")\n",
    "all(red.has_node(p) and blue.has_node(p)\n",
    "        for seg in red_segments\n",
    "            for p in seg.portals)"
   ]
  },
  {
   "cell_type": "code",
   "execution_count": 27,
   "metadata": {},
   "outputs": [
    {
     "output_type": "stream",
     "name": "stdout",
     "text": [
      "Todos os vértices portais de blue_segments são vértices comuns? \n"
     ]
    },
    {
     "output_type": "execute_result",
     "data": {
      "text/plain": [
       "True"
      ]
     },
     "metadata": {},
     "execution_count": 27
    }
   ],
   "source": [
    "print(\"Todos os vértices portais de blue_segments são vértices comuns? \")\n",
    "all(red.has_node(p) and blue.has_node(p)\n",
    "        for seg in blue_segments\n",
    "            for p in seg.portals)"
   ]
  },
  {
   "cell_type": "code",
   "execution_count": 28,
   "metadata": {},
   "outputs": [
    {
     "output_type": "stream",
     "name": "stdout",
     "text": [
      "Os vértices portais de red_segments estão contidos dentro do conjunto common_nodes?\nTrue\n\nOs vértices portais de red_segments estão contidos dentro do conjunto common_star?\nTrue\n"
     ]
    }
   ],
   "source": [
    "print(\"Os vértices portais de red_segments estão contidos dentro do conjunto common_nodes?\")\n",
    "redseg_portais = set(p for seg in red_segments for p in seg.portals )\n",
    "print(redseg_portais.issubset(common_nodes))\n",
    "\n",
    "print(\"\\nOs vértices portais de red_segments estão contidos dentro do conjunto common_star?\")\n",
    "print(redseg_portais.issubset(common_gstar))"
   ]
  },
  {
   "cell_type": "code",
   "execution_count": 29,
   "metadata": {},
   "outputs": [
    {
     "output_type": "stream",
     "name": "stdout",
     "text": [
      "Os vértices portais de blue_segments estão contidos dentro do conjunto common_nodes?\nTrue\n\nOs vértices portais de blue_segments estão contidos dentro do conjunto common_star?\nTrue\n"
     ]
    }
   ],
   "source": [
    "print(\"Os vértices portais de blue_segments estão contidos dentro do conjunto common_nodes?\")\n",
    "blueseg_portais = set(p for seg in blue_segments for p in seg.portals )\n",
    "print(blueseg_portais.issubset(common_nodes))\n",
    "\n",
    "print(\"\\nOs vértices portais de blue_segments estão contidos dentro do conjunto common_star?\")\n",
    "print(blueseg_portais.issubset(common_gstar))"
   ]
  },
  {
   "source": [
    "'common_nodes' não consideram aqueles vértices que são comuns entre o subgrafo formado pelas arestas comuns (g_common) e os subgrafos red_only ou blue_only. Esses eram os vértices considerados como portais.\n",
    "\n",
    "Apesar disso, os vértices portais de cada segmento considera esses vértices.\n"
   ],
   "cell_type": "markdown",
   "metadata": {}
  },
  {
   "cell_type": "code",
   "execution_count": 30,
   "metadata": {},
   "outputs": [
    {
     "output_type": "stream",
     "name": "stdout",
     "text": [
      "O conjunto de vértices portais dos componentes e dos segumentos são os mesmos?\nTrue\nTrue\n"
     ]
    }
   ],
   "source": [
    "# O conjunto de vértices portais dos componentes e dos segumentos são os mesmos?\n",
    "portais_first = set(p for component in first for p in component.portal)\n",
    "portais_second = set(p for component in second for p in component.portal)\n",
    "\n",
    "portais_redseg = set(p for segmento in red_segments for p in segmento.portals)\n",
    "portais_blueseg = set(p for segmento in blue_segments for p in segmento.portals)\n",
    "\n",
    "print(\"O conjunto de vértices portais dos componentes e dos segumentos são os mesmos?\")\n",
    "print(portais_first == portais_redseg)\n",
    "\n",
    "if not (portais_first == portais_redseg):\n",
    "    print(\"\\t\", portais_first - portais_redseg)\n",
    "    print(\"\\t\",portais_redseg - portais_first)\n",
    "\n",
    "print(portais_second == portais_blueseg)\n",
    "if not (portais_second == portais_blueseg):\n",
    "    print(\"\\t\", portais_second - portais_blueseg)\n",
    "    print(\"\\t\", portais_blueseg - portais_second)"
   ]
  },
  {
   "cell_type": "code",
   "execution_count": 31,
   "metadata": {},
   "outputs": [
    {
     "output_type": "execute_result",
     "data": {
      "text/plain": [
       "(19, 15)"
      ]
     },
     "metadata": {},
     "execution_count": 31
    }
   ],
   "source": [
    "# O conjunto de arestas dos componentes e dos segmentos são os mesmos?\n",
    "\n",
    "def get_edges_from_component(component):\n",
    "    edges = EdgeSet()\n",
    "    for v, u in component.edges.items():\n",
    "        if u is not None:\n",
    "            edges.add(v, u)\n",
    "\n",
    "    return edges\n",
    "\n",
    "edgesfirst = list()\n",
    "for component in first:\n",
    "    edges = get_edges_from_component(component)\n",
    "    edgesfirst.extend(edges)\n",
    "\n",
    "edgessecond = list()\n",
    "for component in second:\n",
    "    edges = get_edges_from_component(component)\n",
    "    edgessecond.extend(edges)\n",
    "\n",
    "len(edgesfirst), len(edgessecond)"
   ]
  },
  {
   "cell_type": "code",
   "execution_count": 32,
   "metadata": {},
   "outputs": [
    {
     "output_type": "execute_result",
     "data": {
      "text/plain": [
       "(19, 14)"
      ]
     },
     "metadata": {},
     "execution_count": 32
    }
   ],
   "source": [
    "redseg_edges = [edge for seg in red_segments for edge in seg.edges]\n",
    "blueseg_edges = [edge for seg in blue_segments for edge in seg.edges]\n",
    "\n",
    "len(redseg_edges), len(blueseg_edges)"
   ]
  },
  {
   "cell_type": "code",
   "execution_count": 33,
   "metadata": {},
   "outputs": [
    {
     "output_type": "execute_result",
     "data": {
      "text/plain": [
       "True"
      ]
     },
     "metadata": {},
     "execution_count": 33
    }
   ],
   "source": [
    "set(edgesfirst) == set(redseg_edges)"
   ]
  },
  {
   "cell_type": "code",
   "execution_count": 34,
   "metadata": {},
   "outputs": [
    {
     "output_type": "execute_result",
     "data": {
      "text/plain": [
       "True"
      ]
     },
     "metadata": {},
     "execution_count": 34
    }
   ],
   "source": [
    "set(edgessecond) == set(blueseg_edges)"
   ]
  },
  {
   "source": [
    "As arestas não comuns encontradas pelos dois procedimentos são iguais. No entanto elas estão distribuídas de forma diferente entre as partições."
   ],
   "cell_type": "markdown",
   "metadata": {}
  },
  {
   "cell_type": "code",
   "execution_count": 35,
   "metadata": {},
   "outputs": [
    {
     "output_type": "stream",
     "name": "stdout",
     "text": [
      "Segment <{23, 31}>\n\tEdge <(23, 31)> \n\n\nSegment <{25, 5}>\n\tEdge <(5, 25)> \n\n\nSegment <{48, 21}>\n\tEdge <(27, 48)> Edge <(17, 21)> Edge <(17, 27)> \n\n\nSegment <{16, 4, 20, 12}>\n\tEdge <(2, 16)> Edge <(2, 12)> Edge <(2, 47)> Edge <(20, 47)> Edge <(2, 4)> \n\n\nSegment <{20, 39}>\n\tEdge <(20, 39)> \n\n\nSegment <{49, 37, 7}>\n\tEdge <(7, 46)> Edge <(38, 46)> Edge <(36, 46)> Edge <(38, 49)> Edge <(8, 37)> Edge <(8, 36)> \n\n\nSegment <{3, 37}>\n\tEdge <(3, 34)> Edge <(34, 37)> \n\n\n"
     ]
    }
   ],
   "source": [
    "for seg in red_segments:\n",
    "    print(seg,end=\"\\n\\t\")\n",
    "    for edge in seg.edges:\n",
    "        print(edge,end=\" \")\n",
    "    print(\"\\n\\n\")"
   ]
  },
  {
   "cell_type": "code",
   "execution_count": 36,
   "metadata": {},
   "outputs": [
    {
     "output_type": "stream",
     "name": "stdout",
     "text": [
      "Component <{49, 37, 7}>\n",
      "\tEdge <(7, 46)> Edge <(36, 46)> Edge <(8, 36)> Edge <(38, 49)> Edge <(8, 37)> Edge <(38, 46)> \n",
      "\n",
      "\n",
      "Component <{3, 37}>\n",
      "\tEdge <(3, 34)> Edge <(34, 37)> \n",
      "\n",
      "\n",
      "Component <{25, 5}>\n",
      "\tEdge <(5, 25)> \n",
      "\n",
      "\n",
      "Component <{48, 21}>\n",
      "\tEdge <(27, 48)> Edge <(17, 21)> Edge <(17, 27)> \n",
      "\n",
      "\n",
      "Component <{16, 20, 4, 12}>\n",
      "\tEdge <(2, 16)> Edge <(2, 12)> Edge <(2, 47)> Edge <(20, 47)> Edge <(2, 4)> \n",
      "\n",
      "\n",
      "Component <{20, 39}>\n",
      "\tEdge <(20, 39)> \n",
      "\n",
      "\n",
      "Component <{31, 23}>\n",
      "\tEdge <(23, 31)> \n",
      "\n",
      "\n"
     ]
    }
   ],
   "source": [
    "for component in first:\n",
    "    print(component,end=\"\\n\\t\")\n",
    "    edges = get_edges_from_component(component)\n",
    "    for edge in edges:\n",
    "        print(edge,end=\" \")\n",
    "    print(\"\\n\\n\")"
   ]
  },
  {
   "source": [],
   "cell_type": "markdown",
   "metadata": {}
  },
  {
   "cell_type": "code",
   "execution_count": 37,
   "metadata": {},
   "outputs": [
    {
     "output_type": "stream",
     "name": "stdout",
     "text": [
      "Segment <{26, 12}>\n\tEdge <(6, 12)> Edge <(6, 26)> \n\n\nSegment <{48, 25}>\n\tEdge <(25, 48)> \n\n\nSegment <{48, 5}>\n\tEdge <(5, 48)> \n\n\nSegment <{21, 5, 7}>\n\tEdge <(1, 18)> Edge <(1, 21)> Edge <(5, 18)> Edge <(1, 7)> \n\n\nSegment <{16, 21}>\n\tEdge <(16, 21)> \n\n\nSegment <{37, 21}>\n\tEdge <(21, 37)> \n\n\nSegment <{16, 23}>\n\tEdge <(16, 42)> Edge <(23, 42)> \n\n\nSegment <{49, 4}>\n\tEdge <(4, 49)> \n\n\nSegment <{3, 39}>\n\tEdge <(3, 39)> \n\n\n"
     ]
    }
   ],
   "source": [
    "for seg in blue_segments:\n",
    "    print(seg,end=\"\\n\\t\")\n",
    "    for edge in seg.edges:\n",
    "        print(edge,end=\" \")\n",
    "    print(\"\\n\\n\")"
   ]
  },
  {
   "cell_type": "code",
   "execution_count": 38,
   "metadata": {},
   "outputs": [
    {
     "output_type": "stream",
     "name": "stdout",
     "text": [
      "Component <{37, 21}>\n\tEdge <(21, 37)> \n\n\nComponent <{49, 4}>\n\tEdge <(4, 49)> \n\n\nComponent <{48, 5}>\n\tEdge <(5, 48)> \n\n\nComponent <{5, 21, 7}>\n\tEdge <(1, 18)> Edge <(1, 21)> Edge <(5, 18)> Edge <(1, 7)> \n\n\nComponent <{3, 39}>\n\tEdge <(3, 39)> \n\n\nComponent <{16, 21}>\n\tEdge <(16, 21)> \n\n\nComponent <{16, 21}>\n\tEdge <(16, 21)> \n\n\nComponent <{48, 25}>\n\tEdge <(25, 48)> \n\n\nComponent <{26, 12}>\n\tEdge <(6, 12)> Edge <(6, 26)> \n\n\nComponent <{16, 23}>\n\tEdge <(16, 42)> Edge <(23, 42)> \n\n\n"
     ]
    }
   ],
   "source": [
    "for component in second:\n",
    "    print(component,end=\"\\n\\t\")\n",
    "    edges = get_edges_from_component(component)\n",
    "    for edge in edges:\n",
    "        print(edge,end=\" \")\n",
    "    print(\"\\n\\n\")"
   ]
  },
  {
   "cell_type": "code",
   "execution_count": 39,
   "metadata": {},
   "outputs": [
    {
     "output_type": "display_data",
     "data": {
      "text/plain": "<Figure size 1080x1080 with 1 Axes>",
      "image/svg+xml": "<?xml version=\"1.0\" encoding=\"utf-8\" standalone=\"no\"?>\r\n<!DOCTYPE svg PUBLIC \"-//W3C//DTD SVG 1.1//EN\"\r\n  \"http://www.w3.org/Graphics/SVG/1.1/DTD/svg11.dtd\">\r\n<!-- Created with matplotlib (https://matplotlib.org/) -->\r\n<svg height=\"829.8pt\" version=\"1.1\" viewBox=\"0 0 851.4 829.8\" width=\"851.4pt\" xmlns=\"http://www.w3.org/2000/svg\" xmlns:xlink=\"http://www.w3.org/1999/xlink\">\r\n <metadata>\r\n  <rdf:RDF xmlns:cc=\"http://creativecommons.org/ns#\" xmlns:dc=\"http://purl.org/dc/elements/1.1/\" xmlns:rdf=\"http://www.w3.org/1999/02/22-rdf-syntax-ns#\">\r\n   <cc:Work>\r\n    <dc:type rdf:resource=\"http://purl.org/dc/dcmitype/StillImage\"/>\r\n    <dc:date>2021-03-21T18:43:08.119044</dc:date>\r\n    <dc:format>image/svg+xml</dc:format>\r\n    <dc:creator>\r\n     <cc:Agent>\r\n      <dc:title>Matplotlib v3.3.4, https://matplotlib.org/</dc:title>\r\n     </cc:Agent>\r\n    </dc:creator>\r\n   </cc:Work>\r\n  </rdf:RDF>\r\n </metadata>\r\n <defs>\r\n  <style type=\"text/css\">*{stroke-linecap:butt;stroke-linejoin:round;}</style>\r\n </defs>\r\n <g id=\"figure_1\">\r\n  <g id=\"patch_1\">\r\n   <path d=\"M 0 829.8 \r\nL 851.4 829.8 \r\nL 851.4 0 \r\nL 0 0 \r\nz\r\n\" style=\"fill:#ffffff;\"/>\r\n  </g>\r\n  <g id=\"axes_1\">\r\n   <g id=\"LineCollection_1\">\r\n    <path clip-path=\"url(#p7589408e8e)\" d=\"M 692.46155 263.701339 \r\nL 715.211095 162.437595 \r\n\" style=\"fill:none;stroke:#ff0000;\"/>\r\n    <path clip-path=\"url(#p7589408e8e)\" d=\"M 692.46155 263.701339 \r\nL 757.830375 342.451132 \r\n\" style=\"fill:none;stroke:#000000;\"/>\r\n    <path clip-path=\"url(#p7589408e8e)\" d=\"M 692.46155 263.701339 \r\nL 568.189631 288.722136 \r\n\" style=\"fill:none;stroke:#000000;\"/>\r\n    <path clip-path=\"url(#p7589408e8e)\" d=\"M 692.46155 263.701339 \r\nL 806.154545 272.347859 \r\n\" style=\"fill:none;stroke:#4682b4;\"/>\r\n    <path clip-path=\"url(#p7589408e8e)\" d=\"M 715.211095 162.437595 \r\nL 597.602341 181.339381 \r\n\" style=\"fill:none;stroke:#ff0000;\"/>\r\n    <path clip-path=\"url(#p7589408e8e)\" d=\"M 757.830375 342.451132 \r\nL 692.038452 427.963862 \r\n\" style=\"fill:none;stroke:#ff0000;\"/>\r\n    <path clip-path=\"url(#p7589408e8e)\" d=\"M 757.830375 342.451132 \r\nL 806.154545 272.347859 \r\n\" style=\"fill:none;stroke:#ff0000;\"/>\r\n    <path clip-path=\"url(#p7589408e8e)\" d=\"M 568.189631 288.722136 \r\nL 446.495461 241.619889 \r\n\" style=\"fill:none;stroke:#4682b4;\"/>\r\n    <path clip-path=\"url(#p7589408e8e)\" d=\"M 568.189631 288.722136 \r\nL 597.602341 181.339381 \r\n\" style=\"fill:none;stroke:#4682b4;\"/>\r\n    <path clip-path=\"url(#p7589408e8e)\" d=\"M 568.189631 288.722136 \r\nL 602.732009 400.255772 \r\n\" style=\"fill:none;stroke:#4682b4;\"/>\r\n    <path clip-path=\"url(#p7589408e8e)\" d=\"M 568.189631 288.722136 \r\nL 474.432971 334.516678 \r\n\" style=\"fill:none;stroke:#ff0000;\"/>\r\n    <path clip-path=\"url(#p7589408e8e)\" d=\"M 597.602341 181.339381 \r\nL 545.222863 80.842286 \r\n\" style=\"fill:none;stroke:#ff0000;\"/>\r\n    <path clip-path=\"url(#p7589408e8e)\" d=\"M 692.038452 427.963862 \r\nL 542.099871 455.807377 \r\n\" style=\"fill:none;stroke:#ff0000;\"/>\r\n    <path clip-path=\"url(#p7589408e8e)\" d=\"M 474.432971 334.516678 \r\nL 360.1955 407.269578 \r\n\" style=\"fill:none;stroke:#ff0000;\"/>\r\n    <path clip-path=\"url(#p7589408e8e)\" d=\"M 542.099871 455.807377 \r\nL 602.732009 400.255772 \r\n\" style=\"fill:none;stroke:#ff0000;\"/>\r\n    <path clip-path=\"url(#p7589408e8e)\" d=\"M 542.099871 455.807377 \r\nL 411.596271 415.470991 \r\n\" style=\"fill:none;stroke:#ff0000;\"/>\r\n    <path clip-path=\"url(#p7589408e8e)\" d=\"M 542.099871 455.807377 \r\nL 514.227144 563.022444 \r\n\" style=\"fill:none;stroke:#ff0000;\"/>\r\n    <path clip-path=\"url(#p7589408e8e)\" d=\"M 545.222863 80.842286 \r\nL 420.247299 44.263636 \r\n\" style=\"fill:none;stroke:#ff0000;\"/>\r\n    <path clip-path=\"url(#p7589408e8e)\" d=\"M 420.247299 44.263636 \r\nL 315.109367 113.884781 \r\n\" style=\"fill:none;stroke:#ff0000;\"/>\r\n    <path clip-path=\"url(#p7589408e8e)\" d=\"M 315.109367 113.884781 \r\nL 247.295541 211.322635 \r\n\" style=\"fill:none;stroke:#ff0000;\"/>\r\n    <path clip-path=\"url(#p7589408e8e)\" d=\"M 315.109367 113.884781 \r\nL 401.552889 150.033557 \r\n\" style=\"fill:none;stroke:#ff0000;\"/>\r\n    <path clip-path=\"url(#p7589408e8e)\" d=\"M 247.295541 211.322635 \r\nL 291.598503 330.171064 \r\n\" style=\"fill:none;stroke:#ff0000;\"/>\r\n    <path clip-path=\"url(#p7589408e8e)\" d=\"M 401.552889 150.033557 \r\nL 446.495461 241.619889 \r\n\" style=\"fill:none;stroke:#4682b4;\"/>\r\n    <path clip-path=\"url(#p7589408e8e)\" d=\"M 291.598503 330.171064 \r\nL 411.596271 415.470991 \r\n\" style=\"fill:none;stroke:#4682b4;\"/>\r\n    <path clip-path=\"url(#p7589408e8e)\" d=\"M 291.598503 330.171064 \r\nL 228.373468 377.19929 \r\n\" style=\"fill:none;stroke:#000000;\"/>\r\n    <path clip-path=\"url(#p7589408e8e)\" d=\"M 228.373468 377.19929 \r\nL 266.310167 477.215177 \r\n\" style=\"fill:none;stroke:#4682b4;\"/>\r\n    <path clip-path=\"url(#p7589408e8e)\" d=\"M 228.373468 377.19929 \r\nL 312.032092 278.845778 \r\n\" style=\"fill:none;stroke:#4682b4;\"/>\r\n    <path clip-path=\"url(#p7589408e8e)\" d=\"M 228.373468 377.19929 \r\nL 157.514971 447.690819 \r\n\" style=\"fill:none;stroke:#ff0000;\"/>\r\n    <path clip-path=\"url(#p7589408e8e)\" d=\"M 157.514971 447.690819 \r\nL 266.310167 477.215177 \r\n\" style=\"fill:none;stroke:#4682b4;\"/>\r\n    <path clip-path=\"url(#p7589408e8e)\" d=\"M 157.514971 447.690819 \r\nL 45.245455 466.461133 \r\n\" style=\"fill:none;stroke:#000000;\"/>\r\n    <path clip-path=\"url(#p7589408e8e)\" d=\"M 602.732009 400.255772 \r\nL 656.007271 515.012944 \r\n\" style=\"fill:none;stroke:#4682b4;\"/>\r\n    <path clip-path=\"url(#p7589408e8e)\" d=\"M 411.596271 415.470991 \r\nL 328.959359 500.734527 \r\n\" style=\"fill:none;stroke:#000000;\"/>\r\n    <path clip-path=\"url(#p7589408e8e)\" d=\"M 514.227144 563.022444 \r\nL 559.377272 669.103072 \r\n\" style=\"fill:none;stroke:#000000;\"/>\r\n    <path clip-path=\"url(#p7589408e8e)\" d=\"M 514.227144 563.022444 \r\nL 396.945965 621.270386 \r\n\" style=\"fill:none;stroke:#4682b4;\"/>\r\n    <path clip-path=\"url(#p7589408e8e)\" d=\"M 360.1955 407.269578 \r\nL 266.310167 477.215177 \r\n\" style=\"fill:none;stroke:#ff0000;\"/>\r\n    <path clip-path=\"url(#p7589408e8e)\" d=\"M 266.310167 477.215177 \r\nL 324.675401 585.97412 \r\n\" style=\"fill:none;stroke:#000000;\"/>\r\n    <path clip-path=\"url(#p7589408e8e)\" d=\"M 324.675401 585.97412 \r\nL 396.945965 621.270386 \r\n\" style=\"fill:none;stroke:#4682b4;\"/>\r\n    <path clip-path=\"url(#p7589408e8e)\" d=\"M 324.675401 585.97412 \r\nL 450.941811 658.442207 \r\n\" style=\"fill:none;stroke:#000000;\"/>\r\n    <path clip-path=\"url(#p7589408e8e)\" d=\"M 450.941811 658.442207 \r\nL 602.763447 624.114073 \r\n\" style=\"fill:none;stroke:#ff0000;\"/>\r\n    <path clip-path=\"url(#p7589408e8e)\" d=\"M 602.763447 624.114073 \r\nL 684.44203 706.156687 \r\n\" style=\"fill:none;stroke:#000000;\"/>\r\n    <path clip-path=\"url(#p7589408e8e)\" d=\"M 602.763447 624.114073 \r\nL 656.007271 515.012944 \r\n\" style=\"fill:none;stroke:#4682b4;\"/>\r\n    <path clip-path=\"url(#p7589408e8e)\" d=\"M 684.44203 706.156687 \r\nL 750.030769 785.536364 \r\n\" style=\"fill:none;stroke:#000000;\"/>\r\n    <path clip-path=\"url(#p7589408e8e)\" d=\"M 446.495461 241.619889 \r\nL 312.032092 278.845778 \r\n\" style=\"fill:none;stroke:#4682b4;\"/>\r\n   </g>\r\n   <g id=\"PathCollection_1\">\r\n    <defs>\r\n     <path d=\"M 0 8.660254 \r\nC 2.296726 8.660254 4.499694 7.747755 6.123724 6.123724 \r\nC 7.747755 4.499694 8.660254 2.296726 8.660254 -0 \r\nC 8.660254 -2.296726 7.747755 -4.499694 6.123724 -6.123724 \r\nC 4.499694 -7.747755 2.296726 -8.660254 0 -8.660254 \r\nC -2.296726 -8.660254 -4.499694 -7.747755 -6.123724 -6.123724 \r\nC -7.747755 -4.499694 -8.660254 -2.296726 -8.660254 0 \r\nC -8.660254 2.296726 -7.747755 4.499694 -6.123724 6.123724 \r\nC -4.499694 7.747755 -2.296726 8.660254 0 8.660254 \r\nz\r\n\" id=\"C0_0_e8424c01ee\"/>\r\n    </defs>\r\n    <g clip-path=\"url(#p7589408e8e)\">\r\n     <use style=\"fill:#ffa500;stroke:#ffa500;\" x=\"692.46155\" xlink:href=\"#C0_0_e8424c01ee\" y=\"263.701339\"/>\r\n    </g>\r\n    <g clip-path=\"url(#p7589408e8e)\">\r\n     <use style=\"fill:#ffffff;stroke:#ffffff;\" x=\"715.211095\" xlink:href=\"#C0_0_e8424c01ee\" y=\"162.437595\"/>\r\n    </g>\r\n    <g clip-path=\"url(#p7589408e8e)\">\r\n     <use style=\"fill:#ffa500;stroke:#ffa500;\" x=\"757.830375\" xlink:href=\"#C0_0_e8424c01ee\" y=\"342.451132\"/>\r\n    </g>\r\n    <g clip-path=\"url(#p7589408e8e)\">\r\n     <use style=\"fill:#ffffff;stroke:#ffffff;\" x=\"568.189631\" xlink:href=\"#C0_0_e8424c01ee\" y=\"288.722136\"/>\r\n    </g>\r\n    <g clip-path=\"url(#p7589408e8e)\">\r\n     <use style=\"fill:#ffa500;stroke:#ffa500;\" x=\"597.602341\" xlink:href=\"#C0_0_e8424c01ee\" y=\"181.339381\"/>\r\n    </g>\r\n    <g clip-path=\"url(#p7589408e8e)\">\r\n     <use style=\"fill:#ffa500;stroke:#ffa500;\" x=\"806.154545\" xlink:href=\"#C0_0_e8424c01ee\" y=\"272.347859\"/>\r\n    </g>\r\n    <g clip-path=\"url(#p7589408e8e)\">\r\n     <use style=\"fill:#ffffff;stroke:#ffffff;\" x=\"692.038452\" xlink:href=\"#C0_0_e8424c01ee\" y=\"427.963862\"/>\r\n    </g>\r\n    <g clip-path=\"url(#p7589408e8e)\">\r\n     <use style=\"fill:#ffffff;stroke:#ffffff;\" x=\"474.432971\" xlink:href=\"#C0_0_e8424c01ee\" y=\"334.516678\"/>\r\n    </g>\r\n    <g clip-path=\"url(#p7589408e8e)\">\r\n     <use style=\"fill:#ffffff;stroke:#ffffff;\" x=\"542.099871\" xlink:href=\"#C0_0_e8424c01ee\" y=\"455.807377\"/>\r\n    </g>\r\n    <g clip-path=\"url(#p7589408e8e)\">\r\n     <use style=\"fill:#ffffff;stroke:#ffffff;\" x=\"545.222863\" xlink:href=\"#C0_0_e8424c01ee\" y=\"80.842286\"/>\r\n    </g>\r\n    <g clip-path=\"url(#p7589408e8e)\">\r\n     <use style=\"fill:#ffffff;stroke:#ffffff;\" x=\"420.247299\" xlink:href=\"#C0_0_e8424c01ee\" y=\"44.263636\"/>\r\n    </g>\r\n    <g clip-path=\"url(#p7589408e8e)\">\r\n     <use style=\"fill:#ffffff;stroke:#ffffff;\" x=\"315.109367\" xlink:href=\"#C0_0_e8424c01ee\" y=\"113.884781\"/>\r\n    </g>\r\n    <g clip-path=\"url(#p7589408e8e)\">\r\n     <use style=\"fill:#ffffff;stroke:#ffffff;\" x=\"247.295541\" xlink:href=\"#C0_0_e8424c01ee\" y=\"211.322635\"/>\r\n    </g>\r\n    <g clip-path=\"url(#p7589408e8e)\">\r\n     <use style=\"fill:#ffa500;stroke:#ffa500;\" x=\"401.552889\" xlink:href=\"#C0_0_e8424c01ee\" y=\"150.033557\"/>\r\n    </g>\r\n    <g clip-path=\"url(#p7589408e8e)\">\r\n     <use style=\"fill:#ffffff;stroke:#ffffff;\" x=\"291.598503\" xlink:href=\"#C0_0_e8424c01ee\" y=\"330.171064\"/>\r\n    </g>\r\n    <g clip-path=\"url(#p7589408e8e)\">\r\n     <use style=\"fill:#ffa500;stroke:#ffa500;\" x=\"228.373468\" xlink:href=\"#C0_0_e8424c01ee\" y=\"377.19929\"/>\r\n    </g>\r\n    <g clip-path=\"url(#p7589408e8e)\">\r\n     <use style=\"fill:#ffffff;stroke:#ffffff;\" x=\"157.514971\" xlink:href=\"#C0_0_e8424c01ee\" y=\"447.690819\"/>\r\n    </g>\r\n    <g clip-path=\"url(#p7589408e8e)\">\r\n     <use style=\"fill:#ffa500;stroke:#ffa500;\" x=\"45.245455\" xlink:href=\"#C0_0_e8424c01ee\" y=\"466.461133\"/>\r\n    </g>\r\n    <g clip-path=\"url(#p7589408e8e)\">\r\n     <use style=\"fill:#ffa500;stroke:#ffa500;\" x=\"602.732009\" xlink:href=\"#C0_0_e8424c01ee\" y=\"400.255772\"/>\r\n    </g>\r\n    <g clip-path=\"url(#p7589408e8e)\">\r\n     <use style=\"fill:#ffffff;stroke:#ffffff;\" x=\"411.596271\" xlink:href=\"#C0_0_e8424c01ee\" y=\"415.470991\"/>\r\n    </g>\r\n    <g clip-path=\"url(#p7589408e8e)\">\r\n     <use style=\"fill:#ffffff;stroke:#ffffff;\" x=\"514.227144\" xlink:href=\"#C0_0_e8424c01ee\" y=\"563.022444\"/>\r\n    </g>\r\n    <g clip-path=\"url(#p7589408e8e)\">\r\n     <use style=\"fill:#ffa500;stroke:#ffa500;\" x=\"328.959359\" xlink:href=\"#C0_0_e8424c01ee\" y=\"500.734527\"/>\r\n    </g>\r\n    <g clip-path=\"url(#p7589408e8e)\">\r\n     <use style=\"fill:#ffa500;stroke:#ffa500;\" x=\"559.377272\" xlink:href=\"#C0_0_e8424c01ee\" y=\"669.103072\"/>\r\n    </g>\r\n    <g clip-path=\"url(#p7589408e8e)\">\r\n     <use style=\"fill:#ffffff;stroke:#ffffff;\" x=\"360.1955\" xlink:href=\"#C0_0_e8424c01ee\" y=\"407.269578\"/>\r\n    </g>\r\n    <g clip-path=\"url(#p7589408e8e)\">\r\n     <use style=\"fill:#ffffff;stroke:#ffffff;\" x=\"266.310167\" xlink:href=\"#C0_0_e8424c01ee\" y=\"477.215177\"/>\r\n    </g>\r\n    <g clip-path=\"url(#p7589408e8e)\">\r\n     <use style=\"fill:#ffffff;stroke:#ffffff;\" x=\"324.675401\" xlink:href=\"#C0_0_e8424c01ee\" y=\"585.97412\"/>\r\n    </g>\r\n    <g clip-path=\"url(#p7589408e8e)\">\r\n     <use style=\"fill:#ffa500;stroke:#ffa500;\" x=\"450.941811\" xlink:href=\"#C0_0_e8424c01ee\" y=\"658.442207\"/>\r\n    </g>\r\n    <g clip-path=\"url(#p7589408e8e)\">\r\n     <use style=\"fill:#ffa500;stroke:#ffa500;\" x=\"602.763447\" xlink:href=\"#C0_0_e8424c01ee\" y=\"624.114073\"/>\r\n    </g>\r\n    <g clip-path=\"url(#p7589408e8e)\">\r\n     <use style=\"fill:#ffffff;stroke:#ffffff;\" x=\"684.44203\" xlink:href=\"#C0_0_e8424c01ee\" y=\"706.156687\"/>\r\n    </g>\r\n    <g clip-path=\"url(#p7589408e8e)\">\r\n     <use style=\"fill:#ffa500;stroke:#ffa500;\" x=\"750.030769\" xlink:href=\"#C0_0_e8424c01ee\" y=\"785.536364\"/>\r\n    </g>\r\n    <g clip-path=\"url(#p7589408e8e)\">\r\n     <use style=\"fill:#ffffff;stroke:#ffffff;\" x=\"446.495461\" xlink:href=\"#C0_0_e8424c01ee\" y=\"241.619889\"/>\r\n    </g>\r\n    <g clip-path=\"url(#p7589408e8e)\">\r\n     <use style=\"fill:#ffffff;stroke:#ffffff;\" x=\"656.007271\" xlink:href=\"#C0_0_e8424c01ee\" y=\"515.012944\"/>\r\n    </g>\r\n    <g clip-path=\"url(#p7589408e8e)\">\r\n     <use style=\"fill:#ffffff;stroke:#ffffff;\" x=\"312.032092\" xlink:href=\"#C0_0_e8424c01ee\" y=\"278.845778\"/>\r\n    </g>\r\n    <g clip-path=\"url(#p7589408e8e)\">\r\n     <use style=\"fill:#ffffff;stroke:#ffffff;\" x=\"396.945965\" xlink:href=\"#C0_0_e8424c01ee\" y=\"621.270386\"/>\r\n    </g>\r\n   </g>\r\n   <g id=\"text_1\">\r\n    <g clip-path=\"url(#p7589408e8e)\">\r\n     <!-- 3 -->\r\n     <g transform=\"translate(688.64405 267.012589)scale(0.12 -0.12)\">\r\n      <defs>\r\n       <path d=\"M 40.578125 39.3125 \r\nQ 47.65625 37.796875 51.625 33 \r\nQ 55.609375 28.21875 55.609375 21.1875 \r\nQ 55.609375 10.40625 48.1875 4.484375 \r\nQ 40.765625 -1.421875 27.09375 -1.421875 \r\nQ 22.515625 -1.421875 17.65625 -0.515625 \r\nQ 12.796875 0.390625 7.625 2.203125 \r\nL 7.625 11.71875 \r\nQ 11.71875 9.328125 16.59375 8.109375 \r\nQ 21.484375 6.890625 26.8125 6.890625 \r\nQ 36.078125 6.890625 40.9375 10.546875 \r\nQ 45.796875 14.203125 45.796875 21.1875 \r\nQ 45.796875 27.640625 41.28125 31.265625 \r\nQ 36.765625 34.90625 28.71875 34.90625 \r\nL 20.21875 34.90625 \r\nL 20.21875 43.015625 \r\nL 29.109375 43.015625 \r\nQ 36.375 43.015625 40.234375 45.921875 \r\nQ 44.09375 48.828125 44.09375 54.296875 \r\nQ 44.09375 59.90625 40.109375 62.90625 \r\nQ 36.140625 65.921875 28.71875 65.921875 \r\nQ 24.65625 65.921875 20.015625 65.03125 \r\nQ 15.375 64.15625 9.8125 62.3125 \r\nL 9.8125 71.09375 \r\nQ 15.4375 72.65625 20.34375 73.4375 \r\nQ 25.25 74.21875 29.59375 74.21875 \r\nQ 40.828125 74.21875 47.359375 69.109375 \r\nQ 53.90625 64.015625 53.90625 55.328125 \r\nQ 53.90625 49.265625 50.4375 45.09375 \r\nQ 46.96875 40.921875 40.578125 39.3125 \r\nz\r\n\" id=\"DejaVuSans-51\"/>\r\n      </defs>\r\n      <use xlink:href=\"#DejaVuSans-51\"/>\r\n     </g>\r\n    </g>\r\n   </g>\r\n   <g id=\"text_2\">\r\n    <g clip-path=\"url(#p7589408e8e)\">\r\n     <!-- 34 -->\r\n     <g transform=\"translate(707.576095 165.748845)scale(0.12 -0.12)\">\r\n      <defs>\r\n       <path d=\"M 37.796875 64.3125 \r\nL 12.890625 25.390625 \r\nL 37.796875 25.390625 \r\nz\r\nM 35.203125 72.90625 \r\nL 47.609375 72.90625 \r\nL 47.609375 25.390625 \r\nL 58.015625 25.390625 \r\nL 58.015625 17.1875 \r\nL 47.609375 17.1875 \r\nL 47.609375 0 \r\nL 37.796875 0 \r\nL 37.796875 17.1875 \r\nL 4.890625 17.1875 \r\nL 4.890625 26.703125 \r\nz\r\n\" id=\"DejaVuSans-52\"/>\r\n      </defs>\r\n      <use xlink:href=\"#DejaVuSans-51\"/>\r\n      <use x=\"63.623047\" xlink:href=\"#DejaVuSans-52\"/>\r\n     </g>\r\n    </g>\r\n   </g>\r\n   <g id=\"text_3\">\r\n    <g clip-path=\"url(#p7589408e8e)\">\r\n     <!-- 20 -->\r\n     <g transform=\"translate(750.195375 345.762382)scale(0.12 -0.12)\">\r\n      <defs>\r\n       <path d=\"M 19.1875 8.296875 \r\nL 53.609375 8.296875 \r\nL 53.609375 0 \r\nL 7.328125 0 \r\nL 7.328125 8.296875 \r\nQ 12.9375 14.109375 22.625 23.890625 \r\nQ 32.328125 33.6875 34.8125 36.53125 \r\nQ 39.546875 41.84375 41.421875 45.53125 \r\nQ 43.3125 49.21875 43.3125 52.78125 \r\nQ 43.3125 58.59375 39.234375 62.25 \r\nQ 35.15625 65.921875 28.609375 65.921875 \r\nQ 23.96875 65.921875 18.8125 64.3125 \r\nQ 13.671875 62.703125 7.8125 59.421875 \r\nL 7.8125 69.390625 \r\nQ 13.765625 71.78125 18.9375 73 \r\nQ 24.125 74.21875 28.421875 74.21875 \r\nQ 39.75 74.21875 46.484375 68.546875 \r\nQ 53.21875 62.890625 53.21875 53.421875 \r\nQ 53.21875 48.921875 51.53125 44.890625 \r\nQ 49.859375 40.875 45.40625 35.40625 \r\nQ 44.1875 33.984375 37.640625 27.21875 \r\nQ 31.109375 20.453125 19.1875 8.296875 \r\nz\r\n\" id=\"DejaVuSans-50\"/>\r\n       <path d=\"M 31.78125 66.40625 \r\nQ 24.171875 66.40625 20.328125 58.90625 \r\nQ 16.5 51.421875 16.5 36.375 \r\nQ 16.5 21.390625 20.328125 13.890625 \r\nQ 24.171875 6.390625 31.78125 6.390625 \r\nQ 39.453125 6.390625 43.28125 13.890625 \r\nQ 47.125 21.390625 47.125 36.375 \r\nQ 47.125 51.421875 43.28125 58.90625 \r\nQ 39.453125 66.40625 31.78125 66.40625 \r\nz\r\nM 31.78125 74.21875 \r\nQ 44.046875 74.21875 50.515625 64.515625 \r\nQ 56.984375 54.828125 56.984375 36.375 \r\nQ 56.984375 17.96875 50.515625 8.265625 \r\nQ 44.046875 -1.421875 31.78125 -1.421875 \r\nQ 19.53125 -1.421875 13.0625 8.265625 \r\nQ 6.59375 17.96875 6.59375 36.375 \r\nQ 6.59375 54.828125 13.0625 64.515625 \r\nQ 19.53125 74.21875 31.78125 74.21875 \r\nz\r\n\" id=\"DejaVuSans-48\"/>\r\n      </defs>\r\n      <use xlink:href=\"#DejaVuSans-50\"/>\r\n      <use x=\"63.623047\" xlink:href=\"#DejaVuSans-48\"/>\r\n     </g>\r\n    </g>\r\n   </g>\r\n   <g id=\"text_4\">\r\n    <g clip-path=\"url(#p7589408e8e)\">\r\n     <!-- 21 -->\r\n     <g transform=\"translate(560.554631 292.033386)scale(0.12 -0.12)\">\r\n      <defs>\r\n       <path d=\"M 12.40625 8.296875 \r\nL 28.515625 8.296875 \r\nL 28.515625 63.921875 \r\nL 10.984375 60.40625 \r\nL 10.984375 69.390625 \r\nL 28.421875 72.90625 \r\nL 38.28125 72.90625 \r\nL 38.28125 8.296875 \r\nL 54.390625 8.296875 \r\nL 54.390625 0 \r\nL 12.40625 0 \r\nz\r\n\" id=\"DejaVuSans-49\"/>\r\n      </defs>\r\n      <use xlink:href=\"#DejaVuSans-50\"/>\r\n      <use x=\"63.623047\" xlink:href=\"#DejaVuSans-49\"/>\r\n     </g>\r\n    </g>\r\n   </g>\r\n   <g id=\"text_5\">\r\n    <g clip-path=\"url(#p7589408e8e)\">\r\n     <!-- 37 -->\r\n     <g transform=\"translate(589.967341 184.650631)scale(0.12 -0.12)\">\r\n      <defs>\r\n       <path d=\"M 8.203125 72.90625 \r\nL 55.078125 72.90625 \r\nL 55.078125 68.703125 \r\nL 28.609375 0 \r\nL 18.3125 0 \r\nL 43.21875 64.59375 \r\nL 8.203125 64.59375 \r\nz\r\n\" id=\"DejaVuSans-55\"/>\r\n      </defs>\r\n      <use xlink:href=\"#DejaVuSans-51\"/>\r\n      <use x=\"63.623047\" xlink:href=\"#DejaVuSans-55\"/>\r\n     </g>\r\n    </g>\r\n   </g>\r\n   <g id=\"text_6\">\r\n    <g clip-path=\"url(#p7589408e8e)\">\r\n     <!-- 39 -->\r\n     <g transform=\"translate(798.519545 275.659109)scale(0.12 -0.12)\">\r\n      <defs>\r\n       <path d=\"M 10.984375 1.515625 \r\nL 10.984375 10.5 \r\nQ 14.703125 8.734375 18.5 7.8125 \r\nQ 22.3125 6.890625 25.984375 6.890625 \r\nQ 35.75 6.890625 40.890625 13.453125 \r\nQ 46.046875 20.015625 46.78125 33.40625 \r\nQ 43.953125 29.203125 39.59375 26.953125 \r\nQ 35.25 24.703125 29.984375 24.703125 \r\nQ 19.046875 24.703125 12.671875 31.3125 \r\nQ 6.296875 37.9375 6.296875 49.421875 \r\nQ 6.296875 60.640625 12.9375 67.421875 \r\nQ 19.578125 74.21875 30.609375 74.21875 \r\nQ 43.265625 74.21875 49.921875 64.515625 \r\nQ 56.59375 54.828125 56.59375 36.375 \r\nQ 56.59375 19.140625 48.40625 8.859375 \r\nQ 40.234375 -1.421875 26.421875 -1.421875 \r\nQ 22.703125 -1.421875 18.890625 -0.6875 \r\nQ 15.09375 0.046875 10.984375 1.515625 \r\nz\r\nM 30.609375 32.421875 \r\nQ 37.25 32.421875 41.125 36.953125 \r\nQ 45.015625 41.5 45.015625 49.421875 \r\nQ 45.015625 57.28125 41.125 61.84375 \r\nQ 37.25 66.40625 30.609375 66.40625 \r\nQ 23.96875 66.40625 20.09375 61.84375 \r\nQ 16.21875 57.28125 16.21875 49.421875 \r\nQ 16.21875 41.5 20.09375 36.953125 \r\nQ 23.96875 32.421875 30.609375 32.421875 \r\nz\r\n\" id=\"DejaVuSans-57\"/>\r\n      </defs>\r\n      <use xlink:href=\"#DejaVuSans-51\"/>\r\n      <use x=\"63.623047\" xlink:href=\"#DejaVuSans-57\"/>\r\n     </g>\r\n    </g>\r\n   </g>\r\n   <g id=\"text_7\">\r\n    <g clip-path=\"url(#p7589408e8e)\">\r\n     <!-- 47 -->\r\n     <g transform=\"translate(684.403452 431.275112)scale(0.12 -0.12)\">\r\n      <use xlink:href=\"#DejaVuSans-52\"/>\r\n      <use x=\"63.623047\" xlink:href=\"#DejaVuSans-55\"/>\r\n     </g>\r\n    </g>\r\n   </g>\r\n   <g id=\"text_8\">\r\n    <g clip-path=\"url(#p7589408e8e)\">\r\n     <!-- 17 -->\r\n     <g transform=\"translate(466.797971 337.827928)scale(0.12 -0.12)\">\r\n      <use xlink:href=\"#DejaVuSans-49\"/>\r\n      <use x=\"63.623047\" xlink:href=\"#DejaVuSans-55\"/>\r\n     </g>\r\n    </g>\r\n   </g>\r\n   <g id=\"text_9\">\r\n    <g clip-path=\"url(#p7589408e8e)\">\r\n     <!-- 2 -->\r\n     <g transform=\"translate(538.282371 459.118627)scale(0.12 -0.12)\">\r\n      <use xlink:href=\"#DejaVuSans-50\"/>\r\n     </g>\r\n    </g>\r\n   </g>\r\n   <g id=\"text_10\">\r\n    <g clip-path=\"url(#p7589408e8e)\">\r\n     <!-- 8 -->\r\n     <g transform=\"translate(541.405363 84.153536)scale(0.12 -0.12)\">\r\n      <defs>\r\n       <path d=\"M 31.78125 34.625 \r\nQ 24.75 34.625 20.71875 30.859375 \r\nQ 16.703125 27.09375 16.703125 20.515625 \r\nQ 16.703125 13.921875 20.71875 10.15625 \r\nQ 24.75 6.390625 31.78125 6.390625 \r\nQ 38.8125 6.390625 42.859375 10.171875 \r\nQ 46.921875 13.96875 46.921875 20.515625 \r\nQ 46.921875 27.09375 42.890625 30.859375 \r\nQ 38.875 34.625 31.78125 34.625 \r\nz\r\nM 21.921875 38.8125 \r\nQ 15.578125 40.375 12.03125 44.71875 \r\nQ 8.5 49.078125 8.5 55.328125 \r\nQ 8.5 64.0625 14.71875 69.140625 \r\nQ 20.953125 74.21875 31.78125 74.21875 \r\nQ 42.671875 74.21875 48.875 69.140625 \r\nQ 55.078125 64.0625 55.078125 55.328125 \r\nQ 55.078125 49.078125 51.53125 44.71875 \r\nQ 48 40.375 41.703125 38.8125 \r\nQ 48.828125 37.15625 52.796875 32.3125 \r\nQ 56.78125 27.484375 56.78125 20.515625 \r\nQ 56.78125 9.90625 50.3125 4.234375 \r\nQ 43.84375 -1.421875 31.78125 -1.421875 \r\nQ 19.734375 -1.421875 13.25 4.234375 \r\nQ 6.78125 9.90625 6.78125 20.515625 \r\nQ 6.78125 27.484375 10.78125 32.3125 \r\nQ 14.796875 37.15625 21.921875 38.8125 \r\nz\r\nM 18.3125 54.390625 \r\nQ 18.3125 48.734375 21.84375 45.5625 \r\nQ 25.390625 42.390625 31.78125 42.390625 \r\nQ 38.140625 42.390625 41.71875 45.5625 \r\nQ 45.3125 48.734375 45.3125 54.390625 \r\nQ 45.3125 60.0625 41.71875 63.234375 \r\nQ 38.140625 66.40625 31.78125 66.40625 \r\nQ 25.390625 66.40625 21.84375 63.234375 \r\nQ 18.3125 60.0625 18.3125 54.390625 \r\nz\r\n\" id=\"DejaVuSans-56\"/>\r\n      </defs>\r\n      <use xlink:href=\"#DejaVuSans-56\"/>\r\n     </g>\r\n    </g>\r\n   </g>\r\n   <g id=\"text_11\">\r\n    <g clip-path=\"url(#p7589408e8e)\">\r\n     <!-- 36 -->\r\n     <g transform=\"translate(412.612299 47.574886)scale(0.12 -0.12)\">\r\n      <defs>\r\n       <path d=\"M 33.015625 40.375 \r\nQ 26.375 40.375 22.484375 35.828125 \r\nQ 18.609375 31.296875 18.609375 23.390625 \r\nQ 18.609375 15.53125 22.484375 10.953125 \r\nQ 26.375 6.390625 33.015625 6.390625 \r\nQ 39.65625 6.390625 43.53125 10.953125 \r\nQ 47.40625 15.53125 47.40625 23.390625 \r\nQ 47.40625 31.296875 43.53125 35.828125 \r\nQ 39.65625 40.375 33.015625 40.375 \r\nz\r\nM 52.59375 71.296875 \r\nL 52.59375 62.3125 \r\nQ 48.875 64.0625 45.09375 64.984375 \r\nQ 41.3125 65.921875 37.59375 65.921875 \r\nQ 27.828125 65.921875 22.671875 59.328125 \r\nQ 17.53125 52.734375 16.796875 39.40625 \r\nQ 19.671875 43.65625 24.015625 45.921875 \r\nQ 28.375 48.1875 33.59375 48.1875 \r\nQ 44.578125 48.1875 50.953125 41.515625 \r\nQ 57.328125 34.859375 57.328125 23.390625 \r\nQ 57.328125 12.15625 50.6875 5.359375 \r\nQ 44.046875 -1.421875 33.015625 -1.421875 \r\nQ 20.359375 -1.421875 13.671875 8.265625 \r\nQ 6.984375 17.96875 6.984375 36.375 \r\nQ 6.984375 53.65625 15.1875 63.9375 \r\nQ 23.390625 74.21875 37.203125 74.21875 \r\nQ 40.921875 74.21875 44.703125 73.484375 \r\nQ 48.484375 72.75 52.59375 71.296875 \r\nz\r\n\" id=\"DejaVuSans-54\"/>\r\n      </defs>\r\n      <use xlink:href=\"#DejaVuSans-51\"/>\r\n      <use x=\"63.623047\" xlink:href=\"#DejaVuSans-54\"/>\r\n     </g>\r\n    </g>\r\n   </g>\r\n   <g id=\"text_12\">\r\n    <g clip-path=\"url(#p7589408e8e)\">\r\n     <!-- 46 -->\r\n     <g transform=\"translate(307.474367 117.196031)scale(0.12 -0.12)\">\r\n      <use xlink:href=\"#DejaVuSans-52\"/>\r\n      <use x=\"63.623047\" xlink:href=\"#DejaVuSans-54\"/>\r\n     </g>\r\n    </g>\r\n   </g>\r\n   <g id=\"text_13\">\r\n    <g clip-path=\"url(#p7589408e8e)\">\r\n     <!-- 38 -->\r\n     <g transform=\"translate(239.660541 214.633885)scale(0.12 -0.12)\">\r\n      <use xlink:href=\"#DejaVuSans-51\"/>\r\n      <use x=\"63.623047\" xlink:href=\"#DejaVuSans-56\"/>\r\n     </g>\r\n    </g>\r\n   </g>\r\n   <g id=\"text_14\">\r\n    <g clip-path=\"url(#p7589408e8e)\">\r\n     <!-- 7 -->\r\n     <g transform=\"translate(397.735389 153.344807)scale(0.12 -0.12)\">\r\n      <use xlink:href=\"#DejaVuSans-55\"/>\r\n     </g>\r\n    </g>\r\n   </g>\r\n   <g id=\"text_15\">\r\n    <g clip-path=\"url(#p7589408e8e)\">\r\n     <!-- 49 -->\r\n     <g transform=\"translate(283.963503 333.482314)scale(0.12 -0.12)\">\r\n      <use xlink:href=\"#DejaVuSans-52\"/>\r\n      <use x=\"63.623047\" xlink:href=\"#DejaVuSans-57\"/>\r\n     </g>\r\n    </g>\r\n   </g>\r\n   <g id=\"text_16\">\r\n    <g clip-path=\"url(#p7589408e8e)\">\r\n     <!-- 5 -->\r\n     <g transform=\"translate(224.555968 380.51054)scale(0.12 -0.12)\">\r\n      <defs>\r\n       <path d=\"M 10.796875 72.90625 \r\nL 49.515625 72.90625 \r\nL 49.515625 64.59375 \r\nL 19.828125 64.59375 \r\nL 19.828125 46.734375 \r\nQ 21.96875 47.46875 24.109375 47.828125 \r\nQ 26.265625 48.1875 28.421875 48.1875 \r\nQ 40.625 48.1875 47.75 41.5 \r\nQ 54.890625 34.8125 54.890625 23.390625 \r\nQ 54.890625 11.625 47.5625 5.09375 \r\nQ 40.234375 -1.421875 26.90625 -1.421875 \r\nQ 22.3125 -1.421875 17.546875 -0.640625 \r\nQ 12.796875 0.140625 7.71875 1.703125 \r\nL 7.71875 11.625 \r\nQ 12.109375 9.234375 16.796875 8.0625 \r\nQ 21.484375 6.890625 26.703125 6.890625 \r\nQ 35.15625 6.890625 40.078125 11.328125 \r\nQ 45.015625 15.765625 45.015625 23.390625 \r\nQ 45.015625 31 40.078125 35.4375 \r\nQ 35.15625 39.890625 26.703125 39.890625 \r\nQ 22.75 39.890625 18.8125 39.015625 \r\nQ 14.890625 38.140625 10.796875 36.28125 \r\nz\r\n\" id=\"DejaVuSans-53\"/>\r\n      </defs>\r\n      <use xlink:href=\"#DejaVuSans-53\"/>\r\n     </g>\r\n    </g>\r\n   </g>\r\n   <g id=\"text_17\">\r\n    <g clip-path=\"url(#p7589408e8e)\">\r\n     <!-- 25 -->\r\n     <g transform=\"translate(149.879971 451.002069)scale(0.12 -0.12)\">\r\n      <use xlink:href=\"#DejaVuSans-50\"/>\r\n      <use x=\"63.623047\" xlink:href=\"#DejaVuSans-53\"/>\r\n     </g>\r\n    </g>\r\n   </g>\r\n   <g id=\"text_18\">\r\n    <g clip-path=\"url(#p7589408e8e)\">\r\n     <!-- 15 -->\r\n     <g transform=\"translate(37.610455 469.772383)scale(0.12 -0.12)\">\r\n      <use xlink:href=\"#DejaVuSans-49\"/>\r\n      <use x=\"63.623047\" xlink:href=\"#DejaVuSans-53\"/>\r\n     </g>\r\n    </g>\r\n   </g>\r\n   <g id=\"text_19\">\r\n    <g clip-path=\"url(#p7589408e8e)\">\r\n     <!-- 16 -->\r\n     <g transform=\"translate(595.097009 403.567022)scale(0.12 -0.12)\">\r\n      <use xlink:href=\"#DejaVuSans-49\"/>\r\n      <use x=\"63.623047\" xlink:href=\"#DejaVuSans-54\"/>\r\n     </g>\r\n    </g>\r\n   </g>\r\n   <g id=\"text_20\">\r\n    <g clip-path=\"url(#p7589408e8e)\">\r\n     <!-- 4 -->\r\n     <g transform=\"translate(407.778771 418.782241)scale(0.12 -0.12)\">\r\n      <use xlink:href=\"#DejaVuSans-52\"/>\r\n     </g>\r\n    </g>\r\n   </g>\r\n   <g id=\"text_21\">\r\n    <g clip-path=\"url(#p7589408e8e)\">\r\n     <!-- 12 -->\r\n     <g transform=\"translate(506.592144 566.333694)scale(0.12 -0.12)\">\r\n      <use xlink:href=\"#DejaVuSans-49\"/>\r\n      <use x=\"63.623047\" xlink:href=\"#DejaVuSans-50\"/>\r\n     </g>\r\n    </g>\r\n   </g>\r\n   <g id=\"text_22\">\r\n    <g clip-path=\"url(#p7589408e8e)\">\r\n     <!-- 24 -->\r\n     <g transform=\"translate(321.324359 504.045777)scale(0.12 -0.12)\">\r\n      <use xlink:href=\"#DejaVuSans-50\"/>\r\n      <use x=\"63.623047\" xlink:href=\"#DejaVuSans-52\"/>\r\n     </g>\r\n    </g>\r\n   </g>\r\n   <g id=\"text_23\">\r\n    <g clip-path=\"url(#p7589408e8e)\">\r\n     <!-- 35 -->\r\n     <g transform=\"translate(551.742272 672.414322)scale(0.12 -0.12)\">\r\n      <use xlink:href=\"#DejaVuSans-51\"/>\r\n      <use x=\"63.623047\" xlink:href=\"#DejaVuSans-53\"/>\r\n     </g>\r\n    </g>\r\n   </g>\r\n   <g id=\"text_24\">\r\n    <g clip-path=\"url(#p7589408e8e)\">\r\n     <!-- 27 -->\r\n     <g transform=\"translate(352.5605 410.580828)scale(0.12 -0.12)\">\r\n      <use xlink:href=\"#DejaVuSans-50\"/>\r\n      <use x=\"63.623047\" xlink:href=\"#DejaVuSans-55\"/>\r\n     </g>\r\n    </g>\r\n   </g>\r\n   <g id=\"text_25\">\r\n    <g clip-path=\"url(#p7589408e8e)\">\r\n     <!-- 48 -->\r\n     <g transform=\"translate(258.675167 480.526427)scale(0.12 -0.12)\">\r\n      <use xlink:href=\"#DejaVuSans-52\"/>\r\n      <use x=\"63.623047\" xlink:href=\"#DejaVuSans-56\"/>\r\n     </g>\r\n    </g>\r\n   </g>\r\n   <g id=\"text_26\">\r\n    <g clip-path=\"url(#p7589408e8e)\">\r\n     <!-- 26 -->\r\n     <g transform=\"translate(317.040401 589.28537)scale(0.12 -0.12)\">\r\n      <use xlink:href=\"#DejaVuSans-50\"/>\r\n      <use x=\"63.623047\" xlink:href=\"#DejaVuSans-54\"/>\r\n     </g>\r\n    </g>\r\n   </g>\r\n   <g id=\"text_27\">\r\n    <g clip-path=\"url(#p7589408e8e)\">\r\n     <!-- 31 -->\r\n     <g transform=\"translate(443.306811 661.753457)scale(0.12 -0.12)\">\r\n      <use xlink:href=\"#DejaVuSans-51\"/>\r\n      <use x=\"63.623047\" xlink:href=\"#DejaVuSans-49\"/>\r\n     </g>\r\n    </g>\r\n   </g>\r\n   <g id=\"text_28\">\r\n    <g clip-path=\"url(#p7589408e8e)\">\r\n     <!-- 23 -->\r\n     <g transform=\"translate(595.128447 627.425323)scale(0.12 -0.12)\">\r\n      <use xlink:href=\"#DejaVuSans-50\"/>\r\n      <use x=\"63.623047\" xlink:href=\"#DejaVuSans-51\"/>\r\n     </g>\r\n    </g>\r\n   </g>\r\n   <g id=\"text_29\">\r\n    <g clip-path=\"url(#p7589408e8e)\">\r\n     <!-- 10 -->\r\n     <g transform=\"translate(676.80703 709.467937)scale(0.12 -0.12)\">\r\n      <use xlink:href=\"#DejaVuSans-49\"/>\r\n      <use x=\"63.623047\" xlink:href=\"#DejaVuSans-48\"/>\r\n     </g>\r\n    </g>\r\n   </g>\r\n   <g id=\"text_30\">\r\n    <g clip-path=\"url(#p7589408e8e)\">\r\n     <!-- 13 -->\r\n     <g transform=\"translate(742.395769 788.847614)scale(0.12 -0.12)\">\r\n      <use xlink:href=\"#DejaVuSans-49\"/>\r\n      <use x=\"63.623047\" xlink:href=\"#DejaVuSans-51\"/>\r\n     </g>\r\n    </g>\r\n   </g>\r\n   <g id=\"text_31\">\r\n    <g clip-path=\"url(#p7589408e8e)\">\r\n     <!-- 1 -->\r\n     <g transform=\"translate(442.677961 244.931139)scale(0.12 -0.12)\">\r\n      <use xlink:href=\"#DejaVuSans-49\"/>\r\n     </g>\r\n    </g>\r\n   </g>\r\n   <g id=\"text_32\">\r\n    <g clip-path=\"url(#p7589408e8e)\">\r\n     <!-- 42 -->\r\n     <g transform=\"translate(648.372271 518.324194)scale(0.12 -0.12)\">\r\n      <use xlink:href=\"#DejaVuSans-52\"/>\r\n      <use x=\"63.623047\" xlink:href=\"#DejaVuSans-50\"/>\r\n     </g>\r\n    </g>\r\n   </g>\r\n   <g id=\"text_33\">\r\n    <g clip-path=\"url(#p7589408e8e)\">\r\n     <!-- 18 -->\r\n     <g transform=\"translate(304.397092 282.157028)scale(0.12 -0.12)\">\r\n      <use xlink:href=\"#DejaVuSans-49\"/>\r\n      <use x=\"63.623047\" xlink:href=\"#DejaVuSans-56\"/>\r\n     </g>\r\n    </g>\r\n   </g>\r\n   <g id=\"text_34\">\r\n    <g clip-path=\"url(#p7589408e8e)\">\r\n     <!-- 6 -->\r\n     <g transform=\"translate(393.128465 624.581636)scale(0.12 -0.12)\">\r\n      <use xlink:href=\"#DejaVuSans-54\"/>\r\n     </g>\r\n    </g>\r\n   </g>\r\n  </g>\r\n </g>\r\n <defs>\r\n  <clipPath id=\"p7589408e8e\">\r\n   <rect height=\"815.4\" width=\"837\" x=\"7.2\" y=\"7.2\"/>\r\n  </clipPath>\r\n </defs>\r\n</svg>\r\n",
      "image/png": "[encoded data removed]"
     },
     "metadata": {}
    },
    {
     "output_type": "execute_result",
     "data": {
      "text/plain": [
       "<networkx.classes.graph.Graph at 0x25d75f0cac8>"
      ]
     },
     "metadata": {},
     "execution_count": 39
    }
   ],
   "source": [
    "from draw import draw_common\n",
    "from matplotlib import pyplot as plt\n",
    "\n",
    "plt.figure(figsize=(15,15))\n",
    "\n",
    "draw_common(g_union, STPG.terminals, red, blue)"
   ]
  },
  {
   "source": [
    "## Porque esses dois procedimentos encontram números diferentes de partições?\n",
    "\n",
    "Depois de observar atentamente, percebi que o procedimento para encontrar os componentes (```find_components```) repete uma componente a mais do que o procedimento denominado para encontrar segmentos (```find_segments```).\n",
    "\n",
    "Por ora vou considerar que o procedimento para encontrar partições (ou segmentos) está concluído, embora possam ser pensadas outras melhorias para esse procedimento."
   ],
   "cell_type": "markdown",
   "metadata": {}
  },
  {
   "cell_type": "code",
   "execution_count": null,
   "metadata": {},
   "outputs": [],
   "source": []
  }
 ]
}