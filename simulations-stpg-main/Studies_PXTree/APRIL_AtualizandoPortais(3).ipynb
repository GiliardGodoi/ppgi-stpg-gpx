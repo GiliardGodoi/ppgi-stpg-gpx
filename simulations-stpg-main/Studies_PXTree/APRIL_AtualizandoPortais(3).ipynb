{
 "metadata": {
  "language_info": {
   "codemirror_mode": {
    "name": "ipython",
    "version": 3
   },
   "file_extension": ".py",
   "mimetype": "text/x-python",
   "name": "python",
   "nbconvert_exporter": "python",
   "pygments_lexer": "ipython3",
   "version": "3.7.9"
  },
  "orig_nbformat": 2,
  "kernelspec": {
   "name": "python3",
   "display_name": "Python 3.7.9 64-bit ('ppgi': conda)",
   "metadata": {
    "interpreter": {
     "hash": "1db25bdc6ae9c6a82d5f9bec775d7de2a4da5d8cd3d577f84a2091754ab3eac2"
    }
   }
  }
 },
 "nbformat": 4,
 "nbformat_minor": 2,
 "cells": [
  {
   "cell_type": "code",
   "execution_count": 283,
   "metadata": {},
   "outputs": [],
   "source": [
    "from ga4stpg.tree.pxpartition import PartitionCrossoverSteinerTree as PSTX"
   ]
  },
  {
   "cell_type": "code",
   "execution_count": 284,
   "metadata": {},
   "outputs": [],
   "source": [
    "from os import path\n",
    "from pprint import pprint\n",
    "from ga4stpg.graph import UGraph\n",
    "from ga4stpg.graph.reader import ReaderORLibrary\n",
    "from ga4stpg.graph.util import is_steiner_tree\n",
    "\n",
    "instance_problem = \"steinb5.txt\"\n",
    "folder_datasets = path.join('..', '..', 'ppgi-stpg-gpx', 'datasets', 'ORLibrary')\n",
    "filename = path.join(folder_datasets, instance_problem)\n",
    "\n",
    "STPG = ReaderORLibrary().parser(filename)"
   ]
  },
  {
   "cell_type": "code",
   "execution_count": 285,
   "metadata": {},
   "outputs": [
    {
     "output_type": "stream",
     "name": "stdout",
     "text": [
      "STPG information \n - - - - - - - - - -  \n\nInstance:  B5\nNro. Node: 50\nNro. Edges: 100\nNro. Terminals: 13\nTerminals: \n {3, 35, 5, 37, 7, 39, 13, 15, 16, 20, 23, 24, 31}\n"
     ]
    }
   ],
   "source": [
    "print(\"STPG information\", '\\n', 10*'- ','\\n')\n",
    "print('Instance: ', STPG.name)\n",
    "print(\"Nro. Node:\", STPG.nro_nodes)\n",
    "print(\"Nro. Edges:\", STPG.nro_edges)\n",
    "print(\"Nro. Terminals:\", STPG.nro_terminals)\n",
    "print(\"Terminals: \\n\", STPG.terminals)"
   ]
  },
  {
   "cell_type": "code",
   "execution_count": 286,
   "metadata": {},
   "outputs": [
    {
     "output_type": "stream",
     "name": "stdout",
     "text": [
      "(245, 1)\n(243, 1)\n"
     ]
    }
   ],
   "source": [
    "from ga4stpg.tree.evaluation import EvaluateTreeGraph\n",
    "from ga4stpg.tree.generate import GenerateBasedRandomWalk\n",
    "from ga4stpg.tree.mutate import Prunning\n",
    "\n",
    "generator = GenerateBasedRandomWalk(STPG)\n",
    "evaluator = EvaluateTreeGraph(STPG)\n",
    "prunning  = Prunning(STPG)\n",
    "\n",
    "red  = generator()\n",
    "blue = generator()\n",
    "\n",
    "print(evaluator(red))\n",
    "print(evaluator(blue))"
   ]
  },
  {
   "cell_type": "code",
   "execution_count": 287,
   "metadata": {},
   "outputs": [
    {
     "output_type": "stream",
     "name": "stdout",
     "text": [
      "(133, 1)\n(132, 1)\n"
     ]
    }
   ],
   "source": [
    "red = prunning(red)\n",
    "blue = prunning(blue)\n",
    "\n",
    "print(evaluator(red))\n",
    "print(evaluator(blue))"
   ]
  },
  {
   "cell_type": "code",
   "execution_count": 288,
   "metadata": {},
   "outputs": [],
   "source": [
    "crossover = PSTX(STPG)"
   ]
  },
  {
   "cell_type": "code",
   "execution_count": 289,
   "metadata": {},
   "outputs": [
    {
     "output_type": "stream",
     "name": "stdout",
     "text": [
      "Red:  Partition <{16, 42}>\nBlue:  Partition <{46, 47}>\nRed:  Partition <{25, 5}>\nRed:  Partition <{40, 37}>\nRed:  Partition <{49, 20}>\nPartition <{5, 46}> Partition <{49, 5}>\nRandom  Partition <{49, 5}>\nPartition <{3, 14}> Partition <{3, 20}>\nRandom  Partition <{3, 14}>\nBlue:  Partition <{20, 39}>\nBlue:  Partition <{3, 21}>\nBlue:  Partition <{24, 14}>\n"
     ]
    }
   ],
   "source": [
    "nred, nblue = crossover(red, blue)"
   ]
  },
  {
   "cell_type": "code",
   "execution_count": 290,
   "metadata": {},
   "outputs": [
    {
     "output_type": "execute_result",
     "data": {
      "text/plain": [
       "(94, 1)"
      ]
     },
     "metadata": {},
     "execution_count": 290
    }
   ],
   "source": [
    "evaluator(nred)"
   ]
  },
  {
   "cell_type": "code",
   "execution_count": 291,
   "metadata": {},
   "outputs": [
    {
     "output_type": "execute_result",
     "data": {
      "text/plain": [
       "(94, 1)"
      ]
     },
     "metadata": {},
     "execution_count": 291
    }
   ],
   "source": [
    "evaluator(nblue)"
   ]
  },
  {
   "cell_type": "code",
   "execution_count": 282,
   "metadata": {},
   "outputs": [
    {
     "output_type": "execute_result",
     "data": {
      "text/plain": [
       "False"
      ]
     },
     "metadata": {},
     "execution_count": 282
    }
   ],
   "source": [
    "nred.edges == nblue.edges"
   ]
  },
  {
   "cell_type": "code",
   "execution_count": null,
   "metadata": {},
   "outputs": [],
   "source": []
  }
 ]
}