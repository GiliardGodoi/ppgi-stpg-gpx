{
 "metadata": {
  "language_info": {
   "codemirror_mode": {
    "name": "ipython",
    "version": 3
   },
   "file_extension": ".py",
   "mimetype": "text/x-python",
   "name": "python",
   "nbconvert_exporter": "python",
   "pygments_lexer": "ipython3",
   "version": "3.7.9"
  },
  "orig_nbformat": 2,
  "kernelspec": {
   "name": "python379jvsc74a57bd01db25bdc6ae9c6a82d5f9bec775d7de2a4da5d8cd3d577f84a2091754ab3eac2",
   "display_name": "Python 3.7.9 64-bit ('ppgi': conda)"
  }
 },
 "nbformat": 4,
 "nbformat_minor": 2,
 "cells": [
  {
   "cell_type": "code",
   "execution_count": null,
   "metadata": {},
   "outputs": [],
   "source": []
  },
  {
   "cell_type": "code",
   "execution_count": 1,
   "metadata": {},
   "outputs": [],
   "source": [
    "import numpy as np\n",
    "import pandas as pd\n",
    "from os import path\n",
    "from random import choice, shuffle\n",
    "\n",
    "from ga4stpg.graph import Graph, ReaderORLibrary\n",
    "from ga4stpg.graph.steiner import (prunning_mst, shortest_path,\n",
    "                            shortest_path_origin_prim,\n",
    "                            prunning_kruskal_mst,\n",
    "                            shortest_path_with_origin)\n",
    "\n",
    "from ga4stpg.graph.util import (is_steiner_tree, \n",
    "                                has_cycle)\n"
   ]
  },
  {
   "cell_type": "code",
   "execution_count": 2,
   "metadata": {},
   "outputs": [],
   "source": [
    "from ga4stpg.tree.generate import GenerateBasedPrimRST\n",
    "from ga4stpg.tree.evaluation import EvaluateTreeGraph\n",
    "from ga4stpg.tree.pxpartition import PartitionCrossoverSteinerTree as PXST\n",
    "from ga4stpg.tree.mutate import Prunning"
   ]
  },
  {
   "cell_type": "code",
   "execution_count": 3,
   "metadata": {},
   "outputs": [
    {
     "output_type": "stream",
     "name": "stdout",
     "text": [
      "..\\..\\ppgi-stpg-gpx\\datasets\\ORLibrary\\steinc5.txt\n"
     ]
    }
   ],
   "source": [
    "# input\n",
    "input_file = 'steinc5.txt'\n",
    "folder_datasets = path.join('..', '..', 'ppgi-stpg-gpx', 'datasets', 'ORLibrary')\n",
    "\n",
    "filename = path.join(folder_datasets, input_file)\n",
    "print(filename)\n",
    "\n",
    "assert path.exists(filename)\n",
    "\n",
    "reader = ReaderORLibrary()\n",
    "\n",
    "stpg = reader.parser(filename)"
   ]
  },
  {
   "cell_type": "code",
   "execution_count": 4,
   "metadata": {},
   "outputs": [],
   "source": [
    "evaluator = EvaluateTreeGraph(stpg)\n",
    "generator = GenerateBasedPrimRST(stpg)\n",
    "crossover = PXST(stpg)\n",
    "prunner   = Prunning(stpg)"
   ]
  },
  {
   "cell_type": "code",
   "execution_count": 5,
   "metadata": {
    "tags": []
   },
   "outputs": [
    {
     "output_type": "stream",
     "name": "stdout",
     "text": [
      "500\n",
      "Wall time: 4.83 s\n"
     ]
    }
   ],
   "source": [
    "%%time\n",
    "\n",
    "data = list()\n",
    "data2 = list()\n",
    "print(stpg.nro_nodes)\n",
    "\n",
    "for _ in range(50):\n",
    "    \n",
    "    # aa = prunner(generator())\n",
    "    aa = generator()\n",
    "    is_aa_st, response = is_steiner_tree(aa, stpg)\n",
    "    aa_cost, _ = evaluator(aa)\n",
    "    response['origem'] = 'a'\n",
    "    response['is_st'] = is_aa_st\n",
    "    data2.append(response)\n",
    "\n",
    "    \n",
    "    # bb = prunner(generator())\n",
    "    bb = generator()\n",
    "    is_bb_st, response = is_steiner_tree(bb, stpg)\n",
    "    bb_cost, _ = evaluator(bb)\n",
    "    response['origem'] = 'b'\n",
    "    response['is_st'] = is_bb_st\n",
    "    data2.append(response)\n",
    "    \n",
    "    child_c, child_d = crossover(aa, bb)\n",
    "    \n",
    "    is_cc_st, response = is_steiner_tree(child_c, stpg)\n",
    "    cc_cost, _ = evaluator(child_c)\n",
    "    response['origem'] = 'c'\n",
    "    response['is_st'] = is_cc_st\n",
    "    data2.append(response)\n",
    "\n",
    "    is_dd_st, response = is_steiner_tree(child_d, stpg)\n",
    "    dd_cost, _ = evaluator(child_d)\n",
    "    response['origem'] = 'd'\n",
    "    response['is_st'] = is_dd_st\n",
    "    data2.append(response)\n",
    "    \n",
    "    data.append([is_aa_st, is_bb_st, is_cc_st, is_dd_st, aa_cost, bb_cost, cc_cost, dd_cost])"
   ]
  },
  {
   "cell_type": "code",
   "execution_count": 6,
   "metadata": {},
   "outputs": [
    {
     "output_type": "stream",
     "name": "stdout",
     "text": [
      "Wall time: 359 ms\n"
     ]
    },
    {
     "output_type": "execute_result",
     "data": {
      "text/plain": [
       "   is_aa_st  is_bb_st  is_cc_st  is_dd_st  a_cost  b_cost  c_cost  d_cost  \\\n",
       "0     False     False     False     False    2728    2700    2578    2578   \n",
       "1     False     False     False     False    2740    2709    2729    2684   \n",
       "2     False     False     False     False    2754    2780    2738    2778   \n",
       "3     False     False     False     False    2754    2759    2688    2683   \n",
       "4     False     False     False     False    2786    2729    2777    2708   \n",
       "\n",
       "   less_equal_both_c  less_equal_both_d  less_both_c  less_both_d  diff_a_c  \\\n",
       "0               True               True         True         True       150   \n",
       "1              False               True        False         True        11   \n",
       "2               True              False         True        False        16   \n",
       "3               True               True         True         True        66   \n",
       "4              False               True        False         True         9   \n",
       "\n",
       "   diff_b_c  diff_a_d  diff_b_d  \n",
       "0       122       150       122  \n",
       "1       -20        56        25  \n",
       "2        42       -24         2  \n",
       "3        71        71        76  \n",
       "4       -48        78        21  "
      ],
      "text/html": "<div>\n<style scoped>\n    .dataframe tbody tr th:only-of-type {\n        vertical-align: middle;\n    }\n\n    .dataframe tbody tr th {\n        vertical-align: top;\n    }\n\n    .dataframe thead th {\n        text-align: right;\n    }\n</style>\n<table border=\"1\" class=\"dataframe\">\n  <thead>\n    <tr style=\"text-align: right;\">\n      <th></th>\n      <th>is_aa_st</th>\n      <th>is_bb_st</th>\n      <th>is_cc_st</th>\n      <th>is_dd_st</th>\n      <th>a_cost</th>\n      <th>b_cost</th>\n      <th>c_cost</th>\n      <th>d_cost</th>\n      <th>less_equal_both_c</th>\n      <th>less_equal_both_d</th>\n      <th>less_both_c</th>\n      <th>less_both_d</th>\n      <th>diff_a_c</th>\n      <th>diff_b_c</th>\n      <th>diff_a_d</th>\n      <th>diff_b_d</th>\n    </tr>\n  </thead>\n  <tbody>\n    <tr>\n      <th>0</th>\n      <td>False</td>\n      <td>False</td>\n      <td>False</td>\n      <td>False</td>\n      <td>2728</td>\n      <td>2700</td>\n      <td>2578</td>\n      <td>2578</td>\n      <td>True</td>\n      <td>True</td>\n      <td>True</td>\n      <td>True</td>\n      <td>150</td>\n      <td>122</td>\n      <td>150</td>\n      <td>122</td>\n    </tr>\n    <tr>\n      <th>1</th>\n      <td>False</td>\n      <td>False</td>\n      <td>False</td>\n      <td>False</td>\n      <td>2740</td>\n      <td>2709</td>\n      <td>2729</td>\n      <td>2684</td>\n      <td>False</td>\n      <td>True</td>\n      <td>False</td>\n      <td>True</td>\n      <td>11</td>\n      <td>-20</td>\n      <td>56</td>\n      <td>25</td>\n    </tr>\n    <tr>\n      <th>2</th>\n      <td>False</td>\n      <td>False</td>\n      <td>False</td>\n      <td>False</td>\n      <td>2754</td>\n      <td>2780</td>\n      <td>2738</td>\n      <td>2778</td>\n      <td>True</td>\n      <td>False</td>\n      <td>True</td>\n      <td>False</td>\n      <td>16</td>\n      <td>42</td>\n      <td>-24</td>\n      <td>2</td>\n    </tr>\n    <tr>\n      <th>3</th>\n      <td>False</td>\n      <td>False</td>\n      <td>False</td>\n      <td>False</td>\n      <td>2754</td>\n      <td>2759</td>\n      <td>2688</td>\n      <td>2683</td>\n      <td>True</td>\n      <td>True</td>\n      <td>True</td>\n      <td>True</td>\n      <td>66</td>\n      <td>71</td>\n      <td>71</td>\n      <td>76</td>\n    </tr>\n    <tr>\n      <th>4</th>\n      <td>False</td>\n      <td>False</td>\n      <td>False</td>\n      <td>False</td>\n      <td>2786</td>\n      <td>2729</td>\n      <td>2777</td>\n      <td>2708</td>\n      <td>False</td>\n      <td>True</td>\n      <td>False</td>\n      <td>True</td>\n      <td>9</td>\n      <td>-48</td>\n      <td>78</td>\n      <td>21</td>\n    </tr>\n  </tbody>\n</table>\n</div>"
     },
     "metadata": {},
     "execution_count": 6
    }
   ],
   "source": [
    "%%time\n",
    "\n",
    "col = ['is_aa_st', \n",
    "    'is_bb_st', \n",
    "    'is_cc_st' ,\n",
    "    'is_dd_st',\n",
    "    'a_cost', \n",
    "    'b_cost', \n",
    "    'c_cost',\n",
    "    'd_cost'\n",
    "    ]\n",
    "\n",
    "frame = pd.DataFrame(data, columns=col)\n",
    "\n",
    "frame['less_equal_both_c'] = (frame['c_cost'] <= frame['a_cost']) & (frame['c_cost'] <= frame['b_cost'])\n",
    "frame['less_equal_both_d'] = (frame['d_cost'] <= frame['a_cost']) & (frame['d_cost'] <= frame['b_cost'])\n",
    "\n",
    "frame['less_both_c'] = (frame['c_cost'] < frame['a_cost']) & (frame['c_cost'] < frame['b_cost'])\n",
    "frame['less_both_d'] = (frame['d_cost'] < frame['a_cost']) & (frame['d_cost'] < frame['b_cost'])\n",
    "\n",
    "# frame['less_equal_a'] = (frame['c_cost'] <= frame['a_cost'])\n",
    "# frame['less_equal_b'] = (frame['c_cost'] <= frame['b_cost'])\n",
    "\n",
    "frame['diff_a_c'] = frame['a_cost'] - frame['c_cost']\n",
    "frame['diff_b_c'] = frame['b_cost'] - frame['c_cost']\n",
    "\n",
    "frame['diff_a_d'] = frame['a_cost'] - frame['d_cost']\n",
    "frame['diff_b_d'] = frame['b_cost'] - frame['d_cost']\n",
    "\n",
    "frame.head()"
   ]
  },
  {
   "cell_type": "code",
   "execution_count": 7,
   "metadata": {},
   "outputs": [
    {
     "output_type": "execute_result",
     "data": {
      "text/plain": [
       "       is_aa_st is_bb_st is_cc_st is_dd_st\n",
       "count        50       50       50       50\n",
       "unique        1        1        1        1\n",
       "top       False    False    False    False\n",
       "freq         50       50       50       50"
      ],
      "text/html": "<div>\n<style scoped>\n    .dataframe tbody tr th:only-of-type {\n        vertical-align: middle;\n    }\n\n    .dataframe tbody tr th {\n        vertical-align: top;\n    }\n\n    .dataframe thead th {\n        text-align: right;\n    }\n</style>\n<table border=\"1\" class=\"dataframe\">\n  <thead>\n    <tr style=\"text-align: right;\">\n      <th></th>\n      <th>is_aa_st</th>\n      <th>is_bb_st</th>\n      <th>is_cc_st</th>\n      <th>is_dd_st</th>\n    </tr>\n  </thead>\n  <tbody>\n    <tr>\n      <th>count</th>\n      <td>50</td>\n      <td>50</td>\n      <td>50</td>\n      <td>50</td>\n    </tr>\n    <tr>\n      <th>unique</th>\n      <td>1</td>\n      <td>1</td>\n      <td>1</td>\n      <td>1</td>\n    </tr>\n    <tr>\n      <th>top</th>\n      <td>False</td>\n      <td>False</td>\n      <td>False</td>\n      <td>False</td>\n    </tr>\n    <tr>\n      <th>freq</th>\n      <td>50</td>\n      <td>50</td>\n      <td>50</td>\n      <td>50</td>\n    </tr>\n  </tbody>\n</table>\n</div>"
     },
     "metadata": {},
     "execution_count": 7
    }
   ],
   "source": [
    "\n",
    "# all solutions were classified as steiner tree\n",
    "\n",
    "# np.all(frame['is_aa_st'])\n",
    "# np.all(frame['is_bb_st'])\n",
    "# np.all(frame['is_cc_st'])\n",
    "\n",
    "frame[['is_aa_st',\t'is_bb_st',\t'is_cc_st', 'is_dd_st']].describe()"
   ]
  },
  {
   "cell_type": "code",
   "execution_count": 8,
   "metadata": {},
   "outputs": [
    {
     "output_type": "execute_result",
     "data": {
      "text/plain": [
       "            a_cost      b_cost       c_cost      d_cost\n",
       "count    50.000000    50.00000    50.000000    50.00000\n",
       "mean   2746.520000  2743.40000  2679.740000  2679.80000\n",
       "std      27.957139    25.89697    63.973786    57.78567\n",
       "min    2687.000000  2675.00000  2576.000000  2576.00000\n",
       "25%    2730.250000  2728.25000  2622.250000  2624.25000\n",
       "50%    2743.000000  2742.50000  2683.500000  2689.50000\n",
       "75%    2759.500000  2761.00000  2726.500000  2724.00000\n",
       "max    2803.000000  2797.00000  2788.000000  2797.00000"
      ],
      "text/html": "<div>\n<style scoped>\n    .dataframe tbody tr th:only-of-type {\n        vertical-align: middle;\n    }\n\n    .dataframe tbody tr th {\n        vertical-align: top;\n    }\n\n    .dataframe thead th {\n        text-align: right;\n    }\n</style>\n<table border=\"1\" class=\"dataframe\">\n  <thead>\n    <tr style=\"text-align: right;\">\n      <th></th>\n      <th>a_cost</th>\n      <th>b_cost</th>\n      <th>c_cost</th>\n      <th>d_cost</th>\n    </tr>\n  </thead>\n  <tbody>\n    <tr>\n      <th>count</th>\n      <td>50.000000</td>\n      <td>50.00000</td>\n      <td>50.000000</td>\n      <td>50.00000</td>\n    </tr>\n    <tr>\n      <th>mean</th>\n      <td>2746.520000</td>\n      <td>2743.40000</td>\n      <td>2679.740000</td>\n      <td>2679.80000</td>\n    </tr>\n    <tr>\n      <th>std</th>\n      <td>27.957139</td>\n      <td>25.89697</td>\n      <td>63.973786</td>\n      <td>57.78567</td>\n    </tr>\n    <tr>\n      <th>min</th>\n      <td>2687.000000</td>\n      <td>2675.00000</td>\n      <td>2576.000000</td>\n      <td>2576.00000</td>\n    </tr>\n    <tr>\n      <th>25%</th>\n      <td>2730.250000</td>\n      <td>2728.25000</td>\n      <td>2622.250000</td>\n      <td>2624.25000</td>\n    </tr>\n    <tr>\n      <th>50%</th>\n      <td>2743.000000</td>\n      <td>2742.50000</td>\n      <td>2683.500000</td>\n      <td>2689.50000</td>\n    </tr>\n    <tr>\n      <th>75%</th>\n      <td>2759.500000</td>\n      <td>2761.00000</td>\n      <td>2726.500000</td>\n      <td>2724.00000</td>\n    </tr>\n    <tr>\n      <th>max</th>\n      <td>2803.000000</td>\n      <td>2797.00000</td>\n      <td>2788.000000</td>\n      <td>2797.00000</td>\n    </tr>\n  </tbody>\n</table>\n</div>"
     },
     "metadata": {},
     "execution_count": 8
    }
   ],
   "source": [
    "frame[['a_cost', 'b_cost','c_cost', 'd_cost']].describe()"
   ]
  },
  {
   "cell_type": "code",
   "execution_count": 9,
   "metadata": {},
   "outputs": [
    {
     "output_type": "execute_result",
     "data": {
      "text/plain": [
       "         diff_a_c    diff_b_c\n",
       "count   50.000000   50.000000\n",
       "mean    38.240000   42.740000\n",
       "std     44.814611   73.784521\n",
       "min      0.000000  -85.000000\n",
       "25%      8.250000   -9.250000\n",
       "50%     18.000000   40.000000\n",
       "75%     46.500000   72.000000\n",
       "max    159.000000  220.000000"
      ],
      "text/html": "<div>\n<style scoped>\n    .dataframe tbody tr th:only-of-type {\n        vertical-align: middle;\n    }\n\n    .dataframe tbody tr th {\n        vertical-align: top;\n    }\n\n    .dataframe thead th {\n        text-align: right;\n    }\n</style>\n<table border=\"1\" class=\"dataframe\">\n  <thead>\n    <tr style=\"text-align: right;\">\n      <th></th>\n      <th>diff_a_c</th>\n      <th>diff_b_c</th>\n    </tr>\n  </thead>\n  <tbody>\n    <tr>\n      <th>count</th>\n      <td>50.000000</td>\n      <td>50.000000</td>\n    </tr>\n    <tr>\n      <th>mean</th>\n      <td>38.240000</td>\n      <td>42.740000</td>\n    </tr>\n    <tr>\n      <th>std</th>\n      <td>44.814611</td>\n      <td>73.784521</td>\n    </tr>\n    <tr>\n      <th>min</th>\n      <td>0.000000</td>\n      <td>-85.000000</td>\n    </tr>\n    <tr>\n      <th>25%</th>\n      <td>8.250000</td>\n      <td>-9.250000</td>\n    </tr>\n    <tr>\n      <th>50%</th>\n      <td>18.000000</td>\n      <td>40.000000</td>\n    </tr>\n    <tr>\n      <th>75%</th>\n      <td>46.500000</td>\n      <td>72.000000</td>\n    </tr>\n    <tr>\n      <th>max</th>\n      <td>159.000000</td>\n      <td>220.000000</td>\n    </tr>\n  </tbody>\n</table>\n</div>"
     },
     "metadata": {},
     "execution_count": 9
    }
   ],
   "source": [
    "frame[['diff_a_c', 'diff_b_c']].describe()"
   ]
  },
  {
   "cell_type": "code",
   "execution_count": 10,
   "metadata": {},
   "outputs": [
    {
     "output_type": "execute_result",
     "data": {
      "text/plain": [
       "         diff_a_d    diff_b_d\n",
       "count   50.000000   50.000000\n",
       "mean    34.880000   39.380000\n",
       "std     61.619517   47.450894\n",
       "min    -94.000000    0.000000\n",
       "25%    -21.250000    8.250000\n",
       "50%     39.500000   20.000000\n",
       "75%     79.500000   60.750000\n",
       "max    165.000000  168.000000"
      ],
      "text/html": "<div>\n<style scoped>\n    .dataframe tbody tr th:only-of-type {\n        vertical-align: middle;\n    }\n\n    .dataframe tbody tr th {\n        vertical-align: top;\n    }\n\n    .dataframe thead th {\n        text-align: right;\n    }\n</style>\n<table border=\"1\" class=\"dataframe\">\n  <thead>\n    <tr style=\"text-align: right;\">\n      <th></th>\n      <th>diff_a_d</th>\n      <th>diff_b_d</th>\n    </tr>\n  </thead>\n  <tbody>\n    <tr>\n      <th>count</th>\n      <td>50.000000</td>\n      <td>50.000000</td>\n    </tr>\n    <tr>\n      <th>mean</th>\n      <td>34.880000</td>\n      <td>39.380000</td>\n    </tr>\n    <tr>\n      <th>std</th>\n      <td>61.619517</td>\n      <td>47.450894</td>\n    </tr>\n    <tr>\n      <th>min</th>\n      <td>-94.000000</td>\n      <td>0.000000</td>\n    </tr>\n    <tr>\n      <th>25%</th>\n      <td>-21.250000</td>\n      <td>8.250000</td>\n    </tr>\n    <tr>\n      <th>50%</th>\n      <td>39.500000</td>\n      <td>20.000000</td>\n    </tr>\n    <tr>\n      <th>75%</th>\n      <td>79.500000</td>\n      <td>60.750000</td>\n    </tr>\n    <tr>\n      <th>max</th>\n      <td>165.000000</td>\n      <td>168.000000</td>\n    </tr>\n  </tbody>\n</table>\n</div>"
     },
     "metadata": {},
     "execution_count": 10
    }
   ],
   "source": [
    "frame[['diff_a_d', 'diff_b_d']].describe()"
   ]
  },
  {
   "cell_type": "code",
   "execution_count": 9,
   "metadata": {},
   "outputs": [
    {
     "output_type": "execute_result",
     "data": {
      "text/plain": [
       "   has_cycle  all_terminals_in  all_leaves_are_terminals  \\\n",
       "0      False              True                     False   \n",
       "1      False              True                     False   \n",
       "2      False              True                     False   \n",
       "3      False              True                     False   \n",
       "4      False              True                     False   \n",
       "\n",
       "   all_edges_are_reliable  graph_is_connected origem  is_st  \n",
       "0                    True                True      a  False  \n",
       "1                    True                True      b  False  \n",
       "2                    True                True      c  False  \n",
       "3                    True                True      d  False  \n",
       "4                    True                True      a  False  "
      ],
      "text/html": "<div>\n<style scoped>\n    .dataframe tbody tr th:only-of-type {\n        vertical-align: middle;\n    }\n\n    .dataframe tbody tr th {\n        vertical-align: top;\n    }\n\n    .dataframe thead th {\n        text-align: right;\n    }\n</style>\n<table border=\"1\" class=\"dataframe\">\n  <thead>\n    <tr style=\"text-align: right;\">\n      <th></th>\n      <th>has_cycle</th>\n      <th>all_terminals_in</th>\n      <th>all_leaves_are_terminals</th>\n      <th>all_edges_are_reliable</th>\n      <th>graph_is_connected</th>\n      <th>origem</th>\n      <th>is_st</th>\n    </tr>\n  </thead>\n  <tbody>\n    <tr>\n      <th>0</th>\n      <td>False</td>\n      <td>True</td>\n      <td>False</td>\n      <td>True</td>\n      <td>True</td>\n      <td>a</td>\n      <td>False</td>\n    </tr>\n    <tr>\n      <th>1</th>\n      <td>False</td>\n      <td>True</td>\n      <td>False</td>\n      <td>True</td>\n      <td>True</td>\n      <td>b</td>\n      <td>False</td>\n    </tr>\n    <tr>\n      <th>2</th>\n      <td>False</td>\n      <td>True</td>\n      <td>False</td>\n      <td>True</td>\n      <td>True</td>\n      <td>c</td>\n      <td>False</td>\n    </tr>\n    <tr>\n      <th>3</th>\n      <td>False</td>\n      <td>True</td>\n      <td>False</td>\n      <td>True</td>\n      <td>True</td>\n      <td>d</td>\n      <td>False</td>\n    </tr>\n    <tr>\n      <th>4</th>\n      <td>False</td>\n      <td>True</td>\n      <td>False</td>\n      <td>True</td>\n      <td>True</td>\n      <td>a</td>\n      <td>False</td>\n    </tr>\n  </tbody>\n</table>\n</div>"
     },
     "metadata": {},
     "execution_count": 9
    }
   ],
   "source": [
    "frame2 = pd.DataFrame(data2)\n",
    "\n",
    "frame2.head()"
   ]
  },
  {
   "cell_type": "code",
   "execution_count": 11,
   "metadata": {},
   "outputs": [
    {
     "output_type": "execute_result",
     "data": {
      "text/plain": [
       "       has_cycle all_terminals_in all_leaves_are_terminals  \\\n",
       "count        200              200                      200   \n",
       "unique         1                1                        1   \n",
       "top        False             True                    False   \n",
       "freq         200              200                      200   \n",
       "\n",
       "       all_edges_are_reliable graph_is_connected origem  is_st  \n",
       "count                     200                200    200    200  \n",
       "unique                      1                  1      4      1  \n",
       "top                      True               True      d  False  \n",
       "freq                      200                200     50    200  "
      ],
      "text/html": "<div>\n<style scoped>\n    .dataframe tbody tr th:only-of-type {\n        vertical-align: middle;\n    }\n\n    .dataframe tbody tr th {\n        vertical-align: top;\n    }\n\n    .dataframe thead th {\n        text-align: right;\n    }\n</style>\n<table border=\"1\" class=\"dataframe\">\n  <thead>\n    <tr style=\"text-align: right;\">\n      <th></th>\n      <th>has_cycle</th>\n      <th>all_terminals_in</th>\n      <th>all_leaves_are_terminals</th>\n      <th>all_edges_are_reliable</th>\n      <th>graph_is_connected</th>\n      <th>origem</th>\n      <th>is_st</th>\n    </tr>\n  </thead>\n  <tbody>\n    <tr>\n      <th>count</th>\n      <td>200</td>\n      <td>200</td>\n      <td>200</td>\n      <td>200</td>\n      <td>200</td>\n      <td>200</td>\n      <td>200</td>\n    </tr>\n    <tr>\n      <th>unique</th>\n      <td>1</td>\n      <td>1</td>\n      <td>1</td>\n      <td>1</td>\n      <td>1</td>\n      <td>4</td>\n      <td>1</td>\n    </tr>\n    <tr>\n      <th>top</th>\n      <td>False</td>\n      <td>True</td>\n      <td>False</td>\n      <td>True</td>\n      <td>True</td>\n      <td>d</td>\n      <td>False</td>\n    </tr>\n    <tr>\n      <th>freq</th>\n      <td>200</td>\n      <td>200</td>\n      <td>200</td>\n      <td>200</td>\n      <td>200</td>\n      <td>50</td>\n      <td>200</td>\n    </tr>\n  </tbody>\n</table>\n</div>"
     },
     "metadata": {},
     "execution_count": 11
    }
   ],
   "source": [
    "frame2[~frame2['is_st']].describe()"
   ]
  },
  {
   "cell_type": "code",
   "execution_count": null,
   "metadata": {},
   "outputs": [],
   "source": []
  }
 ]
}