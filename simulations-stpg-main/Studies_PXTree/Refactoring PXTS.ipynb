{
 "metadata": {
  "language_info": {
   "codemirror_mode": {
    "name": "ipython",
    "version": 3
   },
   "file_extension": ".py",
   "mimetype": "text/x-python",
   "name": "python",
   "nbconvert_exporter": "python",
   "pygments_lexer": "ipython3",
   "version": "3.7.9-final"
  },
  "orig_nbformat": 2,
  "kernelspec": {
   "name": "python3",
   "display_name": "Python 3.7.9 64-bit ('simu-steiner': conda)",
   "metadata": {
    "interpreter": {
     "hash": "3469fd5f58a4424b781f86b8e15f0f210a2e6ad2f12845e0680bc68b62027f9a"
    }
   }
  }
 },
 "nbformat": 4,
 "nbformat_minor": 2,
 "cells": [
  {
   "cell_type": "code",
   "execution_count": 1,
   "metadata": {},
   "outputs": [],
   "source": [
    "## Definindo soluções de exemplo\n",
    "from ga4stpg.graph import UGraph\n",
    "\n",
    "common_edges =[\n",
    "    (3, 5),\n",
    "    (8, 17),\n",
    "    (14, 17),\n",
    "    (14, 30),\n",
    "    (25, 30),\n",
    "    (27, 28),\n",
    "    (11, 16)\n",
    "]\n",
    "\n",
    "red_edges = [\n",
    "    (1, 4),\n",
    "    (2, 4),\n",
    "    (3, 4),\n",
    "    (5, 6),\n",
    "    (6, 7),\n",
    "    (7, 8),\n",
    "    (17, 18),\n",
    "    (18, 20),\n",
    "    (20, 21), \n",
    "    (21, 23),\n",
    "    (14, 13),\n",
    "    (13, 12),\n",
    "    (12, 11),\n",
    "    (30, 29),\n",
    "    (29, 24),\n",
    "    (24, 28)\n",
    "]\n",
    "\n",
    "blue_edges = [\n",
    "    (1, 2),\n",
    "    (2, 3),\n",
    "    (5, 9),\n",
    "    (9, 10),\n",
    "    (10, 8),\n",
    "    (17, 19),\n",
    "    (19, 20),\n",
    "    (20, 22),\n",
    "    (22, 23),\n",
    "    (25, 26),\n",
    "    (26, 24),\n",
    "    (24, 27),\n",
    "    (14, 15),\n",
    "    (15, 16),\n",
    "]"
   ]
  },
  {
   "cell_type": "code",
   "execution_count": 2,
   "metadata": {},
   "outputs": [],
   "source": [
    "red = UGraph()\n",
    "blue = UGraph()\n",
    "\n",
    "for v, u in common_edges:\n",
    "    red.add_edge(v, u)\n",
    "    blue.add_edge(v, u)\n",
    "\n",
    "for v, u in red_edges:\n",
    "    red.add_edge(v, u)\n",
    "\n",
    "for v, u in blue_edges:\n",
    "    blue.add_edge(v, u)"
   ]
  },
  {
   "cell_type": "code",
   "execution_count": 3,
   "metadata": {},
   "outputs": [
    {
     "output_type": "stream",
     "name": "stdout",
     "text": [
      "False 1\nFalse 1\n"
     ]
    }
   ],
   "source": [
    "from ga4stpg.graph.util import has_cycle, how_many_components\n",
    "\n",
    "print(has_cycle(red), how_many_components(red))\n",
    "print(has_cycle(blue), how_many_components(blue))"
   ]
  },
  {
   "source": [
    "1. percorrer todas as arestas das componentes conexas\n",
    "2. classificar essas arestas\n",
    "3. encontrar os vértices comuns\n",
    "4. determinar as partições"
   ],
   "cell_type": "markdown",
   "metadata": {}
  },
  {
   "cell_type": "code",
   "execution_count": 4,
   "metadata": {},
   "outputs": [
    {
     "output_type": "stream",
     "name": "stdout",
     "text": [
      "True 5\n"
     ]
    }
   ],
   "source": [
    "g_star = UGraph()\n",
    "\n",
    "for v, u in red.gen_undirect_edges():\n",
    "    if not blue.has_edge(v, u):\n",
    "        g_star.add_edge(v, u)\n",
    "for v, u in blue.gen_undirect_edges():\n",
    "    if not red.has_edge(v, u):\n",
    "        g_star.add_edge(v, u)\n",
    "\n",
    "print(has_cycle(g_star), how_many_components(g_star))"
   ]
  },
  {
   "cell_type": "code",
   "execution_count": 5,
   "metadata": {},
   "outputs": [],
   "source": [
    "def display(a, b, back_edge=False, msg=''):\n",
    "    if back_edge:\n",
    "        print(a, b, msg, \"<back edge>\")\n",
    "    else:\n",
    "        print(a, b, msg)"
   ]
  },
  {
   "cell_type": "code",
   "execution_count": 6,
   "metadata": {},
   "outputs": [
    {
     "output_type": "stream",
     "name": "stdout",
     "text": [
      "1 2 blue\n1 4 red\n4 2 red <back edge>\n4 3 red\n3 2 blue <back edge>\n10\n5 9 blue\n5 6 red\n6 7 red\n7 8 red\n8 10 blue\n10 9 blue <back edge>\n12\n11 12 red\n12 13 red\n13 14 red\n14 15 blue\n15 16 blue\n10\n17 18 red\n17 19 blue\n19 20 blue\n20 18 red <back edge>\n20 21 red\n20 22 blue\n22 23 blue\n23 21 red <back edge>\n16\n24 26 blue\n24 27 blue\n24 28 red\n24 29 red\n29 30 red\n26 25 blue\n12\n"
     ]
    }
   ],
   "source": [
    "vertices = set(g_star.vertices)\n",
    "\n",
    "def search(graph, start):\n",
    "    \n",
    "    stack = [start]\n",
    "    stacked = set(stack)\n",
    "    parent = {start : None}\n",
    "\n",
    "    count = 0\n",
    "    while stack:\n",
    "        v = stack.pop()\n",
    "        stacked.remove(v)\n",
    "        for w in graph.adjacent_to(v):\n",
    "            count += 1\n",
    "            if w not in parent:\n",
    "                txt = 'red' if red.has_edge(v, w) else 'blue'\n",
    "                parent[w] = v\n",
    "                stack.append(w)\n",
    "                stacked.add(w)\n",
    "                display(v, w, msg=txt)\n",
    "            elif w in stacked and w != parent[v]:\n",
    "                txt = 'red' if red.has_edge(v, w) else 'blue'\n",
    "                display(v, w, back_edge=True, msg=txt)\n",
    "    print(count)\n",
    "    return parent\n",
    "\n",
    "while vertices:\n",
    "    pivot = vertices.pop()\n",
    "    parent = search(g_star, pivot)\n",
    "    vertices = vertices - parent.keys()"
   ]
  },
  {
   "cell_type": "code",
   "execution_count": null,
   "metadata": {},
   "outputs": [],
   "source": [
    "class Partition:\n",
    "\n",
    "    def __init__(self):\n",
    "        self.portal = set()\n",
    "        self.edges = set()\n",
    "        self.cost = 0\n",
    "\n",
    "    def add(self, first, second):\n",
    "        self.edges.add((first, second))\n",
    "        # self.cost += f_weight(first, secondb )\n",
    "\n",
    "    def __str__(self):\n",
    "        return self.__repr__()\n",
    "\n",
    "    def __repr__(self):\n",
    "        return f\"Partition <{self.portal}>\""
   ]
  },
  {
   "cell_type": "code",
   "execution_count": 8,
   "metadata": {},
   "outputs": [
    {
     "output_type": "stream",
     "name": "stdout",
     "text": [
      "1 2 3 [4] 5 [6] [7] 8 [9] [10] 11 [12] [13] 14 [15] 16 17 [18] [19] 20 [21] [22] 23 24 25 [26] 27 28 [29] 30 "
     ]
    }
   ],
   "source": [
    "unvisited = set(g_star.vertices)\n",
    "\n"
   ]
  },
  {
   "cell_type": "code",
   "execution_count": null,
   "metadata": {},
   "outputs": [],
   "source": []
  },
  {
   "cell_type": "code",
   "execution_count": null,
   "metadata": {},
   "outputs": [],
   "source": []
  }
 ]
}