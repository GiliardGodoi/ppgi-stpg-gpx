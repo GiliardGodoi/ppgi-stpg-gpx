{
 "metadata": {
  "language_info": {
   "codemirror_mode": {
    "name": "ipython",
    "version": 3
   },
   "file_extension": ".py",
   "mimetype": "text/x-python",
   "name": "python",
   "nbconvert_exporter": "python",
   "pygments_lexer": "ipython3",
   "version": "3.7.9-final"
  },
  "orig_nbformat": 2,
  "kernelspec": {
   "name": "python3",
   "display_name": "Python 3",
   "language": "python"
  }
 },
 "nbformat": 4,
 "nbformat_minor": 2,
 "cells": [
  {
   "source": [
    "# Partition Crossover for Steiner Trees (PXST) - How does it work?\n",
    "\n",
    "This notebook aims to explain the Partition Crossover Algorithm's main steps for the Steiner Tree Problem in Graphs.\n",
    "\n",
    "The first version is available in the package:\n",
    "\n",
    "```python\n",
    "from ga4stpg.tree.pxcrossover import PXTree\n",
    "```"
   ],
   "cell_type": "markdown",
   "metadata": {}
  },
  {
   "source": [
    "## Imports\n",
    "\n",
    "The packages used in the implementation:"
   ],
   "cell_type": "markdown",
   "metadata": {}
  },
  {
   "cell_type": "code",
   "execution_count": 1,
   "metadata": {},
   "outputs": [],
   "source": [
    "from collections import deque\n",
    "from operator import attrgetter\n",
    "from random import choice\n",
    "\n",
    "from ga4stpg.graph import UGraph\n",
    "from ga4stpg.graph.disjointsets import DisjointSets"
   ]
  },
  {
   "source": [
    "## Component Class\n",
    "\n",
    "This class represents a component (or partition) formed by a non-common edges' set.\n",
    "\n",
    "The edges are stored in a dictionary data structure. Then, we maintain the correspondent parent node information for each edge, although this information is useless for the rest of the algorithm.\n",
    "\n",
    "The add method does not guarantee that component will be all connected."
   ],
   "cell_type": "markdown",
   "metadata": {}
  },
  {
   "cell_type": "code",
   "execution_count": 2,
   "metadata": {},
   "outputs": [],
   "source": [
    "class Component:\n",
    "\n",
    "    def __init__(self, first, second, initialcost=0):\n",
    "        self.edges = {first : None, second : first}\n",
    "        self.portal = set()\n",
    "        self.cost = initialcost\n",
    "\n",
    "    def add(self, first, second):\n",
    "        self.edges[second] = first\n",
    "\n",
    "    def __contains__(self, value):\n",
    "        return value in self.edges\n",
    "\n",
    "    def __str__(self):\n",
    "        return self.__repr__()\n",
    "\n",
    "    def __repr__(self):\n",
    "        return f\"Component <{self.portal}>\""
   ]
  },
  {
   "source": [
    "## Compose function\n",
    "\n",
    "A compose function returns three subgraphs that will be used forward: the union subgraph; the subgraph formed only by common edges; and the star subgraph, the subgraph formed only by non-common edges."
   ],
   "cell_type": "markdown",
   "metadata": {}
  },
  {
   "cell_type": "code",
   "execution_count": 3,
   "metadata": {},
   "outputs": [],
   "source": [
    "def compose(red : UGraph, blue : UGraph):\n",
    "    '''\n",
    "    Parameters:\n",
    "    ----------\n",
    "        red, blue : Graph\n",
    "\n",
    "    Return:\n",
    "    -------\n",
    "        g_union, g_common, g_star : Graph\n",
    "    '''\n",
    "\n",
    "    g_union  = UGraph()\n",
    "    g_common = UGraph()\n",
    "    g_star   = UGraph()\n",
    "\n",
    "    for v, u in red.gen_undirect_edges():\n",
    "        g_union.add_edge(v, u)\n",
    "\n",
    "        if not blue.has_edge(v,u):\n",
    "            g_star.add_edge(v,u)\n",
    "\n",
    "    for v, u in blue.gen_undirect_edges():\n",
    "        g_union.add_edge(v, u)\n",
    "\n",
    "        if red.has_edge(v,u):\n",
    "            g_common.add_edge(v, u)\n",
    "        else:\n",
    "            g_star.add_edge(v,u)\n",
    "\n",
    "\n",
    "    return g_union, g_common, g_star"
   ]
  },
  {
   "source": [
    "## Indentifying the components\n",
    "\n",
    "\n",
    "In this version, the components are identified from the union graph. \n",
    "The common graph is the base for the offspring that the operation will return it. \n",
    "\n",
    "The star graph is not used at all. \n",
    "Some explications for this fact can be:\n",
    "1. The transversal search on the union graph builds the disjoint sets for the common edges as its finds the components;\n",
    "2. The implementation of the transversal search does not handle disconnected components.\n",
    "\n",
    "The method \"connected\" computes the components for recombination. Each component will be tested and evaluated later.\n",
    "\n",
    "This method takes the following parameters: the union graph, the red solution (Steiner tree); the blue solution; and a start node. The start vertice is always a terminal node.\n",
    "\n",
    "```python\n",
    "def connected(self, g_union : UGraph, red : UGraph, blue : UGraph, start : 'node'):\n",
    "    #...\n",
    "```\n",
    "\n",
    "Furthermore, it returns a list of components for the red solution and another list for the blue solution. This method also returns a disjoint set data structure representing the components formed by joint edges.\n",
    "\n",
    "\n",
    " "
   ],
   "cell_type": "markdown",
   "metadata": {}
  },
  {
   "cell_type": "code",
   "execution_count": 4,
   "metadata": {},
   "outputs": [],
   "source": [
    "# def connected(self, g_union : UGraph, red : UGraph, blue : UGraph, start : 'node'):\n",
    "def connected( g_union : UGraph, red : UGraph, blue : UGraph, start : 'node', f-f_weight):\n",
    "\n",
    "        linkedlist = deque([start])\n",
    "        visited = set()\n",
    "        parents = DisjointSets()\n",
    "        # f_weight = f_weight\n",
    "\n",
    "        for v in g_union.vertices:\n",
    "            parents.make_set(v)\n",
    "\n",
    "        def chase(main, node, component):\n",
    "\n",
    "            if (node in red) and (node in blue):\n",
    "                if node not in visited and node not in linkedlist:\n",
    "                    linkedlist.appendleft(node)\n",
    "\n",
    "                component.portal.add(node)\n",
    "                return\n",
    "\n",
    "            for w in main.adjacent_to(node):\n",
    "                if w in component.edges:\n",
    "                    continue\n",
    "                component.add(node, w)\n",
    "                component.cost += f_weight(node, w)\n",
    "                chase(main, w, component)\n",
    "            # end for loop\n",
    "            visited.add(node)\n",
    "\n",
    "        components_red  = list()\n",
    "        components_blue = list()\n",
    "\n",
    "        while linkedlist:\n",
    "            u = linkedlist.pop()\n",
    "            visited.add(u)\n",
    "            for v in g_union.adjacent_to(u):\n",
    "                if v in visited:\n",
    "                    continue\n",
    "                if red.has_edge(u,v) and blue.has_edge(u,v):\n",
    "                    linkedlist.append(v)\n",
    "                    parents.union(u, v)\n",
    "\n",
    "                elif red.has_edge(u,v):\n",
    "                    component = Component(u, v, initialcost=f_weight(u,v))\n",
    "                    chase(red, v, component)\n",
    "                    chase(red, u, component)\n",
    "                    components_red.append(component)\n",
    "\n",
    "                elif blue.has_edge(u,v):\n",
    "                    component = Component(u, v, initialcost=f_weight(u,v))\n",
    "                    chase(blue, v, component)\n",
    "                    chase(blue, u, component)\n",
    "                    components_blue.append(component)\n",
    "            # end for loop\n",
    "        # end while loop\n",
    "        return components_red, components_blue, parents"
   ]
  },
  {
   "source": [
    "For this example, let us consider the following STPG instance and some candidate solutions. "
   ],
   "cell_type": "markdown",
   "metadata": {}
  },
  {
   "cell_type": "code",
   "execution_count": 5,
   "metadata": {},
   "outputs": [],
   "source": [
    "from os import path\n",
    "from pprint import pprint\n",
    "from ga4stpg.graph.reader import ReaderORLibrary\n",
    "\n",
    "instance_problem = \"steinb5.txt\"\n",
    "folder_datasets = path.join('..', '..', 'ppgi-stpg-gpx', 'datasets', 'ORLibrary')\n",
    "filename = path.join(folder_datasets, instance_problem)\n",
    "\n",
    "STPG = ReaderORLibrary().parser(filename)\n",
    "\n",
    "def f_weight(x, y):\n",
    "    return STPG.graph.weight(x,y)"
   ]
  },
  {
   "cell_type": "code",
   "execution_count": 6,
   "metadata": {},
   "outputs": [
    {
     "output_type": "stream",
     "name": "stdout",
     "text": [
      "STPG information \n - - - - - - - - - -  \n\nInstance:  B5\nNro. Node: 50\nNro. Edges: 100\nNro. Terminals: 13\nTerminals: \n {3, 35, 5, 37, 7, 39, 13, 15, 16, 20, 23, 24, 31}\n"
     ]
    }
   ],
   "source": [
    "print(\"STPG information\", '\\n', 10*'- ','\\n')\n",
    "print('Instance: ', STPG.name)\n",
    "print(\"Nro. Node:\", STPG.nro_nodes)\n",
    "print(\"Nro. Edges:\", STPG.nro_edges)\n",
    "print(\"Nro. Terminals:\", STPG.nro_terminals)\n",
    "print(\"Terminals: \\n\", STPG.terminals)"
   ]
  },
  {
   "cell_type": "code",
   "execution_count": 7,
   "metadata": {},
   "outputs": [
    {
     "output_type": "stream",
     "name": "stdout",
     "text": [
      "(282, 1)\n(252, 1)\n"
     ]
    }
   ],
   "source": [
    "from ga4stpg.tree.evaluation import EvaluateTreeGraph\n",
    "from ga4stpg.tree.generate import GenerateBasedRandomWalk\n",
    "from ga4stpg.tree.mutate import Prunning\n",
    "\n",
    "generator = GenerateBasedRandomWalk(STPG)\n",
    "evaluator = EvaluateTreeGraph(STPG)\n",
    "prunning  = Prunning(STPG)\n",
    "\n",
    "red  = generator()\n",
    "blue = generator()\n",
    "\n",
    "print(evaluator(red))\n",
    "print(evaluator(blue))\n"
   ]
  },
  {
   "cell_type": "code",
   "execution_count": 8,
   "metadata": {},
   "outputs": [
    {
     "output_type": "stream",
     "name": "stdout",
     "text": [
      "(167, 1)\n(163, 1)\n"
     ]
    }
   ],
   "source": [
    "red = prunning(red)\n",
    "blue = prunning(blue)\n",
    "\n",
    "print(evaluator(red))\n",
    "print(evaluator(blue))"
   ]
  },
  {
   "cell_type": "code",
   "execution_count": 9,
   "metadata": {},
   "outputs": [],
   "source": [
    "g_union, g_common, g_star = compose(red, blue)"
   ]
  },
  {
   "cell_type": "code",
   "execution_count": 10,
   "metadata": {},
   "outputs": [
    {
     "output_type": "stream",
     "name": "stdout",
     "text": [
      "7\n",
      "1\n",
      "1\n"
     ]
    }
   ],
   "source": [
    "from ga4stpg.graph.util import how_many_components\n",
    "\n",
    "print(how_many_components(g_common))\n",
    "print(how_many_components(g_union))\n",
    "print(how_many_components(g_star))"
   ]
  },
  {
   "cell_type": "code",
   "execution_count": 11,
   "metadata": {},
   "outputs": [
    {
     "output_type": "stream",
     "name": "stdout",
     "text": [
      "starting node:  16\n<class 'list'> 15\n<class 'list'> 14\n<class 'ga4stpg.graph.disjointsets.DisjointSets'> 40\n"
     ]
    }
   ],
   "source": [
    "start = choice(tuple(STPG.terminals))\n",
    "print(\"starting node: \", start)\n",
    "\n",
    "first, second, previous = connected(g_union, red, blue, start, f_weight)\n",
    "print(type(first), len(first))\n",
    "print(type(second), len(second))\n",
    "print(type(previous), len(previous))"
   ]
  },
  {
   "cell_type": "code",
   "execution_count": 12,
   "metadata": {},
   "outputs": [],
   "source": [
    "# for component in first:\n",
    "#     print(component.portal,\" Cost: \",component.cost)"
   ]
  },
  {
   "cell_type": "code",
   "execution_count": 13,
   "metadata": {},
   "outputs": [],
   "source": [
    "# for component in second:\n",
    "#     print(component.portal,\" Cost: \",component.cost)"
   ]
  },
  {
   "cell_type": "code",
   "execution_count": 14,
   "metadata": {},
   "outputs": [
    {
     "output_type": "stream",
     "name": "stdout",
     "text": [
      "How many components are there?\n15\n14\n"
     ]
    }
   ],
   "source": [
    "print(\"How many components are there?\")\n",
    "\n",
    "print(len(first))\n",
    "print(len(second))"
   ]
  },
  {
   "cell_type": "code",
   "execution_count": 15,
   "metadata": {},
   "outputs": [],
   "source": [
    "from collections import defaultdict"
   ]
  },
  {
   "cell_type": "code",
   "execution_count": 16,
   "metadata": {},
   "outputs": [],
   "source": [
    "candidates = defaultdict(list)\n",
    "recombinantes = list()\n",
    "non_first = list()\n",
    "non_second = list()\n",
    "\n",
    "for component in first:\n",
    "    ss = frozenset(previous.find(v) for v in component.portal)\n",
    "    candidates[ss].append(component)\n",
    "\n",
    "for component in second:\n",
    "    ss = frozenset(previous.find(v) for v in component.portal)\n",
    "    if ss in candidates:\n",
    "        candidates[ss].append(component)\n",
    "    else:\n",
    "        non_second.append(component)\n",
    "\n",
    "for values in candidates.values():\n",
    "    if len(values) == 2 :\n",
    "        recombinantes.append(values)\n",
    "    else:\n",
    "        non_first.append(values)"
   ]
  },
  {
   "cell_type": "code",
   "execution_count": 17,
   "metadata": {},
   "outputs": [
    {
     "output_type": "stream",
     "name": "stdout",
     "text": [
      "defaultdict(<class 'list'>,\n            {frozenset({2, 20}): [Component <{2, 20}>],\n             frozenset({1, 3}): [Component <{1, 21}>],\n             frozenset({3, 39}): [Component <{3, 39}>],\n             frozenset({4, 37}): [Component <{4, 37}>],\n             frozenset({35, 4}): [Component <{49, 4}>],\n             frozenset({35, 20}): [Component <{49, 20}>],\n             frozenset({1, 7}): [Component <{1, 7}>],\n             frozenset({1, 10}): [Component <{40, 1}>, Component <{1, 18}>],\n             frozenset({24, 15}): [Component <{24, 25}>],\n             frozenset({37, 45}): [Component <{36, 37}>],\n             frozenset({35, 27}): [Component <{17, 35}>],\n             frozenset({24, 45}): [Component <{24, 45}>],\n             frozenset({10, 5}): [Component <{18, 5}>, Component <{18, 5}>],\n             frozenset({27, 5}): [Component <{48, 5}>]})\n"
     ]
    }
   ],
   "source": [
    "pprint(candidates)"
   ]
  },
  {
   "cell_type": "code",
   "execution_count": 18,
   "metadata": {},
   "outputs": [
    {
     "output_type": "execute_result",
     "data": {
      "text/plain": [
       "[[Component <{40, 1}>, Component <{1, 18}>],\n",
       " [Component <{18, 5}>, Component <{18, 5}>]]"
      ]
     },
     "metadata": {},
     "execution_count": 18
    }
   ],
   "source": [
    "recombinantes"
   ]
  },
  {
   "cell_type": "code",
   "execution_count": 19,
   "metadata": {},
   "outputs": [
    {
     "output_type": "stream",
     "name": "stdout",
     "text": [
      "Recombinants:  2\nNon recombinants for first:  12\nNon recombinants for second: 13\n"
     ]
    }
   ],
   "source": [
    "print(\"Recombinants: \", len(recombinantes))\n",
    "print(\"Non recombinants for first: \", len(non_first))\n",
    "print(\"Non recombinants for second:\", len(non_second))"
   ]
  },
  {
   "source": [
    "As we can observe, just a few components are feasible for recombination following the most straightforward criterion, which is components whose portal vertices connect to the same common edges component."
   ],
   "cell_type": "markdown",
   "metadata": {}
  },
  {
   "cell_type": "code",
   "execution_count": 20,
   "metadata": {},
   "outputs": [],
   "source": [
    "# Util\n",
    "\n",
    "def list_of_edges(component):\n",
    "    edges = set()\n",
    "    for u, v in component.edges.items():\n",
    "        if v is not None: \n",
    "            edges.add((u, v))\n",
    "    return edges"
   ]
  },
  {
   "cell_type": "code",
   "execution_count": 21,
   "metadata": {},
   "outputs": [
    {
     "output_type": "stream",
     "name": "stdout",
     "text": [
      "Component <{2, 20}> True\n",
      "Component <{1, 21}> True\n",
      "Component <{3, 39}> True\n",
      "Component <{4, 37}> True\n",
      "Component <{49, 4}> True\n",
      "Component <{49, 20}> True\n",
      "Component <{1, 7}> True\n",
      "Component <{40, 1}> True\n",
      "Component <{24, 25}> True\n",
      "Component <{36, 37}> True\n",
      "Component <{17, 35}> True\n",
      "Component <{24, 45}> True\n",
      "Component <{18, 5}> True\n",
      "Component <{18, 5}> True\n",
      "Component <{48, 5}> True\n"
     ]
    }
   ],
   "source": [
    "red_components = list()\n",
    "\n",
    "for component in first:\n",
    "    edges = list_of_edges(component)\n",
    "    # existe alguma aresta dos componentes de 'first' que não pertença a 'red'\n",
    "    result = all(red.has_edge(v,u) for v, u in edges)\n",
    "    # existe alguma aresta de algum componente em 'first' que tbm pertença ao grafo 'blue'\n",
    "    r_blue = any(blue.has_edge(v,u) for v, u in edges)\n",
    "    print(component, (result and not r_blue))"
   ]
  },
  {
   "cell_type": "code",
   "execution_count": 22,
   "metadata": {},
   "outputs": [
    {
     "output_type": "stream",
     "name": "stdout",
     "text": [
      "Component <{16, 21}> True\nComponent <{2, 4}> True\nComponent <{3, 20}> True\nComponent <{25, 23}> True\nComponent <{24, 4}> True\nComponent <{36, 4}> True\nComponent <{20, 39}> True\nComponent <{1, 35}> True\nComponent <{1, 18}> True\nComponent <{48, 25}> True\nComponent <{40, 37}> True\nComponent <{49, 5}> True\nComponent <{49, 45}> True\nComponent <{17, 7}> True\n"
     ]
    }
   ],
   "source": [
    "for component in second:\n",
    "    edges = list_of_edges(component)\n",
    "    result = all(blue.has_edge(v,u) for v, u in edges)\n",
    "    r_red = any(red.has_edge(v,u) for v, u in edges)\n",
    "    print(component, (result and not r_red))"
   ]
  },
  {
   "cell_type": "code",
   "execution_count": 23,
   "metadata": {},
   "outputs": [
    {
     "output_type": "stream",
     "name": "stdout",
     "text": [
      "Component <{2, 20}>  Cost:  4 False\nComponent <{1, 21}>  Cost:  5 False\nComponent <{3, 39}>  Cost:  4 False\nComponent <{4, 37}>  Cost:  9 False\nComponent <{49, 4}>  Cost:  10 False\nComponent <{49, 20}>  Cost:  2 False\nComponent <{1, 7}>  Cost:  2 False\nComponent <{40, 1}>  Cost:  8 False\nComponent <{24, 25}>  Cost:  16 False\nComponent <{36, 37}>  Cost:  10 False\nComponent <{17, 35}>  Cost:  16 False\nComponent <{24, 45}>  Cost:  8 False\nComponent <{18, 5}>  Cost:  3 False\nComponent <{18, 5}>  Cost:  3 False\nComponent <{48, 5}>  Cost:  3 False\n\n\n\nComponent <{16, 21}>  Cost:  16 False\nComponent <{2, 4}>  Cost:  5 False\nComponent <{3, 20}>  Cost:  1 False\nComponent <{25, 23}>  Cost:  3 False\nComponent <{24, 4}>  Cost:  1 False\nComponent <{36, 4}>  Cost:  20 False\nComponent <{20, 39}>  Cost:  1 False\nComponent <{1, 35}>  Cost:  10 False\nComponent <{1, 18}>  Cost:  3 False\nComponent <{48, 25}>  Cost:  9 False\nComponent <{40, 37}>  Cost:  4 False\nComponent <{49, 5}>  Cost:  4 False\nComponent <{49, 45}>  Cost:  12 False\nComponent <{17, 7}>  Cost:  7 False\n"
     ]
    }
   ],
   "source": [
    "# existe alguma aresta pertencente aos componentes  que pertença ao grafo 'g_common'\n",
    "# isto é, alguma aresta que pertença a ambas as soluções?\n",
    "\n",
    "for component in first:\n",
    "    edges = list_of_edges(component)\n",
    "    result = any(g_common.has_edge(v,u) for v, u in edges)\n",
    "    print(component,\" Cost: \",component.cost, result)\n",
    "\n",
    "print(\"\\n\\n\")\n",
    "\n",
    "for component in second:\n",
    "    edges = list_of_edges(component)\n",
    "    result = any(g_common.has_edge(v,u) for v, u in edges)\n",
    "    print(component,\" Cost: \",component.cost, result)"
   ]
  },
  {
   "cell_type": "code",
   "execution_count": 26,
   "metadata": {},
   "outputs": [],
   "source": [
    "# Os vértices portais são todos vértices comuns às duas soluções?\n",
    "\n",
    "assert all(red.has_node(p) and blue.has_node(p) \n",
    "        for p in component.portal \n",
    "            for component in first)\n",
    "\n",
    "assert all(red.has_node(p) and blue.has_node(p) \n",
    "        for p in component.portal \n",
    "            for component in second)"
   ]
  },
  {
   "cell_type": "code",
   "execution_count": 30,
   "metadata": {},
   "outputs": [
    {
     "output_type": "execute_result",
     "data": {
      "text/plain": [
       "False"
      ]
     },
     "metadata": {},
     "execution_count": 30
    }
   ],
   "source": [
    "# Existem vértices comuns que não são portais no interior das componentes?\n",
    "\n",
    "vertices_first = set()\n",
    "for component in first:\n",
    "    edges = list_of_edges(component)\n",
    "    for v, u in edges:\n",
    "        if v not in component.portal:\n",
    "            vertices_first.add(v)\n",
    "        if u not in component.portal:\n",
    "            vertices_first.add(u)\n",
    "\n",
    "any(red.has_node(v) and blue.has_node(v) for v in vertices_first)"
   ]
  },
  {
   "cell_type": "code",
   "execution_count": 31,
   "metadata": {},
   "outputs": [
    {
     "output_type": "execute_result",
     "data": {
      "text/plain": [
       "False"
      ]
     },
     "metadata": {},
     "execution_count": 31
    }
   ],
   "source": [
    "vertices_second = set()\n",
    "\n",
    "for component in second:\n",
    "    edges = list_of_edges(component)\n",
    "    for v, u in edges:\n",
    "        if v not in component.portal:\n",
    "            vertices_second.add(v)\n",
    "        if u not in component.portal:\n",
    "            vertices_second.add(u)\n",
    "\n",
    "any(red.has_node(v) and blue.has_node(v) for v in vertices_second)"
   ]
  },
  {
   "cell_type": "code",
   "execution_count": null,
   "metadata": {},
   "outputs": [],
   "source": []
  }
 ]
}