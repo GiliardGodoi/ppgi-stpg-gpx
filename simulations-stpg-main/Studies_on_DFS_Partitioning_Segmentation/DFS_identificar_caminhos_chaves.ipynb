{
 "metadata": {
  "language_info": {
   "codemirror_mode": {
    "name": "ipython",
    "version": 3
   },
   "file_extension": ".py",
   "mimetype": "text/x-python",
   "name": "python",
   "nbconvert_exporter": "python",
   "pygments_lexer": "ipython3",
   "version": "3.7.9-final"
  },
  "orig_nbformat": 2,
  "kernelspec": {
   "name": "python3",
   "display_name": "Python 3",
   "language": "python"
  }
 },
 "nbformat": 4,
 "nbformat_minor": 2,
 "cells": [
  {
   "cell_type": "code",
   "execution_count": 1,
   "metadata": {},
   "outputs": [],
   "source": [
    "from ga4stpg.graph import UGraph"
   ]
  },
  {
   "cell_type": "code",
   "execution_count": 2,
   "metadata": {},
   "outputs": [
    {
     "output_type": "stream",
     "name": "stdout",
     "text": [
      "8\n"
     ]
    }
   ],
   "source": [
    "\n",
    "graph = UGraph()\n",
    "\n",
    "terminals = {15, 16, 5, 17, 11}\n",
    "\n",
    "edges = [(15, 2), \n",
    "         (16, 2), \n",
    "         (2, 5), \n",
    "         (5, 7), \n",
    "         (7, 9), \n",
    "         (9, 1),\n",
    "         (1, 17), \n",
    "         (1, 11)]\n",
    "\n",
    "print(len(edges))\n",
    "\n",
    "for v, u in edges:\n",
    "    graph.add_edge(v, u)"
   ]
  },
  {
   "cell_type": "code",
   "execution_count": 3,
   "metadata": {},
   "outputs": [],
   "source": [
    "# graph.add_edge(9, 11)"
   ]
  },
  {
   "cell_type": "code",
   "execution_count": 4,
   "metadata": {},
   "outputs": [],
   "source": [
    "## versão utilizando pilha\n",
    "\n",
    "def key_paths(graph : UGraph, terminals, start):\n",
    "\n",
    "    if start not in graph: raise AttributeError(f\"Node start <{start}> not in graph\")\n",
    "    visited = set()\n",
    "    visited.add(start)\n",
    "\n",
    "    def search(s, v, subgraph):\n",
    "        path = [s, v]\n",
    "        stack = list()\n",
    "        # print('--->', s, v)\n",
    "\n",
    "        if v not in terminals \\\n",
    "            and subgraph.degree(v) <= 2:\n",
    "            stack.append(v)\n",
    "\n",
    "        while stack:\n",
    "            u = stack.pop()\n",
    "            visited.add(u)\n",
    "            if (u not in terminals) \\\n",
    "                and (subgraph.degree(u) <= 2):\n",
    "                for w in subgraph.adjacent_to(u):\n",
    "                    if w not in visited :\n",
    "                        stack.append(w)\n",
    "                        path.append(w)\n",
    "\n",
    "        return path\n",
    "    # search end\n",
    "    paths = list()\n",
    "    \n",
    "    for v in graph.adjacent_to(start):\n",
    "        if v not in visited:\n",
    "            path = search(start, v, graph)\n",
    "            paths.append(path)\n",
    "\n",
    "    return paths"
   ]
  },
  {
   "cell_type": "code",
   "execution_count": 5,
   "metadata": {},
   "outputs": [
    {
     "output_type": "stream",
     "name": "stdout",
     "text": [
      "[[5, 2], [5, 7, 9, 1]]\n"
     ]
    }
   ],
   "source": [
    "paths = key_paths(graph, terminals, 5)\n",
    "\n",
    "print(paths)\n",
    "\n",
    "assert [5, 2] in paths\n",
    "assert [5, 7, 9, 1] in paths"
   ]
  },
  {
   "cell_type": "code",
   "execution_count": 6,
   "metadata": {},
   "outputs": [
    {
     "output_type": "execute_result",
     "data": {
      "text/plain": [
       "[[2, 16], [2, 5], [2, 15]]"
      ]
     },
     "metadata": {},
     "execution_count": 6
    }
   ],
   "source": [
    "paths = key_paths(graph, terminals, 2)\n",
    "\n",
    "paths"
   ]
  },
  {
   "cell_type": "code",
   "execution_count": 7,
   "metadata": {},
   "outputs": [
    {
     "output_type": "stream",
     "name": "stdout",
     "text": [
      "[[9, 1], [9, 7, 5]]\n"
     ]
    }
   ],
   "source": [
    "paths = key_paths(graph, terminals, 9)\n",
    "\n",
    "print(paths)\n",
    "\n",
    "assert [9, 1] in paths\n",
    "assert [9, 7, 5] in paths"
   ]
  },
  {
   "cell_type": "code",
   "execution_count": 8,
   "metadata": {},
   "outputs": [
    {
     "output_type": "execute_result",
     "data": {
      "text/plain": [
       "[[1, 9, 7, 5], [1, 11], [1, 17]]"
      ]
     },
     "metadata": {},
     "execution_count": 8
    }
   ],
   "source": [
    "key_paths(graph, terminals, 1)"
   ]
  },
  {
   "cell_type": "code",
   "execution_count": 9,
   "metadata": {},
   "outputs": [
    {
     "output_type": "stream",
     "name": "stdout",
     "text": [
      "[[7, 9, 1], [7, 5]]\n"
     ]
    }
   ],
   "source": [
    "paths = key_paths(graph, terminals, 7)\n",
    "\n",
    "print(paths)\n",
    "\n",
    "assert [7, 9, 1] in paths\n",
    "assert [7, 5] in paths"
   ]
  },
  {
   "source": [
    "## Segunda Versão "
   ],
   "cell_type": "markdown",
   "metadata": {}
  },
  {
   "cell_type": "code",
   "execution_count": 10,
   "metadata": {},
   "outputs": [],
   "source": [
    "# versão recursiva\n",
    "\n",
    "def key_path2(graph : UGraph, terminals, start):\n",
    "    \n",
    "    def P(v, u, path=None):\n",
    "        if path is None:\n",
    "            path = [v]\n",
    "        \n",
    "        path.append(u)\n",
    "\n",
    "        if u in terminals \\\n",
    "            or graph.degree(u) > 2:\n",
    "            return path\n",
    "        else:\n",
    "            for w in graph.adjacent_to(u):\n",
    "                if w != v:\n",
    "                    return P(u, w, path=path)\n",
    "    ## P end\n",
    "    paths = list()\n",
    "    for v in graph.adjacent_to(start):\n",
    "        path = P(start, v)\n",
    "        paths.append(path)\n",
    "\n",
    "    return paths"
   ]
  },
  {
   "cell_type": "code",
   "execution_count": 11,
   "metadata": {},
   "outputs": [
    {
     "output_type": "execute_result",
     "data": {
      "text/plain": [
       "[[5, 2], [5, 7, 9, 1]]"
      ]
     },
     "metadata": {},
     "execution_count": 11
    }
   ],
   "source": [
    "key_path2(graph, terminals, 5)"
   ]
  },
  {
   "cell_type": "code",
   "execution_count": 12,
   "metadata": {},
   "outputs": [
    {
     "output_type": "execute_result",
     "data": {
      "text/plain": [
       "[[2, 16], [2, 5], [2, 15]]"
      ]
     },
     "metadata": {},
     "execution_count": 12
    }
   ],
   "source": [
    "key_path2(graph, terminals, 2)"
   ]
  },
  {
   "cell_type": "code",
   "execution_count": 13,
   "metadata": {},
   "outputs": [
    {
     "output_type": "execute_result",
     "data": {
      "text/plain": [
       "[[1, 9, 7, 5], [1, 11], [1, 17]]"
      ]
     },
     "metadata": {},
     "execution_count": 13
    }
   ],
   "source": [
    "key_path2(graph, terminals, 1)"
   ]
  },
  {
   "cell_type": "code",
   "execution_count": 14,
   "metadata": {},
   "outputs": [
    {
     "output_type": "execute_result",
     "data": {
      "text/plain": [
       "[[17, 1]]"
      ]
     },
     "metadata": {},
     "execution_count": 14
    }
   ],
   "source": [
    "key_path2(graph, terminals, 17)"
   ]
  },
  {
   "cell_type": "code",
   "execution_count": 15,
   "metadata": {},
   "outputs": [
    {
     "output_type": "execute_result",
     "data": {
      "text/plain": [
       "[[7, 9, 1], [7, 5]]"
      ]
     },
     "metadata": {},
     "execution_count": 15
    }
   ],
   "source": [
    "key_path2(graph, terminals, 7)"
   ]
  }
 ]
}