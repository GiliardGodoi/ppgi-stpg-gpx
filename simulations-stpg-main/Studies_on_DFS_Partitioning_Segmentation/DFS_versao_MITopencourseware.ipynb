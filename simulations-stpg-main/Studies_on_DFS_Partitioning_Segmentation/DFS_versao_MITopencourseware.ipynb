{
 "metadata": {
  "language_info": {
   "codemirror_mode": {
    "name": "ipython",
    "version": 3
   },
   "file_extension": ".py",
   "mimetype": "text/x-python",
   "name": "python",
   "nbconvert_exporter": "python",
   "pygments_lexer": "ipython3",
   "version": "3.7.9-final"
  },
  "orig_nbformat": 2,
  "kernelspec": {
   "name": "python3",
   "display_name": "Python 3.7.9 64-bit ('simu-steiner': conda)",
   "metadata": {
    "interpreter": {
     "hash": "3469fd5f58a4424b781f86b8e15f0f210a2e6ad2f12845e0680bc68b62027f9a"
    }
   }
  }
 },
 "nbformat": 4,
 "nbformat_minor": 2,
 "cells": [
  {
   "cell_type": "code",
   "execution_count": 1,
   "metadata": {},
   "outputs": [],
   "source": [
    "from ga4stpg.graph import UGraph"
   ]
  },
  {
   "cell_type": "code",
   "execution_count": 27,
   "metadata": {},
   "outputs": [],
   "source": [
    "\n",
    "graph = UGraph()\n",
    "\n",
    "graph.add_edge(32, 1)\n",
    "graph.add_edge(1, 35)\n",
    "graph.add_edge(35, 30)\n",
    "graph.add_edge(30, 32)\n",
    "graph.add_edge(32, 36)\n",
    "graph.add_edge(36, 42)\n",
    "graph.add_edge(32, 42)"
   ]
  },
  {
   "cell_type": "code",
   "execution_count": 28,
   "metadata": {},
   "outputs": [],
   "source": [
    "def display(a, b, back_edge=False):\n",
    "    if back_edge:\n",
    "        print(a, b, \"<back edge>\")\n",
    "    else:\n",
    "        print(a, b)"
   ]
  },
  {
   "cell_type": "code",
   "execution_count": 42,
   "metadata": {},
   "outputs": [],
   "source": [
    "def dfs(graph: UGraph):\n",
    "\n",
    "    visited = set()\n",
    "    \n",
    "    def visit(start, subgraph):\n",
    "\n",
    "        stack = [start]\n",
    "\n",
    "        while stack:\n",
    "            v = stack.pop()\n",
    "            visited.add(v)\n",
    "            for w in subgraph.adjacent_to(v):\n",
    "                if w not in visited:\n",
    "                    stack.append(w)\n",
    "                    display(v, w)\n",
    "\n",
    "            # print(stack)\n",
    "    \n",
    "    for s in graph.vertices:\n",
    "        if s not in visited:\n",
    "            visit(s, graph)\n",
    "            print(10*'-')"
   ]
  },
  {
   "cell_type": "code",
   "execution_count": 43,
   "metadata": {},
   "outputs": [
    {
     "output_type": "stream",
     "name": "stdout",
     "text": [
      "32 1\n32 42\n32 36\n32 30\n30 35\n35 1\n36 42\n----------\n"
     ]
    }
   ],
   "source": [
    "dfs(graph)"
   ]
  },
  {
   "cell_type": "code",
   "execution_count": 44,
   "metadata": {},
   "outputs": [],
   "source": [
    "def dfs2(graph : UGraph):\n",
    "    parent = dict()\n",
    "    stacked = set()\n",
    "\n",
    "    def visit2(v, subgraph):\n",
    "        stacked.add(v)\n",
    "        for w in subgraph.adjacent_to(v):\n",
    "            if  w not in parent:\n",
    "                parent[w] = v\n",
    "                display(v, w)\n",
    "                visit2(w, subgraph)\n",
    "            elif w in stacked and w != parent[v]:\n",
    "                display(v, w, back_edge=True)\n",
    "                \n",
    "        stacked.remove(v)\n",
    "\n",
    "\n",
    "    for s in graph.vertices:\n",
    "        if s not in parent:\n",
    "            parent[s] = None\n",
    "            visit2(s, graph)\n",
    "    \n",
    "    return parent"
   ]
  },
  {
   "cell_type": "code",
   "execution_count": 45,
   "metadata": {},
   "outputs": [
    {
     "output_type": "stream",
     "name": "stdout",
     "text": [
      "32 1\n1 35\n35 30\n30 32 <back edge>\n32 42\n42 36\n36 32 <back edge>\n"
     ]
    }
   ],
   "source": [
    "tree = dfs2(graph)"
   ]
  },
  {
   "cell_type": "code",
   "execution_count": 46,
   "metadata": {},
   "outputs": [],
   "source": [
    "graph = UGraph()\n",
    "\n",
    "graph.add_edge(32, 1)\n",
    "graph.add_edge(1, 35)\n",
    "graph.add_edge(35, 30)\n",
    "graph.add_edge(30, 32)\n",
    "graph.add_edge(32, 36)\n",
    "graph.add_edge(36, 42)\n",
    "graph.add_edge(32, 42)\n",
    "\n",
    "# extra edge\n",
    "graph.add_edge(32, 36)"
   ]
  },
  {
   "cell_type": "code",
   "execution_count": 40,
   "metadata": {},
   "outputs": [
    {
     "output_type": "stream",
     "name": "stdout",
     "text": [
      "32 1\n1 35\n35 30\n30 32 <back edge>\n32 42\n42 36\n36 32 <back edge>\n"
     ]
    }
   ],
   "source": [
    "tree = dfs2(graph)"
   ]
  },
  {
   "cell_type": "code",
   "execution_count": 41,
   "metadata": {},
   "outputs": [
    {
     "output_type": "execute_result",
     "data": {
      "text/plain": [
       "{32: None, 1: 32, 35: 1, 30: 35, 42: 32, 36: 42}"
      ]
     },
     "metadata": {},
     "execution_count": 41
    }
   ],
   "source": [
    "tree"
   ]
  },
  {
   "cell_type": "code",
   "execution_count": null,
   "metadata": {},
   "outputs": [],
   "source": []
  }
 ]
}