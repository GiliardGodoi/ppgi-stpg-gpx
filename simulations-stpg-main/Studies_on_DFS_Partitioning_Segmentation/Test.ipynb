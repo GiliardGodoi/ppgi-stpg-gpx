{
 "metadata": {
  "language_info": {
   "codemirror_mode": {
    "name": "ipython",
    "version": 3
   },
   "file_extension": ".py",
   "mimetype": "text/x-python",
   "name": "python",
   "nbconvert_exporter": "python",
   "pygments_lexer": "ipython3",
   "version": "3.7.9-final"
  },
  "orig_nbformat": 2,
  "kernelspec": {
   "name": "python3",
   "display_name": "Python 3.7.9 64-bit ('simu-steiner': conda)",
   "metadata": {
    "interpreter": {
     "hash": "3469fd5f58a4424b781f86b8e15f0f210a2e6ad2f12845e0680bc68b62027f9a"
    }
   }
  }
 },
 "nbformat": 4,
 "nbformat_minor": 2,
 "cells": [
  {
   "cell_type": "code",
   "execution_count": 1,
   "metadata": {},
   "outputs": [],
   "source": [
    "from random import choice"
   ]
  },
  {
   "cell_type": "code",
   "execution_count": 2,
   "metadata": {},
   "outputs": [],
   "source": [
    "from ga4stpg.graph.reader import read_problem\n",
    "from ga4stpg.graph import UGraph\n",
    "from ga4stpg.tree.generate import GenerateBasedPrimRST\n",
    "\n",
    "from ga4stpg.edgeset import UEdge"
   ]
  },
  {
   "cell_type": "code",
   "execution_count": 3,
   "metadata": {},
   "outputs": [],
   "source": [
    "instance_file = 'steinb5.txt'\n",
    "\n",
    "stpg = read_problem('..', '..', 'ppgi-stpg-gpx', 'datasets', 'ORLibrary', instance_file)"
   ]
  },
  {
   "cell_type": "code",
   "execution_count": 4,
   "metadata": {},
   "outputs": [],
   "source": [
    "generate = GenerateBasedPrimRST(stpg)"
   ]
  },
  {
   "cell_type": "code",
   "execution_count": 5,
   "metadata": {},
   "outputs": [],
   "source": [
    "red = generate()\n",
    "blue = generate()"
   ]
  },
  {
   "cell_type": "code",
   "execution_count": 6,
   "metadata": {},
   "outputs": [
    {
     "output_type": "execute_result",
     "data": {
      "text/plain": [
       "False"
      ]
     },
     "metadata": {},
     "execution_count": 6
    }
   ],
   "source": [
    "red.edges == blue.edges"
   ]
  },
  {
   "source": [
    "g_union  = UGraph()\n",
    "g_common = UGraph()\n",
    "g_star   = UGraph()"
   ],
   "cell_type": "code",
   "metadata": {},
   "execution_count": 7,
   "outputs": []
  },
  {
   "cell_type": "code",
   "execution_count": 8,
   "metadata": {},
   "outputs": [],
   "source": [
    "for v, u in red.gen_undirect_edges():\n",
    "    g_union.add_edge(v,u)\n",
    "    if blue.has_edge(v,u):\n",
    "        g_common.add_edge(v,u)\n",
    "    else:\n",
    "        g_star.add_edge(v, u)\n",
    "\n",
    "for v,u in blue.gen_undirect_edges():\n",
    "    g_union.add_edge(v,u)\n",
    "    if not red.has_edge(v, u):\n",
    "        g_star.add_edge(v, u)"
   ]
  },
  {
   "cell_type": "code",
   "execution_count": 9,
   "metadata": {},
   "outputs": [],
   "source": [
    "common_nodes = set()\n",
    "\n",
    "for v in g_star.vertices:\n",
    "    if red.has_node(v) and blue.has_node(v):\n",
    "        common_nodes.add(v)"
   ]
  },
  {
   "cell_type": "code",
   "execution_count": 10,
   "metadata": {},
   "outputs": [
    {
     "output_type": "stream",
     "name": "stdout",
     "text": [
      "38\n38\n"
     ]
    },
    {
     "output_type": "execute_result",
     "data": {
      "text/plain": [
       "True"
      ]
     },
     "metadata": {},
     "execution_count": 10
    }
   ],
   "source": [
    "print(len(common_nodes))\n",
    "print(len(g_star.vertices))\n",
    "\n",
    "len(common_nodes) == len(g_star.vertices)"
   ]
  },
  {
   "cell_type": "code",
   "execution_count": 11,
   "metadata": {},
   "outputs": [
    {
     "output_type": "execute_result",
     "data": {
      "text/plain": [
       "True"
      ]
     },
     "metadata": {},
     "execution_count": 11
    }
   ],
   "source": [
    "g_star_nodes = set(g_star.vertices)\n",
    "\n",
    "g_star_nodes == common_nodes"
   ]
  },
  {
   "source": [
    "### Utilizando DFS para classificar as arestas em comuns, vermelhas ou azuis\n"
   ],
   "cell_type": "markdown",
   "metadata": {}
  },
  {
   "cell_type": "code",
   "execution_count": 12,
   "metadata": {},
   "outputs": [
    {
     "output_type": "stream",
     "name": "stdout",
     "text": [
      "50\n"
     ]
    },
    {
     "output_type": "execute_result",
     "data": {
      "text/plain": [
       "[33, 43, 41, 17, 13, 50, 7, 22, 29]"
      ]
     },
     "metadata": {},
     "execution_count": 12
    }
   ],
   "source": [
    "vertices = set(g_union.vertices)\n",
    "print(len(vertices))\n",
    "\n",
    "leaves = [v for v in g_union.vertices if g_union.degree(v) == 1 ]\n",
    "\n",
    "leaves"
   ]
  },
  {
   "cell_type": "code",
   "execution_count": 13,
   "metadata": {},
   "outputs": [],
   "source": [
    "common_edges = set()\n",
    "red_edges = set()\n",
    "blue_edges = set()\n",
    "\n",
    "stack = [leaves.pop()]\n",
    "visited = set()\n",
    "\n",
    "while stack:\n",
    "\n",
    "    v = stack.pop()\n",
    "    visited.add(v)\n",
    "\n",
    "    for w in g_union.adjacent_to(v):\n",
    "        if red.has_edge(v, w) and blue.has_edge(v, w):\n",
    "            common_edges.add(UEdge(v, w))\n",
    "\n",
    "        elif red.has_edge(v, w):\n",
    "            red_edges.add(UEdge(v, w))\n",
    "\n",
    "        elif blue.has_edge(v, w):\n",
    "            blue_edges.add(UEdge(v, w))\n",
    "\n",
    "        if w not in visited:\n",
    "            stack.append(w)\n",
    "        "
   ]
  },
  {
   "cell_type": "code",
   "execution_count": 14,
   "metadata": {},
   "outputs": [
    {
     "output_type": "stream",
     "name": "stdout",
     "text": [
      "29\n20\n20\n"
     ]
    }
   ],
   "source": [
    "print(len(common_edges))\n",
    "print(len(red_edges))\n",
    "print(len(blue_edges))"
   ]
  },
  {
   "cell_type": "code",
   "execution_count": 15,
   "metadata": {},
   "outputs": [],
   "source": [
    "for v, u in red_edges:\n",
    "    if (v, u) in common_edges or (u, v) in common_edges:\n",
    "        print(v,u)"
   ]
  },
  {
   "cell_type": "code",
   "execution_count": 16,
   "metadata": {},
   "outputs": [],
   "source": [
    "for v, u in blue_edges:\n",
    "    if UEdge(v, u) in common_edges :\n",
    "        print(v,u)"
   ]
  },
  {
   "cell_type": "code",
   "execution_count": 17,
   "metadata": {},
   "outputs": [],
   "source": [
    "for v, u in red_edges:\n",
    "    if UEdge(v, u) in blue_edges:\n",
    "        print(v,u)"
   ]
  },
  {
   "source": [
    "### Determinar subestruturas\n",
    "\n"
   ],
   "cell_type": "markdown",
   "metadata": {}
  },
  {
   "cell_type": "code",
   "execution_count": 18,
   "metadata": {},
   "outputs": [],
   "source": [
    "instance_file = 'steinb5.txt'\n",
    "\n",
    "stpg = read_problem('..', '..', 'ppgi-stpg-gpx', 'datasets', 'ORLibrary', instance_file)"
   ]
  },
  {
   "cell_type": "code",
   "execution_count": 72,
   "metadata": {},
   "outputs": [],
   "source": [
    "generate = GenerateBasedPrimRST(stpg)"
   ]
  },
  {
   "cell_type": "code",
   "execution_count": 73,
   "metadata": {},
   "outputs": [],
   "source": [
    "red = generate()\n",
    "blue = generate()"
   ]
  },
  {
   "cell_type": "code",
   "execution_count": 74,
   "metadata": {},
   "outputs": [
    {
     "output_type": "execute_result",
     "data": {
      "text/plain": [
       "21"
      ]
     },
     "metadata": {},
     "execution_count": 74
    }
   ],
   "source": [
    "child = UGraph() # g_intersection\n",
    "red_only = UGraph()\n",
    "blue_only = UGraph()\n",
    "\n",
    "\n",
    "for v, u in red.gen_undirect_edges():\n",
    "    if blue.has_edge(v, u):\n",
    "        child.add_edge(v,u)\n",
    "    else:\n",
    "        red_only.add_edge(v,u)\n",
    "\n",
    "for v, u in blue.gen_undirect_edges():\n",
    "    if not red.has_edge(v, u):\n",
    "        blue_only.add_edge(v, u)\n",
    "\n",
    "intersect_nodes = set(red_only.vertices) & set(blue_only.vertices)\n",
    "\n",
    "len(intersect_nodes)"
   ]
  },
  {
   "cell_type": "code",
   "execution_count": 75,
   "metadata": {},
   "outputs": [],
   "source": [
    "class Partition:\n",
    "\n",
    "    def __init__(self):\n",
    "        self.edges = set()\n",
    "        self.portal = set()\n",
    "        self.cost = 0\n",
    "\n",
    "    def add(self, v, w):\n",
    "        self.edges.add(UEdge(v, w))"
   ]
  },
  {
   "cell_type": "code",
   "execution_count": 76,
   "metadata": {},
   "outputs": [],
   "source": [
    "# red_only.add_edge(41, 40)\n",
    "# red_only.remove_edge(41, 40)\n"
   ]
  },
  {
   "cell_type": "code",
   "execution_count": 77,
   "metadata": {},
   "outputs": [],
   "source": [
    "def display(a, b, back_edge=False):\n",
    "    if back_edge:\n",
    "        print(a, b, \"<back edge>\")\n",
    "    else:\n",
    "        print(a, b)"
   ]
  },
  {
   "cell_type": "code",
   "execution_count": 78,
   "metadata": {},
   "outputs": [],
   "source": [
    "from random import shuffle"
   ]
  },
  {
   "cell_type": "code",
   "execution_count": 89,
   "metadata": {},
   "outputs": [],
   "source": [
    "red_only.add_edge(35, 30)\n",
    "red_only.add_edge(36, 42)"
   ]
  },
  {
   "cell_type": "code",
   "execution_count": 101,
   "metadata": {
    "tags": []
   },
   "outputs": [
    {
     "output_type": "stream",
     "name": "stdout",
     "text": [
      "20 3\n3 34\n34 37\n37 4\n4 24\n4 2\n2 47\n----------\n36 32\n36 42\n42 32\n32 1\n32 30\n30 35\n35 1\n----------\n48 25\n----------\n12 17\n17 21\n17 46\n46 6\n46 38\n46 7\n21 9\n21 49\n----------\n23 43\n23 31\n----------\n"
     ]
    }
   ],
   "source": [
    "'''Esse programa coloca um vértice na stack  repetidas vezes.\n",
    "Desta forma o algoritmo segue o comportamento esperado pela DFS.\n",
    "A desvantagem é que  o laço \"for w in subgraph.adjacent_to(v):\" e a \n",
    "verificação que se segue \"if w not in visited:\" serão repetidas desnecessariamente.\n",
    "\n",
    "Considere o grafo com as arestas:\n",
    " 4  -- 28\n",
    " 4  -- 49\n",
    " 28 -- 49\n",
    " 28 -- 39\n",
    " 39 -- 49\n",
    " 39 -- 20\n",
    " 20 -- 49\n",
    "\n",
    "Por exemplo:\n",
    " Se iniciarmos pelo vértice 4, o vértice adjacente 49 será colocado na stack.\n",
    " O vértice 49 vai ser colocado outras 3 vezes na stack considerando as visitas \n",
    " dos vértices 28, 39 e 20. \n",
    "\n",
    " E se começarmos pelo vértice 49?\n",
    "'''\n",
    "nodes = list(intersect_nodes)\n",
    "\n",
    "shuffle(nodes)\n",
    "\n",
    "visited = set()\n",
    "    \n",
    "def visit(start, subgraph):\n",
    "\n",
    "    stack = [start]\n",
    "\n",
    "    while stack:\n",
    "        v = stack.pop()\n",
    "        if v not in visited:\n",
    "            visited.add(v)\n",
    "            for w in subgraph.adjacent_to(v):\n",
    "                if w not in visited:\n",
    "                    stack.append(w)\n",
    "                    display(v, w)\n",
    "                # elif w in stack and w != stack[-1]:\n",
    "                #     display(v, w, back_edge=True)\n",
    "        # print(stack)\n",
    "\n",
    "for s in nodes :\n",
    "    if s not in visited:\n",
    "        visit(s, red_only)\n",
    "        print(10*'-')"
   ]
  },
  {
   "cell_type": "code",
   "execution_count": 92,
   "metadata": {},
   "outputs": [],
   "source": [
    "# red_only.add_edge(39, 28)\n",
    "# red_only.add_edge(39, 49)\n",
    "# red_only.add_edge(28, 49)\n",
    "\n",
    "# red_only.remove_edge(39, 28)\n",
    "# red_only.remove_edge(39, 49)\n",
    "# red_only.remove_edge(28, 49)"
   ]
  },
  {
   "cell_type": "code",
   "execution_count": 93,
   "metadata": {},
   "outputs": [
    {
     "output_type": "stream",
     "name": "stdout",
     "text": [
      "1 32\n32 42\n42 36\n36 32 <back edge>\n32 30\n30 35\n35 1 <back edge>\n- - - - - \n2 4\n4 24\n4 37\n37 34\n34 3\n3 20\n2 47\n- - - - - \n6 46\n46 17\n17 12\n17 21\n21 9\n21 49\n46 38\n46 7\n- - - - - \n23 43\n23 31\n- - - - - \n25 48\n- - - - - \n"
     ]
    }
   ],
   "source": [
    "# nodes = list(child.vertices)\n",
    "\n",
    "intersect_nodes = set(red_only.vertices) & set(blue_only.vertices)\n",
    "nodes = list(intersect_nodes)\n",
    "\n",
    "visited = set()\n",
    "nro_components = 0 \n",
    "\n",
    "def dfs(subgrah, s):\n",
    "    # visited  = set()\n",
    "    stacked = set()\n",
    "    # nro_components = 0\n",
    "\n",
    "    def P(subgrah, v, u=None):\n",
    "        \n",
    "        visited.add(v)\n",
    "        stacked.add(v)\n",
    "\n",
    "        for w in subgrah.adjacent_to(v):\n",
    "            if w not in visited:\n",
    "                display(v, w)\n",
    "                P(subgrah, w, v)\n",
    "            elif w in stacked and w != u :\n",
    "                display(v, w, back_edge=True)\n",
    "        \n",
    "        stacked.remove(v)\n",
    "    \n",
    "    P(subgrah, s)\n",
    "\n",
    "for s in nodes:\n",
    "    if s not in visited:\n",
    "        dfs(red_only, s)\n",
    "        nro_components += 1\n",
    "        print(5*'- ')"
   ]
  },
  {
   "cell_type": "code",
   "execution_count": 86,
   "metadata": {},
   "outputs": [
    {
     "output_type": "stream",
     "name": "stdout",
     "text": [
      "5\n"
     ]
    }
   ],
   "source": [
    "print(nro_components)"
   ]
  },
  {
   "cell_type": "code",
   "execution_count": null,
   "metadata": {},
   "outputs": [],
   "source": []
  }
 ]
}