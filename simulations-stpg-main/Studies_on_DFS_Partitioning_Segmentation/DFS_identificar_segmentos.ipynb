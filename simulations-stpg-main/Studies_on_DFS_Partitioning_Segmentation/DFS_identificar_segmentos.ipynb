{
 "metadata": {
  "language_info": {
   "codemirror_mode": {
    "name": "ipython",
    "version": 3
   },
   "file_extension": ".py",
   "mimetype": "text/x-python",
   "name": "python",
   "nbconvert_exporter": "python",
   "pygments_lexer": "ipython3",
   "version": "3.7.9-final"
  },
  "orig_nbformat": 2,
  "kernelspec": {
   "name": "python3",
   "display_name": "Python 3",
   "language": "python"
  }
 },
 "nbformat": 4,
 "nbformat_minor": 2,
 "cells": [
  {
   "cell_type": "code",
   "execution_count": 1,
   "metadata": {},
   "outputs": [],
   "source": [
    "from os import path\n",
    "from collections import deque\n",
    "\n",
    "from ga4stpg.graph import UGraph\n",
    "from ga4stpg.graph.disjointsets import DisjointSets\n",
    "from ga4stpg.graph.priorityqueue import PriorityQueue\n",
    "from ga4stpg.graph.reader import read_problem\n",
    "from ga4stpg.graph.util import has_cycle, how_many_components\n",
    "from ga4stpg.util import STEIN_B\n",
    "\n",
    "from ga4stpg.tree.evaluation import EvaluateTreeGraph\n",
    "from ga4stpg.tree.generate import GenerateBasedPrimRST"
   ]
  },
  {
   "cell_type": "code",
   "execution_count": 2,
   "metadata": {},
   "outputs": [
    {
     "output_type": "stream",
     "name": "stdout",
     "text": [
      "..\\..\\ppgi-stpg-gpx\\datasets\\ORLibrary\\steinb5.txt\n"
     ]
    }
   ],
   "source": [
    "INDEX_SELECT = 4\n",
    "\n",
    "datasets = path.join('..', '..', 'ppgi-stpg-gpx', 'datasets', 'ORLibrary')\n",
    "\n",
    "filename = path.join(datasets, STEIN_B[INDEX_SELECT][0])\n",
    "\n",
    "print(filename)\n",
    "\n",
    "STPG = read_problem(filename)"
   ]
  },
  {
   "cell_type": "code",
   "execution_count": 3,
   "metadata": {},
   "outputs": [],
   "source": [
    "from ga4stpg.edgeset import UEdge, EdgeSet\n",
    "\n",
    "class Segment:\n",
    "\n",
    "    def __init__(self):\n",
    "        self.edges = EdgeSet()\n",
    "        self.cost = 0\n",
    "        self.portals = set()\n",
    "\n",
    "    def __len__(self):\n",
    "        return len(self.edges)\n",
    "\n",
    "    def __str__(self):\n",
    "        return f'Segment <{len(self.edges)}>'\n",
    "\n",
    "    def __iter__(self):\n",
    "        return iter(self.edges)\n",
    "\n",
    "    @property\n",
    "    def bounds(self):\n",
    "        return frozenset(self.portals)\n",
    "    \n",
    "    def add(self, v, u):\n",
    "        self.edges.add(UEdge(v, u))\n",
    "    "
   ]
  },
  {
   "cell_type": "code",
   "execution_count": 4,
   "metadata": {},
   "outputs": [],
   "source": [
    "from random import randrange\n",
    "\n",
    "def f_weight(v, u):\n",
    "    if STPG.graph.has_edge(v, u):\n",
    "        return STPG.graph.weight(v, u)\n",
    "    else:\n",
    "        return 0\n",
    "\n",
    "def find_segments(graph, common_nodes):\n",
    "    visited = set()\n",
    "\n",
    "    # start = None\n",
    "    # index = randrange(0, len(common_nodes))\n",
    "    # for i, nro in enumerate(common_nodes):\n",
    "    #     if i == index:\n",
    "    #         start = nro\n",
    "    #         break \n",
    "    # assert start is not None\n",
    "    # stack_outter = [start]\n",
    "    stack_outter = list(common_nodes)\n",
    "    result = list()\n",
    "\n",
    "    def search(start, neighbor):\n",
    "        segment = Segment()\n",
    "        segment.portals.add(start)\n",
    "        segment.add(start, neighbor)\n",
    "        segment.cost += f_weight(start, neighbor)\n",
    "        \n",
    "        stack_inner = [neighbor]\n",
    "\n",
    "        while stack_inner:\n",
    "            u = stack_inner.pop()\n",
    "            visited.add(u)\n",
    "            if u not in common_nodes:\n",
    "                counter = 0\n",
    "                for w in graph.adjacent_to(u):\n",
    "                    if w not in visited:\n",
    "                        stack_inner.append(w)\n",
    "                        segment.add(u, w)\n",
    "                        segment.cost += f_weight(u, w)\n",
    "                        counter += 1\n",
    "                if counter == 0:\n",
    "                    segment.portals.add(u)                    \n",
    "            else:\n",
    "                stack_outter.append(u)\n",
    "                segment.portals.add(u)\n",
    "        # end while\n",
    "        return segment\n",
    "        # end search\n",
    "\n",
    "    while stack_outter:\n",
    "        s = stack_outter.pop()\n",
    "        \n",
    "        visited.add(s)\n",
    "        for v in graph.adjacent_to(s):\n",
    "            if v not in visited:\n",
    "                seg = search(s, v)\n",
    "                result.append(seg)\n",
    "\n",
    "    return result"
   ]
  },
  {
   "cell_type": "code",
   "execution_count": 5,
   "metadata": {},
   "outputs": [],
   "source": [
    "def check_portals(portals, disjoint):\n",
    "    '''Verifica se os vértices portais de um segmento\n",
    "    se conectam à mesma partição de vértices comuns. \n",
    "\n",
    "    Faz essa verificação em tempo O(n)\n",
    "    '''\n",
    "    f_check = set()\n",
    "\n",
    "    for p in portals:\n",
    "        if p not in disjoint:\n",
    "            return False\n",
    "        k = disjoint.find(p)\n",
    "        if k in f_check:\n",
    "            return False\n",
    "        f_check.add(k)\n",
    "\n",
    "    return True"
   ]
  },
  {
   "cell_type": "code",
   "execution_count": null,
   "metadata": {},
   "outputs": [],
   "source": []
  },
  {
   "cell_type": "code",
   "execution_count": 6,
   "metadata": {},
   "outputs": [],
   "source": [
    "edges = [\n",
    "    (1, 3),\n",
    "    (1, 15),\n",
    "    (15, 17),\n",
    "    (3, 5),\n",
    "    (5, 11),\n",
    "    (11, 13),\n",
    "    (5, 7),\n",
    "    (7, 9),\n",
    "    (7, 23),\n",
    "]\n",
    "\n",
    "red = UGraph()\n",
    "\n",
    "for v, u in edges:\n",
    "    red.add_edge(v, u)"
   ]
  },
  {
   "cell_type": "code",
   "execution_count": 7,
   "metadata": {},
   "outputs": [],
   "source": [
    "edges = [\n",
    "    (1, 17),\n",
    "    (1, 14),\n",
    "    (14, 18),\n",
    "    (18, 5),\n",
    "    (5, 23),\n",
    "    (23, 13),\n",
    "    (5, 9)\n",
    "]\n",
    "\n",
    "blue = UGraph()\n",
    "\n",
    "for v, u in edges:\n",
    "    blue.add_edge(v, u)"
   ]
  },
  {
   "source": [
    "## Crossing two random tree generated by Prim Random Steneir Tree"
   ],
   "cell_type": "markdown",
   "metadata": {}
  },
  {
   "cell_type": "code",
   "execution_count": 8,
   "metadata": {},
   "outputs": [],
   "source": [
    "generator = GenerateBasedPrimRST(STPG)\n",
    "\n",
    "red  = generator()\n",
    "blue = generator()"
   ]
  },
  {
   "cell_type": "code",
   "execution_count": 9,
   "metadata": {},
   "outputs": [
    {
     "output_type": "execute_result",
     "data": {
      "text/plain": [
       "False"
      ]
     },
     "metadata": {},
     "execution_count": 9
    }
   ],
   "source": [
    "red.edges == blue.edges"
   ]
  },
  {
   "cell_type": "code",
   "execution_count": 10,
   "metadata": {},
   "outputs": [
    {
     "output_type": "execute_result",
     "data": {
      "text/plain": [
       "(False, 1)"
      ]
     },
     "metadata": {},
     "execution_count": 10
    }
   ],
   "source": [
    "has_cycle(red), how_many_components(red)"
   ]
  },
  {
   "cell_type": "code",
   "execution_count": 11,
   "metadata": {},
   "outputs": [
    {
     "output_type": "execute_result",
     "data": {
      "text/plain": [
       "(False, 1)"
      ]
     },
     "metadata": {},
     "execution_count": 11
    }
   ],
   "source": [
    "has_cycle(blue), how_many_components(blue)"
   ]
  },
  {
   "cell_type": "code",
   "execution_count": 12,
   "metadata": {},
   "outputs": [],
   "source": [
    "child     = UGraph()\n",
    "red_only  = UGraph()\n",
    "blue_only = UGraph()"
   ]
  },
  {
   "cell_type": "code",
   "execution_count": 13,
   "metadata": {},
   "outputs": [],
   "source": [
    "for v, u in red.gen_undirect_edges():\n",
    "    if blue.has_edge(v, u):\n",
    "        child.add_edge(v, u)\n",
    "    else:\n",
    "        red_only.add_edge(v, u)"
   ]
  },
  {
   "cell_type": "code",
   "execution_count": 14,
   "metadata": {},
   "outputs": [],
   "source": [
    "for v, u in blue.gen_undirect_edges():\n",
    "    if not red.has_edge(v, u):\n",
    "        blue_only.add_edge(v, u)"
   ]
  },
  {
   "cell_type": "code",
   "execution_count": 15,
   "metadata": {},
   "outputs": [
    {
     "output_type": "execute_result",
     "data": {
      "text/plain": [
       "(False, 8)"
      ]
     },
     "metadata": {},
     "execution_count": 15
    }
   ],
   "source": [
    "has_cycle(red_only), how_many_components(red_only)"
   ]
  },
  {
   "cell_type": "code",
   "execution_count": 16,
   "metadata": {},
   "outputs": [
    {
     "output_type": "execute_result",
     "data": {
      "text/plain": [
       "(False, 10)"
      ]
     },
     "metadata": {},
     "execution_count": 16
    }
   ],
   "source": [
    "has_cycle(blue_only), how_many_components(blue_only)"
   ]
  },
  {
   "cell_type": "code",
   "execution_count": 17,
   "metadata": {},
   "outputs": [
    {
     "output_type": "execute_result",
     "data": {
      "text/plain": [
       "(False, 9)"
      ]
     },
     "metadata": {},
     "execution_count": 17
    }
   ],
   "source": [
    "has_cycle(child), how_many_components(child)"
   ]
  },
  {
   "cell_type": "code",
   "execution_count": 18,
   "metadata": {},
   "outputs": [],
   "source": [
    "# \n",
    "red_leaves  = { v for v in red.vertices if red.degree(v) == 1}\n",
    "blue_leaves = { v for v in blue.vertices if blue.degree(v) == 1}"
   ]
  },
  {
   "cell_type": "code",
   "execution_count": 19,
   "metadata": {},
   "outputs": [
    {
     "output_type": "execute_result",
     "data": {
      "text/plain": [
       "{3,\n",
       " 4,\n",
       " 5,\n",
       " 6,\n",
       " 9,\n",
       " 10,\n",
       " 12,\n",
       " 14,\n",
       " 15,\n",
       " 18,\n",
       " 20,\n",
       " 21,\n",
       " 23,\n",
       " 24,\n",
       " 25,\n",
       " 26,\n",
       " 31,\n",
       " 32,\n",
       " 34,\n",
       " 36,\n",
       " 37,\n",
       " 38,\n",
       " 39,\n",
       " 40,\n",
       " 42,\n",
       " 45,\n",
       " 46,\n",
       " 47,\n",
       " 48,\n",
       " 49}"
      ]
     },
     "metadata": {},
     "execution_count": 19
    }
   ],
   "source": [
    "common_nodes_red = set(red_only.vertices) & set(blue.vertices)\n",
    "\n",
    "common_nodes_red"
   ]
  },
  {
   "cell_type": "code",
   "execution_count": 20,
   "metadata": {},
   "outputs": [
    {
     "output_type": "execute_result",
     "data": {
      "text/plain": [
       "{1,\n",
       " 2,\n",
       " 3,\n",
       " 4,\n",
       " 5,\n",
       " 6,\n",
       " 8,\n",
       " 9,\n",
       " 12,\n",
       " 14,\n",
       " 15,\n",
       " 16,\n",
       " 18,\n",
       " 19,\n",
       " 20,\n",
       " 24,\n",
       " 25,\n",
       " 26,\n",
       " 28,\n",
       " 30,\n",
       " 32,\n",
       " 34,\n",
       " 36,\n",
       " 37,\n",
       " 39,\n",
       " 40,\n",
       " 42,\n",
       " 43,\n",
       " 44,\n",
       " 45,\n",
       " 48,\n",
       " 49}"
      ]
     },
     "metadata": {},
     "execution_count": 20
    }
   ],
   "source": [
    "common_nodes_blue = set(blue_only.vertices) & set(red.vertices)\n",
    "\n",
    "common_nodes_blue"
   ]
  },
  {
   "cell_type": "code",
   "execution_count": 21,
   "metadata": {},
   "outputs": [],
   "source": [
    "red_segments  = find_segments(red_only, common_nodes_red)\n",
    "blue_segments = find_segments(blue_only, common_nodes_blue)"
   ]
  },
  {
   "cell_type": "code",
   "execution_count": 22,
   "metadata": {},
   "outputs": [
    {
     "output_type": "execute_result",
     "data": {
      "text/plain": [
       "(22, 24)"
      ]
     },
     "metadata": {},
     "execution_count": 22
    }
   ],
   "source": [
    "len(red_segments), len(blue_segments)"
   ]
  },
  {
   "cell_type": "code",
   "execution_count": 23,
   "metadata": {},
   "outputs": [
    {
     "output_type": "execute_result",
     "data": {
      "text/plain": [
       "46"
      ]
     },
     "metadata": {},
     "execution_count": 23
    }
   ],
   "source": [
    "queue = PriorityQueue()\n",
    "\n",
    "for seg in red_segments:\n",
    "    # print(seg, seg.cost)\n",
    "    queue.push(seg.cost, seg)\n",
    "\n",
    "for seg in blue_segments:\n",
    "    # print(seg, seg.cost)\n",
    "    queue.push(seg.cost, seg)\n",
    "\n",
    "len(queue)"
   ]
  },
  {
   "cell_type": "code",
   "execution_count": 24,
   "metadata": {},
   "outputs": [],
   "source": [
    "common_nodes = set(red.vertices) | set(blue.vertices)\n",
    "\n"
   ]
  },
  {
   "cell_type": "code",
   "execution_count": 25,
   "metadata": {},
   "outputs": [],
   "source": [
    "dset = DisjointSets()\n",
    "\n",
    "nodes = set(child.vertices)\n",
    "nodes.update(common_nodes)\n",
    "\n",
    "for v in nodes:\n",
    "    dset.make_set(v)\n",
    "\n",
    "for v, u in child.gen_undirect_edges():\n",
    "    dset.union(v, u)"
   ]
  },
  {
   "cell_type": "code",
   "execution_count": 26,
   "metadata": {},
   "outputs": [
    {
     "output_type": "execute_result",
     "data": {
      "text/plain": [
       "50"
      ]
     },
     "metadata": {},
     "execution_count": 26
    }
   ],
   "source": [
    "len(dset)"
   ]
  },
  {
   "cell_type": "code",
   "execution_count": 27,
   "metadata": {},
   "outputs": [
    {
     "output_type": "execute_result",
     "data": {
      "text/plain": [
       "defaultdict(set,\n",
       "            {1: {1, 3, 17, 21},\n",
       "             2: {2, 22, 47},\n",
       "             28: {4, 28},\n",
       "             5: {5},\n",
       "             42: {6, 11, 16, 27, 42, 44},\n",
       "             18: {7, 10, 13, 18, 19, 36, 38, 46},\n",
       "             8: {8, 45},\n",
       "             9: {9},\n",
       "             12: {12},\n",
       "             14: {14},\n",
       "             15: {15},\n",
       "             20: {20},\n",
       "             31: {23, 29, 31, 33, 43},\n",
       "             24: {24},\n",
       "             30: {25, 30},\n",
       "             26: {26},\n",
       "             32: {32},\n",
       "             34: {34},\n",
       "             35: {35, 49},\n",
       "             37: {37},\n",
       "             39: {39},\n",
       "             40: {40},\n",
       "             41: {41},\n",
       "             48: {48},\n",
       "             50: {50}})"
      ]
     },
     "metadata": {},
     "execution_count": 27
    }
   ],
   "source": [
    "dset.get_disjoint_sets()"
   ]
  },
  {
   "cell_type": "code",
   "execution_count": 28,
   "metadata": {},
   "outputs": [
    {
     "output_type": "stream",
     "name": "stdout",
     "text": [
      "Segment <1>\nEdge <(4, 24)>  \nPortals:  24 4 \n\n\nSegment <1>\nEdge <(46, 47)>  \nPortals:  46 47 \n\n\nSegment <1>\nEdge <(3, 20)>  \nPortals:  3 20 \n\n\nSegment <1>\nEdge <(3, 14)>  \nPortals:  3 14 \n\n\nSegment <1>\nEdge <(20, 39)>  \nPortals:  20 39 \n\n\nSegment <1>\nEdge <(25, 43)>  \nPortals:  25 43 \n\n\nSegment <1>\nEdge <(30, 32)>  \nPortals:  32 30 \n\n\nSegment <1>\nEdge <(6, 50)>  \nPortals:  50 6 \n\n\nSegment <1>\nEdge <(26, 31)>  \nPortals:  26 31 \n\n\nSegment <1>\nEdge <(20, 49)>  \nPortals:  49 20 \n\n\nSegment <1>\nEdge <(5, 25)>  \nPortals:  25 5 \n\n\nSegment <1>\nEdge <(5, 18)>  \nPortals:  18 5 \n\n\nSegment <1>\nEdge <(42, 49)>  \nPortals:  49 42 \n\n\nSegment <1>\nEdge <(5, 48)>  \nPortals:  48 5 \n\n\nSegment <1>\nEdge <(1, 18)>  \nPortals:  1 18 \n\n\nSegment <1>\nEdge <(37, 40)>  \nPortals:  40 37 \n\n\nSegment <1>\nEdge <(3, 34)>  \nPortals:  34 3 \n\n\nSegment <1>\nEdge <(38, 45)>  \nPortals:  45 38 \n\n\nSegment <1>\nEdge <(9, 25)>  \nPortals:  9 25 \n\n\nSegment <1>\nEdge <(28, 30)>  \nPortals:  28 30 \n\n\nSegment <1>\nEdge <(8, 37)>  \nPortals:  8 37 \n\n\nSegment <1>\nEdge <(12, 15)>  \nPortals:  12 15 \n\n\nSegment <1>\nEdge <(6, 12)>  \nPortals:  12 6 \n\n\nSegment <1>\nEdge <(4, 41)>  \nPortals:  41 4 \n\n\n"
     ]
    }
   ],
   "source": [
    "while queue:\n",
    "    seg = queue.pop()\n",
    "    \n",
    "    if check_portals(seg.portals, dset):\n",
    "        # print('adding segment', seg)\n",
    "        print(seg)\n",
    "        for edge in seg:\n",
    "            print(edge, end=\"  \")\n",
    "            v, u = edge\n",
    "            child.add_edge(v, u)\n",
    "        \n",
    "        portals = iter(seg.portals)\n",
    "        # Update dset \n",
    "        print(\"\")\n",
    "        p_last = next(portals)\n",
    "        print(\"Portals: \", p_last, end=\" \")\n",
    "        for p in portals:\n",
    "            print(p, end=\" \")\n",
    "            dset.union(p_last, p)\n",
    "            p_last = p\n",
    "        print(\"\\n\\n\")\n",
    "    # else:\n",
    "    #     print(\"####### >>> rejecting: \", seg)"
   ]
  },
  {
   "cell_type": "code",
   "execution_count": 29,
   "metadata": {},
   "outputs": [
    {
     "output_type": "stream",
     "name": "stdout",
     "text": [
      "{49: 31, 4: 31}\n{24: 31, 4: 31}\n{4: 31, 37: 31}\n{40: 31, 37: 31}\n{40: 31, 10: 31}\n{10: 31, 23: 31}\n{34: 31, 23: 31}\n{48: 31, 26: 31}\n{26: 31, 31: 31}\n{46: 31, 47: 31}\n{46: 31, 6: 31}\n{12: 31, 6: 31}\n{21: 31, 6: 31}\n{12: 31, 15: 31}\n{45: 31, 38: 31}\n{9: 31, 42: 31}\n{9: 31, 25: 31}\n{3: 31, 39: 31}\n{3: 31, 20: 31}\n{3: 31, 14: 31}\n{32: 31, 36: 31}\n{18: 31, 5: 31}\n"
     ]
    }
   ],
   "source": [
    "for seg in red_segments:\n",
    "    parent = dict()\n",
    "    for p in seg.portals:\n",
    "        if p in dset:\n",
    "            parent[p] = dset.find(p)\n",
    "\n",
    "    print(parent)"
   ]
  },
  {
   "cell_type": "code",
   "execution_count": 30,
   "metadata": {},
   "outputs": [
    {
     "output_type": "stream",
     "name": "stdout",
     "text": [
      "{49: 31, 42: 31}\n{49: 31, 20: 31}\n{20: 31, 39: 31}\n{42: 31, 45: 31}\n{48: 31, 5: 31}\n{25: 31, 5: 31}\n{25: 31, 43: 31}\n{25: 31, 14: 31}\n{25: 31, 15: 31}\n{24: 31, 14: 31}\n{19: 31, 44: 31}\n{40: 31, 1: 31}\n{1: 31, 18: 31}\n{8: 31, 37: 31}\n{9: 31, 36: 31}\n{34: 31, 3: 31}\n{32: 31, 30: 31}\n{28: 31, 30: 31}\n{2: 31, 28: 31}\n{16: 31, 2: 31}\n{2: 31, 12: 31}\n{26: 31, 6: 31}\n{50: 31, 6: 31}\n{41: 31, 4: 31}\n"
     ]
    }
   ],
   "source": [
    "for seg in blue_segments:\n",
    "    parent = dict()\n",
    "    for p in seg.portals:\n",
    "        if p in dset:\n",
    "            parent[p] = dset.find(p)\n",
    "    print(parent)"
   ]
  },
  {
   "cell_type": "code",
   "execution_count": 31,
   "metadata": {},
   "outputs": [
    {
     "output_type": "execute_result",
     "data": {
      "text/plain": [
       "False"
      ]
     },
     "metadata": {},
     "execution_count": 31
    }
   ],
   "source": [
    "has_cycle(child)"
   ]
  },
  {
   "cell_type": "code",
   "execution_count": 32,
   "metadata": {},
   "outputs": [
    {
     "output_type": "execute_result",
     "data": {
      "text/plain": [
       "1"
      ]
     },
     "metadata": {},
     "execution_count": 32
    }
   ],
   "source": [
    "how_many_components(child)"
   ]
  },
  {
   "cell_type": "code",
   "execution_count": 33,
   "metadata": {},
   "outputs": [
    {
     "output_type": "stream",
     "name": "stdout",
     "text": [
      "{49, 42}\nEdge <(42, 49)>  \n{49, 20}\nEdge <(20, 49)>  \n{20, 39}\nEdge <(20, 39)>  \n{42, 45}\nEdge <(42, 45)>  \n{48, 5}\nEdge <(5, 48)>  \n{25, 5}\nEdge <(5, 25)>  \n{25, 43}\nEdge <(25, 43)>  \n{25, 14}\nEdge <(14, 25)>  \n{25, 15}\nEdge <(15, 25)>  \n{24, 14}\nEdge <(14, 24)>  \n{19, 44}\nEdge <(19, 44)>  \n{40, 1}\nEdge <(1, 40)>  \n{1, 18}\nEdge <(1, 18)>  \n{8, 37}\nEdge <(8, 37)>  \n{9, 36}\nEdge <(9, 36)>  \n{34, 3}\nEdge <(3, 34)>  \n{32, 30}\nEdge <(30, 32)>  \n{28, 30}\nEdge <(28, 30)>  \n{2, 28}\nEdge <(2, 28)>  \n{16, 2}\nEdge <(2, 16)>  \n{2, 12}\nEdge <(2, 12)>  \n{26, 6}\nEdge <(6, 26)>  \n{50, 6}\nEdge <(6, 50)>  \n{41, 4}\nEdge <(4, 41)>  \n"
     ]
    }
   ],
   "source": [
    "for seg in blue_segments:\n",
    "    print(seg.portals)\n",
    "    for edge in seg:\n",
    "        print(edge, end='  ')\n",
    "    print(\"\")"
   ]
  },
  {
   "cell_type": "code",
   "execution_count": 34,
   "metadata": {},
   "outputs": [
    {
     "output_type": "stream",
     "name": "stdout",
     "text": [
      "{49, 4}\nEdge <(4, 49)>  \n{24, 4}\nEdge <(4, 24)>  \n{4, 37}\nEdge <(4, 37)>  \n{40, 37}\nEdge <(37, 40)>  \n{40, 10}\nEdge <(10, 40)>  \n{10, 23}\nEdge <(10, 23)>  \n{34, 23}\nEdge <(23, 34)>  \n{48, 26}\nEdge <(26, 48)>  \n{26, 31}\nEdge <(26, 31)>  \n{46, 47}\nEdge <(46, 47)>  \n{46, 6}\nEdge <(6, 46)>  \n{12, 6}\nEdge <(6, 12)>  \n{21, 6}\nEdge <(6, 21)>  \n{12, 15}\nEdge <(12, 15)>  \n{45, 38}\nEdge <(38, 45)>  \n{9, 42}\nEdge <(9, 42)>  \n{9, 25}\nEdge <(9, 25)>  \n{3, 39}\nEdge <(3, 39)>  \n{3, 20}\nEdge <(3, 20)>  \n{3, 14}\nEdge <(3, 14)>  \n{32, 36}\nEdge <(32, 36)>  \n{18, 5}\nEdge <(5, 18)>  \n"
     ]
    }
   ],
   "source": [
    "for seg in red_segments:\n",
    "    print(seg.portals)\n",
    "    for edge in seg:\n",
    "        print(edge, end='  ')\n",
    "    print(\"\")"
   ]
  },
  {
   "cell_type": "code",
   "execution_count": null,
   "metadata": {},
   "outputs": [],
   "source": []
  }
 ]
}