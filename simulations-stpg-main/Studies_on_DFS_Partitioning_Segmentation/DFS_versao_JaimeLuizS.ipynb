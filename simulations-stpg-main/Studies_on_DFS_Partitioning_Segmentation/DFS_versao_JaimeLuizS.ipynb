{
 "metadata": {
  "language_info": {
   "codemirror_mode": {
    "name": "ipython",
    "version": 3
   },
   "file_extension": ".py",
   "mimetype": "text/x-python",
   "name": "python",
   "nbconvert_exporter": "python",
   "pygments_lexer": "ipython3",
   "version": "3.7.9-final"
  },
  "orig_nbformat": 2,
  "kernelspec": {
   "name": "python3",
   "display_name": "Python 3.7.9 64-bit ('simu-steiner': conda)",
   "metadata": {
    "interpreter": {
     "hash": "3469fd5f58a4424b781f86b8e15f0f210a2e6ad2f12845e0680bc68b62027f9a"
    }
   }
  }
 },
 "nbformat": 4,
 "nbformat_minor": 2,
 "cells": [
  {
   "cell_type": "code",
   "execution_count": 1,
   "metadata": {},
   "outputs": [],
   "source": [
    "from ga4stpg.graph import UGraph"
   ]
  },
  {
   "cell_type": "code",
   "execution_count": 2,
   "metadata": {},
   "outputs": [],
   "source": [
    "def display(a, b, back_edge=False):\n",
    "    if back_edge:\n",
    "        print(a, b, \"<back edge>\")\n",
    "    else:\n",
    "        print(a, b)"
   ]
  },
  {
   "cell_type": "code",
   "execution_count": 12,
   "metadata": {},
   "outputs": [],
   "source": [
    "def dfs(subgrah, s):\n",
    "    visited  = set()\n",
    "    stacked = set()\n",
    "    \n",
    "    def P(subgrah, v, u=None):\n",
    "        \n",
    "        visited.add(v)\n",
    "        stacked.add(v)\n",
    "\n",
    "        for w in subgrah.adjacent_to(v):\n",
    "            if w not in visited:\n",
    "                display(v, w)\n",
    "                P(subgrah, w, v)\n",
    "            elif w in stacked and w != u :\n",
    "                display(v, w, back_edge=True)\n",
    "        \n",
    "        stacked.remove(v)\n",
    "    \n",
    "    P(subgrah, s)"
   ]
  },
  {
   "cell_type": "code",
   "execution_count": 13,
   "metadata": {},
   "outputs": [],
   "source": [
    "graph = UGraph()\n",
    "\n",
    "graph.add_edge(4, 49)\n",
    "graph.add_edge(4, 28)\n",
    "graph.add_edge(28, 39)\n",
    "graph.add_edge(28, 49)\n",
    "graph.add_edge(39, 49)\n",
    "graph.add_edge(39, 20)\n",
    "graph.add_edge(20, 49)"
   ]
  },
  {
   "cell_type": "code",
   "execution_count": 14,
   "metadata": {},
   "outputs": [
    {
     "output_type": "stream",
     "name": "stdout",
     "text": [
      "4 49\n49 20\n20 39\n39 49 <back edge>\n39 28\n28 49 <back edge>\n28 4 <back edge>\n"
     ]
    }
   ],
   "source": [
    "dfs(graph, 4)"
   ]
  },
  {
   "cell_type": "code",
   "execution_count": null,
   "metadata": {},
   "outputs": [],
   "source": []
  }
 ]
}