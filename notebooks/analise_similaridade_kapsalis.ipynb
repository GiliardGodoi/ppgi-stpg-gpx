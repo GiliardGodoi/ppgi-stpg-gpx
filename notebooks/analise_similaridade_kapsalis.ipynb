{
 "cells": [
  {
   "cell_type": "code",
   "execution_count": 1,
   "metadata": {},
   "outputs": [],
   "source": [
    "import sys; sys.path.append('..')"
   ]
  },
  {
   "cell_type": "code",
   "execution_count": 2,
   "metadata": {},
   "outputs": [],
   "source": [
    "from os import path\n",
    "import random"
   ]
  },
  {
   "cell_type": "code",
   "execution_count": 3,
   "metadata": {},
   "outputs": [],
   "source": [
    "import pandas as pd"
   ]
  },
  {
   "cell_type": "code",
   "execution_count": 4,
   "metadata": {},
   "outputs": [],
   "source": [
    "from graph import Graph\n",
    "from graph.reader import read_problem"
   ]
  },
  {
   "cell_type": "code",
   "execution_count": 5,
   "metadata": {},
   "outputs": [],
   "source": [
    "problema = path.join('..', 'datasets', 'ORLibrary', 'steinc1.txt')\n",
    "# problema = path.join('..', 'datasets', 'ORLibrary', 'steinb16.txt')\n",
    "\n",
    "STPG = read_problem(problema)"
   ]
  },
  {
   "cell_type": "code",
   "execution_count": 6,
   "metadata": {},
   "outputs": [
    {
     "data": {
      "text/plain": [
       "5"
      ]
     },
     "execution_count": 6,
     "metadata": {},
     "output_type": "execute_result"
    }
   ],
   "source": [
    "assert len(STPG.terminals) == STPG.nro_terminals\n",
    "\n",
    "STPG.nro_terminals"
   ]
  },
  {
   "cell_type": "code",
   "execution_count": 7,
   "metadata": {},
   "outputs": [
    {
     "data": {
      "text/plain": [
       "500"
      ]
     },
     "execution_count": 7,
     "metadata": {},
     "output_type": "execute_result"
    }
   ],
   "source": [
    "STPG.nro_nodes"
   ]
  },
  {
   "cell_type": "code",
   "execution_count": 8,
   "metadata": {},
   "outputs": [
    {
     "data": {
      "text/plain": [
       "625"
      ]
     },
     "execution_count": 8,
     "metadata": {},
     "output_type": "execute_result"
    }
   ],
   "source": [
    "STPG.nro_edges"
   ]
  },
  {
   "cell_type": "code",
   "execution_count": 9,
   "metadata": {},
   "outputs": [
    {
     "name": "stdout",
     "output_type": "stream",
     "text": [
      "{128, 164, 13, 243, 499}\n"
     ]
    }
   ],
   "source": [
    "print(STPG.terminals)"
   ]
  },
  {
   "cell_type": "markdown",
   "metadata": {},
   "source": [
    "---\n",
    "\n",
    "## Algoritmo Genético"
   ]
  },
  {
   "cell_type": "code",
   "execution_count": 10,
   "metadata": {},
   "outputs": [],
   "source": [
    "from base.binary.combiner import crossover_1point, crossover_2points, crossover_uniform\n",
    "from base.chromosome import random_binary\n",
    "from base.condition import BestKnownReached, BestSolutionKnowReached, Stagnation\n",
    "from base.customevol import SteinerEvolution as Evolution\n",
    "from base.customevol import SteinerPopulation as Population\n",
    "from base.mutate import flip_onebit\n",
    "from base.normalization import normalize\n",
    "from base.pickers import random_picker\n",
    "from base.selector import roullete\n",
    "from base.tracker import DataTracker\n",
    "from base.util import display, update_best, update_generation\n",
    "\n",
    "from treetools import Eval, Converter"
   ]
  },
  {
   "cell_type": "code",
   "execution_count": 11,
   "metadata": {},
   "outputs": [],
   "source": [
    "tamanho_populacao = 50\n",
    "comprimento_cromosso = STPG.nro_nodes - STPG.nro_terminals\n",
    "\n",
    "tx_mutacao = 0.2\n",
    "prob_troca_gene = 0.6"
   ]
  },
  {
   "cell_type": "code",
   "execution_count": 12,
   "metadata": {},
   "outputs": [],
   "source": [
    "funcao_avaliacao = Eval(STPG)"
   ]
  },
  {
   "cell_type": "code",
   "execution_count": 13,
   "metadata": {},
   "outputs": [],
   "source": [
    "populacao = (Population(chromosomes=[random_binary(comprimento_cromosso) for _ in range(tamanho_populacao) ],\n",
    "                        eval_function=funcao_avaliacao,\n",
    "                        maximize=True)\n",
    "                        .evaluate()\n",
    "                        .callback(normalize)\n",
    "                        .callback(update_best))"
   ]
  },
  {
   "cell_type": "code",
   "execution_count": 14,
   "metadata": {},
   "outputs": [
    {
     "data": {
      "text/plain": [
       "50"
      ]
     },
     "execution_count": 14,
     "metadata": {},
     "output_type": "execute_result"
    }
   ],
   "source": [
    "len(populacao)"
   ]
  },
  {
   "cell_type": "code",
   "execution_count": 15,
   "metadata": {},
   "outputs": [],
   "source": [
    "evolution = (Evolution()\n",
    "                .evaluate()\n",
    "                .callback(normalize)\n",
    "                .callback(update_best)\n",
    "                .select(selection_func=roullete)\n",
    "                .crossover(combiner=crossover_uniform, \n",
    "                           parent_picker=random_picker, \n",
    "                           pbcrossover=prob_troca_gene)\n",
    "                .mutate(mutate_function=flip_onebit, \n",
    "                        probability=tx_mutacao)\n",
    "                .callback(update_generation)\n",
    "                .callback(display, every=100))"
   ]
  },
  {
   "cell_type": "code",
   "execution_count": 16,
   "metadata": {},
   "outputs": [
    {
     "name": "stdout",
     "output_type": "stream",
     "text": [
      "Population 3774a7 | size 50 | generation 100\n",
      "Population 3774a7 | size 50 | generation 200\n",
      "Population 3774a7 | size 50 | generation 300\n",
      "Population 3774a7 | size 50 | generation 400\n",
      "Population 3774a7 | size 50 | generation 500\n",
      "Wall time: 2min 47s\n"
     ]
    }
   ],
   "source": [
    "%%time\n",
    "\n",
    "result = populacao.evolve(evolution, n=500)"
   ]
  },
  {
   "cell_type": "code",
   "execution_count": 17,
   "metadata": {},
   "outputs": [
    {
     "data": {
      "text/plain": [
       "167.69630790000002"
      ]
     },
     "execution_count": 17,
     "metadata": {},
     "output_type": "execute_result"
    }
   ],
   "source": [
    "result.runtime"
   ]
  },
  {
   "cell_type": "code",
   "execution_count": 18,
   "metadata": {},
   "outputs": [
    {
     "data": {
      "text/plain": [
       "1099"
      ]
     },
     "execution_count": 18,
     "metadata": {},
     "output_type": "execute_result"
    }
   ],
   "source": [
    "result.documented_best.cost"
   ]
  },
  {
   "cell_type": "code",
   "execution_count": 19,
   "metadata": {},
   "outputs": [
    {
     "data": {
      "text/plain": [
       "496"
      ]
     },
     "execution_count": 19,
     "metadata": {},
     "output_type": "execute_result"
    }
   ],
   "source": [
    "result.documented_best.last_improvement"
   ]
  },
  {
   "cell_type": "code",
   "execution_count": 20,
   "metadata": {},
   "outputs": [
    {
     "data": {
      "text/plain": [
       "'111110000010001111110000100111110010010000000010010011100000000000001100110011001001001011100100100010010000011010100110011111001111010101101110000001001010001100001011111001010000001000100111000110001110110001001101110100000001000101100101111011011000011011000010110100001110010000000101001011001001100001001010010001010001110001111100001001100010010011001100100011011100010100000101110011111101100001000011010101000110100010100001110100110000010100010001010011101101011010001101101011110001001'"
      ]
     },
     "execution_count": 20,
     "metadata": {},
     "output_type": "execute_result"
    }
   ],
   "source": [
    "result.documented_best.chromosome"
   ]
  },
  {
   "cell_type": "code",
   "execution_count": 21,
   "metadata": {},
   "outputs": [
    {
     "data": {
      "text/plain": [
       "495"
      ]
     },
     "execution_count": 21,
     "metadata": {},
     "output_type": "execute_result"
    }
   ],
   "source": [
    "assert len(result.documented_best.chromosome) == comprimento_cromosso\n",
    "\n",
    "len(result.documented_best.chromosome)"
   ]
  },
  {
   "cell_type": "markdown",
   "metadata": {},
   "source": [
    "---"
   ]
  },
  {
   "cell_type": "code",
   "execution_count": 22,
   "metadata": {},
   "outputs": [],
   "source": [
    "# individuos = sorted(result, key=lambda x: x.cost )\n",
    "\n",
    "individuos = list(result)"
   ]
  },
  {
   "cell_type": "code",
   "execution_count": 23,
   "metadata": {
    "scrolled": true
   },
   "outputs": [
    {
     "name": "stdout",
     "output_type": "stream",
     "text": [
      "[1122, 1134, 1143, 1228, 1133, 1115, 1205, 1138, 1128, 1214, 1131, 1223, 1116, 1426, 1114, 1132, 1247, 1138, 1120, 1118, 1222, 1128, 1129, 1139, 1120, 1137, 1129, 1146, 1133, 1125, 1138, 1130, 1126, 1124, 1128, 1123, 1140, 1235, 1135, 1136, 1118, 1135, 1124, 1137, 1128, 1127, 1121, 1233, 1129, 1139]\n"
     ]
    }
   ],
   "source": [
    "custos = [ individuo.cost for individuo in individuos ]\n",
    "\n",
    "print(custos)"
   ]
  },
  {
   "cell_type": "code",
   "execution_count": 24,
   "metadata": {},
   "outputs": [
    {
     "data": {
      "text/plain": [
       "list"
      ]
     },
     "execution_count": 24,
     "metadata": {},
     "output_type": "execute_result"
    }
   ],
   "source": [
    "type(individuos)"
   ]
  },
  {
   "cell_type": "code",
   "execution_count": 25,
   "metadata": {},
   "outputs": [],
   "source": [
    "converter = Converter(STPG)"
   ]
  },
  {
   "cell_type": "code",
   "execution_count": 26,
   "metadata": {},
   "outputs": [],
   "source": [
    "individuos = [converter.binary2treegraph(individuo) for individuo in individuos ]"
   ]
  },
  {
   "cell_type": "code",
   "execution_count": 27,
   "metadata": {},
   "outputs": [],
   "source": [
    "for individuo in individuos:\n",
    "    individuo.evaluate(eval_function=funcao_avaliacao)"
   ]
  },
  {
   "cell_type": "code",
   "execution_count": 28,
   "metadata": {},
   "outputs": [
    {
     "data": {
      "text/plain": [
       "defaultdict(dict,\n",
       "            {2: {365: 3, 489: 9},\n",
       "             3: {221: 1, 223: 4, 380: 8},\n",
       "             4: {48: 1, 112: 9},\n",
       "             5: {217: 5},\n",
       "             11: {336: 2, 179: 8, 440: 9},\n",
       "             13: {374: 2},\n",
       "             16: {418: 7},\n",
       "             17: {437: 6, 177: 8},\n",
       "             18: {193: 9},\n",
       "             19: {78: 1, 164: 8, 231: 10},\n",
       "             20: {90: 1, 401: 2, 487: 5},\n",
       "             21: {173: 2, 278: 7},\n",
       "             26: {372: 4, 378: 7},\n",
       "             29: {120: 3},\n",
       "             30: {397: 1, 398: 4, 346: 5, 133: 6, 259: 6},\n",
       "             31: {313: 5, 126: 9, 388: 10},\n",
       "             32: {209: 3, 429: 5, 452: 5, 179: 6, 491: 6, 295: 7, 330: 9},\n",
       "             33: {216: 2, 171: 4, 315: 4, 334: 5, 195: 9},\n",
       "             36: {220: 4},\n",
       "             39: {411: 2, 401: 4},\n",
       "             48: {4: 1},\n",
       "             51: {373: 2, 209: 4, 102: 8, 126: 9},\n",
       "             54: {423: 1},\n",
       "             55: {482: 2},\n",
       "             56: {318: 8, 204: 9},\n",
       "             70: {172: 3, 436: 3, 112: 8},\n",
       "             71: {496: 7},\n",
       "             74: {145: 10},\n",
       "             75: {315: 1},\n",
       "             78: {19: 1},\n",
       "             79: {170: 6, 126: 7, 466: 8, 155: 10},\n",
       "             82: {141: 8},\n",
       "             85: {482: 2, 136: 3},\n",
       "             86: {266: 5},\n",
       "             88: {460: 1},\n",
       "             90: {20: 1, 278: 2},\n",
       "             91: {443: 2},\n",
       "             92: {358: 4},\n",
       "             95: {373: 5},\n",
       "             98: {270: 9},\n",
       "             102: {51: 8},\n",
       "             105: {177: 1, 390: 8},\n",
       "             111: {388: 5},\n",
       "             112: {213: 5, 70: 8, 4: 9},\n",
       "             114: {338: 3, 481: 3, 477: 5},\n",
       "             116: {279: 1, 351: 2, 489: 2, 450: 3},\n",
       "             119: {460: 1, 223: 8},\n",
       "             120: {29: 3, 179: 5, 499: 8},\n",
       "             123: {412: 2, 297: 3, 361: 8},\n",
       "             124: {372: 3},\n",
       "             125: {223: 3, 386: 4, 140: 5},\n",
       "             126: {358: 3, 79: 7, 31: 9, 51: 9},\n",
       "             127: {278: 3, 128: 7},\n",
       "             128: {145: 1, 127: 7},\n",
       "             131: {138: 3, 373: 7, 266: 9},\n",
       "             132: {204: 4, 208: 8},\n",
       "             133: {30: 6, 484: 7},\n",
       "             134: {322: 3, 400: 7},\n",
       "             136: {85: 3, 425: 3, 485: 9},\n",
       "             138: {131: 3, 335: 5},\n",
       "             140: {125: 5},\n",
       "             141: {82: 8, 258: 8},\n",
       "             143: {269: 6},\n",
       "             144: {177: 5},\n",
       "             145: {128: 1, 74: 10},\n",
       "             152: {172: 3, 354: 5},\n",
       "             155: {362: 6, 79: 10, 277: 10},\n",
       "             157: {313: 1},\n",
       "             161: {249: 3, 223: 3},\n",
       "             162: {357: 9},\n",
       "             164: {19: 8},\n",
       "             168: {249: 9},\n",
       "             169: {496: 3, 437: 3},\n",
       "             170: {79: 6, 250: 7},\n",
       "             171: {33: 4, 462: 4},\n",
       "             172: {70: 3, 152: 3, 390: 6},\n",
       "             173: {21: 2, 485: 5, 338: 8},\n",
       "             174: {343: 1, 267: 4},\n",
       "             177: {105: 1, 465: 2, 370: 3, 335: 4, 144: 5, 17: 8},\n",
       "             179: {304: 3, 120: 5, 223: 5, 32: 6, 11: 8},\n",
       "             182: {429: 8},\n",
       "             186: {351: 2},\n",
       "             190: {374: 4},\n",
       "             193: {440: 2, 18: 9},\n",
       "             194: {500: 1, 279: 2, 334: 8},\n",
       "             195: {33: 9},\n",
       "             199: {304: 10},\n",
       "             200: {245: 8, 269: 10},\n",
       "             204: {132: 4, 56: 9},\n",
       "             205: {310: 4, 337: 4, 219: 8, 472: 10},\n",
       "             206: {406: 2},\n",
       "             208: {132: 8, 357: 8},\n",
       "             209: {244: 2, 32: 3, 51: 4},\n",
       "             213: {112: 5},\n",
       "             216: {33: 2},\n",
       "             217: {297: 1, 5: 5},\n",
       "             219: {205: 8},\n",
       "             220: {467: 3, 36: 4, 298: 6},\n",
       "             221: {3: 1},\n",
       "             223: {372: 1, 125: 3, 161: 3, 3: 4, 423: 4, 179: 5, 119: 8},\n",
       "             231: {431: 6, 19: 10, 369: 10},\n",
       "             235: {397: 7, 452: 8, 374: 10},\n",
       "             237: {278: 2},\n",
       "             238: {443: 3},\n",
       "             241: {411: 1},\n",
       "             243: {396: 2},\n",
       "             244: {209: 2},\n",
       "             245: {406: 3, 200: 8},\n",
       "             246: {414: 3},\n",
       "             247: {438: 5, 272: 10},\n",
       "             249: {161: 3, 168: 9},\n",
       "             250: {170: 7},\n",
       "             252: {456: 2, 389: 8, 328: 9},\n",
       "             253: {444: 5},\n",
       "             258: {141: 8, 261: 9, 270: 10},\n",
       "             259: {395: 3, 30: 6},\n",
       "             261: {258: 9},\n",
       "             262: {462: 2},\n",
       "             266: {86: 5, 131: 9},\n",
       "             267: {278: 2, 174: 4},\n",
       "             269: {301: 1, 292: 2, 329: 3, 412: 4, 143: 6, 200: 10},\n",
       "             270: {347: 4, 98: 9, 258: 10},\n",
       "             272: {247: 10, 431: 10},\n",
       "             277: {155: 10},\n",
       "             278: {90: 2, 237: 2, 267: 2, 127: 3, 21: 7},\n",
       "             279: {116: 1, 194: 2},\n",
       "             282: {329: 8},\n",
       "             290: {496: 7},\n",
       "             292: {269: 2},\n",
       "             295: {32: 7},\n",
       "             297: {217: 1, 465: 2, 123: 3},\n",
       "             298: {220: 6},\n",
       "             301: {269: 1},\n",
       "             304: {179: 3, 444: 8, 199: 10},\n",
       "             305: {347: 5, 365: 8},\n",
       "             310: {205: 4},\n",
       "             313: {157: 1, 31: 5, 446: 7},\n",
       "             315: {75: 1, 33: 4},\n",
       "             318: {56: 8},\n",
       "             322: {134: 3, 414: 5},\n",
       "             324: {351: 6, 475: 10},\n",
       "             328: {252: 9},\n",
       "             329: {269: 3, 282: 8},\n",
       "             330: {32: 9},\n",
       "             334: {485: 1, 33: 5, 194: 8},\n",
       "             335: {177: 4, 474: 4, 138: 5},\n",
       "             336: {11: 2},\n",
       "             337: {481: 2, 205: 4},\n",
       "             338: {114: 3, 357: 7, 394: 7, 173: 8},\n",
       "             343: {174: 1},\n",
       "             346: {30: 5, 416: 7},\n",
       "             347: {270: 4, 305: 5},\n",
       "             351: {116: 2, 186: 2, 324: 6},\n",
       "             354: {152: 5},\n",
       "             357: {338: 7, 208: 8, 162: 9},\n",
       "             358: {126: 3, 92: 4},\n",
       "             361: {393: 5, 123: 8},\n",
       "             362: {155: 6},\n",
       "             365: {2: 3, 305: 8},\n",
       "             369: {396: 1, 231: 10},\n",
       "             370: {177: 3, 414: 8},\n",
       "             372: {223: 1, 124: 3, 26: 4},\n",
       "             373: {51: 2, 95: 5, 131: 7},\n",
       "             374: {13: 2, 190: 4, 235: 10},\n",
       "             378: {26: 7},\n",
       "             380: {3: 8},\n",
       "             386: {125: 4},\n",
       "             388: {111: 5, 31: 10},\n",
       "             389: {252: 8},\n",
       "             390: {172: 6, 105: 8},\n",
       "             393: {456: 4, 361: 5},\n",
       "             394: {338: 7},\n",
       "             395: {259: 3},\n",
       "             396: {369: 1, 243: 2},\n",
       "             397: {30: 1, 235: 7},\n",
       "             398: {30: 4},\n",
       "             400: {134: 7},\n",
       "             401: {20: 2, 39: 4},\n",
       "             406: {206: 2, 245: 3},\n",
       "             411: {241: 1, 39: 2, 438: 9},\n",
       "             412: {123: 2, 269: 4},\n",
       "             414: {246: 3, 322: 5, 370: 8},\n",
       "             416: {346: 7},\n",
       "             418: {491: 3, 16: 7},\n",
       "             422: {485: 7},\n",
       "             423: {54: 1, 469: 3, 223: 4},\n",
       "             425: {136: 3},\n",
       "             429: {32: 5, 182: 8},\n",
       "             431: {231: 6, 272: 10},\n",
       "             436: {70: 3},\n",
       "             437: {169: 3, 17: 6},\n",
       "             438: {247: 5, 411: 9},\n",
       "             440: {193: 2, 470: 3, 11: 9},\n",
       "             443: {91: 2, 485: 2, 238: 3},\n",
       "             444: {253: 5, 467: 5, 304: 8},\n",
       "             446: {313: 7},\n",
       "             450: {116: 3},\n",
       "             452: {32: 5, 235: 8},\n",
       "             456: {252: 2, 393: 4, 492: 10},\n",
       "             460: {88: 1, 119: 1},\n",
       "             462: {262: 2, 171: 4},\n",
       "             465: {177: 2, 297: 2, 485: 6},\n",
       "             466: {79: 8},\n",
       "             467: {220: 3, 444: 5},\n",
       "             469: {423: 3},\n",
       "             470: {440: 3},\n",
       "             472: {490: 8, 205: 10},\n",
       "             474: {335: 4},\n",
       "             475: {324: 10},\n",
       "             477: {114: 5},\n",
       "             481: {337: 2, 114: 3},\n",
       "             482: {55: 2, 85: 2},\n",
       "             484: {133: 7},\n",
       "             485: {334: 1, 443: 2, 173: 5, 465: 6, 422: 7, 136: 9},\n",
       "             487: {20: 5},\n",
       "             489: {116: 2, 2: 9},\n",
       "             490: {472: 8},\n",
       "             491: {418: 3, 32: 6},\n",
       "             492: {456: 10},\n",
       "             496: {169: 3, 71: 7, 290: 7},\n",
       "             499: {120: 8},\n",
       "             500: {194: 1}})"
      ]
     },
     "execution_count": 28,
     "metadata": {},
     "output_type": "execute_result"
    }
   ],
   "source": [
    "parent = individuos[0]\n",
    "\n",
    "parent.chromosome.edges"
   ]
  },
  {
   "cell_type": "code",
   "execution_count": 29,
   "metadata": {},
   "outputs": [
    {
     "data": {
      "text/plain": [
       "True"
      ]
     },
     "execution_count": 29,
     "metadata": {},
     "output_type": "execute_result"
    }
   ],
   "source": [
    "parent.is_connected"
   ]
  },
  {
   "cell_type": "code",
   "execution_count": 30,
   "metadata": {},
   "outputs": [
    {
     "data": {
      "text/plain": [
       "1"
      ]
     },
     "execution_count": 30,
     "metadata": {},
     "output_type": "execute_result"
    }
   ],
   "source": [
    "parent.qtd_partitions"
   ]
  },
  {
   "cell_type": "markdown",
   "metadata": {},
   "source": [
    "---"
   ]
  },
  {
   "cell_type": "code",
   "execution_count": 31,
   "metadata": {},
   "outputs": [],
   "source": [
    "import networkx as nx\n",
    "from matplotlib import pyplot as plt\n",
    "import math\n",
    "\n",
    "from draw import hierarchy_pos"
   ]
  },
  {
   "cell_type": "code",
   "execution_count": 32,
   "metadata": {},
   "outputs": [],
   "source": [
    "def convert_graph(graph, color='black'):\n",
    "    G = nx.Graph()\n",
    "    for v, value in graph.items():\n",
    "        G.add_node(v)\n",
    "        for w, weight in value.items():\n",
    "            if w in G[v]:\n",
    "                continue\n",
    "            G.add_edge(v, w, weight=weight, color=color)\n",
    "    return G    "
   ]
  },
  {
   "cell_type": "code",
   "execution_count": 33,
   "metadata": {},
   "outputs": [],
   "source": [
    "def plotar_(individuo, raiz):\n",
    "    \n",
    "    grafo = convert_graph(individuo.chromosome.edges)\n",
    "    \n",
    "    \n",
    "    pos = hierarchy_pos(grafo, root=raiz, width = 2*math.pi, xcenter=0)\n",
    "    \n",
    "    pos_t = {u: (r * math.cos(theta), r * math.sin(theta)) for u, (theta, r) in pos.items()}\n",
    "    \n",
    "    nx.draw(grafo,\n",
    "        pos_t,\n",
    "        node_color='#A0CBE2',\n",
    "        edge_color='black',\n",
    "        width=2, \n",
    "        node_size=100,\n",
    "        with_labels=True)\n",
    "\n",
    "    nx.draw_networkx_nodes(grafo,\n",
    "                           pos=pos_t,\n",
    "                           nodelist = STPG.terminals,\n",
    "                           node_color = 'red', \n",
    "                           node_size = 150)\n",
    "\n",
    "    plt.show()"
   ]
  },
  {
   "cell_type": "code",
   "execution_count": 35,
   "metadata": {},
   "outputs": [],
   "source": [
    "# plotar_(individuos[5], 87)"
   ]
  },
  {
   "cell_type": "code",
   "execution_count": 36,
   "metadata": {},
   "outputs": [],
   "source": [
    "# plotar_(individuos[6], 87)"
   ]
  },
  {
   "cell_type": "markdown",
   "metadata": {},
   "source": [
    "---"
   ]
  },
  {
   "cell_type": "code",
   "execution_count": 37,
   "metadata": {},
   "outputs": [],
   "source": [
    "def nro_vertices(individuo):\n",
    "    return len(individuo.chromosome.vertices)\n",
    "\n",
    "def nro_arestas(individuo):\n",
    "    return len(list(individuo.chromosome.gen_undirect_edges()))"
   ]
  },
  {
   "cell_type": "code",
   "execution_count": 38,
   "metadata": {},
   "outputs": [],
   "source": [
    "def vertices_semelhantes(A, B):\n",
    "    contador = 0\n",
    "    grafo_A = A.chromosome\n",
    "    grafo_B = B.chromosome\n",
    "    for vertice_a in grafo_A.vertices:\n",
    "        if vertice_a in grafo_B:\n",
    "            contador += 1\n",
    "        \n",
    "    return contador"
   ]
  },
  {
   "cell_type": "code",
   "execution_count": 39,
   "metadata": {},
   "outputs": [],
   "source": [
    "def arestas_semelhantes(A, B):\n",
    "    contador = 0\n",
    "    grafo_a = A.chromosome\n",
    "    grafo_b = B.chromosome\n",
    "    \n",
    "    for edge in grafo_a.gen_undirect_edges():\n",
    "        if grafo_b.has_edge(*edge):\n",
    "            contador += 1\n",
    "    return contador"
   ]
  },
  {
   "cell_type": "code",
   "execution_count": 40,
   "metadata": {},
   "outputs": [],
   "source": [
    "def custo_(individuo):\n",
    "    return individuo.cost"
   ]
  },
  {
   "cell_type": "code",
   "execution_count": 41,
   "metadata": {},
   "outputs": [
    {
     "name": "stdout",
     "output_type": "stream",
     "text": [
      "1138 1122\n",
      "1121 1128\n",
      "1114 1125\n",
      "1131 1134\n",
      "1118 1135\n",
      "1128 1143\n",
      "1132 1122\n",
      "1124 1137\n",
      "1118 1128\n",
      "1133 1146\n",
      "1128 1124\n",
      "1133 1129\n",
      "1120 1138\n",
      "1115 1105\n",
      "1136 1126\n",
      "1138 1120\n",
      "1147 1139\n",
      "1128 1135\n",
      "1114 1133\n",
      "1123 1139\n",
      "1129 1116\n",
      "1127 1130\n",
      "1123 1140\n",
      "1137 1226\n",
      "1135 1129\n"
     ]
    }
   ],
   "source": [
    "random.shuffle(individuos)\n",
    "\n",
    "for A, B in zip(individuos[0::2], individuos[1::2]):\n",
    "    print(A.cost, B.cost)"
   ]
  },
  {
   "cell_type": "code",
   "execution_count": 42,
   "metadata": {},
   "outputs": [],
   "source": [
    "dados = list()\n",
    "\n",
    "for A, B in zip(individuos[0::2], individuos[1::2]):\n",
    "    registro = [\n",
    "        custo_(A),\n",
    "        custo_(B),\n",
    "        nro_vertices(A),\n",
    "        nro_vertices(B),\n",
    "        vertices_semelhantes(A, B),\n",
    "        nro_arestas(A),\n",
    "        nro_arestas(B),\n",
    "        arestas_semelhantes(A,B)\n",
    "    ]\n",
    "    \n",
    "    dados.append(registro)"
   ]
  },
  {
   "cell_type": "code",
   "execution_count": 43,
   "metadata": {},
   "outputs": [],
   "source": [
    "colunas = [\n",
    "    'c_a',\n",
    "    'c_b',\n",
    "    'V_a',\n",
    "    'V_b',\n",
    "    'V_sem',\n",
    "    'E_a',\n",
    "    'E_b',\n",
    "    'E_sem'\n",
    "]"
   ]
  },
  {
   "cell_type": "code",
   "execution_count": 44,
   "metadata": {},
   "outputs": [],
   "source": [
    "frame = pd.DataFrame(data=dados,columns=colunas)"
   ]
  },
  {
   "cell_type": "code",
   "execution_count": 45,
   "metadata": {},
   "outputs": [
    {
     "data": {
      "text/html": [
       "<div>\n",
       "<style scoped>\n",
       "    .dataframe tbody tr th:only-of-type {\n",
       "        vertical-align: middle;\n",
       "    }\n",
       "\n",
       "    .dataframe tbody tr th {\n",
       "        vertical-align: top;\n",
       "    }\n",
       "\n",
       "    .dataframe thead th {\n",
       "        text-align: right;\n",
       "    }\n",
       "</style>\n",
       "<table border=\"1\" class=\"dataframe\">\n",
       "  <thead>\n",
       "    <tr style=\"text-align: right;\">\n",
       "      <th></th>\n",
       "      <th>c_a</th>\n",
       "      <th>c_b</th>\n",
       "      <th>V_a</th>\n",
       "      <th>V_b</th>\n",
       "      <th>V_sem</th>\n",
       "      <th>E_a</th>\n",
       "      <th>E_b</th>\n",
       "      <th>E_sem</th>\n",
       "    </tr>\n",
       "  </thead>\n",
       "  <tbody>\n",
       "    <tr>\n",
       "      <th>0</th>\n",
       "      <td>1138</td>\n",
       "      <td>1122</td>\n",
       "      <td>224</td>\n",
       "      <td>221</td>\n",
       "      <td>218</td>\n",
       "      <td>223</td>\n",
       "      <td>219</td>\n",
       "      <td>216</td>\n",
       "    </tr>\n",
       "    <tr>\n",
       "      <th>1</th>\n",
       "      <td>1121</td>\n",
       "      <td>1128</td>\n",
       "      <td>222</td>\n",
       "      <td>223</td>\n",
       "      <td>218</td>\n",
       "      <td>221</td>\n",
       "      <td>221</td>\n",
       "      <td>215</td>\n",
       "    </tr>\n",
       "    <tr>\n",
       "      <th>2</th>\n",
       "      <td>1114</td>\n",
       "      <td>1125</td>\n",
       "      <td>219</td>\n",
       "      <td>223</td>\n",
       "      <td>219</td>\n",
       "      <td>218</td>\n",
       "      <td>222</td>\n",
       "      <td>216</td>\n",
       "    </tr>\n",
       "    <tr>\n",
       "      <th>3</th>\n",
       "      <td>1131</td>\n",
       "      <td>1134</td>\n",
       "      <td>222</td>\n",
       "      <td>226</td>\n",
       "      <td>221</td>\n",
       "      <td>221</td>\n",
       "      <td>225</td>\n",
       "      <td>217</td>\n",
       "    </tr>\n",
       "    <tr>\n",
       "      <th>4</th>\n",
       "      <td>1118</td>\n",
       "      <td>1135</td>\n",
       "      <td>221</td>\n",
       "      <td>223</td>\n",
       "      <td>220</td>\n",
       "      <td>220</td>\n",
       "      <td>222</td>\n",
       "      <td>217</td>\n",
       "    </tr>\n",
       "    <tr>\n",
       "      <th>5</th>\n",
       "      <td>1128</td>\n",
       "      <td>1143</td>\n",
       "      <td>226</td>\n",
       "      <td>225</td>\n",
       "      <td>224</td>\n",
       "      <td>225</td>\n",
       "      <td>224</td>\n",
       "      <td>220</td>\n",
       "    </tr>\n",
       "    <tr>\n",
       "      <th>6</th>\n",
       "      <td>1132</td>\n",
       "      <td>1122</td>\n",
       "      <td>222</td>\n",
       "      <td>222</td>\n",
       "      <td>219</td>\n",
       "      <td>221</td>\n",
       "      <td>221</td>\n",
       "      <td>218</td>\n",
       "    </tr>\n",
       "    <tr>\n",
       "      <th>7</th>\n",
       "      <td>1124</td>\n",
       "      <td>1137</td>\n",
       "      <td>223</td>\n",
       "      <td>224</td>\n",
       "      <td>221</td>\n",
       "      <td>222</td>\n",
       "      <td>223</td>\n",
       "      <td>219</td>\n",
       "    </tr>\n",
       "    <tr>\n",
       "      <th>8</th>\n",
       "      <td>1118</td>\n",
       "      <td>1128</td>\n",
       "      <td>221</td>\n",
       "      <td>223</td>\n",
       "      <td>219</td>\n",
       "      <td>220</td>\n",
       "      <td>222</td>\n",
       "      <td>218</td>\n",
       "    </tr>\n",
       "    <tr>\n",
       "      <th>9</th>\n",
       "      <td>1133</td>\n",
       "      <td>1146</td>\n",
       "      <td>225</td>\n",
       "      <td>224</td>\n",
       "      <td>221</td>\n",
       "      <td>224</td>\n",
       "      <td>223</td>\n",
       "      <td>217</td>\n",
       "    </tr>\n",
       "    <tr>\n",
       "      <th>10</th>\n",
       "      <td>1128</td>\n",
       "      <td>1124</td>\n",
       "      <td>223</td>\n",
       "      <td>223</td>\n",
       "      <td>219</td>\n",
       "      <td>222</td>\n",
       "      <td>222</td>\n",
       "      <td>217</td>\n",
       "    </tr>\n",
       "    <tr>\n",
       "      <th>11</th>\n",
       "      <td>1133</td>\n",
       "      <td>1129</td>\n",
       "      <td>225</td>\n",
       "      <td>223</td>\n",
       "      <td>221</td>\n",
       "      <td>223</td>\n",
       "      <td>222</td>\n",
       "      <td>220</td>\n",
       "    </tr>\n",
       "    <tr>\n",
       "      <th>12</th>\n",
       "      <td>1120</td>\n",
       "      <td>1138</td>\n",
       "      <td>222</td>\n",
       "      <td>222</td>\n",
       "      <td>219</td>\n",
       "      <td>221</td>\n",
       "      <td>221</td>\n",
       "      <td>216</td>\n",
       "    </tr>\n",
       "    <tr>\n",
       "      <th>13</th>\n",
       "      <td>1115</td>\n",
       "      <td>1105</td>\n",
       "      <td>221</td>\n",
       "      <td>219</td>\n",
       "      <td>217</td>\n",
       "      <td>220</td>\n",
       "      <td>217</td>\n",
       "      <td>215</td>\n",
       "    </tr>\n",
       "    <tr>\n",
       "      <th>14</th>\n",
       "      <td>1136</td>\n",
       "      <td>1126</td>\n",
       "      <td>224</td>\n",
       "      <td>222</td>\n",
       "      <td>219</td>\n",
       "      <td>223</td>\n",
       "      <td>221</td>\n",
       "      <td>218</td>\n",
       "    </tr>\n",
       "    <tr>\n",
       "      <th>15</th>\n",
       "      <td>1138</td>\n",
       "      <td>1120</td>\n",
       "      <td>225</td>\n",
       "      <td>221</td>\n",
       "      <td>220</td>\n",
       "      <td>224</td>\n",
       "      <td>220</td>\n",
       "      <td>219</td>\n",
       "    </tr>\n",
       "    <tr>\n",
       "      <th>16</th>\n",
       "      <td>1147</td>\n",
       "      <td>1139</td>\n",
       "      <td>224</td>\n",
       "      <td>224</td>\n",
       "      <td>219</td>\n",
       "      <td>222</td>\n",
       "      <td>223</td>\n",
       "      <td>216</td>\n",
       "    </tr>\n",
       "    <tr>\n",
       "      <th>17</th>\n",
       "      <td>1128</td>\n",
       "      <td>1135</td>\n",
       "      <td>223</td>\n",
       "      <td>222</td>\n",
       "      <td>219</td>\n",
       "      <td>222</td>\n",
       "      <td>221</td>\n",
       "      <td>216</td>\n",
       "    </tr>\n",
       "    <tr>\n",
       "      <th>18</th>\n",
       "      <td>1114</td>\n",
       "      <td>1133</td>\n",
       "      <td>221</td>\n",
       "      <td>224</td>\n",
       "      <td>221</td>\n",
       "      <td>219</td>\n",
       "      <td>223</td>\n",
       "      <td>219</td>\n",
       "    </tr>\n",
       "    <tr>\n",
       "      <th>19</th>\n",
       "      <td>1123</td>\n",
       "      <td>1139</td>\n",
       "      <td>224</td>\n",
       "      <td>225</td>\n",
       "      <td>220</td>\n",
       "      <td>222</td>\n",
       "      <td>224</td>\n",
       "      <td>216</td>\n",
       "    </tr>\n",
       "    <tr>\n",
       "      <th>20</th>\n",
       "      <td>1129</td>\n",
       "      <td>1116</td>\n",
       "      <td>223</td>\n",
       "      <td>222</td>\n",
       "      <td>220</td>\n",
       "      <td>222</td>\n",
       "      <td>221</td>\n",
       "      <td>216</td>\n",
       "    </tr>\n",
       "    <tr>\n",
       "      <th>21</th>\n",
       "      <td>1127</td>\n",
       "      <td>1130</td>\n",
       "      <td>222</td>\n",
       "      <td>221</td>\n",
       "      <td>218</td>\n",
       "      <td>221</td>\n",
       "      <td>220</td>\n",
       "      <td>216</td>\n",
       "    </tr>\n",
       "    <tr>\n",
       "      <th>22</th>\n",
       "      <td>1123</td>\n",
       "      <td>1140</td>\n",
       "      <td>223</td>\n",
       "      <td>225</td>\n",
       "      <td>220</td>\n",
       "      <td>222</td>\n",
       "      <td>224</td>\n",
       "      <td>219</td>\n",
       "    </tr>\n",
       "    <tr>\n",
       "      <th>23</th>\n",
       "      <td>1137</td>\n",
       "      <td>1226</td>\n",
       "      <td>226</td>\n",
       "      <td>225</td>\n",
       "      <td>221</td>\n",
       "      <td>225</td>\n",
       "      <td>221</td>\n",
       "      <td>215</td>\n",
       "    </tr>\n",
       "    <tr>\n",
       "      <th>24</th>\n",
       "      <td>1135</td>\n",
       "      <td>1129</td>\n",
       "      <td>223</td>\n",
       "      <td>223</td>\n",
       "      <td>219</td>\n",
       "      <td>221</td>\n",
       "      <td>222</td>\n",
       "      <td>217</td>\n",
       "    </tr>\n",
       "  </tbody>\n",
       "</table>\n",
       "</div>"
      ],
      "text/plain": [
       "     c_a   c_b  V_a  V_b  V_sem  E_a  E_b  E_sem\n",
       "0   1138  1122  224  221    218  223  219    216\n",
       "1   1121  1128  222  223    218  221  221    215\n",
       "2   1114  1125  219  223    219  218  222    216\n",
       "3   1131  1134  222  226    221  221  225    217\n",
       "4   1118  1135  221  223    220  220  222    217\n",
       "5   1128  1143  226  225    224  225  224    220\n",
       "6   1132  1122  222  222    219  221  221    218\n",
       "7   1124  1137  223  224    221  222  223    219\n",
       "8   1118  1128  221  223    219  220  222    218\n",
       "9   1133  1146  225  224    221  224  223    217\n",
       "10  1128  1124  223  223    219  222  222    217\n",
       "11  1133  1129  225  223    221  223  222    220\n",
       "12  1120  1138  222  222    219  221  221    216\n",
       "13  1115  1105  221  219    217  220  217    215\n",
       "14  1136  1126  224  222    219  223  221    218\n",
       "15  1138  1120  225  221    220  224  220    219\n",
       "16  1147  1139  224  224    219  222  223    216\n",
       "17  1128  1135  223  222    219  222  221    216\n",
       "18  1114  1133  221  224    221  219  223    219\n",
       "19  1123  1139  224  225    220  222  224    216\n",
       "20  1129  1116  223  222    220  222  221    216\n",
       "21  1127  1130  222  221    218  221  220    216\n",
       "22  1123  1140  223  225    220  222  224    219\n",
       "23  1137  1226  226  225    221  225  221    215\n",
       "24  1135  1129  223  223    219  221  222    217"
      ]
     },
     "execution_count": 45,
     "metadata": {},
     "output_type": "execute_result"
    }
   ],
   "source": [
    "frame"
   ]
  },
  {
   "cell_type": "markdown",
   "metadata": {},
   "source": [
    "---\n",
    "\n",
    "## Verificar partições"
   ]
  },
  {
   "cell_type": "code",
   "execution_count": 46,
   "metadata": {},
   "outputs": [],
   "source": [
    "from graph.util import has_cycle\n",
    "from itertools import product"
   ]
  },
  {
   "cell_type": "code",
   "execution_count": 47,
   "metadata": {},
   "outputs": [],
   "source": [
    "def gg_union(individuo_a, individuo_b):\n",
    "    '''Return the union graph'''\n",
    "    \n",
    "    A = individuo_a.chromosome\n",
    "    B = individuo_b.chromosome\n",
    "\n",
    "    C = Graph()\n",
    "\n",
    "    for v, u in A.gen_undirect_edges():\n",
    "        w = A[v][u]\n",
    "        C.add_edge(v,u,weight=w)\n",
    "\n",
    "    for v, u in B.gen_undirect_edges():\n",
    "        if not C.has_edge(v,u):\n",
    "            w = B[v][u]\n",
    "            C.add_edge(v,u,weight=w)\n",
    "\n",
    "    return C"
   ]
  },
  {
   "cell_type": "code",
   "execution_count": 48,
   "metadata": {},
   "outputs": [],
   "source": [
    "def partitioning(individuo_a, individuo_b):\n",
    "    \n",
    "    subtree_a = individuo_a.chromosome\n",
    "    subtree_b = individuo_b.chromosome\n",
    "\n",
    "    partition = Graph()\n",
    "    offspring = Graph()\n",
    "    \n",
    "    for v, w in subtree_a.gen_undirect_edges():\n",
    "        weight = subtree_a.weight(v,w)\n",
    "\n",
    "        if subtree_b.has_edge(v, w):\n",
    "            offspring.add_edge(v, w, weight=weight)\n",
    "        else:\n",
    "            partition.add_edge(v, w, weight=weight)\n",
    "            \n",
    "    for v, w in subtree_b.gen_undirect_edges():\n",
    "        weight = subtree_b.weight(v,w)\n",
    "\n",
    "        if not subtree_a.has_edge(v, w):\n",
    "            partition.add_edge(v, w, weight=weight)\n",
    "            \n",
    "    return partition, offspring   "
   ]
  },
  {
   "cell_type": "code",
   "execution_count": null,
   "metadata": {},
   "outputs": [],
   "source": []
  },
  {
   "cell_type": "code",
   "execution_count": 53,
   "metadata": {},
   "outputs": [],
   "source": [
    "prod = product(individuos, repeat=2)\n",
    "\n",
    "counter = 0\n",
    "counter_cycle = 0\n",
    "not_cycle = 0\n",
    "\n",
    "for a, b in prod:\n",
    "    p, _ = partitioning(a, b)\n",
    "    counter += 1\n",
    "    if has_cycle(p):\n",
    "        counter_cycle += 1\n",
    "    else:\n",
    "        not_cycle += 1"
   ]
  },
  {
   "cell_type": "code",
   "execution_count": 54,
   "metadata": {},
   "outputs": [
    {
     "data": {
      "text/plain": [
       "2500"
      ]
     },
     "execution_count": 54,
     "metadata": {},
     "output_type": "execute_result"
    }
   ],
   "source": [
    "counter"
   ]
  },
  {
   "cell_type": "code",
   "execution_count": 55,
   "metadata": {},
   "outputs": [
    {
     "data": {
      "text/plain": [
       "0"
      ]
     },
     "execution_count": 55,
     "metadata": {},
     "output_type": "execute_result"
    }
   ],
   "source": [
    "counter_cycle"
   ]
  },
  {
   "cell_type": "code",
   "execution_count": 56,
   "metadata": {},
   "outputs": [
    {
     "data": {
      "text/plain": [
       "0.0"
      ]
     },
     "execution_count": 56,
     "metadata": {},
     "output_type": "execute_result"
    }
   ],
   "source": [
    "counter_cycle / counter"
   ]
  },
  {
   "cell_type": "code",
   "execution_count": 57,
   "metadata": {},
   "outputs": [
    {
     "data": {
      "text/plain": [
       "2500"
      ]
     },
     "execution_count": 57,
     "metadata": {},
     "output_type": "execute_result"
    }
   ],
   "source": [
    "not_cycle"
   ]
  },
  {
   "cell_type": "code",
   "execution_count": null,
   "metadata": {},
   "outputs": [],
   "source": []
  }
 ],
 "metadata": {
  "kernelspec": {
   "display_name": "Python 3",
   "language": "python",
   "name": "python3"
  },
  "language_info": {
   "codemirror_mode": {
    "name": "ipython",
    "version": 3
   },
   "file_extension": ".py",
   "mimetype": "text/x-python",
   "name": "python",
   "nbconvert_exporter": "python",
   "pygments_lexer": "ipython3",
   "version": "3.8.3"
  }
 },
 "nbformat": 4,
 "nbformat_minor": 4
}
