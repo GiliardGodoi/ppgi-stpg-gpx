{
 "cells": [
  {
   "cell_type": "code",
   "execution_count": 1,
   "metadata": {},
   "outputs": [],
   "source": [
    "import sys; sys.path.append('..')\n",
    "from os import path\n",
    "\n",
    "from IPython.display import Image"
   ]
  },
  {
   "cell_type": "code",
   "execution_count": 2,
   "metadata": {},
   "outputs": [],
   "source": [
    "from collections import deque, defaultdict"
   ]
  },
  {
   "cell_type": "code",
   "execution_count": 3,
   "metadata": {},
   "outputs": [],
   "source": [
    "from graph import Graph"
   ]
  },
  {
   "cell_type": "markdown",
   "metadata": {},
   "source": [
    "Step 1. Create a union graph Gu = G1 ∪ G2 from graphs G1 and\n",
    "G2 (parents)."
   ]
  },
  {
   "cell_type": "code",
   "execution_count": 4,
   "metadata": {},
   "outputs": [],
   "source": [
    "def union(red, blue):\n",
    "    \n",
    "    gg = Graph()\n",
    "    \n",
    "    for v, u in red.gen_undirect_edges():\n",
    "        gg.add_edge(v,u)\n",
    "    \n",
    "    for v, u in blue.gen_undirect_edges():\n",
    "        gg.add_edge(v,u)\n",
    "        \n",
    "    return gg"
   ]
  },
  {
   "cell_type": "markdown",
   "metadata": {},
   "source": [
    "Step 2. Remove all common edges of Gu."
   ]
  },
  {
   "cell_type": "code",
   "execution_count": 5,
   "metadata": {},
   "outputs": [],
   "source": [
    "def fork_common_and_distinct(GU, red, blue):\n",
    "    \n",
    "    g_common = Graph()\n",
    "    g_star = Graph()\n",
    "    \n",
    "    for v, u in GU.gen_undirect_edges():\n",
    "        if red.has_edge(v,u) and blue.has_edge(v, u):\n",
    "            g_common.add_edge(v,u)\n",
    "        else:\n",
    "            g_star.add_edge(v,u)\n",
    "            \n",
    "    return g_common, g_star"
   ]
  },
  {
   "cell_type": "code",
   "execution_count": 6,
   "metadata": {},
   "outputs": [],
   "source": [
    "# The steps 1 and 2 can be done in just one function like \n",
    "\n",
    "def compose(red, blue):\n",
    "    '''\n",
    "    Parameters:\n",
    "    ----------\n",
    "        red, blue : Graph\n",
    "        \n",
    "    Return:\n",
    "    -------\n",
    "        g_union, g_common, g_star : Graph\n",
    "    '''\n",
    "    \n",
    "    g_union  = Graph()\n",
    "    g_common = Graph()\n",
    "    g_star   = Graph()\n",
    "    \n",
    "    \n",
    "    for v, u in red.gen_undirect_edges():\n",
    "        g_union.add_edge(v,u)\n",
    "        \n",
    "        if not blue.has_edge(v,u):\n",
    "            g_star.add_edge(v,u)\n",
    "    \n",
    "    for v, u in blue.gen_undirect_edges():\n",
    "        g_union.add_edge(v,u)\n",
    "        \n",
    "        if red.has_edge(v,u):\n",
    "            g_common.add_edge(v,u)\n",
    "        else:\n",
    "            g_star.add_edge(v,u)\n",
    "            \n",
    "            \n",
    "    return g_union, g_common, g_star"
   ]
  },
  {
   "cell_type": "markdown",
   "metadata": {},
   "source": [
    "Step 3. Find the connected components of Gu. The connected\n",
    "components with more than one node are candidate components\n",
    "for recombination."
   ]
  },
  {
   "cell_type": "code",
   "execution_count": 7,
   "metadata": {},
   "outputs": [],
   "source": [
    "def connected_component(G_star, red, blue):\n",
    "    \n",
    "    vertices = set(G_star.vertices) # complexity O(|vertices|) of this operation\n",
    "    visited = set()\n",
    "    components = list()\n",
    "    stack = deque()\n",
    "    \n",
    "    while vertices:\n",
    "        v = vertices.pop()\n",
    "        stack.append(v)\n",
    "        component = {\"red\" : set() , \"blue\" : set(), 'has_cycle' : False , 'how_many' : 0}\n",
    "        \n",
    "        while stack:\n",
    "            u = stack.pop()\n",
    "            visited.add(u)\n",
    "            vertices.discard(u)\n",
    "                \n",
    "            for w in G_star.adjacent_to(u):\n",
    "                if w not in visited:\n",
    "                    if w in stack :\n",
    "                        component['has_cycle'] = True\n",
    "                        component['how_many'] += 1\n",
    "                    else:\n",
    "                        stack.append(w)\n",
    "                    # if red.has_edge(u, w) and not blue.has_edge(u, w):\n",
    "                    if red.has_edge(u, w) :\n",
    "                        component['red'].add((u, w))\n",
    "                    # elif not red.has_edge(u, w) and blue.has_edge(u, w):\n",
    "                    if blue.has_edge(u, w):\n",
    "                        component['blue'].add((u, w))\n",
    "                    \n",
    "        components.append(component)\n",
    "        \n",
    "    return components"
   ]
  },
  {
   "cell_type": "markdown",
   "metadata": {},
   "source": [
    "Step 4. For each candidate component, create 2 simplified graphs, one for each parent. \n",
    "\n",
    "The simplified graphs contain as vertices only the entry vertices of the candidate component, i.e., vertices connected to at least one edge between vertices located in different candidate components.\n",
    "\n",
    "The edges of the simplified graphs can be obtained by removing the vertices that are not entry vertices (and linking the neighbor vertices)"
   ]
  },
  {
   "cell_type": "code",
   "execution_count": 8,
   "metadata": {},
   "outputs": [],
   "source": [
    "# O importante é verificar se os vértices portais são iguais ou se as partições recombinantes se conectam às mesmas\n",
    "# partições \n",
    "\n",
    "# O grafo simplificado pode ser composto por pelo menos um vértices isolado; \n",
    "# "
   ]
  },
  {
   "cell_type": "code",
   "execution_count": 9,
   "metadata": {},
   "outputs": [],
   "source": [
    "# how to build a simplify graph for this problem?\n",
    "\n",
    "# def build_simplify_graph(GU, edge_set):\n",
    "    \n",
    "#     simplify = Graph()\n",
    "    \n",
    "#     return simplify"
   ]
  },
  {
   "cell_type": "markdown",
   "metadata": {},
   "source": [
    "Step 5. Test each candidate component. If the two simplified\n",
    "graphs are equal, then the candidate component is a recombining\n",
    "component."
   ]
  },
  {
   "cell_type": "code",
   "execution_count": 10,
   "metadata": {},
   "outputs": [],
   "source": [
    "def test_simplify_graphs(sim_red, sim_blue):\n",
    "    \n",
    "    return False"
   ]
  },
  {
   "cell_type": "markdown",
   "metadata": {},
   "source": [
    "Step 6. The remaining graph is also considered a recombining\n",
    "component."
   ]
  },
  {
   "cell_type": "code",
   "execution_count": null,
   "metadata": {},
   "outputs": [],
   "source": []
  },
  {
   "cell_type": "markdown",
   "metadata": {},
   "source": [
    "Step 7. Apply crossover by selecting the shortest partial solution\n",
    "inside each recombining component."
   ]
  },
  {
   "cell_type": "code",
   "execution_count": 11,
   "metadata": {},
   "outputs": [],
   "source": [
    "def choose_best(GU, component):\n",
    "    \n",
    "    weight_red = sum(GU.weight(v,u) for v, u in component['red'])\n",
    "    weight_blue = sum(GU.weight(v,u) for v, u in component['blue'])\n",
    "    \n",
    "    if weight_red <= weight_blue :\n",
    "        return component['red']\n",
    "\n",
    "    elif weight_blue < weight_red:\n",
    "        return component['blue']\n"
   ]
  },
  {
   "cell_type": "code",
   "execution_count": null,
   "metadata": {},
   "outputs": [],
   "source": []
  },
  {
   "cell_type": "code",
   "execution_count": 12,
   "metadata": {},
   "outputs": [],
   "source": [
    "def gpx(red, blue):\n",
    "    \n",
    "    GU = compose(red, blue)\n",
    "    \n",
    "    G_common, G_start = fork_common_and_distinct(GU, red, blue)\n",
    "    \n",
    "    portals = set(G_common.vertices) & set(G_start.vertices)\n",
    "    \n",
    "    recombinants = list()\n",
    "    \n",
    "    for component in connected_component(G_start):\n",
    "        sim_red  = build_simplify_graph(component, red)\n",
    "        sim_blue = build_simplify_graph(component, blue)\n",
    "        \n",
    "        if test_simplify_graphs(sim_red, sim_blue):\n",
    "            recombinants.append(component)\n",
    "        else:\n",
    "            pass\n",
    "            # what do I do here?\n",
    "            \n",
    "        # choose the best solution. how?\n",
    "        offspring = Graph()\n",
    "        for component in recombinants:\n",
    "            _best = choose_best(GU, component)\n",
    "            \n",
    "        \n",
    "            "
   ]
  },
  {
   "cell_type": "code",
   "execution_count": null,
   "metadata": {},
   "outputs": [],
   "source": []
  },
  {
   "cell_type": "code",
   "execution_count": 33,
   "metadata": {},
   "outputs": [
    {
     "data": {
      "image/png": "[encoded data removed]",
      "text/plain": [
       "<IPython.core.display.Image object>"
      ]
     },
     "execution_count": 33,
     "metadata": {
      "image/png": {
       "height": 300,
       "width": 300
      }
     },
     "output_type": "execute_result"
    }
   ],
   "source": [
    "dim = 300\n",
    "Image(filename=path.join('img', 'grafo_abcd_rst.png'), width=dim, height=dim)"
   ]
  },
  {
   "cell_type": "code",
   "execution_count": 13,
   "metadata": {},
   "outputs": [],
   "source": [
    "aa = Graph(edges={\n",
    "    'A' : {'B' : 5, 'C' : 3},\n",
    "    'C' : {'A' : 3, 'S' : 6},\n",
    "    'B' : {'A' : 5},\n",
    "    'R' : {'S' : 4, 'T' : 1},\n",
    "    'S' : {'R' : 4 , 'C': 6},\n",
    "    'T' : {'R' : 1}\n",
    "})"
   ]
  },
  {
   "cell_type": "code",
   "execution_count": 14,
   "metadata": {},
   "outputs": [],
   "source": [
    "bb = Graph(edges={\n",
    "    'D' : {'A' : 2, 'C' : 4, 'B': 3},\n",
    "    'A' : {'D' : 2},\n",
    "    'C' : {'D' : 4, 'S' : 6},\n",
    "    'B' : {'D' : 3},\n",
    "    'T' : {'S' : 10},\n",
    "    'S' : {'T' : 10, 'C' : 6}\n",
    "})"
   ]
  },
  {
   "cell_type": "code",
   "execution_count": null,
   "metadata": {},
   "outputs": [],
   "source": []
  },
  {
   "cell_type": "code",
   "execution_count": null,
   "metadata": {},
   "outputs": [],
   "source": []
  },
  {
   "cell_type": "code",
   "execution_count": 17,
   "metadata": {},
   "outputs": [],
   "source": [
    "GU = union(aa, bb)"
   ]
  },
  {
   "cell_type": "code",
   "execution_count": 18,
   "metadata": {},
   "outputs": [],
   "source": [
    "g_common, g_star = fork_common_and_distinct(GU, aa, bb)"
   ]
  },
  {
   "cell_type": "code",
   "execution_count": 19,
   "metadata": {},
   "outputs": [
    {
     "data": {
      "text/plain": [
       "{'C', 'S'}"
      ]
     },
     "execution_count": 19,
     "metadata": {},
     "output_type": "execute_result"
    }
   ],
   "source": [
    "set(g_common.vertices) "
   ]
  },
  {
   "cell_type": "code",
   "execution_count": 20,
   "metadata": {},
   "outputs": [
    {
     "data": {
      "text/plain": [
       "{'A', 'B', 'C', 'D', 'R', 'S', 'T'}"
      ]
     },
     "execution_count": 20,
     "metadata": {},
     "output_type": "execute_result"
    }
   ],
   "source": [
    "set(g_star.vertices)"
   ]
  },
  {
   "cell_type": "code",
   "execution_count": 21,
   "metadata": {},
   "outputs": [
    {
     "data": {
      "text/plain": [
       "{'C', 'S'}"
      ]
     },
     "execution_count": 21,
     "metadata": {},
     "output_type": "execute_result"
    }
   ],
   "source": [
    "set(g_common.vertices) & set(g_star.vertices)"
   ]
  },
  {
   "cell_type": "code",
   "execution_count": null,
   "metadata": {},
   "outputs": [],
   "source": []
  },
  {
   "cell_type": "code",
   "execution_count": 22,
   "metadata": {},
   "outputs": [],
   "source": [
    "components = connected_component(g_star, aa, bb)"
   ]
  },
  {
   "cell_type": "code",
   "execution_count": 23,
   "metadata": {},
   "outputs": [
    {
     "data": {
      "text/plain": [
       "[{'red': {('B', 'A'), ('C', 'A')},\n",
       "  'blue': {('D', 'A'), ('D', 'B'), ('D', 'C')},\n",
       "  'has_cycle': True,\n",
       "  'how_many': 2},\n",
       " {'red': {('R', 'S'), ('T', 'R')},\n",
       "  'blue': {('T', 'S')},\n",
       "  'has_cycle': True,\n",
       "  'how_many': 1}]"
      ]
     },
     "execution_count": 23,
     "metadata": {},
     "output_type": "execute_result"
    }
   ],
   "source": [
    "components"
   ]
  },
  {
   "cell_type": "code",
   "execution_count": null,
   "metadata": {},
   "outputs": [],
   "source": []
  },
  {
   "cell_type": "code",
   "execution_count": 24,
   "metadata": {},
   "outputs": [
    {
     "data": {
      "text/plain": [
       "{('B', 'A'), ('C', 'A')}"
      ]
     },
     "execution_count": 24,
     "metadata": {},
     "output_type": "execute_result"
    }
   ],
   "source": [
    "choose_best(GU,components[0])"
   ]
  },
  {
   "cell_type": "code",
   "execution_count": 25,
   "metadata": {},
   "outputs": [
    {
     "data": {
      "text/plain": [
       "{('T', 'S')}"
      ]
     },
     "execution_count": 25,
     "metadata": {},
     "output_type": "execute_result"
    }
   ],
   "source": [
    "choose_best(GU,components[1])"
   ]
  }
 ],
 "metadata": {
  "kernelspec": {
   "display_name": "Python 3",
   "language": "python",
   "name": "python3"
  },
  "language_info": {
   "codemirror_mode": {
    "name": "ipython",
    "version": 3
   },
   "file_extension": ".py",
   "mimetype": "text/x-python",
   "name": "python",
   "nbconvert_exporter": "python",
   "pygments_lexer": "ipython3",
   "version": "3.8.3"
  }
 },
 "nbformat": 4,
 "nbformat_minor": 4
}
