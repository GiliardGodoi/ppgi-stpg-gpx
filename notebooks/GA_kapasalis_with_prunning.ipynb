{
 "cells": [
  {
   "cell_type": "code",
   "execution_count": 1,
   "metadata": {},
   "outputs": [],
   "source": [
    "import sys; sys.path.append('..')"
   ]
  },
  {
   "cell_type": "code",
   "execution_count": 2,
   "metadata": {},
   "outputs": [],
   "source": [
    "import math\n",
    "from os import path\n",
    "import random"
   ]
  },
  {
   "cell_type": "code",
   "execution_count": 3,
   "metadata": {},
   "outputs": [],
   "source": [
    "# import networkx as nx\n",
    "# from matplotlib import pyplot as plt"
   ]
  },
  {
   "cell_type": "code",
   "execution_count": 4,
   "metadata": {},
   "outputs": [],
   "source": [
    "from graph import Graph\n",
    "from graph.disjointsets import DisjointSets\n",
    "from graph.reader import read_problem\n",
    "from graph.steiner import prunning_mst\n",
    "from graph.util import has_cycle, how_many_components"
   ]
  },
  {
   "cell_type": "code",
   "execution_count": 5,
   "metadata": {},
   "outputs": [],
   "source": [
    "from base.binary.combiner import crossover_1point, crossover_2points, crossover_uniform\n",
    "# from base.chromosome import random_binary\n",
    "from base.condition import BestKnownReached, BestSolutionKnowReached, Stagnation\n",
    "from base.customevol import SteinerEvolution as Evolution\n",
    "from base.customevol import SteinerPopulation as Population\n",
    "from base.mutate import flip_onebit\n",
    "from base.normalization import normalize\n",
    "from base.pickers import random_picker\n",
    "from base.selector import roullete\n",
    "from base.tracker import DataTracker\n",
    "from base.util import display, update_best, update_generation\n",
    "\n",
    "from treetools import Eval, Converter"
   ]
  },
  {
   "cell_type": "code",
   "execution_count": 6,
   "metadata": {},
   "outputs": [],
   "source": [
    "from draw import hierarchy_pos"
   ]
  },
  {
   "cell_type": "code",
   "execution_count": null,
   "metadata": {},
   "outputs": [],
   "source": []
  },
  {
   "cell_type": "markdown",
   "metadata": {},
   "source": [
    "---"
   ]
  },
  {
   "cell_type": "code",
   "execution_count": 7,
   "metadata": {},
   "outputs": [],
   "source": [
    "# problema = path.join('..', 'datasets', 'ORLibrary', 'steinc1.txt')\n",
    "problema = path.join('..', 'datasets', 'ORLibrary', 'steinb16.txt')\n",
    "\n",
    "STPG = read_problem(problema)"
   ]
  },
  {
   "cell_type": "code",
   "execution_count": 8,
   "metadata": {},
   "outputs": [],
   "source": [
    "best_known_solution = 127"
   ]
  },
  {
   "cell_type": "code",
   "execution_count": 9,
   "metadata": {},
   "outputs": [
    {
     "data": {
      "text/plain": [
       "100"
      ]
     },
     "execution_count": 9,
     "metadata": {},
     "output_type": "execute_result"
    }
   ],
   "source": [
    "STPG.nro_nodes"
   ]
  },
  {
   "cell_type": "code",
   "execution_count": 10,
   "metadata": {},
   "outputs": [
    {
     "data": {
      "text/plain": [
       "200"
      ]
     },
     "execution_count": 10,
     "metadata": {},
     "output_type": "execute_result"
    }
   ],
   "source": [
    "STPG.nro_edges"
   ]
  },
  {
   "cell_type": "code",
   "execution_count": 11,
   "metadata": {},
   "outputs": [
    {
     "data": {
      "text/plain": [
       "17"
      ]
     },
     "execution_count": 11,
     "metadata": {},
     "output_type": "execute_result"
    }
   ],
   "source": [
    "STPG.nro_terminals"
   ]
  },
  {
   "cell_type": "code",
   "execution_count": 12,
   "metadata": {},
   "outputs": [
    {
     "name": "stdout",
     "output_type": "stream",
     "text": [
      "{97, 37, 69, 72, 9, 76, 60, 81, 82, 17, 20, 21, 54, 87, 25, 59, 28}\n"
     ]
    }
   ],
   "source": [
    "print(STPG.terminals)"
   ]
  },
  {
   "cell_type": "code",
   "execution_count": 13,
   "metadata": {},
   "outputs": [],
   "source": [
    "terminals = set(STPG.terminals)\n",
    "\n",
    "def is_terminal(vertice):\n",
    "    return vertice in terminals"
   ]
  },
  {
   "cell_type": "code",
   "execution_count": 14,
   "metadata": {},
   "outputs": [],
   "source": [
    "def prunning(treegraph):\n",
    "    \n",
    "    to_eliminate = set()\n",
    "    \n",
    "    for v in treegraph.vertices:\n",
    "        degree = treegraph.degree(v)\n",
    "        if (not is_terminal(v)) and (degree == 1):\n",
    "            to_eliminate.add(v)\n",
    "        elif (degree == 0) and (not is_terminal(v)) :\n",
    "            to_eliminate.add(v)\n",
    "    \n",
    "    checkbefore = set()\n",
    "    \n",
    "    while to_eliminate:\n",
    "        while to_eliminate:\n",
    "            v = to_eliminate.pop()\n",
    "            for adj in treegraph.adjacent_to(v):\n",
    "                checkbefore.add(adj)\n",
    "            treegraph.remove_node(v)\n",
    "\n",
    "        while checkbefore:\n",
    "            u = checkbefore.pop()\n",
    "            if (not is_terminal(u)) and (treegraph.degree(u) == 1):\n",
    "                to_eliminate.add(u)\n",
    "                \n",
    "    return treegraph   "
   ]
  },
  {
   "cell_type": "code",
   "execution_count": 15,
   "metadata": {},
   "outputs": [],
   "source": [
    "def random_treegraph_chromosome(STPG):\n",
    "    \n",
    "    graph = STPG.graph\n",
    "    terminals = set(STPG.terminals)\n",
    "    \n",
    "    alledges = [(v, u, graph.weight(v,u)) for v, u in graph.gen_undirect_edges()]\n",
    "    random.shuffle(alledges) # random component\n",
    "\n",
    "    DS = DisjointSets()\n",
    "    subgraph = Graph()\n",
    "    total_cost = 0\n",
    "    \n",
    "    for v in graph.vertices:\n",
    "        DS.make_set(v)\n",
    "\n",
    "    while alledges :\n",
    "        v, u, weight = alledges.pop()\n",
    "\n",
    "        if DS.find(v) != DS.find(u):\n",
    "            DS.union(v, u)\n",
    "            total_cost += weight\n",
    "            subgraph.add_edge(v, u, weight=weight)\n",
    "            terminals.discard(v)\n",
    "            terminals.discard(u)\n",
    "\n",
    "    return prunning(subgraph)"
   ]
  },
  {
   "cell_type": "code",
   "execution_count": 16,
   "metadata": {},
   "outputs": [],
   "source": [
    "population_size = 50\n",
    "mutation_rate = 0.2\n",
    "cx_uniform_rate = 0.5\n",
    "\n",
    "nro_repetition = 500"
   ]
  },
  {
   "cell_type": "code",
   "execution_count": 17,
   "metadata": {},
   "outputs": [],
   "source": [
    "converter = Converter(STPG)\n",
    "fitness_func = Eval(STPG)"
   ]
  },
  {
   "cell_type": "code",
   "execution_count": 18,
   "metadata": {},
   "outputs": [],
   "source": [
    "population = (Population(chromosomes=[random_treegraph_chromosome(STPG) for _ in range(population_size)],\n",
    "                        eval_function=fitness_func,\n",
    "                        maximize=True)\n",
    "                        .evaluate()\n",
    "                        .callback(normalize)\n",
    "                        .callback(update_best))"
   ]
  },
  {
   "cell_type": "code",
   "execution_count": 19,
   "metadata": {},
   "outputs": [],
   "source": [
    "kapsalis = (Evolution()\n",
    "            .evaluate()\n",
    "            .callback(normalize)\n",
    "            .callback(update_best)\n",
    "            .select(selection_func=roullete)\n",
    "            .crossover(combiner=crossover_2points, \n",
    "                       parent_picker=random_picker)\n",
    "            .mutate(mutate_function=flip_onebit, \n",
    "                    probability=mutation_rate)\n",
    "            .callback(update_generation)\n",
    "            .callback(display, every=100))"
   ]
  },
  {
   "cell_type": "code",
   "execution_count": 20,
   "metadata": {},
   "outputs": [],
   "source": [
    "def prunning__(individuo):    \n",
    "    if individuo.qtd_partitions == 1:\n",
    "        individuo.chromosome = prunning(individuo.chromosome)\n",
    "\n",
    "    return individuo"
   ]
  },
  {
   "cell_type": "code",
   "execution_count": 21,
   "metadata": {},
   "outputs": [],
   "source": [
    "hybridi = (Evolution()\n",
    "           .map(converter.treegraph2binary)\n",
    "           .repeat(kapsalis, n=nro_repetition)\n",
    "           .map(converter.binary2treegraph)\n",
    "           .map(prunning__)\n",
    "          )"
   ]
  },
  {
   "cell_type": "code",
   "execution_count": 22,
   "metadata": {},
   "outputs": [
    {
     "name": "stdout",
     "output_type": "stream",
     "text": [
      "Population b0a4e6 | size 50 | generation 100\n",
      "Population b0a4e6 | size 50 | generation 200\n",
      "Population b0a4e6 | size 50 | generation 300\n",
      "Population b0a4e6 | size 50 | generation 400\n",
      "Population b0a4e6 | size 50 | generation 500\n",
      "Population b0a4e6 | size 50 | generation 600\n",
      "Population b0a4e6 | size 50 | generation 700\n",
      "Population b0a4e6 | size 50 | generation 800\n",
      "Population b0a4e6 | size 50 | generation 900\n",
      "Population b0a4e6 | size 50 | generation 1000\n",
      "Population b0a4e6 | size 50 | generation 1100\n",
      "Population b0a4e6 | size 50 | generation 1200\n",
      "Population b0a4e6 | size 50 | generation 1300\n",
      "Population b0a4e6 | size 50 | generation 1400\n",
      "Population b0a4e6 | size 50 | generation 1500\n",
      "Wall time: 1min 53s\n"
     ]
    }
   ],
   "source": [
    "%%time\n",
    "\n",
    "with Stagnation(interval=1_000), \\\n",
    "        BestSolutionKnowReached(global_optimum=best_known_solution, STPG=STPG):\n",
    "    result = population.evolve(hybridi, n=20)"
   ]
  },
  {
   "cell_type": "code",
   "execution_count": 23,
   "metadata": {},
   "outputs": [
    {
     "data": {
      "text/plain": [
       "156"
      ]
     },
     "execution_count": 23,
     "metadata": {},
     "output_type": "execute_result"
    }
   ],
   "source": [
    "result.documented_best.cost"
   ]
  },
  {
   "cell_type": "code",
   "execution_count": 24,
   "metadata": {},
   "outputs": [
    {
     "data": {
      "text/plain": [
       "1"
      ]
     },
     "execution_count": 24,
     "metadata": {},
     "output_type": "execute_result"
    }
   ],
   "source": [
    "result.documented_best.qtd_partitions"
   ]
  },
  {
   "cell_type": "code",
   "execution_count": 25,
   "metadata": {},
   "outputs": [
    {
     "name": "stdout",
     "output_type": "stream",
     "text": [
      "186\n",
      "183\n",
      "191\n",
      "194\n",
      "199\n",
      "188\n",
      "195\n",
      "186\n",
      "194\n",
      "203\n",
      "183\n",
      "185\n",
      "196\n",
      "196\n",
      "191\n",
      "185\n",
      "197\n",
      "186\n",
      "189\n",
      "191\n",
      "187\n",
      "287\n",
      "294\n",
      "187\n",
      "186\n",
      "188\n",
      "189\n",
      "184\n",
      "191\n",
      "180\n",
      "184\n",
      "195\n",
      "189\n",
      "182\n",
      "194\n",
      "187\n",
      "179\n",
      "193\n",
      "183\n",
      "192\n",
      "185\n",
      "189\n",
      "181\n",
      "192\n",
      "198\n",
      "195\n",
      "203\n",
      "200\n",
      "302\n",
      "189\n"
     ]
    }
   ],
   "source": [
    "result.evaluate()\n",
    "\n",
    "for p in result:\n",
    "    print(p.cost)"
   ]
  },
  {
   "cell_type": "code",
   "execution_count": null,
   "metadata": {},
   "outputs": [],
   "source": []
  }
 ],
 "metadata": {
  "kernelspec": {
   "display_name": "Python 3",
   "language": "python",
   "name": "python3"
  },
  "language_info": {
   "codemirror_mode": {
    "name": "ipython",
    "version": 3
   },
   "file_extension": ".py",
   "mimetype": "text/x-python",
   "name": "python",
   "nbconvert_exporter": "python",
   "pygments_lexer": "ipython3",
   "version": "3.8.3"
  }
 },
 "nbformat": 4,
 "nbformat_minor": 4
}
