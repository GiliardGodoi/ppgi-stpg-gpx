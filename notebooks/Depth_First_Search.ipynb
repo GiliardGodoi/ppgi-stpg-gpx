{
 "cells": [
  {
   "cell_type": "markdown",
   "metadata": {},
   "source": [
    "Esse Notebook explora diferentes formas de implementar uma busca por profundidade."
   ]
  },
  {
   "cell_type": "code",
   "execution_count": 1,
   "metadata": {},
   "outputs": [],
   "source": [
    "import sys; sys.path.append('..')"
   ]
  },
  {
   "cell_type": "code",
   "execution_count": 2,
   "metadata": {},
   "outputs": [],
   "source": [
    "from IPython.display import YouTubeVideo, Image"
   ]
  },
  {
   "cell_type": "code",
   "execution_count": 3,
   "metadata": {},
   "outputs": [],
   "source": [
    "from collections import deque, defaultdict"
   ]
  },
  {
   "cell_type": "code",
   "execution_count": 4,
   "metadata": {},
   "outputs": [],
   "source": [
    "from graph import Graph"
   ]
  },
  {
   "cell_type": "code",
   "execution_count": null,
   "metadata": {},
   "outputs": [],
   "source": []
  },
  {
   "cell_type": "code",
   "execution_count": null,
   "metadata": {},
   "outputs": [],
   "source": []
  },
  {
   "cell_type": "markdown",
   "metadata": {},
   "source": [
    "### MIT Opencourseware\n"
   ]
  },
  {
   "cell_type": "code",
   "execution_count": 5,
   "metadata": {},
   "outputs": [
    {
     "data": {
      "image/jpeg": "[encoded data removed]",
      "text/html": [
       "\n",
       "        <iframe\n",
       "            width=\"400\"\n",
       "            height=\"300\"\n",
       "            src=\"https://www.youtube.com/embed/AfSk24UTFS8\"\n",
       "            frameborder=\"0\"\n",
       "            allowfullscreen\n",
       "        ></iframe>\n",
       "        "
      ],
      "text/plain": [
       "<IPython.lib.display.YouTubeVideo at 0x28eb3749400>"
      ]
     },
     "execution_count": 5,
     "metadata": {},
     "output_type": "execute_result"
    }
   ],
   "source": [
    "YouTubeVideo(id='AfSk24UTFS8')"
   ]
  },
  {
   "cell_type": "code",
   "execution_count": 6,
   "metadata": {},
   "outputs": [],
   "source": [
    "def dfs_mit(graph):\n",
    "    \n",
    "    parent = dict()\n",
    "    \n",
    "    def visit(node, depth=0):\n",
    "        depth += 1\n",
    "        for v in graph.adjacent_to(node):\n",
    "            if v not in parent:\n",
    "                parent[v] = {'p' : node, 'depth' : depth} \n",
    "                visit(v, depth)\n",
    "                \n",
    "    for s in graph.vertices:\n",
    "        if s not in parent:\n",
    "            parent[s] = {'p' : None, 'depth': 0}\n",
    "            visit(s)\n",
    "            \n",
    "    return parent"
   ]
  },
  {
   "cell_type": "code",
   "execution_count": 7,
   "metadata": {},
   "outputs": [
    {
     "data": {
      "text/plain": [
       "{'A': {'p': None, 'depth': 0},\n",
       " 'B': {'p': 'A', 'depth': 1},\n",
       " 'C': {'p': 'A', 'depth': 1},\n",
       " 'R': {'p': None, 'depth': 0},\n",
       " 'S': {'p': 'R', 'depth': 1},\n",
       " 'T': {'p': 'R', 'depth': 1}}"
      ]
     },
     "execution_count": 7,
     "metadata": {},
     "output_type": "execute_result"
    }
   ],
   "source": [
    "# exemplo com um grafo desconexo (grafo abc_srt mas sem a aresta 'cs')\n",
    "aa = Graph(edges={\n",
    "    'A' : {'B' : 5, 'C' : 3},\n",
    "    'C' : {'A' : 3},\n",
    "    'B' : {'A' : 5},\n",
    "    'R' : {'S' : 4, 'T' : 1},\n",
    "    'S' : {'R' : 4},\n",
    "    'T' : {'R' : 1}\n",
    "})\n",
    "\n",
    "dfs_mit(aa)"
   ]
  },
  {
   "cell_type": "code",
   "execution_count": 8,
   "metadata": {},
   "outputs": [
    {
     "data": {
      "text/plain": [
       "{'E': {'p': None, 'depth': 0},\n",
       " 'C': {'p': 'E', 'depth': 1},\n",
       " 'D': {'p': 'C', 'depth': 2},\n",
       " 'I': {'p': 'D', 'depth': 3},\n",
       " 'A': {'p': 'I', 'depth': 4}}"
      ]
     },
     "execution_count": 8,
     "metadata": {},
     "output_type": "execute_result"
    }
   ],
   "source": [
    "bb = Graph(edges={\n",
    "    'E' : {'C' : 5},\n",
    "    'A' : {'I' : 4},\n",
    "    'D' : {'C' : 8, 'I' : 5},\n",
    "    'C' : {'D' : 8, 'E' : 5},\n",
    "    'I' : {'D' : 5, 'A' : 4}\n",
    "})\n",
    "\n",
    "dfs_mit(bb)"
   ]
  },
  {
   "cell_type": "code",
   "execution_count": 9,
   "metadata": {},
   "outputs": [],
   "source": [
    "def dfs1(graph, start):\n",
    "    \n",
    "    stack = deque()\n",
    "    stack.append(start)\n",
    "    \n",
    "    visited = set()\n",
    "    previous = {start : None}\n",
    "    \n",
    "    while stack:\n",
    "        v = stack.pop()\n",
    "        \n",
    "        for u in graph.adjacent_to(v):\n",
    "            if u not in previous:\n",
    "                stack.append(u)\n",
    "                previous[u] = v                    \n",
    "                \n",
    "    return previous"
   ]
  },
  {
   "cell_type": "code",
   "execution_count": 10,
   "metadata": {},
   "outputs": [
    {
     "data": {
      "text/plain": [
       "{'E': None, 'C': 'E', 'D': 'C', 'B': 'C', 'A': 'B', 'I': 'A'}"
      ]
     },
     "execution_count": 10,
     "metadata": {},
     "output_type": "execute_result"
    }
   ],
   "source": [
    "bb = Graph(edges={\n",
    "    'E' : {'C' : 5},\n",
    "    'A' : {'I' : 4, 'B' : 3},\n",
    "    'B' : {'A' : 3, 'C' : 7},\n",
    "    'D' : {'C' : 8, 'I' : 5},\n",
    "    'C' : {'D' : 8, 'E' : 5, 'B' : 7},\n",
    "    'I' : {'D' : 5, 'A' : 4}\n",
    "})\n",
    "\n",
    "dfs1(bb,'E')"
   ]
  },
  {
   "cell_type": "code",
   "execution_count": 11,
   "metadata": {},
   "outputs": [],
   "source": [
    "def dfs2(graph, start):\n",
    "    \n",
    "    stack = deque()\n",
    "    visited = set([start])\n",
    "    \n",
    "    prev = dict()\n",
    "    order = dict()\n",
    "    count = 1\n",
    "    prev[start] = None\n",
    "    \n",
    "    stack.append(start)\n",
    "    \n",
    "    while stack:\n",
    "        v = stack.pop()\n",
    "        order[v] = count\n",
    "        count += 1\n",
    "        visited.add(v)\n",
    "        for w in graph.adjacent_to(v):\n",
    "            if (w not in visited) and (w not in stack) :\n",
    "                stack.append(w)\n",
    "                prev[w] = v\n",
    "                \n",
    "#         print(stack)\n",
    "\n",
    "    return prev, order"
   ]
  },
  {
   "cell_type": "code",
   "execution_count": 12,
   "metadata": {},
   "outputs": [
    {
     "data": {
      "text/plain": [
       "({'C': None, 'D': 'C', 'E': 'C', 'B': 'C', 'A': 'B', 'I': 'A'},\n",
       " {'C': 1, 'B': 2, 'A': 3, 'I': 4, 'E': 5, 'D': 6})"
      ]
     },
     "execution_count": 12,
     "metadata": {},
     "output_type": "execute_result"
    }
   ],
   "source": [
    "dfs2(bb,'C')"
   ]
  },
  {
   "cell_type": "markdown",
   "metadata": {},
   "source": [
    "---"
   ]
  },
  {
   "cell_type": "code",
   "execution_count": 13,
   "metadata": {},
   "outputs": [],
   "source": [
    "def dfs_even(graph, start):\n",
    "    \n",
    "    prev = {start : None}\n",
    "    depth = {start : 1}\n",
    "    i = 1"
   ]
  },
  {
   "cell_type": "code",
   "execution_count": null,
   "metadata": {},
   "outputs": [],
   "source": []
  },
  {
   "cell_type": "code",
   "execution_count": null,
   "metadata": {},
   "outputs": [],
   "source": []
  },
  {
   "cell_type": "code",
   "execution_count": null,
   "metadata": {},
   "outputs": [],
   "source": []
  },
  {
   "cell_type": "code",
   "execution_count": null,
   "metadata": {},
   "outputs": [],
   "source": []
  },
  {
   "cell_type": "code",
   "execution_count": null,
   "metadata": {},
   "outputs": [],
   "source": []
  },
  {
   "cell_type": "markdown",
   "metadata": {},
   "source": [
    "---"
   ]
  },
  {
   "cell_type": "code",
   "execution_count": null,
   "metadata": {},
   "outputs": [],
   "source": []
  },
  {
   "cell_type": "code",
   "execution_count": 14,
   "metadata": {},
   "outputs": [],
   "source": [
    "def gen_adj(red, blue):\n",
    "    \n",
    "    def adj(node):\n",
    "        \n",
    "        visited = set()\n",
    "        \n",
    "        for w in red.adjacent_to(node):\n",
    "            visited.add(w)\n",
    "            yield w\n",
    "        \n",
    "        for w in blue.adjacent_to(node):\n",
    "            if w not in visited:\n",
    "                visited.add(w)\n",
    "                yield w\n",
    "            \n",
    "    return adj"
   ]
  },
  {
   "cell_type": "markdown",
   "metadata": {},
   "source": [
    "---"
   ]
  },
  {
   "cell_type": "code",
   "execution_count": null,
   "metadata": {},
   "outputs": [],
   "source": []
  },
  {
   "cell_type": "code",
   "execution_count": null,
   "metadata": {},
   "outputs": [],
   "source": []
  },
  {
   "cell_type": "code",
   "execution_count": 15,
   "metadata": {},
   "outputs": [],
   "source": [
    "# aa = Graph(edges={\n",
    "#     'A' : {'B' : 5, 'C' : 3},\n",
    "#     'C' : {'A' : 3, 'S' : 6},\n",
    "#     'B' : {'A' : 5},\n",
    "#     'R' : {'S' : 4, 'T' : 1},\n",
    "#     'S' : {'R' : 4 , 'G': 15},\n",
    "#     'T' : {'R' : 1},\n",
    "#     'G' : {'C' : 14, 'S' : 15}\n",
    "# })"
   ]
  },
  {
   "cell_type": "code",
   "execution_count": 16,
   "metadata": {},
   "outputs": [],
   "source": [
    "# bb = Graph(edges={\n",
    "#     'D' : {'A' : 2, 'C' : 4, 'B': 3},\n",
    "#     'A' : {'D' : 2},\n",
    "#     'C' : {'D' : 4, 'G' : 14},\n",
    "#     'B' : {'D' : 3},\n",
    "#     'T' : {'S' : 10},\n",
    "#     'S' : {'T' : 10, 'G' : 15},\n",
    "#     'G' : {'C' : 14, 'S' : 15}\n",
    "# })"
   ]
  },
  {
   "cell_type": "code",
   "execution_count": 17,
   "metadata": {},
   "outputs": [],
   "source": [
    "aa = Graph(edges={\n",
    "    'E' : {'C' : 5},\n",
    "    'C' : {'E' : 5, 'B' : 7},\n",
    "    'B' : {'A' : 3, 'C' : 7},\n",
    "    'A' : {'B' : 3}\n",
    "})"
   ]
  },
  {
   "cell_type": "code",
   "execution_count": 18,
   "metadata": {},
   "outputs": [],
   "source": [
    "bb = Graph(edges={\n",
    "    'E' : {'C' : 5},\n",
    "    'A' : {'I' : 4},\n",
    "    'D' : {'C' : 8, 'I' : 5},\n",
    "    'C' : {'D' : 8, 'E' : 5},\n",
    "    'I' : {'D' : 5, 'A' : 4}\n",
    "})"
   ]
  },
  {
   "cell_type": "code",
   "execution_count": null,
   "metadata": {},
   "outputs": [],
   "source": []
  },
  {
   "cell_type": "code",
   "execution_count": null,
   "metadata": {},
   "outputs": [],
   "source": []
  },
  {
   "cell_type": "code",
   "execution_count": null,
   "metadata": {},
   "outputs": [],
   "source": []
  },
  {
   "cell_type": "code",
   "execution_count": null,
   "metadata": {},
   "outputs": [],
   "source": []
  },
  {
   "cell_type": "code",
   "execution_count": null,
   "metadata": {},
   "outputs": [],
   "source": []
  },
  {
   "cell_type": "code",
   "execution_count": null,
   "metadata": {},
   "outputs": [],
   "source": []
  },
  {
   "cell_type": "code",
   "execution_count": null,
   "metadata": {},
   "outputs": [],
   "source": []
  },
  {
   "cell_type": "code",
   "execution_count": null,
   "metadata": {},
   "outputs": [],
   "source": []
  },
  {
   "cell_type": "code",
   "execution_count": null,
   "metadata": {},
   "outputs": [],
   "source": []
  },
  {
   "cell_type": "code",
   "execution_count": null,
   "metadata": {},
   "outputs": [],
   "source": []
  },
  {
   "cell_type": "code",
   "execution_count": null,
   "metadata": {},
   "outputs": [],
   "source": []
  },
  {
   "cell_type": "code",
   "execution_count": null,
   "metadata": {},
   "outputs": [],
   "source": []
  },
  {
   "cell_type": "code",
   "execution_count": null,
   "metadata": {},
   "outputs": [],
   "source": []
  }
 ],
 "metadata": {
  "kernelspec": {
   "display_name": "Python 3",
   "language": "python",
   "name": "python3"
  },
  "language_info": {
   "codemirror_mode": {
    "name": "ipython",
    "version": 3
   },
   "file_extension": ".py",
   "mimetype": "text/x-python",
   "name": "python",
   "nbconvert_exporter": "python",
   "pygments_lexer": "ipython3",
   "version": "3.8.3"
  }
 },
 "nbformat": 4,
 "nbformat_minor": 4
}
