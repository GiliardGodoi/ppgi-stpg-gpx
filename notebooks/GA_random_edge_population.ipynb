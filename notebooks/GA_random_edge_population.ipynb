{
 "cells": [
  {
   "cell_type": "markdown",
   "metadata": {},
   "source": [
    "## GA with random edge start population\n",
    "\n"
   ]
  },
  {
   "cell_type": "code",
   "execution_count": 1,
   "metadata": {},
   "outputs": [],
   "source": [
    "import sys; sys.path.append('..')"
   ]
  },
  {
   "cell_type": "code",
   "execution_count": 2,
   "metadata": {},
   "outputs": [],
   "source": [
    "import math\n",
    "from os import path\n",
    "import random"
   ]
  },
  {
   "cell_type": "code",
   "execution_count": 3,
   "metadata": {},
   "outputs": [],
   "source": [
    "import networkx as nx\n",
    "from matplotlib import pyplot as plt"
   ]
  },
  {
   "cell_type": "code",
   "execution_count": 4,
   "metadata": {},
   "outputs": [],
   "source": [
    "from graph import Graph\n",
    "from graph.disjointsets import DisjointSets\n",
    "from graph.reader import read_problem\n",
    "from graph.steiner import prunning_mst\n",
    "from graph.util import has_cycle, how_many_components"
   ]
  },
  {
   "cell_type": "code",
   "execution_count": 5,
   "metadata": {},
   "outputs": [],
   "source": [
    "from base.binary.combiner import crossover_1point, crossover_2points, crossover_uniform\n",
    "from base.chromosome import random_binary\n",
    "from base.condition import BestKnownReached, BestSolutionKnowReached, Stagnation\n",
    "from base.customevol import SteinerEvolution as Evolution\n",
    "from base.customevol import SteinerPopulation as Population\n",
    "from base.mutate import flip_onebit\n",
    "from base.normalization import normalize\n",
    "from base.pickers import random_picker\n",
    "from base.selector import roullete\n",
    "from base.tracker import DataTracker\n",
    "from base.util import display, update_best, update_generation\n",
    "\n",
    "from treetools import Eval, Converter"
   ]
  },
  {
   "cell_type": "code",
   "execution_count": 6,
   "metadata": {},
   "outputs": [],
   "source": [
    "from pxsimpliest import SimpliestPX"
   ]
  },
  {
   "cell_type": "code",
   "execution_count": 7,
   "metadata": {},
   "outputs": [],
   "source": [
    "from draw import hierarchy_pos"
   ]
  },
  {
   "cell_type": "markdown",
   "metadata": {},
   "source": [
    "---"
   ]
  },
  {
   "cell_type": "code",
   "execution_count": 8,
   "metadata": {},
   "outputs": [],
   "source": [
    "# problema = path.join('..', 'datasets', 'ORLibrary', 'steinc1.txt')\n",
    "problema = path.join('..', 'datasets', 'ORLibrary', 'steinb16.txt')\n",
    "\n",
    "STPG = read_problem(problema)"
   ]
  },
  {
   "cell_type": "code",
   "execution_count": 9,
   "metadata": {},
   "outputs": [
    {
     "data": {
      "text/plain": [
       "100"
      ]
     },
     "execution_count": 9,
     "metadata": {},
     "output_type": "execute_result"
    }
   ],
   "source": [
    "STPG.nro_nodes"
   ]
  },
  {
   "cell_type": "code",
   "execution_count": 10,
   "metadata": {},
   "outputs": [
    {
     "data": {
      "text/plain": [
       "200"
      ]
     },
     "execution_count": 10,
     "metadata": {},
     "output_type": "execute_result"
    }
   ],
   "source": [
    "STPG.nro_edges"
   ]
  },
  {
   "cell_type": "code",
   "execution_count": 11,
   "metadata": {},
   "outputs": [
    {
     "data": {
      "text/plain": [
       "17"
      ]
     },
     "execution_count": 11,
     "metadata": {},
     "output_type": "execute_result"
    }
   ],
   "source": [
    "STPG.nro_terminals"
   ]
  },
  {
   "cell_type": "code",
   "execution_count": 12,
   "metadata": {},
   "outputs": [
    {
     "name": "stdout",
     "output_type": "stream",
     "text": [
      "{97, 37, 69, 72, 9, 76, 60, 81, 82, 17, 20, 21, 54, 87, 25, 59, 28}\n"
     ]
    }
   ],
   "source": [
    "print(STPG.terminals)"
   ]
  },
  {
   "cell_type": "code",
   "execution_count": 13,
   "metadata": {},
   "outputs": [],
   "source": [
    "tamanho_populacao = 50"
   ]
  },
  {
   "cell_type": "code",
   "execution_count": 14,
   "metadata": {},
   "outputs": [],
   "source": [
    "funcao_avaliacao = Eval(STPG)"
   ]
  },
  {
   "cell_type": "code",
   "execution_count": 15,
   "metadata": {},
   "outputs": [],
   "source": [
    "terminals = set(STPG.terminals)\n",
    "\n",
    "def is_terminal(vertice):\n",
    "    return vertice in terminals"
   ]
  },
  {
   "cell_type": "code",
   "execution_count": 16,
   "metadata": {},
   "outputs": [],
   "source": [
    "def prunning(treegraph):\n",
    "    \n",
    "    to_eliminate = set()\n",
    "    \n",
    "    for v in treegraph.vertices:\n",
    "        degree = treegraph.degree(v)\n",
    "        if (not is_terminal(v)) and (degree == 1):\n",
    "            to_eliminate.add(v)\n",
    "        elif (degree == 0) and (not is_terminal(v)) :\n",
    "            treegraph.remove_node(v)\n",
    "    \n",
    "    checkbefore = set()\n",
    "    \n",
    "    while to_eliminate:\n",
    "        while to_eliminate:\n",
    "            v = to_eliminate.pop()\n",
    "            for adj in treegraph.adjacent_to(v):\n",
    "                checkbefore.add(adj)\n",
    "            treegraph.remove_node(v)\n",
    "\n",
    "        while checkbefore:\n",
    "            u = checkbefore.pop()\n",
    "            if (not is_terminal(u)) and (treegraph.degree(u) == 1):\n",
    "                to_eliminate.add(u)\n",
    "                \n",
    "    return treegraph   "
   ]
  },
  {
   "cell_type": "code",
   "execution_count": 17,
   "metadata": {},
   "outputs": [],
   "source": [
    "def random_treegraph_chromosome(STPG):\n",
    "    \n",
    "    graph = STPG.graph\n",
    "    terminals = set(STPG.terminals)\n",
    "    \n",
    "    alledges = [(v, u, graph.weight(v,u)) for v, u in graph.gen_undirect_edges()]\n",
    "    random.shuffle(alledges) # random component\n",
    "\n",
    "    DS = DisjointSets()\n",
    "    subgraph = Graph()\n",
    "    total_cost = 0\n",
    "    \n",
    "    for v in graph.vertices:\n",
    "        DS.make_set(v)\n",
    "\n",
    "    while alledges :\n",
    "        v, u, weight = alledges.pop()\n",
    "\n",
    "        if DS.find(v) != DS.find(u):\n",
    "            DS.union(v, u)\n",
    "            total_cost += weight\n",
    "            subgraph.add_edge(v, u, weight=weight)\n",
    "            terminals.discard(v)\n",
    "            terminals.discard(u)\n",
    "\n",
    "    return prunning(subgraph)"
   ]
  },
  {
   "cell_type": "code",
   "execution_count": null,
   "metadata": {
    "scrolled": true
   },
   "outputs": [],
   "source": []
  },
  {
   "cell_type": "code",
   "execution_count": null,
   "metadata": {},
   "outputs": [],
   "source": []
  },
  {
   "cell_type": "code",
   "execution_count": 18,
   "metadata": {},
   "outputs": [],
   "source": [
    "gg = random_treegraph_chromosome(STPG)"
   ]
  },
  {
   "cell_type": "code",
   "execution_count": 19,
   "metadata": {},
   "outputs": [
    {
     "data": {
      "text/plain": [
       "(262, 1)"
      ]
     },
     "execution_count": 19,
     "metadata": {},
     "output_type": "execute_result"
    }
   ],
   "source": [
    "funcao_avaliacao(gg)"
   ]
  },
  {
   "cell_type": "code",
   "execution_count": 20,
   "metadata": {},
   "outputs": [],
   "source": [
    "gg = prunning(gg)"
   ]
  },
  {
   "cell_type": "code",
   "execution_count": 21,
   "metadata": {},
   "outputs": [
    {
     "data": {
      "text/plain": [
       "(262, 1)"
      ]
     },
     "execution_count": 21,
     "metadata": {},
     "output_type": "execute_result"
    }
   ],
   "source": [
    "funcao_avaliacao(gg)"
   ]
  },
  {
   "cell_type": "code",
   "execution_count": 22,
   "metadata": {},
   "outputs": [
    {
     "data": {
      "text/plain": [
       "set()"
      ]
     },
     "execution_count": 22,
     "metadata": {},
     "output_type": "execute_result"
    }
   ],
   "source": [
    "STPG.terminals - set(gg.vertices)"
   ]
  },
  {
   "cell_type": "code",
   "execution_count": 23,
   "metadata": {},
   "outputs": [
    {
     "data": {
      "text/plain": [
       "defaultdict(dict,\n",
       "            {37: {91: 5},\n",
       "             91: {37: 5, 72: 8, 92: 7},\n",
       "             23: {47: 6, 33: 10},\n",
       "             19: {79: 7, 18: 4, 62: 5},\n",
       "             79: {19: 7, 52: 1, 32: 2},\n",
       "             12: {17: 10, 64: 1},\n",
       "             17: {12: 10},\n",
       "             81: {30: 8},\n",
       "             72: {52: 7, 91: 8},\n",
       "             52: {72: 7, 79: 1},\n",
       "             43: {32: 2, 3: 9, 51: 2, 5: 9},\n",
       "             32: {43: 2, 97: 3, 79: 2},\n",
       "             64: {57: 4, 12: 1},\n",
       "             30: {81: 8, 18: 5},\n",
       "             21: {60: 2},\n",
       "             60: {21: 2, 47: 8, 61: 8},\n",
       "             18: {19: 4, 30: 5},\n",
       "             2: {3: 7, 69: 10},\n",
       "             3: {2: 7, 43: 9},\n",
       "             85: {20: 2, 11: 8},\n",
       "             28: {40: 10},\n",
       "             40: {28: 10, 83: 10},\n",
       "             62: {19: 5, 57: 9},\n",
       "             31: {87: 6, 57: 8},\n",
       "             57: {62: 9, 64: 4, 31: 8},\n",
       "             47: {60: 8, 23: 6, 83: 10},\n",
       "             92: {76: 9, 11: 7, 91: 7},\n",
       "             76: {92: 9},\n",
       "             11: {92: 7, 85: 8},\n",
       "             5: {54: 1, 43: 9},\n",
       "             54: {5: 1},\n",
       "             87: {31: 6, 25: 3, 82: 1},\n",
       "             83: {47: 10, 40: 10},\n",
       "             51: {61: 8, 43: 2},\n",
       "             61: {51: 8, 60: 8, 9: 10},\n",
       "             69: {2: 10},\n",
       "             97: {32: 3},\n",
       "             33: {23: 10, 59: 10},\n",
       "             9: {61: 10},\n",
       "             59: {33: 10},\n",
       "             20: {85: 2},\n",
       "             25: {87: 3},\n",
       "             82: {87: 1}})"
      ]
     },
     "execution_count": 23,
     "metadata": {},
     "output_type": "execute_result"
    }
   ],
   "source": [
    "gg.edges"
   ]
  },
  {
   "cell_type": "markdown",
   "metadata": {},
   "source": [
    "---"
   ]
  },
  {
   "cell_type": "code",
   "execution_count": 24,
   "metadata": {},
   "outputs": [],
   "source": [
    "populacao = (Population(chromosomes=[ random_treegraph_chromosome(STPG) for _ in range(tamanho_populacao) ],\n",
    "                        eval_function=funcao_avaliacao,\n",
    "                        maximize=True)\n",
    "                        .evaluate()\n",
    "                        .callback(normalize)\n",
    "                        .callback(update_best))"
   ]
  },
  {
   "cell_type": "code",
   "execution_count": 25,
   "metadata": {},
   "outputs": [
    {
     "data": {
      "text/plain": [
       "50"
      ]
     },
     "execution_count": 25,
     "metadata": {},
     "output_type": "execute_result"
    }
   ],
   "source": [
    "len(populacao)"
   ]
  },
  {
   "cell_type": "code",
   "execution_count": 26,
   "metadata": {},
   "outputs": [
    {
     "data": {
      "text/plain": [
       "232"
      ]
     },
     "execution_count": 26,
     "metadata": {},
     "output_type": "execute_result"
    }
   ],
   "source": [
    "populacao.documented_best.cost"
   ]
  },
  {
   "cell_type": "code",
   "execution_count": 27,
   "metadata": {},
   "outputs": [],
   "source": [
    "evolution =  (Evolution()\n",
    "                .evaluate()\n",
    "                .callback(normalize)\n",
    "                .callback(update_best)\n",
    "                .select(selection_func=roullete)\n",
    "                .crossover(combiner= SimpliestPX(STPG), parent_picker=random_picker)\n",
    "                .callback(update_generation)\n",
    "                .callback(display, every=100))"
   ]
  },
  {
   "cell_type": "code",
   "execution_count": 28,
   "metadata": {},
   "outputs": [],
   "source": [
    "# %%time \n",
    "\n",
    "# resultado = populacao.evolve(evolution, n=500)"
   ]
  },
  {
   "cell_type": "code",
   "execution_count": 29,
   "metadata": {},
   "outputs": [],
   "source": [
    "# resultado.runtime"
   ]
  },
  {
   "cell_type": "code",
   "execution_count": 30,
   "metadata": {},
   "outputs": [],
   "source": [
    "# resultado.documented_best.cost"
   ]
  },
  {
   "cell_type": "code",
   "execution_count": null,
   "metadata": {},
   "outputs": [],
   "source": []
  },
  {
   "cell_type": "code",
   "execution_count": 31,
   "metadata": {},
   "outputs": [],
   "source": [
    "from itertools import product"
   ]
  },
  {
   "cell_type": "code",
   "execution_count": 32,
   "metadata": {},
   "outputs": [],
   "source": [
    "def partitioning(individuo_a, individuo_b):\n",
    "    \n",
    "    subtree_a = individuo_a.chromosome\n",
    "    subtree_b = individuo_b.chromosome\n",
    "\n",
    "    partition = Graph()\n",
    "    offspring = Graph()\n",
    "    \n",
    "    for v, w in subtree_a.gen_undirect_edges():\n",
    "        weight = subtree_a.weight(v,w)\n",
    "\n",
    "        if subtree_b.has_edge(v, w):\n",
    "            offspring.add_edge(v, w, weight=weight)\n",
    "        else:\n",
    "            partition.add_edge(v, w, weight=weight)\n",
    "            \n",
    "    for v, w in subtree_b.gen_undirect_edges():\n",
    "        weight = subtree_b.weight(v,w)\n",
    "\n",
    "        if not subtree_a.has_edge(v, w):\n",
    "            partition.add_edge(v, w, weight=weight)\n",
    "            \n",
    "    return partition, offspring "
   ]
  },
  {
   "cell_type": "code",
   "execution_count": 33,
   "metadata": {},
   "outputs": [],
   "source": [
    "individuos = [ x for x in populacao ]"
   ]
  },
  {
   "cell_type": "code",
   "execution_count": 34,
   "metadata": {},
   "outputs": [
    {
     "name": "stdout",
     "output_type": "stream",
     "text": [
      "265\t311\t265\t319\t277\t258\t285\t269\t287\t318\t298\t279\t279\t240\t283\t297\t263\t310\t251\t268\t289\t332\t320\t342\t276\t292\t247\t284\t304\t272\t244\t317\t287\t232\t290\t240\t300\t301\t278\t248\t251\t282\t249\t232\t308\t244\t322\t277\t250\t316\t"
     ]
    }
   ],
   "source": [
    "for individuo in individuos:\n",
    "    custo = individuo.cost\n",
    "    print(custo, end='\\t')"
   ]
  },
  {
   "cell_type": "code",
   "execution_count": 35,
   "metadata": {},
   "outputs": [],
   "source": [
    "prod = product(individuos, repeat=2)\n",
    "\n",
    "counter = 0\n",
    "counter_cycle = 0 \n",
    "not_cycle = 0\n",
    "\n",
    "for a, b in prod:\n",
    "    p, _ = partitioning(a, b)\n",
    "    counter += 1\n",
    "    if has_cycle(p):\n",
    "        counter_cycle += 1\n",
    "    else:\n",
    "        not_cycle += 1"
   ]
  },
  {
   "cell_type": "code",
   "execution_count": 36,
   "metadata": {},
   "outputs": [
    {
     "data": {
      "text/plain": [
       "2500"
      ]
     },
     "execution_count": 36,
     "metadata": {},
     "output_type": "execute_result"
    }
   ],
   "source": [
    "counter"
   ]
  },
  {
   "cell_type": "code",
   "execution_count": 37,
   "metadata": {},
   "outputs": [
    {
     "data": {
      "text/plain": [
       "2446"
      ]
     },
     "execution_count": 37,
     "metadata": {},
     "output_type": "execute_result"
    }
   ],
   "source": [
    "counter_cycle"
   ]
  },
  {
   "cell_type": "code",
   "execution_count": 38,
   "metadata": {},
   "outputs": [
    {
     "data": {
      "text/plain": [
       "0.9784"
      ]
     },
     "execution_count": 38,
     "metadata": {},
     "output_type": "execute_result"
    }
   ],
   "source": [
    "counter_cycle / counter"
   ]
  },
  {
   "cell_type": "code",
   "execution_count": null,
   "metadata": {},
   "outputs": [],
   "source": []
  }
 ],
 "metadata": {
  "kernelspec": {
   "display_name": "Python 3",
   "language": "python",
   "name": "python3"
  },
  "language_info": {
   "codemirror_mode": {
    "name": "ipython",
    "version": 3
   },
   "file_extension": ".py",
   "mimetype": "text/x-python",
   "name": "python",
   "nbconvert_exporter": "python",
   "pygments_lexer": "ipython3",
   "version": "3.8.3"
  }
 },
 "nbformat": 4,
 "nbformat_minor": 4
}
