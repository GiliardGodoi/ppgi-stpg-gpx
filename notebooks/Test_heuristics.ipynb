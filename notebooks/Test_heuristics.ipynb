{
 "cells": [
  {
   "cell_type": "code",
   "execution_count": 1,
   "metadata": {},
   "outputs": [],
   "source": [
    "import sys; sys.path.append('..')\n",
    "from os import path\n",
    "from random import choice\n",
    "from graph import Graph, ReaderORLibrary\n",
    "from graph.steiner import (prunning_mst, shortest_path,\n",
    "                            shortest_path_origin_prim,\n",
    "                            prunning_kruskal_mst,\n",
    "                            shortest_path_with_origin)\n",
    "\n",
    "from graph.util import is_steiner_tree, has_cycle\n",
    "from graph.algorithms import kruskal, prim"
   ]
  },
  {
   "cell_type": "code",
   "execution_count": 2,
   "metadata": {},
   "outputs": [],
   "source": [
    "from matplotlib import pyplot as plt\n",
    "from draw import draw_radial, draw_common"
   ]
  },
  {
   "cell_type": "code",
   "execution_count": 3,
   "metadata": {},
   "outputs": [],
   "source": [
    "from operator import attrgetter"
   ]
  },
  {
   "cell_type": "code",
   "execution_count": 4,
   "metadata": {},
   "outputs": [],
   "source": [
    "from pxcrossover import compose, connected"
   ]
  },
  {
   "cell_type": "markdown",
   "metadata": {},
   "source": [
    "As heurísticas para o STPG dão uma medida de aproximação sobre a qualidade da solução próxima que encontram. \n",
    "Esta medida pode ser de alguma forma utilizada para verificar quando uma heurísticas pode ser utilizada para determinada instância de forma que o operador de cruzamento seja eficiênte?"
   ]
  },
  {
   "cell_type": "code",
   "execution_count": 5,
   "metadata": {},
   "outputs": [
    {
     "data": {
      "text/plain": [
       "True"
      ]
     },
     "execution_count": 5,
     "metadata": {},
     "output_type": "execute_result"
    }
   ],
   "source": [
    "file = path.join('..', 'datasets','ORLibrary', 'steinb18.txt')\n",
    "\n",
    "path.exists(file)"
   ]
  },
  {
   "cell_type": "code",
   "execution_count": 6,
   "metadata": {},
   "outputs": [],
   "source": [
    "reader = ReaderORLibrary()\n",
    "\n",
    "stpg = reader.parser(file)"
   ]
  },
  {
   "cell_type": "code",
   "execution_count": 7,
   "metadata": {},
   "outputs": [
    {
     "data": {
      "text/plain": [
       "<graph.graph.Graph at 0x2165e9f1a30>"
      ]
     },
     "execution_count": 7,
     "metadata": {},
     "output_type": "execute_result"
    }
   ],
   "source": [
    "stpg.graph"
   ]
  },
  {
   "cell_type": "code",
   "execution_count": 8,
   "metadata": {},
   "outputs": [],
   "source": [
    "# print(stpg.terminals)"
   ]
  },
  {
   "cell_type": "code",
   "execution_count": 9,
   "metadata": {},
   "outputs": [
    {
     "name": "stdout",
     "output_type": "stream",
     "text": [
      "Help on function prunning_mst in module graph.steiner:\n",
      "\n",
      "prunning_mst(graph, start, terminals)\n",
      "    Parameters:\n",
      "        graph : Graph\n",
      "            Base graph to compute the Steiner tree\n",
      "        start : Node\n",
      "            Where is to start Prim's algorithm\n",
      "        terminals : Set\n",
      "            Terminals Nodes from the STPG instance\n",
      "    \n",
      "    Return:\n",
      "        prunning : A Steiner Tree\n",
      "        total : Numeric - total cost of the tree\n",
      "    \n",
      "    Notes:\n",
      "        Determina a MST do grafo por meio do algoritmo de Prim.\n",
      "        Realiza a poda considerando os nós terminais como os nós folhas até a raiz <start>\n",
      "        Se <start> for um vértice não terminal, o laço <while> verifica se <start> é um vértice folha da árvore resultande.\n",
      "        Em caso afirmativo realiza uma poda iterativa a partir desse vértice para garantir que a árvore resultante seja\n",
      "        uma árvore de Steiner.\n",
      "        Resulta sempre na mesma árvore para qualquer vértice <start> considerado.\n",
      "\n"
     ]
    }
   ],
   "source": [
    "help(prunning_mst)"
   ]
  },
  {
   "cell_type": "code",
   "execution_count": 10,
   "metadata": {},
   "outputs": [
    {
     "name": "stdout",
     "output_type": "stream",
     "text": [
      "Help on function is_steiner_tree in module graph.util:\n",
      "\n",
      "is_steiner_tree(subgraph: graph.graph.Graph, STPG: graph.reader.SteinerTreeProblem)\n",
      "    Check if the graph passed is a Steiner Tree.\n",
      "    \n",
      "    Parameters:\n",
      "        subgraph : Graph\n",
      "            represent the partial solution to be tested\n",
      "        STPG : SteinerTreeProblem\n",
      "            the problem instance itself\n",
      "    \n",
      "    Returns:\n",
      "        bool: True or False\n",
      "        dict : status' test\n",
      "    \n",
      "    Note: A Steiner Tree might not be a Minimal Steiner Tree.\n",
      "\n"
     ]
    }
   ],
   "source": [
    "help(is_steiner_tree)"
   ]
  },
  {
   "cell_type": "code",
   "execution_count": 11,
   "metadata": {},
   "outputs": [
    {
     "name": "stdout",
     "output_type": "stream",
     "text": [
      "Wall time: 2 ms\n"
     ]
    },
    {
     "data": {
      "text/plain": [
       "227"
      ]
     },
     "execution_count": 11,
     "metadata": {},
     "output_type": "execute_result"
    }
   ],
   "source": [
    "%%time\n",
    "\n",
    "tt = choice(list(stpg.terminals))\n",
    "\n",
    "aa, a_cost = prunning_mst(stpg.graph, tt, stpg.terminals)\n",
    "\n",
    "a_cost"
   ]
  },
  {
   "cell_type": "code",
   "execution_count": 12,
   "metadata": {},
   "outputs": [
    {
     "data": {
      "text/plain": [
       "(True,\n",
       " {'has_cycle': False,\n",
       "  'all_terminals_in': True,\n",
       "  'all_leaves_are_terminals': True,\n",
       "  'all_edges_are_reliable': True,\n",
       "  'graph_is_connected': True})"
      ]
     },
     "execution_count": 12,
     "metadata": {},
     "output_type": "execute_result"
    }
   ],
   "source": [
    "is_steiner_tree(aa,stpg)"
   ]
  },
  {
   "cell_type": "code",
   "execution_count": 13,
   "metadata": {},
   "outputs": [
    {
     "name": "stdout",
     "output_type": "stream",
     "text": [
      "Wall time: 3 ms\n"
     ]
    },
    {
     "data": {
      "text/plain": [
       "(True,\n",
       " {'has_cycle': False,\n",
       "  'all_terminals_in': True,\n",
       "  'all_leaves_are_terminals': True,\n",
       "  'all_edges_are_reliable': True,\n",
       "  'graph_is_connected': True})"
      ]
     },
     "execution_count": 13,
     "metadata": {},
     "output_type": "execute_result"
    }
   ],
   "source": [
    "%%time \n",
    "\n",
    "tt = choice(list(stpg.terminals))\n",
    "terminals = set(stpg.terminals)\n",
    "\n",
    "cc = prunning_kruskal_mst(stpg.graph, terminals)\n",
    "\n",
    "is_steiner_tree(cc, stpg)"
   ]
  },
  {
   "cell_type": "code",
   "execution_count": null,
   "metadata": {},
   "outputs": [],
   "source": []
  },
  {
   "cell_type": "code",
   "execution_count": 14,
   "metadata": {},
   "outputs": [],
   "source": [
    "non_terminal = [ v for v in range(1, stpg.nro_nodes + 1) if v not in stpg.terminals]\n",
    "# print(non_terminal)"
   ]
  },
  {
   "cell_type": "code",
   "execution_count": 15,
   "metadata": {},
   "outputs": [
    {
     "name": "stdout",
     "output_type": "stream",
     "text": [
      "vertice  30\n"
     ]
    },
    {
     "data": {
      "text/plain": [
       "225"
      ]
     },
     "execution_count": 15,
     "metadata": {},
     "output_type": "execute_result"
    }
   ],
   "source": [
    "v = choice(non_terminal)\n",
    "\n",
    "print(\"vertice \", v)\n",
    "\n",
    "bb, b_cost = prunning_mst(stpg.graph, v, stpg.terminals)\n",
    "\n",
    "b_cost"
   ]
  },
  {
   "cell_type": "code",
   "execution_count": 16,
   "metadata": {},
   "outputs": [
    {
     "data": {
      "text/plain": [
       "(True,\n",
       " {'has_cycle': False,\n",
       "  'all_terminals_in': True,\n",
       "  'all_leaves_are_terminals': True,\n",
       "  'all_edges_are_reliable': True,\n",
       "  'graph_is_connected': True})"
      ]
     },
     "execution_count": 16,
     "metadata": {},
     "output_type": "execute_result"
    }
   ],
   "source": [
    "is_steiner_tree(bb, stpg)"
   ]
  },
  {
   "cell_type": "code",
   "execution_count": 17,
   "metadata": {},
   "outputs": [
    {
     "data": {
      "text/plain": [
       "True"
      ]
     },
     "execution_count": 17,
     "metadata": {},
     "output_type": "execute_result"
    }
   ],
   "source": [
    "v in bb"
   ]
  },
  {
   "cell_type": "code",
   "execution_count": 18,
   "metadata": {},
   "outputs": [
    {
     "name": "stdout",
     "output_type": "stream",
     "text": [
      "Help on function compose in module pxcrossover:\n",
      "\n",
      "compose(red: graph.graph.Graph, blue: graph.graph.Graph)\n",
      "    Parameters:\n",
      "    ----------\n",
      "        red, blue : Graph\n",
      "    \n",
      "    Return:\n",
      "    -------\n",
      "        g_union, g_common, g_star : Graph\n",
      "\n"
     ]
    }
   ],
   "source": [
    "help(compose)"
   ]
  },
  {
   "cell_type": "code",
   "execution_count": 19,
   "metadata": {},
   "outputs": [],
   "source": [
    "g_union, g_common, g_star = compose(aa, bb)"
   ]
  },
  {
   "cell_type": "code",
   "execution_count": 20,
   "metadata": {},
   "outputs": [
    {
     "name": "stdout",
     "output_type": "stream",
     "text": [
      "Help on function connected in module pxcrossover:\n",
      "\n",
      "connected(g_union: graph.graph.Graph, red: graph.graph.Graph, blue: graph.graph.Graph, start: 'node')\n",
      "\n"
     ]
    }
   ],
   "source": [
    "help(connected)"
   ]
  },
  {
   "cell_type": "code",
   "execution_count": 21,
   "metadata": {},
   "outputs": [
    {
     "name": "stdout",
     "output_type": "stream",
     "text": [
      "Wall time: 998 µs\n"
     ]
    }
   ],
   "source": [
    "%%time\n",
    "\n",
    "first, second, previous = connected(g_union, aa, bb, tt)"
   ]
  },
  {
   "cell_type": "code",
   "execution_count": 22,
   "metadata": {},
   "outputs": [
    {
     "data": {
      "text/plain": [
       "2"
      ]
     },
     "execution_count": 22,
     "metadata": {},
     "output_type": "execute_result"
    }
   ],
   "source": [
    "len(first)"
   ]
  },
  {
   "cell_type": "code",
   "execution_count": 23,
   "metadata": {},
   "outputs": [
    {
     "data": {
      "text/plain": [
       "2"
      ]
     },
     "execution_count": 23,
     "metadata": {},
     "output_type": "execute_result"
    }
   ],
   "source": [
    "len(second)"
   ]
  },
  {
   "cell_type": "code",
   "execution_count": 24,
   "metadata": {},
   "outputs": [],
   "source": [
    "# plt.figure(figsize=(15,15))\n",
    "\n",
    "# draw_common(g_union, stpg.terminals, aa, bb)"
   ]
  },
  {
   "cell_type": "code",
   "execution_count": 25,
   "metadata": {},
   "outputs": [],
   "source": [
    "# os vértices diferentes possuem os mesmos pais\n",
    "def test_2(right, left, commonset):\n",
    "    \n",
    "    diff_right = right.portal - left.portal\n",
    "    diff_left  = left.portal - right.portal\n",
    "    \n",
    "    portal_right = set(map(lambda x : commonset.find(x), diff_right))\n",
    "    portal_left  = set(map(lambda x : commonset.find(x), diff_left))\n",
    "    \n",
    "    return portal_right == portal_left"
   ]
  },
  {
   "cell_type": "code",
   "execution_count": 26,
   "metadata": {},
   "outputs": [
    {
     "data": {
      "text/plain": [
       "[<pxcrossover.Component at 0x2165ea4cc40>,\n",
       " <pxcrossover.Component at 0x2165ea4cca0>]"
      ]
     },
     "execution_count": 26,
     "metadata": {},
     "output_type": "execute_result"
    }
   ],
   "source": [
    "first"
   ]
  },
  {
   "cell_type": "code",
   "execution_count": 27,
   "metadata": {},
   "outputs": [
    {
     "data": {
      "text/plain": [
       "[<pxcrossover.Component at 0x2165ea4cd00>,\n",
       " <pxcrossover.Component at 0x2165ea4cd60>]"
      ]
     },
     "execution_count": 27,
     "metadata": {},
     "output_type": "execute_result"
    }
   ],
   "source": [
    "second"
   ]
  },
  {
   "cell_type": "code",
   "execution_count": 28,
   "metadata": {},
   "outputs": [],
   "source": [
    "matches = dict()\n",
    "\n",
    "for component in first:\n",
    "    ss = frozenset(previous.find(v) for v in component.portal)\n",
    "    matches[ss] = [component]"
   ]
  },
  {
   "cell_type": "code",
   "execution_count": 29,
   "metadata": {},
   "outputs": [],
   "source": [
    "non_second = list()\n",
    "\n",
    "for component in second:\n",
    "    ss = frozenset(previous.find(v) for v in component.portal)\n",
    "    if ss in matches:\n",
    "        matches[ss].append(component)\n",
    "    else:\n",
    "        non_second.append(component)"
   ]
  },
  {
   "cell_type": "code",
   "execution_count": 30,
   "metadata": {},
   "outputs": [],
   "source": [
    "# component.edges"
   ]
  },
  {
   "cell_type": "code",
   "execution_count": 31,
   "metadata": {},
   "outputs": [
    {
     "data": {
      "text/plain": [
       "2"
      ]
     },
     "execution_count": 31,
     "metadata": {},
     "output_type": "execute_result"
    }
   ],
   "source": [
    "len(matches)"
   ]
  },
  {
   "cell_type": "code",
   "execution_count": 32,
   "metadata": {},
   "outputs": [
    {
     "data": {
      "text/plain": [
       "{frozenset({3, 57}): [<pxcrossover.Component at 0x2165ea4cc40>,\n",
       "  <pxcrossover.Component at 0x2165ea4cd00>],\n",
       " frozenset({3, 82}): [<pxcrossover.Component at 0x2165ea4cca0>]}"
      ]
     },
     "execution_count": 32,
     "metadata": {},
     "output_type": "execute_result"
    }
   ],
   "source": [
    "matches"
   ]
  },
  {
   "cell_type": "code",
   "execution_count": 33,
   "metadata": {},
   "outputs": [
    {
     "name": "stdout",
     "output_type": "stream",
     "text": [
      "1\t"
     ]
    }
   ],
   "source": [
    "get_cost = attrgetter('cost')\n",
    "\n",
    "success = 0\n",
    "fail = 0\n",
    "\n",
    "non_first = list()\n",
    "how_many = list()\n",
    "\n",
    "minimum_cost = list()\n",
    "\n",
    "for key, components in matches.items():\n",
    "    if len(components) >= 2:\n",
    "        how_many.append(len(components))\n",
    "        success += 1 \n",
    "        minimum_cost.append(min(components, key=get_cost))\n",
    "    else:\n",
    "        print(len(components), end='\\t')\n",
    "        non_first.append(components.pop())\n",
    "        fail += 1"
   ]
  },
  {
   "cell_type": "code",
   "execution_count": 34,
   "metadata": {},
   "outputs": [
    {
     "name": "stdout",
     "output_type": "stream",
     "text": [
      "<pxcrossover.Component object at 0x000002165EA4CC40> 1 {18, 19} True\n"
     ]
    }
   ],
   "source": [
    "if len(minimum_cost) < 7:\n",
    "    for c in minimum_cost: \n",
    "        print(c, c.cost, c.portal, stpg.graph.has_edge(*c.portal))"
   ]
  },
  {
   "cell_type": "code",
   "execution_count": 35,
   "metadata": {},
   "outputs": [
    {
     "data": {
      "text/plain": [
       "1"
      ]
     },
     "execution_count": 35,
     "metadata": {},
     "output_type": "execute_result"
    }
   ],
   "source": [
    "len(minimum_cost)"
   ]
  },
  {
   "cell_type": "code",
   "execution_count": 36,
   "metadata": {},
   "outputs": [
    {
     "data": {
      "text/plain": [
       "5"
      ]
     },
     "execution_count": 36,
     "metadata": {},
     "output_type": "execute_result"
    }
   ],
   "source": [
    "get_cost(component)"
   ]
  },
  {
   "cell_type": "code",
   "execution_count": 37,
   "metadata": {},
   "outputs": [
    {
     "data": {
      "text/plain": [
       "[2]"
      ]
     },
     "execution_count": 37,
     "metadata": {},
     "output_type": "execute_result"
    }
   ],
   "source": [
    "how_many"
   ]
  },
  {
   "cell_type": "code",
   "execution_count": 38,
   "metadata": {},
   "outputs": [
    {
     "data": {
      "text/plain": [
       "1"
      ]
     },
     "execution_count": 38,
     "metadata": {},
     "output_type": "execute_result"
    }
   ],
   "source": [
    "success"
   ]
  },
  {
   "cell_type": "code",
   "execution_count": 39,
   "metadata": {},
   "outputs": [
    {
     "data": {
      "text/plain": [
       "1"
      ]
     },
     "execution_count": 39,
     "metadata": {},
     "output_type": "execute_result"
    }
   ],
   "source": [
    "fail"
   ]
  },
  {
   "cell_type": "code",
   "execution_count": 40,
   "metadata": {},
   "outputs": [
    {
     "data": {
      "text/plain": [
       "1"
      ]
     },
     "execution_count": 40,
     "metadata": {},
     "output_type": "execute_result"
    }
   ],
   "source": [
    "len(non_second)"
   ]
  },
  {
   "cell_type": "code",
   "execution_count": 41,
   "metadata": {},
   "outputs": [
    {
     "data": {
      "text/plain": [
       "1"
      ]
     },
     "execution_count": 41,
     "metadata": {},
     "output_type": "execute_result"
    }
   ],
   "source": [
    "len(non_first)"
   ]
  },
  {
   "cell_type": "code",
   "execution_count": 42,
   "metadata": {},
   "outputs": [],
   "source": [
    "total_first = 0\n",
    "for c in non_first:\n",
    "#     print(c, c.cost, c.portal, stpg.graph.has_edge(*c.portal))\n",
    "    total_first += c.cost"
   ]
  },
  {
   "cell_type": "code",
   "execution_count": 43,
   "metadata": {},
   "outputs": [],
   "source": [
    "total_second = 0\n",
    "for c in non_second: \n",
    "#     print(c, c.cost, c.portal, stpg.graph.has_edge(*c.portal))\n",
    "    total_second += c.cost"
   ]
  },
  {
   "cell_type": "code",
   "execution_count": 44,
   "metadata": {},
   "outputs": [
    {
     "name": "stdout",
     "output_type": "stream",
     "text": [
      "9\n",
      "5\n"
     ]
    }
   ],
   "source": [
    "print(total_first)\n",
    "print(total_second)"
   ]
  },
  {
   "cell_type": "code",
   "execution_count": 45,
   "metadata": {},
   "outputs": [],
   "source": [
    "if total_second < total_first:\n",
    "    selected = non_second\n",
    "else:\n",
    "    selected = non_first"
   ]
  },
  {
   "cell_type": "code",
   "execution_count": 46,
   "metadata": {},
   "outputs": [
    {
     "name": "stdout",
     "output_type": "stream",
     "text": [
      "1\n",
      "------\n"
     ]
    }
   ],
   "source": [
    "for component in minimum_cost:\n",
    "    print(component.cost)\n",
    "        \n",
    "    print(\"------\")"
   ]
  },
  {
   "cell_type": "code",
   "execution_count": 47,
   "metadata": {},
   "outputs": [
    {
     "data": {
      "text/plain": [
       "[<pxcrossover.Component at 0x2165ea4cc40>]"
      ]
     },
     "execution_count": 47,
     "metadata": {},
     "output_type": "execute_result"
    }
   ],
   "source": [
    "minimum_cost"
   ]
  },
  {
   "cell_type": "code",
   "execution_count": 48,
   "metadata": {},
   "outputs": [],
   "source": [
    "for component in minimum_cost:\n",
    "    for v, u in component.edges.items():\n",
    "        if u is None:\n",
    "            continue\n",
    "        w = stpg.graph.W(v,u)\n",
    "        g_common.add_edge(v,u,weight=w)"
   ]
  },
  {
   "cell_type": "code",
   "execution_count": 49,
   "metadata": {},
   "outputs": [
    {
     "data": {
      "text/plain": [
       "(False,\n",
       " {'has_cycle': False,\n",
       "  'all_terminals_in': True,\n",
       "  'all_leaves_are_terminals': True,\n",
       "  'all_edges_are_reliable': True,\n",
       "  'graph_is_connected': False})"
      ]
     },
     "execution_count": 49,
     "metadata": {},
     "output_type": "execute_result"
    }
   ],
   "source": [
    "is_steiner_tree(g_common, stpg)"
   ]
  },
  {
   "cell_type": "code",
   "execution_count": 50,
   "metadata": {},
   "outputs": [
    {
     "data": {
      "text/plain": [
       "1"
      ]
     },
     "execution_count": 50,
     "metadata": {},
     "output_type": "execute_result"
    }
   ],
   "source": [
    "len(selected)"
   ]
  },
  {
   "cell_type": "code",
   "execution_count": 51,
   "metadata": {},
   "outputs": [],
   "source": [
    "for component in selected:\n",
    "    for v, u in component.edges.items():\n",
    "        if u is None:\n",
    "            continue\n",
    "        w = stpg.graph.W(v,u)\n",
    "        g_common.add_edge(v,u,weight=w)"
   ]
  },
  {
   "cell_type": "code",
   "execution_count": 52,
   "metadata": {},
   "outputs": [
    {
     "data": {
      "text/plain": [
       "(True,\n",
       " {'has_cycle': False,\n",
       "  'all_terminals_in': True,\n",
       "  'all_leaves_are_terminals': True,\n",
       "  'all_edges_are_reliable': True,\n",
       "  'graph_is_connected': True})"
      ]
     },
     "execution_count": 52,
     "metadata": {},
     "output_type": "execute_result"
    }
   ],
   "source": [
    "is_steiner_tree(g_common, stpg)"
   ]
  },
  {
   "cell_type": "code",
   "execution_count": 53,
   "metadata": {},
   "outputs": [],
   "source": [
    "# g_common.edges"
   ]
  },
  {
   "cell_type": "code",
   "execution_count": 54,
   "metadata": {},
   "outputs": [],
   "source": [
    "from graph.util import gg_total_weight"
   ]
  },
  {
   "cell_type": "code",
   "execution_count": 55,
   "metadata": {},
   "outputs": [
    {
     "data": {
      "text/plain": [
       "225"
      ]
     },
     "execution_count": 55,
     "metadata": {},
     "output_type": "execute_result"
    }
   ],
   "source": [
    "gg_total_weight(g_common)"
   ]
  },
  {
   "cell_type": "code",
   "execution_count": 56,
   "metadata": {},
   "outputs": [
    {
     "data": {
      "text/plain": [
       "227"
      ]
     },
     "execution_count": 56,
     "metadata": {},
     "output_type": "execute_result"
    }
   ],
   "source": [
    "gg_total_weight(aa)"
   ]
  },
  {
   "cell_type": "code",
   "execution_count": 57,
   "metadata": {},
   "outputs": [
    {
     "data": {
      "text/plain": [
       "225"
      ]
     },
     "execution_count": 57,
     "metadata": {},
     "output_type": "execute_result"
    }
   ],
   "source": [
    "gg_total_weight(bb)"
   ]
  },
  {
   "cell_type": "code",
   "execution_count": null,
   "metadata": {},
   "outputs": [],
   "source": []
  }
 ],
 "metadata": {
  "kernelspec": {
   "display_name": "Python 3",
   "language": "python",
   "name": "python3"
  },
  "language_info": {
   "codemirror_mode": {
    "name": "ipython",
    "version": 3
   },
   "file_extension": ".py",
   "mimetype": "text/x-python",
   "name": "python",
   "nbconvert_exporter": "python",
   "pygments_lexer": "ipython3",
   "version": "3.8.3"
  }
 },
 "nbformat": 4,
 "nbformat_minor": 4
}
