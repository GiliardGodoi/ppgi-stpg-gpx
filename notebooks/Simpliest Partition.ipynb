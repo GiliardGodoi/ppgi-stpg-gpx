{
 "cells": [
  {
   "cell_type": "code",
   "execution_count": 1,
   "metadata": {},
   "outputs": [],
   "source": [
    "import sys; sys.path.append('..')"
   ]
  },
  {
   "cell_type": "code",
   "execution_count": 2,
   "metadata": {},
   "outputs": [],
   "source": [
    "from IPython.display import Image\n",
    "from os import path"
   ]
  },
  {
   "cell_type": "code",
   "execution_count": 17,
   "metadata": {},
   "outputs": [],
   "source": [
    "from collections import deque"
   ]
  },
  {
   "cell_type": "code",
   "execution_count": 9,
   "metadata": {},
   "outputs": [],
   "source": [
    "from graph import Graph\n",
    "from graph.util import is_steiner_tree, has_cycle, how_many_components"
   ]
  },
  {
   "cell_type": "code",
   "execution_count": 4,
   "metadata": {},
   "outputs": [],
   "source": [
    "def compose(red : Graph, blue : Graph):\n",
    "    '''\n",
    "    Parameters:\n",
    "    ----------\n",
    "        red, blue : Graph\n",
    "\n",
    "    Return:\n",
    "    -------\n",
    "        g_union, g_common, g_star : Graph\n",
    "    '''\n",
    "\n",
    "    g_union  = Graph()\n",
    "    g_common = Graph()\n",
    "    g_star   = Graph()\n",
    "\n",
    "    for v, u in red.gen_undirect_edges():\n",
    "        g_union.add_edge(v,u)\n",
    "\n",
    "        if not blue.has_edge(v,u):\n",
    "            g_star.add_edge(v,u)\n",
    "\n",
    "    for v, u in blue.gen_undirect_edges():\n",
    "        g_union.add_edge(v,u)\n",
    "\n",
    "        if red.has_edge(v,u):\n",
    "            g_common.add_edge(v,u)\n",
    "        else:\n",
    "            g_star.add_edge(v,u)\n",
    "\n",
    "\n",
    "    return g_union, g_common, g_star"
   ]
  },
  {
   "cell_type": "code",
   "execution_count": null,
   "metadata": {},
   "outputs": [],
   "source": [
    "size = 200\n",
    "Image(filename=path.join('img', 'grafo_1.png'), height=size, width=size)"
   ]
  },
  {
   "cell_type": "code",
   "execution_count": 11,
   "metadata": {},
   "outputs": [],
   "source": [
    "aa = Graph(edges={\n",
    "    'E' : {'C' : 5},\n",
    "    'C' : {'E' : 5 , 'D' : 4},\n",
    "    'D' : {'C' : 4 , 'F' : 9},\n",
    "    'F' : {'D' : 9 , 'A' : 3},\n",
    "    'A' : {'F' : 3}\n",
    "})\n",
    "\n",
    "bb = Graph(edges={\n",
    "    'E' : {'C' : 4},\n",
    "    'C' : {'E' : 4,  'B' : 10},\n",
    "    'B' : {'C' : 10, 'A' : 11},\n",
    "    'A' : {'B' : 11},\n",
    "})\n",
    "\n",
    "g_union, g_common, g_star = compose(aa, bb)"
   ]
  },
  {
   "cell_type": "code",
   "execution_count": 18,
   "metadata": {},
   "outputs": [],
   "source": [
    "class Component:\n",
    "\n",
    "    def __init__(self):\n",
    "        self.who = 'default'\n",
    "        self.portal = set()\n",
    "        self.edges = set()"
   ]
  },
  {
   "cell_type": "code",
   "execution_count": null,
   "metadata": {},
   "outputs": [],
   "source": [
    "def connected(g_star, red, blue):\n",
    "    \n",
    "    linkedlist = deque()\n",
    "    visited = set()\n",
    "    \n",
    "    def visit(main, node, component = None):\n",
    "        \n",
    "        visited.add(node)\n",
    "        \n",
    "        for v in main.adjacent_to(node):                \n",
    "            if component is None:\n",
    "                component = Component()\n",
    "        \n",
    "            if red.has_node(node) and blue.has_node(node):\n",
    "                component.portal.add(node)\n",
    "            \n",
    "            if red.has_edge(node, v):\n",
    "                component.edges.add((node, v))\n",
    "                if v not in visited:\n",
    "                    visit(red,v, component)\n",
    "            elif blue.has_edge(node, v):\n",
    "                component.edges.add((node, v))\n",
    "                if v not in visited:\n",
    "                    visit(blue,v, component)\n",
    "            \n",
    "\n",
    "    for source in g_star.vertices:\n",
    "        if source not in visited:\n",
    "            visited.add(source)\n",
    "            visit(g_star, source)\n",
    "        \n",
    "        \n",
    "        "
   ]
  },
  {
   "cell_type": "code",
   "execution_count": 13,
   "metadata": {},
   "outputs": [
    {
     "data": {
      "text/plain": [
       "1"
      ]
     },
     "execution_count": 13,
     "metadata": {},
     "output_type": "execute_result"
    }
   ],
   "source": [
    "how_many_components(g_star)"
   ]
  },
  {
   "cell_type": "code",
   "execution_count": 19,
   "metadata": {},
   "outputs": [
    {
     "data": {
      "text/plain": [
       "<bound method Graph.has_node of <graph.graph.Graph object at 0x000002699BE63850>>"
      ]
     },
     "execution_count": 19,
     "metadata": {},
     "output_type": "execute_result"
    }
   ],
   "source": [
    "g_star.has_node"
   ]
  },
  {
   "cell_type": "code",
   "execution_count": 14,
   "metadata": {},
   "outputs": [
    {
     "data": {
      "image/png": "[encoded data removed]",
      "text/plain": [
       "<IPython.core.display.Image object>"
      ]
     },
     "execution_count": 14,
     "metadata": {},
     "output_type": "execute_result"
    }
   ],
   "source": [
    "Image(filename=path.join(\"img\",\"grafo_2.png\"))"
   ]
  },
  {
   "cell_type": "code",
   "execution_count": 15,
   "metadata": {},
   "outputs": [],
   "source": [
    "aa = Graph(edges={\n",
    "    'E' : {'B' : 1},\n",
    "    'B' : {'E' : 1, 'A' : 1},\n",
    "    'A' : {'B' : 1, 'F' : 1},\n",
    "    'F' : {'A' : 1, 'H' : 1},\n",
    "    'H' : {'F' : 1, 'J' : 1},\n",
    "    'J' : {'H' : 1}\n",
    "})\n",
    "\n",
    "bb = Graph(edges={\n",
    "    'E' : {'D' : 1},\n",
    "    'D' : {'E' : 1, 'C' : 1},\n",
    "    'C' : {'D' : 1, 'A' : 1},\n",
    "    'A' : {'C' : 1, 'F' : 1},\n",
    "    'F' : {'I' : 1, 'A' : 1},\n",
    "    'I' : {'J' : 1, 'F' : 1},\n",
    "    'J' : {'I' : 1}\n",
    "})\n",
    "\n",
    "g_union, g_common, g_star = compose(aa, bb)"
   ]
  },
  {
   "cell_type": "code",
   "execution_count": 16,
   "metadata": {},
   "outputs": [
    {
     "data": {
      "text/plain": [
       "2"
      ]
     },
     "execution_count": 16,
     "metadata": {},
     "output_type": "execute_result"
    }
   ],
   "source": [
    "how_many_components(g_star)"
   ]
  },
  {
   "cell_type": "code",
   "execution_count": null,
   "metadata": {},
   "outputs": [],
   "source": []
  }
 ],
 "metadata": {
  "kernelspec": {
   "display_name": "Python 3",
   "language": "python",
   "name": "python3"
  },
  "language_info": {
   "codemirror_mode": {
    "name": "ipython",
    "version": 3
   },
   "file_extension": ".py",
   "mimetype": "text/x-python",
   "name": "python",
   "nbconvert_exporter": "python",
   "pygments_lexer": "ipython3",
   "version": "3.8.3"
  }
 },
 "nbformat": 4,
 "nbformat_minor": 4
}
