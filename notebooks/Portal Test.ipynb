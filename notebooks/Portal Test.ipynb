{
 "cells": [
  {
   "cell_type": "code",
   "execution_count": 1,
   "metadata": {},
   "outputs": [],
   "source": [
    "import sys; sys.path.append('..')"
   ]
  },
  {
   "cell_type": "code",
   "execution_count": 2,
   "metadata": {},
   "outputs": [],
   "source": [
    "from IPython.display import Image\n",
    "from os import path"
   ]
  },
  {
   "cell_type": "code",
   "execution_count": 3,
   "metadata": {},
   "outputs": [],
   "source": [
    "from collections import deque, defaultdict"
   ]
  },
  {
   "cell_type": "code",
   "execution_count": 4,
   "metadata": {},
   "outputs": [],
   "source": [
    "from graph import Graph\n",
    "from pxcrossover import compose, connected, Component"
   ]
  },
  {
   "cell_type": "code",
   "execution_count": 5,
   "metadata": {},
   "outputs": [
    {
     "data": {
      "image/png": "[encoded data removed]",
      "text/plain": [
       "<IPython.core.display.Image object>"
      ]
     },
     "execution_count": 5,
     "metadata": {},
     "output_type": "execute_result"
    }
   ],
   "source": [
    "Image(filename=path.join(\"img\",\"grafo_4.png\"))"
   ]
  },
  {
   "cell_type": "code",
   "execution_count": 6,
   "metadata": {},
   "outputs": [],
   "source": [
    "aa = Graph(edges={\n",
    "    'A' : {'B' : 1, 'C' : 1},\n",
    "    'B' : {'A' : 1, 'D' : 1, 'E' : 1},\n",
    "    'D' : {'B' : 1},\n",
    "    'C' : {'A' : 1},\n",
    "    'E' : {'B' : 1, 'G' : 1},\n",
    "    'G' : {'E' : 1, 'H' : 1},\n",
    "    'H' : {'G' : 1}\n",
    "})\n",
    "\n",
    "bb = Graph(edges={\n",
    "    'A' : {'B' : 1, 'C' : 1},\n",
    "    'B' : {'A' : 1, 'D' : 1,},\n",
    "    'D' : {'B' : 1},\n",
    "    'C' : {'A' : 1, 'F' : 1},\n",
    "    'F' : {'C' : 1, 'G' : 1},\n",
    "    'G' : {'F' : 1, 'H' : 1},\n",
    "    'H' : {'G' : 1}\n",
    "})\n",
    "\n",
    "g_union, g_common, g_star = compose(aa, bb)\n",
    "\n",
    "first, second, previous = connected(g_union, aa, bb, 'A')"
   ]
  },
  {
   "cell_type": "code",
   "execution_count": 7,
   "metadata": {},
   "outputs": [],
   "source": [
    "first = first[0]\n",
    "second = second[0]"
   ]
  },
  {
   "cell_type": "code",
   "execution_count": 8,
   "metadata": {},
   "outputs": [
    {
     "data": {
      "text/plain": [
       "{'B', 'G'}"
      ]
     },
     "execution_count": 8,
     "metadata": {},
     "output_type": "execute_result"
    }
   ],
   "source": [
    "first.portal"
   ]
  },
  {
   "cell_type": "code",
   "execution_count": 9,
   "metadata": {},
   "outputs": [
    {
     "data": {
      "text/plain": [
       "{'C', 'G'}"
      ]
     },
     "execution_count": 9,
     "metadata": {},
     "output_type": "execute_result"
    }
   ],
   "source": [
    "second.portal"
   ]
  },
  {
   "cell_type": "code",
   "execution_count": 10,
   "metadata": {},
   "outputs": [],
   "source": [
    "diff = first.portal ^ second.portal"
   ]
  },
  {
   "cell_type": "code",
   "execution_count": 12,
   "metadata": {},
   "outputs": [
    {
     "name": "stdout",
     "output_type": "stream",
     "text": [
      "B B\n",
      "C B\n"
     ]
    }
   ],
   "source": [
    "for v in diff:\n",
    "    p = previous.find(v)\n",
    "    print(v, p)"
   ]
  },
  {
   "cell_type": "code",
   "execution_count": 13,
   "metadata": {},
   "outputs": [
    {
     "data": {
      "text/plain": [
       "{'B'}"
      ]
     },
     "execution_count": 13,
     "metadata": {},
     "output_type": "execute_result"
    }
   ],
   "source": [
    "set(map(lambda x : previous.find(x), diff))"
   ]
  },
  {
   "cell_type": "code",
   "execution_count": 14,
   "metadata": {},
   "outputs": [],
   "source": [
    "def test_0(right, left):\n",
    "    \n",
    "    return len(right.portal) == len(left.portal)"
   ]
  },
  {
   "cell_type": "code",
   "execution_count": 15,
   "metadata": {},
   "outputs": [
    {
     "data": {
      "text/plain": [
       "True"
      ]
     },
     "execution_count": 15,
     "metadata": {},
     "output_type": "execute_result"
    }
   ],
   "source": [
    "test_0(second, first)"
   ]
  },
  {
   "cell_type": "code",
   "execution_count": 16,
   "metadata": {},
   "outputs": [],
   "source": [
    "# conjunto de portais são iguais\n",
    "def test_1(right, left):\n",
    "    return right.portal == left.portal"
   ]
  },
  {
   "cell_type": "code",
   "execution_count": 17,
   "metadata": {},
   "outputs": [
    {
     "data": {
      "text/plain": [
       "False"
      ]
     },
     "execution_count": 17,
     "metadata": {},
     "output_type": "execute_result"
    }
   ],
   "source": [
    "test_1(first, second)"
   ]
  },
  {
   "cell_type": "code",
   "execution_count": 20,
   "metadata": {},
   "outputs": [],
   "source": [
    "# os vértices diferentes possuem os mesmos pais\n",
    "def test_2(right, left, parents):\n",
    "    \n",
    "    diff_right = right.portal - left.portal\n",
    "    diff_left  = left.portal - right.portal\n",
    "    \n",
    "    portal_right = set(map(lambda x : parents.find(x), diff_right))\n",
    "    portal_left  = set(map(lambda x : parents.find(x), diff_left))\n",
    "    \n",
    "    return portal_right == portal_left"
   ]
  },
  {
   "cell_type": "code",
   "execution_count": 21,
   "metadata": {},
   "outputs": [
    {
     "data": {
      "text/plain": [
       "True"
      ]
     },
     "execution_count": 21,
     "metadata": {},
     "output_type": "execute_result"
    }
   ],
   "source": [
    "test_2(first, second, previous)"
   ]
  },
  {
   "cell_type": "code",
   "execution_count": 24,
   "metadata": {},
   "outputs": [],
   "source": [
    "# versão simplificada do teste 2\n",
    "# mas será a mais eficiente?\n",
    "# Python Complexity for set operation: Symmetric Difference\n",
    "# s ^ t não importa o tamanho de s ou t\n",
    "# Averate case O(len(s))\n",
    "# Worst case   O(len(s) * len(t))\n",
    "\n",
    "def test_3(right, left, parents):\n",
    "    \n",
    "    diff = right.portal ^ left.portal \n",
    "    p_portals = set(map(lambda x : previous.find(x), diff))\n",
    "    \n",
    "    if len(p_portals) != 1:\n",
    "        raise Exception()\n",
    "        \n",
    "    return True"
   ]
  },
  {
   "cell_type": "code",
   "execution_count": 25,
   "metadata": {},
   "outputs": [
    {
     "data": {
      "text/plain": [
       "True"
      ]
     },
     "execution_count": 25,
     "metadata": {},
     "output_type": "execute_result"
    }
   ],
   "source": [
    "test_3(second, first, previous)"
   ]
  },
  {
   "cell_type": "code",
   "execution_count": 26,
   "metadata": {},
   "outputs": [],
   "source": [
    "aa = Graph(edges={\n",
    "    'E' : {'B' : 1},\n",
    "    'B' : {'E' : 1, 'A' : 1},\n",
    "    'A' : {'B' : 1, 'F' : 1},\n",
    "    'F' : {'A' : 1, 'H' : 1},\n",
    "    'H' : {'F' : 1, 'J' : 1},\n",
    "    'J' : {'H' : 1}\n",
    "})\n",
    "\n",
    "bb = Graph(edges={\n",
    "    'E' : {'D' : 1},\n",
    "    'D' : {'E' : 1, 'C' : 1},\n",
    "    'C' : {'D' : 1, 'A' : 1},\n",
    "    'A' : {'C' : 1, 'I' : 1},\n",
    "    'I' : {'J' : 1, 'A' : 1},\n",
    "    'J' : {'I' : 1}\n",
    "})\n",
    "\n",
    "g_union, g_common, g_star = compose(aa, bb)\n",
    "\n",
    "first, second, previous = connected(g_union, aa, bb, 'E')"
   ]
  },
  {
   "cell_type": "code",
   "execution_count": 27,
   "metadata": {},
   "outputs": [
    {
     "name": "stdout",
     "output_type": "stream",
     "text": [
      "True\n",
      "True\n"
     ]
    }
   ],
   "source": [
    "for c1, c2 in zip(first, second):\n",
    "    print(test_2(c1, c2, previous))"
   ]
  },
  {
   "cell_type": "code",
   "execution_count": null,
   "metadata": {},
   "outputs": [],
   "source": []
  }
 ],
 "metadata": {
  "kernelspec": {
   "display_name": "Python 3",
   "language": "python",
   "name": "python3"
  },
  "language_info": {
   "codemirror_mode": {
    "name": "ipython",
    "version": 3
   },
   "file_extension": ".py",
   "mimetype": "text/x-python",
   "name": "python",
   "nbconvert_exporter": "python",
   "pygments_lexer": "ipython3",
   "version": "3.8.3"
  }
 },
 "nbformat": 4,
 "nbformat_minor": 4
}
