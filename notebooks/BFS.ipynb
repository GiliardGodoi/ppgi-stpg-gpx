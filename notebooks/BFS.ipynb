{
 "cells": [
  {
   "cell_type": "code",
   "execution_count": 1,
   "metadata": {},
   "outputs": [],
   "source": [
    "import sys; sys.path.append('..')\n",
    "from IPython.display import Image"
   ]
  },
  {
   "cell_type": "code",
   "execution_count": null,
   "metadata": {},
   "outputs": [],
   "source": []
  },
  {
   "cell_type": "code",
   "execution_count": 2,
   "metadata": {},
   "outputs": [],
   "source": [
    "from collections import deque, defaultdict"
   ]
  },
  {
   "cell_type": "code",
   "execution_count": 3,
   "metadata": {},
   "outputs": [],
   "source": [
    "from queue import Queue"
   ]
  },
  {
   "cell_type": "code",
   "execution_count": 4,
   "metadata": {},
   "outputs": [],
   "source": [
    "from graph import Graph"
   ]
  },
  {
   "cell_type": "code",
   "execution_count": 36,
   "metadata": {},
   "outputs": [],
   "source": [
    "def bfs_simplify(first : Graph, second : Graph, start : 'node'):\n",
    "    \n",
    "    visited = set()\n",
    "    portals  = set()\n",
    "    prev = {start : None}\n",
    "    queue = Queue()\n",
    "    queue.put(start)\n",
    "\n",
    "    while not queue.empty():\n",
    "        v = queue.get()    \n",
    "        visited.add(v)\n",
    "        \n",
    "        for u in first.adjacent_to(v):  \n",
    "            is_portal = False\n",
    "            \n",
    "            if second.has_edge(v, u): # common\n",
    "                #g_common.add_edge(v, u, weight=bb[v][u])\n",
    "                is_portal = True\n",
    "            \n",
    "            if u not in visited:\n",
    "                queue.put(u)\n",
    "                if is_portal:\n",
    "                    prev[u] = None\n",
    "                else:\n",
    "                    prev[u] = v\n",
    "                    \n",
    "            if is_portal:\n",
    "                portals.add(v)\n",
    "    \n",
    "    return portals, prev"
   ]
  },
  {
   "cell_type": "code",
   "execution_count": 37,
   "metadata": {},
   "outputs": [],
   "source": [
    "aa = Graph(edges={\n",
    "    'E' : {'C' : 5},\n",
    "    'C' : {'E' : 5 , 'D' : 4},\n",
    "    'D' : {'C' : 4 , 'F' : 9},\n",
    "    'F' : {'D' : 9 , 'A' : 3},\n",
    "    'A' : {'F' : 3}\n",
    "})"
   ]
  },
  {
   "cell_type": "code",
   "execution_count": 38,
   "metadata": {},
   "outputs": [],
   "source": [
    "bb = Graph(edges={\n",
    "    'E' : {'C' : 4},\n",
    "    'C' : {'E' : 4,  'B' : 10},\n",
    "    'B' : {'C' : 10, 'A' : 11},\n",
    "    'A' : {'B' : 11},\n",
    "})"
   ]
  },
  {
   "cell_type": "code",
   "execution_count": 39,
   "metadata": {},
   "outputs": [],
   "source": [
    "pa, prev_a = bfs_simplify(aa, bb, 'C')"
   ]
  },
  {
   "cell_type": "code",
   "execution_count": 40,
   "metadata": {},
   "outputs": [],
   "source": [
    "pb, prev_b = bfs_simplify(bb, aa, 'C')"
   ]
  },
  {
   "cell_type": "code",
   "execution_count": 41,
   "metadata": {},
   "outputs": [
    {
     "data": {
      "text/plain": [
       "{'C', 'E'}"
      ]
     },
     "execution_count": 41,
     "metadata": {},
     "output_type": "execute_result"
    }
   ],
   "source": [
    "pa"
   ]
  },
  {
   "cell_type": "code",
   "execution_count": 42,
   "metadata": {},
   "outputs": [
    {
     "data": {
      "text/plain": [
       "{'C', 'E'}"
      ]
     },
     "execution_count": 42,
     "metadata": {},
     "output_type": "execute_result"
    }
   ],
   "source": [
    "pb"
   ]
  },
  {
   "cell_type": "code",
   "execution_count": 43,
   "metadata": {},
   "outputs": [
    {
     "data": {
      "text/plain": [
       "{'C': None, 'E': None, 'D': 'C', 'F': 'D', 'A': 'F'}"
      ]
     },
     "execution_count": 43,
     "metadata": {},
     "output_type": "execute_result"
    }
   ],
   "source": [
    "prev_a"
   ]
  },
  {
   "cell_type": "code",
   "execution_count": 44,
   "metadata": {},
   "outputs": [
    {
     "data": {
      "text/plain": [
       "{'C': None, 'E': None, 'B': 'C', 'A': 'B'}"
      ]
     },
     "execution_count": 44,
     "metadata": {},
     "output_type": "execute_result"
    }
   ],
   "source": [
    "prev_b"
   ]
  },
  {
   "cell_type": "code",
   "execution_count": null,
   "metadata": {},
   "outputs": [],
   "source": []
  },
  {
   "cell_type": "code",
   "execution_count": null,
   "metadata": {},
   "outputs": [],
   "source": []
  },
  {
   "cell_type": "code",
   "execution_count": 45,
   "metadata": {},
   "outputs": [],
   "source": [
    "aa = Graph(edges={\n",
    "    'A' : {'B' : 5, 'C' : 3},\n",
    "    'C' : {'A' : 3, 'S' : 6},\n",
    "    'B' : {'A' : 5},\n",
    "    'R' : {'S' : 4, 'T' : 1},\n",
    "    'S' : {'R' : 4 , 'C': 6},\n",
    "    'T' : {'R' : 1}\n",
    "})"
   ]
  },
  {
   "cell_type": "code",
   "execution_count": 46,
   "metadata": {},
   "outputs": [],
   "source": [
    "bb = Graph(edges={\n",
    "    'D' : {'A' : 2, 'C' : 4, 'B': 3},\n",
    "    'A' : {'D' : 2},\n",
    "    'C' : {'D' : 4, 'S' : 6},\n",
    "    'B' : {'D' : 3},\n",
    "    'T' : {'S' : 10},\n",
    "    'S' : {'T' : 10, 'C' : 6}\n",
    "})"
   ]
  },
  {
   "cell_type": "code",
   "execution_count": 47,
   "metadata": {},
   "outputs": [],
   "source": [
    "pa, prev_a = bfs_simplify(aa, bb, 'C')"
   ]
  },
  {
   "cell_type": "code",
   "execution_count": 48,
   "metadata": {},
   "outputs": [],
   "source": [
    "pb, prev_b = bfs_simplify(bb, aa, 'C')"
   ]
  },
  {
   "cell_type": "code",
   "execution_count": 49,
   "metadata": {},
   "outputs": [
    {
     "data": {
      "text/plain": [
       "True"
      ]
     },
     "execution_count": 49,
     "metadata": {},
     "output_type": "execute_result"
    }
   ],
   "source": [
    "pa == pb"
   ]
  },
  {
   "cell_type": "code",
   "execution_count": 50,
   "metadata": {},
   "outputs": [
    {
     "data": {
      "text/plain": [
       "{'C': None, 'A': 'C', 'S': None, 'B': 'A', 'R': 'S', 'T': 'R'}"
      ]
     },
     "execution_count": 50,
     "metadata": {},
     "output_type": "execute_result"
    }
   ],
   "source": [
    "prev_a"
   ]
  },
  {
   "cell_type": "code",
   "execution_count": 51,
   "metadata": {},
   "outputs": [
    {
     "data": {
      "text/plain": [
       "{'C': None, 'D': 'C', 'S': None, 'A': 'D', 'B': 'D', 'T': 'S'}"
      ]
     },
     "execution_count": 51,
     "metadata": {},
     "output_type": "execute_result"
    }
   ],
   "source": [
    "prev_b"
   ]
  },
  {
   "cell_type": "code",
   "execution_count": null,
   "metadata": {},
   "outputs": [],
   "source": []
  },
  {
   "cell_type": "code",
   "execution_count": null,
   "metadata": {},
   "outputs": [],
   "source": []
  },
  {
   "cell_type": "code",
   "execution_count": 52,
   "metadata": {},
   "outputs": [],
   "source": [
    "aa = Graph(edges={\n",
    "    'A' : {'D' : 5},\n",
    "    'C' : {'D' : 6, 'E' : 1},\n",
    "    'D' : {'A' : 5, 'C' : 6},\n",
    "    'E' : {'C' : 6, 'F' : 8, 'H' : 1},\n",
    "    'F' : {'E' : 8, 'G' : 4},\n",
    "    'G' : {'F' : 4, 'L' : 1},\n",
    "    'H' : {'E' : 1, 'M' : 5},\n",
    "    'L' : {'G' : 1},\n",
    "    'M' : {'H' : 5, 'I' : 7},\n",
    "    'I' : {'M' : 7, 'J' : 1},\n",
    "    'J' : {'I' : 1}\n",
    "})"
   ]
  },
  {
   "cell_type": "code",
   "execution_count": 53,
   "metadata": {},
   "outputs": [],
   "source": [
    "bb = Graph(edges={\n",
    "    'A' : {'B' : 4},\n",
    "    'B' : {'A' : 4, 'C' : 2},\n",
    "    'C' : {'B' : 2, 'E' : 1},\n",
    "    'E' : {'C' : 1, 'H' : 1},\n",
    "    'H' : {'E' : 1, 'N' : 8},\n",
    "    'N' : {'H' : 8, 'I' : 6},\n",
    "    'I' : {'N' : 6, 'J' : 1},\n",
    "    'J' : {'I' : 1, 'L' : 9},\n",
    "    'L' : {'J' : 9, 'G' : 1},\n",
    "    'G' : {'L' : 1}\n",
    "})"
   ]
  },
  {
   "cell_type": "code",
   "execution_count": 54,
   "metadata": {},
   "outputs": [],
   "source": [
    "pa, prev_a = bfs_simplify(aa, bb, 'C')"
   ]
  },
  {
   "cell_type": "code",
   "execution_count": 55,
   "metadata": {},
   "outputs": [],
   "source": [
    "pb, prev_b = bfs_simplify(bb, aa, 'C')"
   ]
  },
  {
   "cell_type": "code",
   "execution_count": 56,
   "metadata": {},
   "outputs": [
    {
     "data": {
      "text/plain": [
       "{'C', 'E', 'G', 'H', 'I', 'J', 'L'}"
      ]
     },
     "execution_count": 56,
     "metadata": {},
     "output_type": "execute_result"
    }
   ],
   "source": [
    "pa"
   ]
  },
  {
   "cell_type": "code",
   "execution_count": 57,
   "metadata": {},
   "outputs": [
    {
     "data": {
      "text/plain": [
       "{'C', 'E', 'G', 'H', 'I', 'J', 'L'}"
      ]
     },
     "execution_count": 57,
     "metadata": {},
     "output_type": "execute_result"
    }
   ],
   "source": [
    "pb"
   ]
  },
  {
   "cell_type": "code",
   "execution_count": 58,
   "metadata": {},
   "outputs": [
    {
     "data": {
      "text/plain": [
       "True"
      ]
     },
     "execution_count": 58,
     "metadata": {},
     "output_type": "execute_result"
    }
   ],
   "source": [
    "pa == pb"
   ]
  },
  {
   "cell_type": "code",
   "execution_count": 59,
   "metadata": {},
   "outputs": [
    {
     "data": {
      "text/plain": [
       "True"
      ]
     },
     "execution_count": 59,
     "metadata": {},
     "output_type": "execute_result"
    }
   ],
   "source": [
    "aa.has_edge('J', 'I')"
   ]
  },
  {
   "cell_type": "code",
   "execution_count": 60,
   "metadata": {},
   "outputs": [
    {
     "data": {
      "text/plain": [
       "['I', 'L']"
      ]
     },
     "execution_count": 60,
     "metadata": {},
     "output_type": "execute_result"
    }
   ],
   "source": [
    "list(bb.adjacent_to('J'))"
   ]
  },
  {
   "cell_type": "code",
   "execution_count": 61,
   "metadata": {},
   "outputs": [
    {
     "data": {
      "text/plain": [
       "{'C': None,\n",
       " 'D': 'C',\n",
       " 'E': None,\n",
       " 'A': 'D',\n",
       " 'F': 'E',\n",
       " 'H': None,\n",
       " 'G': 'F',\n",
       " 'M': 'H',\n",
       " 'L': None,\n",
       " 'I': 'M',\n",
       " 'J': None}"
      ]
     },
     "execution_count": 61,
     "metadata": {},
     "output_type": "execute_result"
    }
   ],
   "source": [
    "prev_a"
   ]
  },
  {
   "cell_type": "code",
   "execution_count": 62,
   "metadata": {},
   "outputs": [
    {
     "data": {
      "text/plain": [
       "{'C': None,\n",
       " 'B': 'C',\n",
       " 'E': None,\n",
       " 'A': 'B',\n",
       " 'H': None,\n",
       " 'N': 'H',\n",
       " 'I': 'N',\n",
       " 'J': None,\n",
       " 'L': 'J',\n",
       " 'G': None}"
      ]
     },
     "execution_count": 62,
     "metadata": {},
     "output_type": "execute_result"
    }
   ],
   "source": [
    "prev_b"
   ]
  },
  {
   "cell_type": "code",
   "execution_count": null,
   "metadata": {},
   "outputs": [],
   "source": []
  }
 ],
 "metadata": {
  "kernelspec": {
   "display_name": "Python 3",
   "language": "python",
   "name": "python3"
  },
  "language_info": {
   "codemirror_mode": {
    "name": "ipython",
    "version": 3
   },
   "file_extension": ".py",
   "mimetype": "text/x-python",
   "name": "python",
   "nbconvert_exporter": "python",
   "pygments_lexer": "ipython3",
   "version": "3.8.3"
  }
 },
 "nbformat": 4,
 "nbformat_minor": 4
}
