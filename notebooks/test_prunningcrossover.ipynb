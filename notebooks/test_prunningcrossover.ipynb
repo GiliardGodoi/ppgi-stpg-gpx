{
 "cells": [
  {
   "cell_type": "code",
   "execution_count": 1,
   "metadata": {},
   "outputs": [],
   "source": [
    "import sys; sys.path.append('..')\n",
    "from os import path\n",
    "from random import choice, shuffle\n",
    "\n",
    "from graph import Graph, ReaderORLibrary\n",
    "from graph.steiner import (prunning_mst, shortest_path,\n",
    "                            shortest_path_origin_prim,\n",
    "                            prunning_kruskal_mst,\n",
    "                            shortest_path_with_origin)\n",
    "\n",
    "from graph.util import is_steiner_tree, has_cycle\n",
    "from graph.algorithms import kruskal, prim"
   ]
  },
  {
   "cell_type": "code",
   "execution_count": 2,
   "metadata": {},
   "outputs": [],
   "source": [
    "from graph.util import gg_total_weight"
   ]
  },
  {
   "cell_type": "code",
   "execution_count": 3,
   "metadata": {},
   "outputs": [],
   "source": [
    "# input\n",
    "dataset_file = 'steinc5.txt'\n",
    "\n",
    "# output\n",
    "csv_output = 'resultado.csv'\n",
    "graphs_output = 'grafos.pickle'"
   ]
  },
  {
   "cell_type": "code",
   "execution_count": 4,
   "metadata": {},
   "outputs": [],
   "source": [
    "file = path.join('..', 'datasets','ORLibrary', dataset_file)\n",
    "\n",
    "assert path.exists(file)\n",
    "\n",
    "reader = ReaderORLibrary()\n",
    "\n",
    "stpg = reader.parser(file)"
   ]
  },
  {
   "cell_type": "code",
   "execution_count": 5,
   "metadata": {},
   "outputs": [],
   "source": [
    "from prunningcrossover import PrunningCrossover"
   ]
  },
  {
   "cell_type": "code",
   "execution_count": 6,
   "metadata": {},
   "outputs": [],
   "source": [
    "crossover = PrunningCrossover(stpg)"
   ]
  },
  {
   "cell_type": "code",
   "execution_count": 7,
   "metadata": {},
   "outputs": [
    {
     "output_type": "stream",
     "name": "stdout",
     "text": [
      "[62, 433, 393, 299, 179, 211, 120, 355, 455, 291]  ...\n"
     ]
    }
   ],
   "source": [
    "vertices = list(stpg.graph.vertices)\n",
    "\n",
    "shuffle(vertices)\n",
    "\n",
    "print(vertices[:10],' ...')"
   ]
  },
  {
   "cell_type": "code",
   "execution_count": 8,
   "metadata": {},
   "outputs": [
    {
     "output_type": "execute_result",
     "data": {
      "text/plain": [
       "False"
      ]
     },
     "metadata": {},
     "execution_count": 8
    }
   ],
   "source": [
    "v = vertices.pop()\n",
    "\n",
    "aa, aa_cost = shortest_path_with_origin(stpg.graph, v, stpg.terminals)\n",
    "\n",
    "r, test = is_steiner_tree(aa, stpg)\n",
    "\n",
    "r"
   ]
  },
  {
   "cell_type": "code",
   "execution_count": 9,
   "metadata": {},
   "outputs": [
    {
     "output_type": "execute_result",
     "data": {
      "text/plain": [
       "{'has_cycle': False,\n",
       " 'all_terminals_in': True,\n",
       " 'all_leaves_are_terminals': False,\n",
       " 'all_edges_are_reliable': True,\n",
       " 'graph_is_connected': True}"
      ]
     },
     "metadata": {},
     "execution_count": 9
    }
   ],
   "source": [
    "test"
   ]
  },
  {
   "cell_type": "code",
   "execution_count": 11,
   "metadata": {},
   "outputs": [
    {
     "output_type": "stream",
     "name": "stdout",
     "text": [
      "Wall time: 14.3 s\n"
     ]
    }
   ],
   "source": [
    "%%time\n",
    "\n",
    "data = list()\n",
    "\n",
    "for _ in range(200):\n",
    "    v = vertices.pop()\n",
    "    aa, aa_cost = prunning_mst(stpg.graph, v, stpg.terminals)\n",
    "    is_aa_st, _ = is_steiner_tree(aa, stpg)\n",
    "    \n",
    "    u = vertices.pop()\n",
    "    bb, bb_cost = prunning_mst(stpg.graph, u, stpg.terminals)\n",
    "    is_bb_st, _ = is_steiner_tree(bb, stpg)\n",
    "    \n",
    "    child = crossover(aa, bb)\n",
    "    cc_cost = gg_total_weight(child)\n",
    "    is_cc_st, _ = is_steiner_tree(child, stpg)\n",
    "    \n",
    "    data.append([v, u, is_aa_st, is_bb_st, is_cc_st, aa_cost, bb_cost, cc_cost])"
   ]
  },
  {
   "cell_type": "code",
   "execution_count": 57,
   "metadata": {},
   "outputs": [],
   "source": [
    "# child.edges"
   ]
  },
  {
   "cell_type": "code",
   "execution_count": 58,
   "metadata": {},
   "outputs": [],
   "source": [
    "import pandas as pd"
   ]
  },
  {
   "cell_type": "code",
   "execution_count": 59,
   "metadata": {},
   "outputs": [],
   "source": [
    "frame = pd.DataFrame(data, columns=['start_a', 'start_b', 'is_aa_st', 'is_bb_st', 'is_cc_st' ,'a_cost', 'b_cost', 'c_cost'])"
   ]
  },
  {
   "cell_type": "code",
   "execution_count": 60,
   "metadata": {},
   "outputs": [],
   "source": [
    "frame['less_both'] = (frame['c_cost'] < frame['a_cost']) & (frame['c_cost'] < frame['b_cost'])"
   ]
  },
  {
   "cell_type": "code",
   "execution_count": 61,
   "metadata": {},
   "outputs": [],
   "source": [
    "frame['less_equal_both'] = (frame['c_cost'] <= frame['a_cost']) & (frame['c_cost'] <= frame['b_cost'])"
   ]
  },
  {
   "cell_type": "code",
   "execution_count": 62,
   "metadata": {},
   "outputs": [],
   "source": [
    "frame['less_a'] = (frame['c_cost'] <= frame['a_cost'])"
   ]
  },
  {
   "cell_type": "code",
   "execution_count": 63,
   "metadata": {},
   "outputs": [],
   "source": [
    "frame['less_b'] = (frame['c_cost'] <= frame['b_cost'])"
   ]
  },
  {
   "cell_type": "code",
   "execution_count": 64,
   "metadata": {},
   "outputs": [
    {
     "output_type": "execute_result",
     "data": {
      "text/plain": [
       "   start_a  start_b  is_aa_st  is_bb_st  is_cc_st  a_cost  b_cost  c_cost  \\\n",
       "0      284      147      True      True      True    1638    1640    1638   \n",
       "1      455      492      True      True      True    1640    1640    1640   \n",
       "2      308      287      True      True      True    1640    1634    1640   \n",
       "3       34       93      True      True      True    1637    1634    1634   \n",
       "4      361      302      True      True      True    1637    1636    1634   \n",
       "\n",
       "   less_both  less_equal_both  less_a  less_b  \n",
       "0      False             True    True    True  \n",
       "1      False             True    True    True  \n",
       "2      False            False    True   False  \n",
       "3      False             True    True    True  \n",
       "4       True             True    True    True  "
      ],
      "text/html": "<div>\n<style scoped>\n    .dataframe tbody tr th:only-of-type {\n        vertical-align: middle;\n    }\n\n    .dataframe tbody tr th {\n        vertical-align: top;\n    }\n\n    .dataframe thead th {\n        text-align: right;\n    }\n</style>\n<table border=\"1\" class=\"dataframe\">\n  <thead>\n    <tr style=\"text-align: right;\">\n      <th></th>\n      <th>start_a</th>\n      <th>start_b</th>\n      <th>is_aa_st</th>\n      <th>is_bb_st</th>\n      <th>is_cc_st</th>\n      <th>a_cost</th>\n      <th>b_cost</th>\n      <th>c_cost</th>\n      <th>less_both</th>\n      <th>less_equal_both</th>\n      <th>less_a</th>\n      <th>less_b</th>\n    </tr>\n  </thead>\n  <tbody>\n    <tr>\n      <th>0</th>\n      <td>284</td>\n      <td>147</td>\n      <td>True</td>\n      <td>True</td>\n      <td>True</td>\n      <td>1638</td>\n      <td>1640</td>\n      <td>1638</td>\n      <td>False</td>\n      <td>True</td>\n      <td>True</td>\n      <td>True</td>\n    </tr>\n    <tr>\n      <th>1</th>\n      <td>455</td>\n      <td>492</td>\n      <td>True</td>\n      <td>True</td>\n      <td>True</td>\n      <td>1640</td>\n      <td>1640</td>\n      <td>1640</td>\n      <td>False</td>\n      <td>True</td>\n      <td>True</td>\n      <td>True</td>\n    </tr>\n    <tr>\n      <th>2</th>\n      <td>308</td>\n      <td>287</td>\n      <td>True</td>\n      <td>True</td>\n      <td>True</td>\n      <td>1640</td>\n      <td>1634</td>\n      <td>1640</td>\n      <td>False</td>\n      <td>False</td>\n      <td>True</td>\n      <td>False</td>\n    </tr>\n    <tr>\n      <th>3</th>\n      <td>34</td>\n      <td>93</td>\n      <td>True</td>\n      <td>True</td>\n      <td>True</td>\n      <td>1637</td>\n      <td>1634</td>\n      <td>1634</td>\n      <td>False</td>\n      <td>True</td>\n      <td>True</td>\n      <td>True</td>\n    </tr>\n    <tr>\n      <th>4</th>\n      <td>361</td>\n      <td>302</td>\n      <td>True</td>\n      <td>True</td>\n      <td>True</td>\n      <td>1637</td>\n      <td>1636</td>\n      <td>1634</td>\n      <td>True</td>\n      <td>True</td>\n      <td>True</td>\n      <td>True</td>\n    </tr>\n  </tbody>\n</table>\n</div>"
     },
     "metadata": {},
     "execution_count": 64
    }
   ],
   "source": [
    "frame.head()"
   ]
  },
  {
   "cell_type": "code",
   "execution_count": 65,
   "metadata": {},
   "outputs": [
    {
     "output_type": "execute_result",
     "data": {
      "text/plain": [
       "array([ True])"
      ]
     },
     "metadata": {},
     "execution_count": 65
    }
   ],
   "source": [
    "frame['is_aa_st'].unique()"
   ]
  },
  {
   "cell_type": "code",
   "execution_count": 66,
   "metadata": {},
   "outputs": [
    {
     "output_type": "execute_result",
     "data": {
      "text/plain": [
       "array([ True])"
      ]
     },
     "metadata": {},
     "execution_count": 66
    }
   ],
   "source": [
    "frame['is_bb_st'].unique()"
   ]
  },
  {
   "cell_type": "code",
   "execution_count": 67,
   "metadata": {},
   "outputs": [
    {
     "output_type": "execute_result",
     "data": {
      "text/plain": [
       "array([ True])"
      ]
     },
     "metadata": {},
     "execution_count": 67
    }
   ],
   "source": [
    "frame['is_cc_st'].unique()"
   ]
  },
  {
   "cell_type": "code",
   "execution_count": 68,
   "metadata": {},
   "outputs": [
    {
     "output_type": "execute_result",
     "data": {
      "text/plain": [
       "a_cost    1630\n",
       "b_cost    1630\n",
       "c_cost    1630\n",
       "dtype: int64"
      ]
     },
     "metadata": {},
     "execution_count": 68
    }
   ],
   "source": [
    "frame[['a_cost', 'b_cost','c_cost']].min()"
   ]
  },
  {
   "cell_type": "code",
   "execution_count": 69,
   "metadata": {},
   "outputs": [
    {
     "output_type": "execute_result",
     "data": {
      "text/plain": [
       "a_cost    1652\n",
       "b_cost    1648\n",
       "c_cost    1648\n",
       "dtype: int64"
      ]
     },
     "metadata": {},
     "execution_count": 69
    }
   ],
   "source": [
    "frame[['a_cost', 'b_cost','c_cost']].max()"
   ]
  },
  {
   "cell_type": "code",
   "execution_count": 70,
   "metadata": {},
   "outputs": [
    {
     "output_type": "execute_result",
     "data": {
      "text/plain": [
       "       less_both less_a less_b less_equal_both\n",
       "count        200    200    200             200\n",
       "unique         2      2      2               2\n",
       "top        False   True   True            True\n",
       "freq         182    150    149             108"
      ],
      "text/html": "<div>\n<style scoped>\n    .dataframe tbody tr th:only-of-type {\n        vertical-align: middle;\n    }\n\n    .dataframe tbody tr th {\n        vertical-align: top;\n    }\n\n    .dataframe thead th {\n        text-align: right;\n    }\n</style>\n<table border=\"1\" class=\"dataframe\">\n  <thead>\n    <tr style=\"text-align: right;\">\n      <th></th>\n      <th>less_both</th>\n      <th>less_a</th>\n      <th>less_b</th>\n      <th>less_equal_both</th>\n    </tr>\n  </thead>\n  <tbody>\n    <tr>\n      <th>count</th>\n      <td>200</td>\n      <td>200</td>\n      <td>200</td>\n      <td>200</td>\n    </tr>\n    <tr>\n      <th>unique</th>\n      <td>2</td>\n      <td>2</td>\n      <td>2</td>\n      <td>2</td>\n    </tr>\n    <tr>\n      <th>top</th>\n      <td>False</td>\n      <td>True</td>\n      <td>True</td>\n      <td>True</td>\n    </tr>\n    <tr>\n      <th>freq</th>\n      <td>182</td>\n      <td>150</td>\n      <td>149</td>\n      <td>108</td>\n    </tr>\n  </tbody>\n</table>\n</div>"
     },
     "metadata": {},
     "execution_count": 70
    }
   ],
   "source": [
    "frame[['less_both', 'less_a', 'less_b', 'less_equal_both']].describe()"
   ]
  },
  {
   "cell_type": "code",
   "execution_count": null,
   "metadata": {},
   "outputs": [],
   "source": []
  },
  {
   "cell_type": "code",
   "execution_count": null,
   "metadata": {},
   "outputs": [],
   "source": []
  }
 ],
 "metadata": {
  "kernelspec": {
   "display_name": "Python 3",
   "language": "python",
   "name": "python3"
  },
  "language_info": {
   "codemirror_mode": {
    "name": "ipython",
    "version": 3
   },
   "file_extension": ".py",
   "mimetype": "text/x-python",
   "name": "python",
   "nbconvert_exporter": "python",
   "pygments_lexer": "ipython3",
   "version": "3.8.3-final"
  }
 },
 "nbformat": 4,
 "nbformat_minor": 4
}