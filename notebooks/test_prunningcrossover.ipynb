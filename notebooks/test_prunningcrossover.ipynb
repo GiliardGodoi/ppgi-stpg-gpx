{
 "cells": [
  {
   "cell_type": "code",
   "execution_count": 1,
   "metadata": {},
   "outputs": [],
   "source": [
    "import numpy as np \n",
    "import pandas as pd\n",
    "from os import path\n",
    "from random import choice, shuffle\n",
    "\n",
    "from ga4stpg.graph import Graph, ReaderORLibrary\n",
    "from ga4stpg.graph.steiner import (prunning_mst, shortest_path,\n",
    "                            shortest_path_origin_prim,\n",
    "                            prunning_kruskal_mst,\n",
    "                            shortest_path_with_origin)\n",
    "\n",
    "from ga4stpg.graph.util import (is_steiner_tree, \n",
    "                                has_cycle,\n",
    "                                gg_total_weight)\n",
    "from ga4stpg.graph.algorithms import kruskal, prim"
   ]
  },
  {
   "cell_type": "code",
   "execution_count": 2,
   "metadata": {},
   "outputs": [],
   "source": [
    "# input\n",
    "dataset_file = 'steinc5.txt'\n",
    "\n",
    "# output\n",
    "csv_output = 'resultado.csv'\n",
    "graphs_output = 'grafos.pickle'"
   ]
  },
  {
   "cell_type": "code",
   "execution_count": 3,
   "metadata": {},
   "outputs": [],
   "source": [
    "file = path.join('..', 'datasets','ORLibrary', dataset_file)\n",
    "\n",
    "assert path.exists(file)\n",
    "\n",
    "reader = ReaderORLibrary()\n",
    "\n",
    "stpg = reader.parser(file)"
   ]
  },
  {
   "cell_type": "code",
   "execution_count": 4,
   "metadata": {},
   "outputs": [],
   "source": [
    "from ga4stpg.tree.prunningcrossover import PrunningMSTCrossover\n",
    "from ga4stpg.tree.evaluation import EvaluateTreeGraph"
   ]
  },
  {
   "cell_type": "code",
   "execution_count": 5,
   "metadata": {},
   "outputs": [],
   "source": [
    "crossover = PrunningMSTCrossover(stpg)\n",
    "evaluator = EvaluateTreeGraph(stpg)"
   ]
  },
  {
   "cell_type": "code",
   "execution_count": 6,
   "metadata": {},
   "outputs": [
    {
     "output_type": "stream",
     "name": "stdout",
     "text": [
      "[165, 359, 450, 370, 479, 179, 454, 118, 480, 147]  ...\n"
     ]
    },
    {
     "output_type": "execute_result",
     "data": {
      "text/plain": [
       "(True,\n",
       " {'has_cycle': False,\n",
       "  'all_terminals_in': True,\n",
       "  'all_leaves_are_terminals': True,\n",
       "  'all_edges_are_reliable': True,\n",
       "  'graph_is_connected': True})"
      ]
     },
     "metadata": {},
     "execution_count": 6
    }
   ],
   "source": [
    "vertices = list(stpg.graph.vertices)\n",
    "\n",
    "shuffle(vertices)\n",
    "\n",
    "print(vertices[:10],' ...')\n",
    "\n",
    "v = vertices.pop()\n",
    "\n",
    "aa, aa_cost = shortest_path_with_origin(stpg.graph, v, stpg.terminals)\n",
    "\n",
    "r, test = is_steiner_tree(aa, stpg)\n",
    "\n",
    "(r, test)"
   ]
  },
  {
   "cell_type": "code",
   "execution_count": 7,
   "metadata": {},
   "outputs": [
    {
     "output_type": "stream",
     "name": "stdout",
     "text": [
      "Wall time: 11.4 s\n"
     ]
    }
   ],
   "source": [
    "%%time\n",
    "\n",
    "data = list()\n",
    "\n",
    "for _ in range(200):\n",
    "    v = vertices.pop()\n",
    "    aa, aa_cost = prunning_mst(stpg.graph, v, stpg.terminals)\n",
    "    is_aa_st, _ = is_steiner_tree(aa, stpg)\n",
    "    \n",
    "    u = vertices.pop()\n",
    "    bb, bb_cost = prunning_mst(stpg.graph, u, stpg.terminals)\n",
    "    is_bb_st, _ = is_steiner_tree(bb, stpg)\n",
    "    \n",
    "    child = crossover(aa, bb)\n",
    "    cc_cost, _  = evaluator(child)\n",
    "    is_cc_st, _ = is_steiner_tree(child, stpg)\n",
    "    \n",
    "    data.append([v, u, is_aa_st, is_bb_st, is_cc_st, aa_cost, bb_cost, cc_cost])"
   ]
  },
  {
   "cell_type": "code",
   "execution_count": 8,
   "metadata": {},
   "outputs": [],
   "source": [
    "columns_name = ['start_a', \n",
    "                'start_b', \n",
    "                'is_aa_st', \n",
    "                'is_bb_st', \n",
    "                'is_cc_st' ,\n",
    "                'a_cost', \n",
    "                'b_cost', \n",
    "                'c_cost']\n",
    "                \n",
    "frame = pd.DataFrame(data, columns=columns_name)"
   ]
  },
  {
   "cell_type": "code",
   "execution_count": 9,
   "metadata": {},
   "outputs": [],
   "source": [
    "frame['less_both'] = (frame['c_cost'] < frame['a_cost']) & (frame['c_cost'] < frame['b_cost'])"
   ]
  },
  {
   "cell_type": "code",
   "execution_count": 10,
   "metadata": {},
   "outputs": [],
   "source": [
    "frame['less_equal_both'] = (frame['c_cost'] <= frame['a_cost']) & (frame['c_cost'] <= frame['b_cost'])"
   ]
  },
  {
   "cell_type": "code",
   "execution_count": 11,
   "metadata": {},
   "outputs": [],
   "source": [
    "frame['less_a'] = (frame['c_cost'] <= frame['a_cost'])"
   ]
  },
  {
   "cell_type": "code",
   "execution_count": 12,
   "metadata": {},
   "outputs": [],
   "source": [
    "frame['less_b'] = (frame['c_cost'] <= frame['b_cost'])"
   ]
  },
  {
   "cell_type": "code",
   "execution_count": 13,
   "metadata": {},
   "outputs": [
    {
     "output_type": "execute_result",
     "data": {
      "text/plain": [
       "   start_a  start_b  is_aa_st  is_bb_st  is_cc_st  a_cost  b_cost  c_cost  \\\n",
       "0      257      175      True      True      True    1637    1638    1639   \n",
       "1      427      110      True      True      True    1637    1637    1637   \n",
       "2      362      391      True      True      True    1636    1638    1634   \n",
       "3      325      442      True      True      True    1638    1638    1634   \n",
       "4      244      206      True      True      True    1634    1636    1634   \n",
       "\n",
       "   less_both  less_equal_both  less_a  less_b  \n",
       "0      False            False   False   False  \n",
       "1      False             True    True    True  \n",
       "2       True             True    True    True  \n",
       "3       True             True    True    True  \n",
       "4      False             True    True    True  "
      ],
      "text/html": "<div>\n<style scoped>\n    .dataframe tbody tr th:only-of-type {\n        vertical-align: middle;\n    }\n\n    .dataframe tbody tr th {\n        vertical-align: top;\n    }\n\n    .dataframe thead th {\n        text-align: right;\n    }\n</style>\n<table border=\"1\" class=\"dataframe\">\n  <thead>\n    <tr style=\"text-align: right;\">\n      <th></th>\n      <th>start_a</th>\n      <th>start_b</th>\n      <th>is_aa_st</th>\n      <th>is_bb_st</th>\n      <th>is_cc_st</th>\n      <th>a_cost</th>\n      <th>b_cost</th>\n      <th>c_cost</th>\n      <th>less_both</th>\n      <th>less_equal_both</th>\n      <th>less_a</th>\n      <th>less_b</th>\n    </tr>\n  </thead>\n  <tbody>\n    <tr>\n      <th>0</th>\n      <td>257</td>\n      <td>175</td>\n      <td>True</td>\n      <td>True</td>\n      <td>True</td>\n      <td>1637</td>\n      <td>1638</td>\n      <td>1639</td>\n      <td>False</td>\n      <td>False</td>\n      <td>False</td>\n      <td>False</td>\n    </tr>\n    <tr>\n      <th>1</th>\n      <td>427</td>\n      <td>110</td>\n      <td>True</td>\n      <td>True</td>\n      <td>True</td>\n      <td>1637</td>\n      <td>1637</td>\n      <td>1637</td>\n      <td>False</td>\n      <td>True</td>\n      <td>True</td>\n      <td>True</td>\n    </tr>\n    <tr>\n      <th>2</th>\n      <td>362</td>\n      <td>391</td>\n      <td>True</td>\n      <td>True</td>\n      <td>True</td>\n      <td>1636</td>\n      <td>1638</td>\n      <td>1634</td>\n      <td>True</td>\n      <td>True</td>\n      <td>True</td>\n      <td>True</td>\n    </tr>\n    <tr>\n      <th>3</th>\n      <td>325</td>\n      <td>442</td>\n      <td>True</td>\n      <td>True</td>\n      <td>True</td>\n      <td>1638</td>\n      <td>1638</td>\n      <td>1634</td>\n      <td>True</td>\n      <td>True</td>\n      <td>True</td>\n      <td>True</td>\n    </tr>\n    <tr>\n      <th>4</th>\n      <td>244</td>\n      <td>206</td>\n      <td>True</td>\n      <td>True</td>\n      <td>True</td>\n      <td>1634</td>\n      <td>1636</td>\n      <td>1634</td>\n      <td>False</td>\n      <td>True</td>\n      <td>True</td>\n      <td>True</td>\n    </tr>\n  </tbody>\n</table>\n</div>"
     },
     "metadata": {},
     "execution_count": 13
    }
   ],
   "source": [
    "frame.head()"
   ]
  },
  {
   "cell_type": "code",
   "execution_count": 14,
   "metadata": {},
   "outputs": [
    {
     "output_type": "execute_result",
     "data": {
      "text/plain": [
       "       is_aa_st is_bb_st is_cc_st\n",
       "count       200      200      200\n",
       "unique        1        1        1\n",
       "top        True     True     True\n",
       "freq        200      200      200"
      ],
      "text/html": "<div>\n<style scoped>\n    .dataframe tbody tr th:only-of-type {\n        vertical-align: middle;\n    }\n\n    .dataframe tbody tr th {\n        vertical-align: top;\n    }\n\n    .dataframe thead th {\n        text-align: right;\n    }\n</style>\n<table border=\"1\" class=\"dataframe\">\n  <thead>\n    <tr style=\"text-align: right;\">\n      <th></th>\n      <th>is_aa_st</th>\n      <th>is_bb_st</th>\n      <th>is_cc_st</th>\n    </tr>\n  </thead>\n  <tbody>\n    <tr>\n      <th>count</th>\n      <td>200</td>\n      <td>200</td>\n      <td>200</td>\n    </tr>\n    <tr>\n      <th>unique</th>\n      <td>1</td>\n      <td>1</td>\n      <td>1</td>\n    </tr>\n    <tr>\n      <th>top</th>\n      <td>True</td>\n      <td>True</td>\n      <td>True</td>\n    </tr>\n    <tr>\n      <th>freq</th>\n      <td>200</td>\n      <td>200</td>\n      <td>200</td>\n    </tr>\n  </tbody>\n</table>\n</div>"
     },
     "metadata": {},
     "execution_count": 14
    }
   ],
   "source": [
    "frame[['is_aa_st', 'is_bb_st', 'is_cc_st']].describe()"
   ]
  },
  {
   "cell_type": "code",
   "execution_count": 15,
   "metadata": {},
   "outputs": [
    {
     "output_type": "execute_result",
     "data": {
      "text/plain": [
       "a_cost    1630\n",
       "b_cost    1630\n",
       "c_cost    1630\n",
       "dtype: int64"
      ]
     },
     "metadata": {},
     "execution_count": 15
    }
   ],
   "source": [
    "frame[['a_cost', 'b_cost','c_cost']].min()"
   ]
  },
  {
   "cell_type": "code",
   "execution_count": 16,
   "metadata": {},
   "outputs": [
    {
     "output_type": "execute_result",
     "data": {
      "text/plain": [
       "a_cost    1647\n",
       "b_cost    1648\n",
       "c_cost    1640\n",
       "dtype: int64"
      ]
     },
     "metadata": {},
     "execution_count": 16
    }
   ],
   "source": [
    "frame[['a_cost', 'b_cost','c_cost']].max()"
   ]
  },
  {
   "cell_type": "code",
   "execution_count": 17,
   "metadata": {},
   "outputs": [
    {
     "output_type": "execute_result",
     "data": {
      "text/plain": [
       "       less_both less_a less_b less_equal_both\n",
       "count        200    200    200             200\n",
       "unique         2      2      2               2\n",
       "top        False   True   True            True\n",
       "freq         177    152    151             106"
      ],
      "text/html": "<div>\n<style scoped>\n    .dataframe tbody tr th:only-of-type {\n        vertical-align: middle;\n    }\n\n    .dataframe tbody tr th {\n        vertical-align: top;\n    }\n\n    .dataframe thead th {\n        text-align: right;\n    }\n</style>\n<table border=\"1\" class=\"dataframe\">\n  <thead>\n    <tr style=\"text-align: right;\">\n      <th></th>\n      <th>less_both</th>\n      <th>less_a</th>\n      <th>less_b</th>\n      <th>less_equal_both</th>\n    </tr>\n  </thead>\n  <tbody>\n    <tr>\n      <th>count</th>\n      <td>200</td>\n      <td>200</td>\n      <td>200</td>\n      <td>200</td>\n    </tr>\n    <tr>\n      <th>unique</th>\n      <td>2</td>\n      <td>2</td>\n      <td>2</td>\n      <td>2</td>\n    </tr>\n    <tr>\n      <th>top</th>\n      <td>False</td>\n      <td>True</td>\n      <td>True</td>\n      <td>True</td>\n    </tr>\n    <tr>\n      <th>freq</th>\n      <td>177</td>\n      <td>152</td>\n      <td>151</td>\n      <td>106</td>\n    </tr>\n  </tbody>\n</table>\n</div>"
     },
     "metadata": {},
     "execution_count": 17
    }
   ],
   "source": [
    "frame[['less_both', 'less_a', 'less_b', 'less_equal_both']].describe()"
   ]
  }
 ],
 "metadata": {
  "kernelspec": {
   "display_name": "Python 3",
   "language": "python",
   "name": "python3"
  },
  "language_info": {
   "codemirror_mode": {
    "name": "ipython",
    "version": 3
   },
   "file_extension": ".py",
   "mimetype": "text/x-python",
   "name": "python",
   "nbconvert_exporter": "python",
   "pygments_lexer": "ipython3",
   "version": "3.7.9-final"
  }
 },
 "nbformat": 4,
 "nbformat_minor": 4
}