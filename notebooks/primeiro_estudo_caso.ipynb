{
 "metadata": {
  "language_info": {
   "codemirror_mode": {
    "name": "ipython",
    "version": 3
   },
   "file_extension": ".py",
   "mimetype": "text/x-python",
   "name": "python",
   "nbconvert_exporter": "python",
   "pygments_lexer": "ipython3",
   "version": "3.8.3-final"
  },
  "orig_nbformat": 2,
  "kernelspec": {
   "name": "Python 3.8.3 64-bit ('lab-evol': conda)",
   "display_name": "Python 3.8.3 64-bit ('lab-evol': conda)",
   "metadata": {
    "interpreter": {
     "hash": "b53a7b05b7ca104993581363e77224c0801d237ad8de988b2646600cd19c82e5"
    }
   }
  }
 },
 "nbformat": 4,
 "nbformat_minor": 2,
 "cells": [
  {
   "cell_type": "code",
   "execution_count": 23,
   "metadata": {},
   "outputs": [],
   "source": [
    "import sys; sys.path.append('..')\n",
    "from os import path\n",
    "from random import choice, shuffle\n",
    "\n",
    "from graph import Graph, ReaderORLibrary\n",
    "from graph.steiner import (prunning_mst, shortest_path,\n",
    "                            shortest_path_origin_prim,\n",
    "                            prunning_kruskal_mst,\n",
    "                            shortest_path_with_origin)\n",
    "\n",
    "from graph.algorithms import kruskal, prim\n",
    "from graph.util import compose, check_cycle_dfs, list_degree\n",
    "from graph.util import is_steiner_tree, has_cycle\n",
    "from graph.util import gg_total_weight, how_many_components"
   ]
  },
  {
   "cell_type": "code",
   "execution_count": 24,
   "metadata": {},
   "outputs": [],
   "source": [
    "from statistics import mean, stdev\n"
   ]
  },
  {
   "cell_type": "code",
   "execution_count": 25,
   "metadata": {},
   "outputs": [],
   "source": [
    "# input\n",
    "dataset_file = 'steinc5.txt'\n",
    "\n",
    "# output\n",
    "csv_output = 'resultado.csv'"
   ]
  },
  {
   "cell_type": "code",
   "execution_count": 26,
   "metadata": {},
   "outputs": [],
   "source": [
    "file = path.join('..', 'datasets','ORLibrary', dataset_file)\n",
    "\n",
    "assert path.exists(file)\n",
    "\n",
    "reader = ReaderORLibrary()\n",
    "\n",
    "stpg = reader.parser(file)"
   ]
  },
  {
   "cell_type": "code",
   "execution_count": 27,
   "metadata": {},
   "outputs": [
    {
     "output_type": "execute_result",
     "data": {
      "text/plain": [
       "250"
      ]
     },
     "metadata": {},
     "execution_count": 27
    }
   ],
   "source": [
    "terminals = list(stpg.terminals)\n",
    "shuffle(terminals)\n",
    "len(terminals)"
   ]
  },
  {
   "cell_type": "code",
   "execution_count": 28,
   "metadata": {},
   "outputs": [
    {
     "output_type": "stream",
     "name": "stdout",
     "text": [
      "Wall time: 1.3 s\n"
     ]
    }
   ],
   "source": [
    "%%time\n",
    "\n",
    "population = list()\n",
    "costs = list()\n",
    "\n",
    "for _ in range(200):\n",
    "    v = terminals.pop()\n",
    "    st, cost = prunning_mst(stpg.graph, v, stpg.terminals)\n",
    "    population.append(st)\n",
    "    costs.append(cost)"
   ]
  },
  {
   "cell_type": "code",
   "execution_count": 29,
   "metadata": {},
   "outputs": [
    {
     "output_type": "execute_result",
     "data": {
      "text/plain": [
       "1636.63"
      ]
     },
     "metadata": {},
     "execution_count": 29
    }
   ],
   "source": [
    "sum(costs) / len(costs)"
   ]
  },
  {
   "cell_type": "code",
   "execution_count": 30,
   "metadata": {},
   "outputs": [
    {
     "output_type": "execute_result",
     "data": {
      "text/plain": [
       "200"
      ]
     },
     "metadata": {},
     "execution_count": 30
    }
   ],
   "source": [
    "len(population)"
   ]
  },
  {
   "cell_type": "code",
   "execution_count": 31,
   "metadata": {},
   "outputs": [
    {
     "output_type": "stream",
     "name": "stdout",
     "text": [
      "Wall time: 357 ms\n"
     ]
    }
   ],
   "source": [
    "%%time \n",
    "\n",
    "qtd_components = list()\n",
    "nro_mate = 1\n",
    "\n",
    "data = list()\n",
    "info_cycle = list()\n",
    "info_nro_components = list()\n",
    "\n",
    "for aa, bb in zip(population[::2], population[1::2]):\n",
    "    g_union, g_common, g_star = compose(aa, bb)\n",
    "    nro_components = how_many_components(g_star)\n",
    "\n",
    "    vertices = set(g_star.vertices)\n",
    "    nro_components_2 = 0\n",
    "    record = list()\n",
    "\n",
    "    while vertices:\n",
    "        start = vertices.pop()\n",
    "\n",
    "        has_cycle, vv = check_cycle_dfs(g_star, start)\n",
    "        nro_vertice_component = len(vv)\n",
    "        degree_component = [g_star.degree(v) for v in vv]\n",
    "        \n",
    "        record.append([nro_mate, has_cycle, nro_vertice_component, degree_component])\n",
    "        info_cycle.append(has_cycle)\n",
    "\n",
    "        nro_components_2 += 1\n",
    "        vertices = vertices - vv\n",
    "    ####\n",
    "    data.append(record)\n",
    "    info_nro_components.append(nro_components)\n",
    "\n",
    "    nro_mate += 1"
   ]
  },
  {
   "cell_type": "code",
   "execution_count": 32,
   "metadata": {},
   "outputs": [
    {
     "output_type": "execute_result",
     "data": {
      "text/plain": [
       "False"
      ]
     },
     "metadata": {},
     "execution_count": 32
    }
   ],
   "source": [
    "any(info_cycle)"
   ]
  },
  {
   "cell_type": "code",
   "execution_count": 33,
   "metadata": {},
   "outputs": [
    {
     "output_type": "execute_result",
     "data": {
      "text/plain": [
       "(7.74, 3.9813200186507354)"
      ]
     },
     "metadata": {},
     "execution_count": 33
    }
   ],
   "source": [
    "mean(info_nro_components), stdev(info_nro_components)"
   ]
  },
  {
   "cell_type": "code",
   "execution_count": 34,
   "metadata": {},
   "outputs": [
    {
     "output_type": "stream",
     "name": "stdout",
     "text": [
      "Wall time: 411 ms\n"
     ]
    }
   ],
   "source": [
    "%%time \n",
    "\n",
    "qtd_components = list()\n",
    "nro_mate = 1\n",
    "\n",
    "data = list()\n",
    "\n",
    "for aa, bb in zip(population[::2], population[1::2]):\n",
    "    g_union, g_common, g_star = compose(aa, bb)\n",
    "    nro_components = how_many_components(g_star)\n",
    "    \n",
    "    nro_mate += 1"
   ]
  },
  {
   "cell_type": "code",
   "execution_count": null,
   "metadata": {},
   "outputs": [],
   "source": []
  }
 ]
}