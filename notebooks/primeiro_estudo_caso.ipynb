{
 "metadata": {
  "language_info": {
   "codemirror_mode": {
    "name": "ipython",
    "version": 3
   },
   "file_extension": ".py",
   "mimetype": "text/x-python",
   "name": "python",
   "nbconvert_exporter": "python",
   "pygments_lexer": "ipython3",
   "version": "3.8.3-final"
  },
  "orig_nbformat": 2,
  "kernelspec": {
   "name": "Python 3.8.3 64-bit ('lab-evol': conda)",
   "display_name": "Python 3.8.3 64-bit ('lab-evol': conda)",
   "metadata": {
    "interpreter": {
     "hash": "b53a7b05b7ca104993581363e77224c0801d237ad8de988b2646600cd19c82e5"
    }
   }
  }
 },
 "nbformat": 4,
 "nbformat_minor": 2,
 "cells": [
  {
   "cell_type": "code",
   "execution_count": 21,
   "metadata": {},
   "outputs": [],
   "source": [
    "import sys; sys.path.append('..')\n",
    "from os import path\n",
    "from random import choice, shuffle\n",
    "\n",
    "from graph import Graph, ReaderORLibrary\n",
    "from graph.steiner import (prunning_mst, shortest_path,\n",
    "                            shortest_path_origin_prim,\n",
    "                            prunning_kruskal_mst,\n",
    "                            shortest_path_with_origin)\n",
    "\n",
    "from graph.algorithms import kruskal, prim\n",
    "from graph.util import compose, list_degree\n",
    "from graph.util import is_steiner_tree, has_cycle\n",
    "from graph.util import gg_total_weight, how_many_components"
   ]
  },
  {
   "cell_type": "code",
   "execution_count": 22,
   "metadata": {},
   "outputs": [],
   "source": [
    "# input\n",
    "dataset_file = 'steinc5.txt'\n",
    "\n",
    "# output\n",
    "csv_output = 'resultado.csv'\n",
    "graphs_output = 'grafos.pickle'"
   ]
  },
  {
   "cell_type": "code",
   "execution_count": 23,
   "metadata": {},
   "outputs": [],
   "source": [
    "file = path.join('..', 'datasets','ORLibrary', dataset_file)\n",
    "\n",
    "assert path.exists(file)\n",
    "\n",
    "reader = ReaderORLibrary()\n",
    "\n",
    "stpg = reader.parser(file)"
   ]
  },
  {
   "cell_type": "code",
   "execution_count": 24,
   "metadata": {},
   "outputs": [
    {
     "output_type": "execute_result",
     "data": {
      "text/plain": [
       "250"
      ]
     },
     "metadata": {},
     "execution_count": 24
    }
   ],
   "source": [
    "terminals = list(stpg.terminals)\n",
    "\n",
    "shuffle(terminals)\n",
    "\n",
    "len(terminals)"
   ]
  },
  {
   "cell_type": "code",
   "execution_count": 25,
   "metadata": {},
   "outputs": [
    {
     "output_type": "stream",
     "name": "stdout",
     "text": [
      "Wall time: 1.3 s\n"
     ]
    }
   ],
   "source": [
    "%%time\n",
    "\n",
    "population = list()\n",
    "costs = list()\n",
    "\n",
    "for _ in range(200):\n",
    "    v = terminals.pop()\n",
    "    st, cost = prunning_mst(stpg.graph, v, stpg.terminals)\n",
    "\n",
    "    population.append(st)\n",
    "    costs.append(cost)"
   ]
  },
  {
   "cell_type": "code",
   "execution_count": 26,
   "metadata": {},
   "outputs": [
    {
     "output_type": "execute_result",
     "data": {
      "text/plain": [
       "1636.51"
      ]
     },
     "metadata": {},
     "execution_count": 26
    }
   ],
   "source": [
    "sum(costs) / len(costs)"
   ]
  },
  {
   "cell_type": "code",
   "execution_count": 27,
   "metadata": {},
   "outputs": [
    {
     "output_type": "execute_result",
     "data": {
      "text/plain": [
       "200"
      ]
     },
     "metadata": {},
     "execution_count": 27
    }
   ],
   "source": [
    "len(population)"
   ]
  },
  {
   "cell_type": "code",
   "execution_count": 28,
   "metadata": {},
   "outputs": [
    {
     "output_type": "stream",
     "name": "stdout",
     "text": [
      "Wall time: 405 ms\n"
     ]
    }
   ],
   "source": [
    "%%time \n",
    "\n",
    "data = list()\n",
    "\n",
    "for aa, bb in zip(population[::2], population[1::2]):\n",
    "    g_union, g_common, g_star = compose(aa, bb)\n",
    "\n",
    "    _qtd = how_many_components(g_star)\n",
    "    data.append(_qtd)"
   ]
  },
  {
   "cell_type": "code",
   "execution_count": 33,
   "metadata": {},
   "outputs": [],
   "source": [
    "from statistics import mean, stdev"
   ]
  },
  {
   "cell_type": "code",
   "execution_count": 34,
   "metadata": {},
   "outputs": [
    {
     "output_type": "execute_result",
     "data": {
      "text/plain": [
       "(7.13, 3.7916841491438453)"
      ]
     },
     "metadata": {},
     "execution_count": 34
    }
   ],
   "source": [
    "mean(data), stdev(data)"
   ]
  },
  {
   "cell_type": "code",
   "execution_count": null,
   "metadata": {},
   "outputs": [],
   "source": []
  }
 ]
}