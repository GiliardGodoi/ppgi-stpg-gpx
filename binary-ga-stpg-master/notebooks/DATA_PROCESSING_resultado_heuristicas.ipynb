{
 "cells": [
  {
   "cell_type": "code",
   "execution_count": 1,
   "metadata": {},
   "outputs": [],
   "source": [
    "# CONFIGURAÇÕES INICIAIS DO NOTEBOOK\n",
    "import os\n",
    "import re\n",
    "\n",
    "# Importando bibliotecas para análise de dados\n",
    "import pandas as pd\n",
    "\n",
    "from myutil import instance_problems_filenames"
   ]
  },
  {
   "cell_type": "code",
   "execution_count": 2,
   "metadata": {},
   "outputs": [
    {
     "data": {
      "text/plain": [
       "True"
      ]
     },
     "execution_count": 2,
     "metadata": {},
     "output_type": "execute_result"
    }
   ],
   "source": [
    "# Diretório contendo os dados gerados pela execução da simulação\n",
    "DATA_FOLDER = os.path.join(\"..\", \"outputdata\", \"heuristics\")\n",
    "\n",
    "os.path.exists(DATA_FOLDER)"
   ]
  },
  {
   "cell_type": "code",
   "execution_count": 3,
   "metadata": {},
   "outputs": [
    {
     "data": {
      "text/html": [
       "<div>\n",
       "<style scoped>\n",
       "    .dataframe tbody tr th:only-of-type {\n",
       "        vertical-align: middle;\n",
       "    }\n",
       "\n",
       "    .dataframe tbody tr th {\n",
       "        vertical-align: top;\n",
       "    }\n",
       "\n",
       "    .dataframe thead th {\n",
       "        text-align: right;\n",
       "    }\n",
       "</style>\n",
       "<table border=\"1\" class=\"dataframe\">\n",
       "  <thead>\n",
       "    <tr style=\"text-align: right;\">\n",
       "      <th></th>\n",
       "      <th>Vertices</th>\n",
       "      <th>Edges</th>\n",
       "      <th>Terminals</th>\n",
       "      <th>Global Optimum</th>\n",
       "    </tr>\n",
       "    <tr>\n",
       "      <th>Problem</th>\n",
       "      <th></th>\n",
       "      <th></th>\n",
       "      <th></th>\n",
       "      <th></th>\n",
       "    </tr>\n",
       "  </thead>\n",
       "  <tbody>\n",
       "    <tr>\n",
       "      <th>B1</th>\n",
       "      <td>50</td>\n",
       "      <td>63</td>\n",
       "      <td>9</td>\n",
       "      <td>82</td>\n",
       "    </tr>\n",
       "    <tr>\n",
       "      <th>B2</th>\n",
       "      <td>50</td>\n",
       "      <td>63</td>\n",
       "      <td>13</td>\n",
       "      <td>83</td>\n",
       "    </tr>\n",
       "    <tr>\n",
       "      <th>B3</th>\n",
       "      <td>50</td>\n",
       "      <td>63</td>\n",
       "      <td>25</td>\n",
       "      <td>138</td>\n",
       "    </tr>\n",
       "    <tr>\n",
       "      <th>B4</th>\n",
       "      <td>50</td>\n",
       "      <td>100</td>\n",
       "      <td>9</td>\n",
       "      <td>59</td>\n",
       "    </tr>\n",
       "    <tr>\n",
       "      <th>B5</th>\n",
       "      <td>50</td>\n",
       "      <td>100</td>\n",
       "      <td>13</td>\n",
       "      <td>61</td>\n",
       "    </tr>\n",
       "  </tbody>\n",
       "</table>\n",
       "</div>"
      ],
      "text/plain": [
       "         Vertices  Edges  Terminals  Global Optimum\n",
       "Problem                                            \n",
       "B1             50     63          9              82\n",
       "B2             50     63         13              83\n",
       "B3             50     63         25             138\n",
       "B4             50    100          9              59\n",
       "B5             50    100         13              61"
      ]
     },
     "execution_count": 3,
     "metadata": {},
     "output_type": "execute_result"
    }
   ],
   "source": [
    "dfInstanceProblems = pd.read_csv(os.path.join(DATA_FOLDER,\"instance_problem.csv\"))\n",
    "\n",
    "dfInstanceProblems.set_index(\"Problem\", inplace=True)\n",
    "\n",
    "dfInstanceProblems.head()"
   ]
  },
  {
   "cell_type": "code",
   "execution_count": 4,
   "metadata": {},
   "outputs": [
    {
     "data": {
      "text/plain": [
       "18"
      ]
     },
     "execution_count": 4,
     "metadata": {},
     "output_type": "execute_result"
    }
   ],
   "source": [
    "len(dfInstanceProblems.index)"
   ]
  },
  {
   "cell_type": "code",
   "execution_count": 5,
   "metadata": {},
   "outputs": [
    {
     "data": {
      "text/plain": [
       "86"
      ]
     },
     "execution_count": 5,
     "metadata": {},
     "output_type": "execute_result"
    }
   ],
   "source": [
    "dfInstanceProblems.loc[\"B10\",\"Global Optimum\"]"
   ]
  },
  {
   "cell_type": "markdown",
   "metadata": {},
   "source": [
    "## Leitura dos dados das simulações\n",
    "\n",
    "Os arquivos se encontram no diretório descrito pela variável DATA_FOLDER.\n",
    "\n",
    "A nomeação dos arquivos segue o seguinte padrão:\n",
    "\n",
    "    [SIGLA_HEURISTICA]_[NOME_INSTÂNCIA_PROBLEMA].CSV\n",
    "    \n",
    "As siglas para heurística são:\n",
    "\n",
    "    - PMH - Prunning MST Heuristic\n",
    "    - SPH - Shortest Path Heuristic\n",
    "    - SPHPrim - Shortest Path Heuristic with Prim\n",
    "    - SPHO - Shortest Path Heuristic with Origin\n",
    "\n",
    "Os nomes dos arquivos para cada instância do problema são aqueles descritos na OR-Library. \n",
    "A geração desses nomes é facilitada pela função [instance_problems_filenames] no módulo [myutil.py] desse diretório [notebooks]."
   ]
  },
  {
   "cell_type": "code",
   "execution_count": 6,
   "metadata": {},
   "outputs": [],
   "source": [
    "def read_heuristic_data():\n",
    "    regex = re.compile(\"stein(\\w\\d+).csv\")\n",
    "\n",
    "    HEURISTICAS = [\"PMH\", \"SPH\", \"SPHPrim\", \"SPHO\"]\n",
    "\n",
    "    data_picies = list()\n",
    "    for heuristica in HEURISTICAS:\n",
    "        for dataset in instance_problems_filenames(\"b\", file_extension=\"csv\"):\n",
    "            \n",
    "            filename = os.path.join(DATA_FOLDER,f'{heuristica}_{dataset}')\n",
    "            instance_problem = regex.findall(dataset)[0].upper()\n",
    "\n",
    "            df = pd.read_csv(filename)\n",
    "            df['Problem'] = instance_problem\n",
    "            data_picies.append(df)\n",
    "        \n",
    "    return pd.concat(data_picies, ignore_index=True)"
   ]
  },
  {
   "cell_type": "code",
   "execution_count": 7,
   "metadata": {},
   "outputs": [
    {
     "name": "stdout",
     "output_type": "stream",
     "text": [
      "Wall time: 925 ms\n"
     ]
    }
   ],
   "source": [
    "%%time\n",
    "df_data = read_heuristic_data()"
   ]
  },
  {
   "cell_type": "code",
   "execution_count": 8,
   "metadata": {},
   "outputs": [],
   "source": [
    "df_data = df_data.merge(dfInstanceProblems[\"Global Optimum\"], right_index=True, left_on=\"Problem\")\\\n",
    "       .sort_values(by=[\"Heuristic\",\"Problem\", \"Node\"])\\\n",
    "       .reindex(['Heuristic', 'Problem', 'Node', 'Is terminal', 'Cost', 'Global Optimum'],\n",
    "                axis='columns')"
   ]
  },
  {
   "cell_type": "code",
   "execution_count": 9,
   "metadata": {},
   "outputs": [],
   "source": [
    "df_data[\"Success\"] = df_data[\"Cost\"] == df_data[\"Global Optimum\"]"
   ]
  },
  {
   "cell_type": "code",
   "execution_count": 10,
   "metadata": {},
   "outputs": [
    {
     "data": {
      "text/html": [
       "<div>\n",
       "<style scoped>\n",
       "    .dataframe tbody tr th:only-of-type {\n",
       "        vertical-align: middle;\n",
       "    }\n",
       "\n",
       "    .dataframe tbody tr th {\n",
       "        vertical-align: top;\n",
       "    }\n",
       "\n",
       "    .dataframe thead th {\n",
       "        text-align: right;\n",
       "    }\n",
       "</style>\n",
       "<table border=\"1\" class=\"dataframe\">\n",
       "  <thead>\n",
       "    <tr style=\"text-align: right;\">\n",
       "      <th></th>\n",
       "      <th>Heuristic</th>\n",
       "      <th>Problem</th>\n",
       "      <th>Node</th>\n",
       "      <th>Is terminal</th>\n",
       "      <th>Cost</th>\n",
       "      <th>Global Optimum</th>\n",
       "      <th>Success</th>\n",
       "    </tr>\n",
       "  </thead>\n",
       "  <tbody>\n",
       "    <tr>\n",
       "      <th>42</th>\n",
       "      <td>PMH</td>\n",
       "      <td>B1</td>\n",
       "      <td>1</td>\n",
       "      <td>False</td>\n",
       "      <td>88</td>\n",
       "      <td>82</td>\n",
       "      <td>False</td>\n",
       "    </tr>\n",
       "    <tr>\n",
       "      <th>0</th>\n",
       "      <td>PMH</td>\n",
       "      <td>B1</td>\n",
       "      <td>2</td>\n",
       "      <td>False</td>\n",
       "      <td>89</td>\n",
       "      <td>82</td>\n",
       "      <td>False</td>\n",
       "    </tr>\n",
       "    <tr>\n",
       "      <th>9</th>\n",
       "      <td>PMH</td>\n",
       "      <td>B1</td>\n",
       "      <td>3</td>\n",
       "      <td>False</td>\n",
       "      <td>99</td>\n",
       "      <td>82</td>\n",
       "      <td>False</td>\n",
       "    </tr>\n",
       "    <tr>\n",
       "      <th>4</th>\n",
       "      <td>PMH</td>\n",
       "      <td>B1</td>\n",
       "      <td>4</td>\n",
       "      <td>False</td>\n",
       "      <td>89</td>\n",
       "      <td>82</td>\n",
       "      <td>False</td>\n",
       "    </tr>\n",
       "    <tr>\n",
       "      <th>5</th>\n",
       "      <td>PMH</td>\n",
       "      <td>B1</td>\n",
       "      <td>5</td>\n",
       "      <td>False</td>\n",
       "      <td>89</td>\n",
       "      <td>82</td>\n",
       "      <td>False</td>\n",
       "    </tr>\n",
       "  </tbody>\n",
       "</table>\n",
       "</div>"
      ],
      "text/plain": [
       "   Heuristic Problem  Node  Is terminal  Cost  Global Optimum  Success\n",
       "42       PMH      B1     1        False    88              82    False\n",
       "0        PMH      B1     2        False    89              82    False\n",
       "9        PMH      B1     3        False    99              82    False\n",
       "4        PMH      B1     4        False    89              82    False\n",
       "5        PMH      B1     5        False    89              82    False"
      ]
     },
     "execution_count": 10,
     "metadata": {},
     "output_type": "execute_result"
    }
   ],
   "source": [
    "df_data.head()"
   ]
  },
  {
   "cell_type": "code",
   "execution_count": 11,
   "metadata": {},
   "outputs": [
    {
     "data": {
      "text/plain": [
       "'..\\\\outputdata\\\\heuristics'"
      ]
     },
     "execution_count": 11,
     "metadata": {},
     "output_type": "execute_result"
    }
   ],
   "source": [
    "DATA_FOLDER"
   ]
  },
  {
   "cell_type": "code",
   "execution_count": 12,
   "metadata": {},
   "outputs": [],
   "source": [
    "df_data.to_csv(os.path.join(DATA_FOLDER,'results.csv'),index=False)"
   ]
  }
 ],
 "metadata": {
  "kernelspec": {
   "display_name": "Python 3",
   "language": "python",
   "name": "python3"
  },
  "language_info": {
   "codemirror_mode": {
    "name": "ipython",
    "version": 3
   },
   "file_extension": ".py",
   "mimetype": "text/x-python",
   "name": "python",
   "nbconvert_exporter": "python",
   "pygments_lexer": "ipython3",
   "version": "3.7.4"
  }
 },
 "nbformat": 4,
 "nbformat_minor": 2
}
