{
 "cells": [
  {
   "cell_type": "code",
   "execution_count": 1,
   "metadata": {},
   "outputs": [],
   "source": [
    "# CONFIGURAÇÕES INICIAIS DO NOTEBOOK\n",
    "import os\n",
    "\n",
    "# Importando bibliotecas para análise de dados\n",
    "import pandas as pd\n",
    "import numpy as np\n",
    "\n",
    "# Bibliotecas para visualização dos dados\n",
    "from matplotlib import pyplot as plt\n",
    "import seaborn as sns"
   ]
  },
  {
   "cell_type": "code",
   "execution_count": 2,
   "metadata": {},
   "outputs": [],
   "source": [
    "file_binary = os.path.join(\"..\", \"outputdata\", \"processed\", \"gabinario_bestfit_trial1.csv\")\n",
    "file_hybridi  = os.path.join(\"..\", \"outputdata\", \"processed\", \"gahybridi_bestfit_trial1.csv\")"
   ]
  },
  {
   "cell_type": "code",
   "execution_count": 3,
   "metadata": {},
   "outputs": [],
   "source": [
    "dfbinary  = pd.read_csv(file_binary, index_col=0)\n",
    "dfhybridi = pd.read_csv(file_hybridi, index_col=0)\n",
    "\n",
    "dfbinary[\"GA\"]  = \"binary\"\n",
    "dfhybridi[\"GA\"] = \"hybridi\"\n",
    "\n",
    "dfbesfit = pd.concat([dfbinary, dfhybridi], ignore_index=True)"
   ]
  },
  {
   "cell_type": "code",
   "execution_count": 4,
   "metadata": {},
   "outputs": [
    {
     "data": {
      "text/plain": [
       "Index(['iteration', 'cost', 'fitness', 'trial', 'GA'], dtype='object')"
      ]
     },
     "execution_count": 4,
     "metadata": {},
     "output_type": "execute_result"
    }
   ],
   "source": [
    "dfbinary.columns"
   ]
  },
  {
   "cell_type": "code",
   "execution_count": 5,
   "metadata": {},
   "outputs": [
    {
     "ename": "NameError",
     "evalue": "name 'dfhybrido' is not defined",
     "output_type": "error",
     "traceback": [
      "\u001b[1;31m---------------------------------------------------------------------------\u001b[0m",
      "\u001b[1;31mNameError\u001b[0m                                 Traceback (most recent call last)",
      "\u001b[1;32m<ipython-input-5-89c33b309fc0>\u001b[0m in \u001b[0;36m<module>\u001b[1;34m\u001b[0m\n\u001b[1;32m----> 1\u001b[1;33m \u001b[0mdfhybrido\u001b[0m\u001b[1;33m.\u001b[0m\u001b[0mcolumns\u001b[0m\u001b[1;33m\u001b[0m\u001b[1;33m\u001b[0m\u001b[0m\n\u001b[0m",
      "\u001b[1;31mNameError\u001b[0m: name 'dfhybrido' is not defined"
     ]
    }
   ],
   "source": [
    "dfhybrido.columns"
   ]
  },
  {
   "cell_type": "code",
   "execution_count": null,
   "metadata": {},
   "outputs": [],
   "source": [
    "dfbesfit.sample(5)"
   ]
  },
  {
   "cell_type": "code",
   "execution_count": null,
   "metadata": {},
   "outputs": [],
   "source": [
    "dfbesfit['trial'].unique()"
   ]
  },
  {
   "cell_type": "code",
   "execution_count": null,
   "metadata": {},
   "outputs": [],
   "source": [
    "fig = plt.figure(figsize=(20, 10))\n",
    "\n",
    "g = sns.lineplot(x=\"iteration\",\n",
    "                y=\"cost\",\n",
    "                hue=\"GA\",\n",
    "                style=\"GA\",\n",
    "                markers=True,\n",
    "                data=dfbesfit)\n",
    "\n",
    "plt.title(label=f'Evolução do melhor custo para uma execução do GA - Instância do problema: B13')\n",
    "plt.ylabel(\"Custo \\ Peso da solução\")\n",
    "plt.xlabel(\"Geração\")"
   ]
  },
  {
   "cell_type": "code",
   "execution_count": null,
   "metadata": {},
   "outputs": [],
   "source": [
    "file_binary    = os.path.join(\"..\", \"outputdata\", \"processed\", \"ga_binary.csv\")\n",
    "file_hybridi   = os.path.join(\"..\", \"outputdata\", \"processed\", \"ga_hybridi.csv\")\n",
    "file_simpliest = os.path.join(\"..\", \"outputdata\", \"processed\", \"ga_simpliestcrossover.csv\")"
   ]
  },
  {
   "cell_type": "code",
   "execution_count": null,
   "metadata": {},
   "outputs": [],
   "source": [
    "opt = {\n",
    "    \"skiprows\"  : 3,\n",
    "    \"index_col\" : 0,\n",
    "    \"names\" :  [\n",
    "        \"nro_nodes\",\n",
    "        \"nro_edges\",\n",
    "        \"nro_terminals\",\n",
    "        \"global_optimum\",\n",
    "        \"bestcost_mean\",\n",
    "        \"bestcost_std\",\n",
    "        \"iteration_mean\",\n",
    "        \"iteration_std\",\n",
    "        \"runtime_mean\",\n",
    "        \"runtime_std\",\n",
    "    ]\n",
    "    \n",
    "}\n",
    "\n",
    "df_binary    = pd.read_csv(file_binary,    **opt)\n",
    "df_hybridi     = pd.read_csv(file_hybridi,   **opt)\n",
    "df_simpliest = pd.read_csv(file_simpliest, **opt)"
   ]
  },
  {
   "cell_type": "code",
   "execution_count": null,
   "metadata": {},
   "outputs": [],
   "source": [
    "df_binary.columns"
   ]
  },
  {
   "cell_type": "code",
   "execution_count": null,
   "metadata": {},
   "outputs": [],
   "source": [
    "df_binary"
   ]
  },
  {
   "cell_type": "code",
   "execution_count": null,
   "metadata": {},
   "outputs": [],
   "source": [
    "columns = [\n",
    "    \"bestcost_mean\",\n",
    "    \"bestcost_std\",\n",
    "    \"iteration_mean\",\n",
    "    \"iteration_std\",\n",
    "    \"runtime_mean\",\n",
    "    \"runtime_std\"\n",
    "]\n",
    "df = pd.merge(df_hybridi[columns], df_simpliest[columns], \n",
    "              left_index  = True,\n",
    "              right_index = True,\n",
    "              suffixes = ('_hybridi', '_simpliest')\n",
    "             )"
   ]
  },
  {
   "cell_type": "code",
   "execution_count": null,
   "metadata": {},
   "outputs": [],
   "source": [
    "# rsuffix não vai atribuir o sufixo desejado\n",
    "# uma vez que não há overllaping de colunas\n",
    "# df já atribuiu um suffix para as colunas iguais\n",
    "\n",
    "df = df.join(df_binary[columns],\n",
    "             rsuffix=\"_binary\",\n",
    "             how=\"inner\"\n",
    "            )"
   ]
  },
  {
   "cell_type": "code",
   "execution_count": null,
   "metadata": {},
   "outputs": [],
   "source": [
    "len(df.columns)"
   ]
  },
  {
   "cell_type": "code",
   "execution_count": null,
   "metadata": {},
   "outputs": [],
   "source": [
    "#criar uma lista de tuples para definir um MultiIndex\n",
    "\n",
    "newnames = list()\n",
    "\n",
    "for index, name in enumerate(df.columns):\n",
    "    if index < 12:\n",
    "        x, y, z = name.split(\"_\")\n",
    "        newnames.append((z, x, y))\n",
    "    else:\n",
    "        x, y = name.split(\"_\")\n",
    "        newnames.append((\"binary\", x, y))\n",
    "\n",
    "\n",
    "# Atribuir MultiIndex        \n",
    "df.columns = pd.MultiIndex.from_tuples(newnames)"
   ]
  },
  {
   "cell_type": "code",
   "execution_count": null,
   "metadata": {},
   "outputs": [],
   "source": [
    "\n"
   ]
  },
  {
   "cell_type": "code",
   "execution_count": null,
   "metadata": {},
   "outputs": [],
   "source": [
    "df"
   ]
  },
  {
   "cell_type": "code",
   "execution_count": null,
   "metadata": {},
   "outputs": [],
   "source": [
    "df.columns"
   ]
  },
  {
   "cell_type": "code",
   "execution_count": null,
   "metadata": {},
   "outputs": [],
   "source": [
    "df.xs('bestcost', level=1, axis=1)"
   ]
  },
  {
   "cell_type": "code",
   "execution_count": null,
   "metadata": {},
   "outputs": [],
   "source": [
    "# df.to_clipboard()\n",
    "\n",
    "# só quero os valores para um subnível específico\n",
    "# df.xs('bestcost', level=1, axis=1).to_clipboard()"
   ]
  },
  {
   "cell_type": "code",
   "execution_count": null,
   "metadata": {},
   "outputs": [],
   "source": []
  },
  {
   "cell_type": "code",
   "execution_count": null,
   "metadata": {},
   "outputs": [],
   "source": []
  },
  {
   "cell_type": "code",
   "execution_count": null,
   "metadata": {},
   "outputs": [],
   "source": []
  }
 ],
 "metadata": {
  "kernelspec": {
   "display_name": "Python 3.8.2 64-bit ('ppgisteiner': conda)",
   "language": "python",
   "name": "python38264bitppgisteinerconda7461375648ff4cabb4e0c0e4657acb3d"
  },
  "language_info": {
   "codemirror_mode": {
    "name": "ipython",
    "version": 3
   },
   "file_extension": ".py",
   "mimetype": "text/x-python",
   "name": "python",
   "nbconvert_exporter": "python",
   "pygments_lexer": "ipython3",
   "version": "3.8.2"
  }
 },
 "nbformat": 4,
 "nbformat_minor": 4
}
