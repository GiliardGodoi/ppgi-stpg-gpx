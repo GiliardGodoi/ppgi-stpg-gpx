{
 "cells": [
  {
   "cell_type": "code",
   "execution_count": 1,
   "metadata": {},
   "outputs": [],
   "source": [
    "import os\n",
    "import pandas as pd\n",
    "\n",
    "# Bibliotecas para visualização dos dados\n",
    "from matplotlib import pyplot as plt\n",
    "import seaborn as sns"
   ]
  },
  {
   "cell_type": "code",
   "execution_count": 2,
   "metadata": {},
   "outputs": [],
   "source": [
    "from myutil import read_simulation, read_simulation_dataset"
   ]
  },
  {
   "cell_type": "code",
   "execution_count": 3,
   "metadata": {},
   "outputs": [
    {
     "name": "stdout",
     "output_type": "stream",
     "text": [
      "Wall time: 6.8 s\n"
     ]
    }
   ],
   "source": [
    "%%time\n",
    "\n",
    "SIMULATION_FOLDER = \"20200422_simplest\"\n",
    "filetemplate = \"trial_{0}_simulation.csv\"\n",
    "\n",
    "raw_data = read_simulation(SIMULATION_FOLDER, filetemplate, mintrial=0, maxtrial=29)"
   ]
  },
  {
   "cell_type": "code",
   "execution_count": 4,
   "metadata": {},
   "outputs": [
    {
     "name": "stdout",
     "output_type": "stream",
     "text": [
      "<class 'pandas.core.frame.DataFrame'>\n",
      "RangeIndex: 180 entries, 0 to 179\n",
      "Data columns (total 16 columns):\n",
      " #   Column                Non-Null Count  Dtype  \n",
      "---  ------                --------------  -----  \n",
      " 0   nro_trial             180 non-null    int64  \n",
      " 1   instance_problem      180 non-null    object \n",
      " 2   nro_nodes             180 non-null    int64  \n",
      " 3   nro_edges             180 non-null    int64  \n",
      " 4   nro_terminals         180 non-null    int64  \n",
      " 5   tx_crossover          180 non-null    float64\n",
      " 6   tx_mutation           180 non-null    float64\n",
      " 7   global_optimum        180 non-null    int64  \n",
      " 8   best_cost             180 non-null    int64  \n",
      " 9   best_fitness          180 non-null    int64  \n",
      " 10  population_size       180 non-null    int64  \n",
      " 11  max_generation        180 non-null    int64  \n",
      " 12  iterations            180 non-null    int64  \n",
      " 13  run_time              180 non-null    float64\n",
      " 14  max_last_improvement  180 non-null    int64  \n",
      " 15  why_stopped           180 non-null    object \n",
      "dtypes: float64(3), int64(11), object(2)\n",
      "memory usage: 22.6+ KB\n"
     ]
    }
   ],
   "source": [
    "raw_data.info()"
   ]
  },
  {
   "cell_type": "code",
   "execution_count": 5,
   "metadata": {},
   "outputs": [
    {
     "data": {
      "text/plain": [
       "array(['stagnation'], dtype=object)"
      ]
     },
     "execution_count": 5,
     "metadata": {},
     "output_type": "execute_result"
    }
   ],
   "source": [
    "raw_data['why_stopped'].unique()"
   ]
  },
  {
   "cell_type": "code",
   "execution_count": 6,
   "metadata": {},
   "outputs": [
    {
     "data": {
      "text/html": [
       "<div>\n",
       "<style scoped>\n",
       "    .dataframe tbody tr th:only-of-type {\n",
       "        vertical-align: middle;\n",
       "    }\n",
       "\n",
       "    .dataframe tbody tr th {\n",
       "        vertical-align: top;\n",
       "    }\n",
       "\n",
       "    .dataframe thead th {\n",
       "        text-align: right;\n",
       "    }\n",
       "</style>\n",
       "<table border=\"1\" class=\"dataframe\">\n",
       "  <thead>\n",
       "    <tr style=\"text-align: right;\">\n",
       "      <th></th>\n",
       "      <th>nro_trial</th>\n",
       "      <th>instance_problem</th>\n",
       "      <th>nro_nodes</th>\n",
       "      <th>nro_edges</th>\n",
       "      <th>nro_terminals</th>\n",
       "      <th>tx_crossover</th>\n",
       "      <th>tx_mutation</th>\n",
       "      <th>global_optimum</th>\n",
       "      <th>best_cost</th>\n",
       "      <th>best_fitness</th>\n",
       "      <th>population_size</th>\n",
       "      <th>max_generation</th>\n",
       "      <th>iterations</th>\n",
       "      <th>run_time</th>\n",
       "      <th>max_last_improvement</th>\n",
       "      <th>why_stopped</th>\n",
       "    </tr>\n",
       "  </thead>\n",
       "  <tbody>\n",
       "  </tbody>\n",
       "</table>\n",
       "</div>"
      ],
      "text/plain": [
       "Empty DataFrame\n",
       "Columns: [nro_trial, instance_problem, nro_nodes, nro_edges, nro_terminals, tx_crossover, tx_mutation, global_optimum, best_cost, best_fitness, population_size, max_generation, iterations, run_time, max_last_improvement, why_stopped]\n",
       "Index: []"
      ]
     },
     "execution_count": 6,
     "metadata": {},
     "output_type": "execute_result"
    }
   ],
   "source": [
    "df = raw_data[raw_data[\"global_optimum\"] > raw_data[\"best_cost\"]]\n",
    "\n",
    "df"
   ]
  },
  {
   "cell_type": "code",
   "execution_count": null,
   "metadata": {},
   "outputs": [],
   "source": []
  },
  {
   "cell_type": "code",
   "execution_count": 7,
   "metadata": {},
   "outputs": [],
   "source": [
    "categorical_order = [\"B{0}\".format(i) for i in range(13,19)]"
   ]
  },
  {
   "cell_type": "code",
   "execution_count": 8,
   "metadata": {},
   "outputs": [],
   "source": [
    "selected_columns = [\"instance_problem\", \"nro_nodes\", \"nro_edges\", \"nro_terminals\", \"global_optimum\"]\n",
    "frame = raw_data[selected_columns].drop_duplicates()  \\\n",
    "                                    .set_index(\"instance_problem\") \\\n",
    "                                    .reindex(categorical_order, axis=0)"
   ]
  },
  {
   "cell_type": "code",
   "execution_count": 9,
   "metadata": {},
   "outputs": [],
   "source": [
    "basic_stats = ['mean','std']\n",
    "grouped = raw_data.groupby(\"instance_problem\")"
   ]
  },
  {
   "cell_type": "code",
   "execution_count": 10,
   "metadata": {},
   "outputs": [
    {
     "data": {
      "text/html": [
       "<div>\n",
       "<style scoped>\n",
       "    .dataframe tbody tr th:only-of-type {\n",
       "        vertical-align: middle;\n",
       "    }\n",
       "\n",
       "    .dataframe tbody tr th {\n",
       "        vertical-align: top;\n",
       "    }\n",
       "\n",
       "    .dataframe thead tr th {\n",
       "        text-align: left;\n",
       "    }\n",
       "\n",
       "    .dataframe thead tr:last-of-type th {\n",
       "        text-align: right;\n",
       "    }\n",
       "</style>\n",
       "<table border=\"1\" class=\"dataframe\">\n",
       "  <thead>\n",
       "    <tr>\n",
       "      <th></th>\n",
       "      <th colspan=\"4\" halign=\"left\">graph</th>\n",
       "      <th colspan=\"2\" halign=\"left\">best_cost</th>\n",
       "      <th colspan=\"2\" halign=\"left\">iterations</th>\n",
       "      <th colspan=\"2\" halign=\"left\">run_time</th>\n",
       "    </tr>\n",
       "    <tr>\n",
       "      <th></th>\n",
       "      <th>nro_nodes</th>\n",
       "      <th>nro_edges</th>\n",
       "      <th>nro_terminals</th>\n",
       "      <th>global_optimum</th>\n",
       "      <th>mean</th>\n",
       "      <th>std</th>\n",
       "      <th>mean</th>\n",
       "      <th>std</th>\n",
       "      <th>mean</th>\n",
       "      <th>std</th>\n",
       "    </tr>\n",
       "    <tr>\n",
       "      <th>instance_problem</th>\n",
       "      <th></th>\n",
       "      <th></th>\n",
       "      <th></th>\n",
       "      <th></th>\n",
       "      <th></th>\n",
       "      <th></th>\n",
       "      <th></th>\n",
       "      <th></th>\n",
       "      <th></th>\n",
       "      <th></th>\n",
       "    </tr>\n",
       "  </thead>\n",
       "  <tbody>\n",
       "    <tr>\n",
       "      <th>B13</th>\n",
       "      <td>100</td>\n",
       "      <td>125</td>\n",
       "      <td>17</td>\n",
       "      <td>165</td>\n",
       "      <td>512.47</td>\n",
       "      <td>12.07</td>\n",
       "      <td>501.07</td>\n",
       "      <td>0.25</td>\n",
       "      <td>127.58</td>\n",
       "      <td>14.45</td>\n",
       "    </tr>\n",
       "    <tr>\n",
       "      <th>B14</th>\n",
       "      <td>100</td>\n",
       "      <td>125</td>\n",
       "      <td>25</td>\n",
       "      <td>235</td>\n",
       "      <td>504.33</td>\n",
       "      <td>9.37</td>\n",
       "      <td>501.03</td>\n",
       "      <td>0.18</td>\n",
       "      <td>146.77</td>\n",
       "      <td>12.66</td>\n",
       "    </tr>\n",
       "    <tr>\n",
       "      <th>B15</th>\n",
       "      <td>100</td>\n",
       "      <td>125</td>\n",
       "      <td>50</td>\n",
       "      <td>318</td>\n",
       "      <td>502.90</td>\n",
       "      <td>7.32</td>\n",
       "      <td>501.00</td>\n",
       "      <td>0.00</td>\n",
       "      <td>147.34</td>\n",
       "      <td>16.41</td>\n",
       "    </tr>\n",
       "    <tr>\n",
       "      <th>B16</th>\n",
       "      <td>100</td>\n",
       "      <td>200</td>\n",
       "      <td>17</td>\n",
       "      <td>127</td>\n",
       "      <td>480.30</td>\n",
       "      <td>19.06</td>\n",
       "      <td>503.00</td>\n",
       "      <td>1.76</td>\n",
       "      <td>176.24</td>\n",
       "      <td>17.19</td>\n",
       "    </tr>\n",
       "    <tr>\n",
       "      <th>B17</th>\n",
       "      <td>100</td>\n",
       "      <td>200</td>\n",
       "      <td>25</td>\n",
       "      <td>131</td>\n",
       "      <td>448.20</td>\n",
       "      <td>14.68</td>\n",
       "      <td>502.70</td>\n",
       "      <td>2.25</td>\n",
       "      <td>187.13</td>\n",
       "      <td>22.35</td>\n",
       "    </tr>\n",
       "    <tr>\n",
       "      <th>B18</th>\n",
       "      <td>100</td>\n",
       "      <td>200</td>\n",
       "      <td>50</td>\n",
       "      <td>218</td>\n",
       "      <td>498.47</td>\n",
       "      <td>12.31</td>\n",
       "      <td>502.43</td>\n",
       "      <td>1.72</td>\n",
       "      <td>192.39</td>\n",
       "      <td>19.64</td>\n",
       "    </tr>\n",
       "  </tbody>\n",
       "</table>\n",
       "</div>"
      ],
      "text/plain": [
       "                     graph                                        best_cost  \\\n",
       "                 nro_nodes nro_edges nro_terminals global_optimum      mean   \n",
       "instance_problem                                                              \n",
       "B13                    100       125            17            165    512.47   \n",
       "B14                    100       125            25            235    504.33   \n",
       "B15                    100       125            50            318    502.90   \n",
       "B16                    100       200            17            127    480.30   \n",
       "B17                    100       200            25            131    448.20   \n",
       "B18                    100       200            50            218    498.47   \n",
       "\n",
       "                        iterations       run_time         \n",
       "                    std       mean   std     mean    std  \n",
       "instance_problem                                          \n",
       "B13               12.07     501.07  0.25   127.58  14.45  \n",
       "B14                9.37     501.03  0.18   146.77  12.66  \n",
       "B15                7.32     501.00  0.00   147.34  16.41  \n",
       "B16               19.06     503.00  1.76   176.24  17.19  \n",
       "B17               14.68     502.70  2.25   187.13  22.35  \n",
       "B18               12.31     502.43  1.72   192.39  19.64  "
      ]
     },
     "execution_count": 10,
     "metadata": {},
     "output_type": "execute_result"
    }
   ],
   "source": [
    "frame.columns = pd.MultiIndex.from_tuples([(\"graph\", col) for col in frame.columns])\n",
    "frame2 = frame.join(\n",
    "        grouped[[\"best_cost\", \"iterations\", \"run_time\"]] \\\n",
    "        .agg(basic_stats) \\\n",
    "        .reindex(categorical_order)\n",
    "    ).round(2)\n",
    "\n",
    "frame2"
   ]
  },
  {
   "cell_type": "code",
   "execution_count": 11,
   "metadata": {},
   "outputs": [
    {
     "data": {
      "text/html": [
       "<div>\n",
       "<style scoped>\n",
       "    .dataframe tbody tr th:only-of-type {\n",
       "        vertical-align: middle;\n",
       "    }\n",
       "\n",
       "    .dataframe tbody tr th {\n",
       "        vertical-align: top;\n",
       "    }\n",
       "\n",
       "    .dataframe thead th {\n",
       "        text-align: right;\n",
       "    }\n",
       "</style>\n",
       "<table border=\"1\" class=\"dataframe\">\n",
       "  <thead>\n",
       "    <tr style=\"text-align: right;\">\n",
       "      <th></th>\n",
       "      <th>mean</th>\n",
       "      <th>std</th>\n",
       "    </tr>\n",
       "    <tr>\n",
       "      <th>instance_problem</th>\n",
       "      <th></th>\n",
       "      <th></th>\n",
       "    </tr>\n",
       "  </thead>\n",
       "  <tbody>\n",
       "    <tr>\n",
       "      <th>B13</th>\n",
       "      <td>501.07</td>\n",
       "      <td>0.25</td>\n",
       "    </tr>\n",
       "    <tr>\n",
       "      <th>B14</th>\n",
       "      <td>501.03</td>\n",
       "      <td>0.18</td>\n",
       "    </tr>\n",
       "    <tr>\n",
       "      <th>B15</th>\n",
       "      <td>501.00</td>\n",
       "      <td>0.00</td>\n",
       "    </tr>\n",
       "    <tr>\n",
       "      <th>B16</th>\n",
       "      <td>503.00</td>\n",
       "      <td>1.76</td>\n",
       "    </tr>\n",
       "    <tr>\n",
       "      <th>B17</th>\n",
       "      <td>502.70</td>\n",
       "      <td>2.25</td>\n",
       "    </tr>\n",
       "    <tr>\n",
       "      <th>B18</th>\n",
       "      <td>502.43</td>\n",
       "      <td>1.72</td>\n",
       "    </tr>\n",
       "  </tbody>\n",
       "</table>\n",
       "</div>"
      ],
      "text/plain": [
       "                    mean   std\n",
       "instance_problem              \n",
       "B13               501.07  0.25\n",
       "B14               501.03  0.18\n",
       "B15               501.00  0.00\n",
       "B16               503.00  1.76\n",
       "B17               502.70  2.25\n",
       "B18               502.43  1.72"
      ]
     },
     "execution_count": 11,
     "metadata": {},
     "output_type": "execute_result"
    }
   ],
   "source": [
    "frame2[\"iterations\"]"
   ]
  },
  {
   "cell_type": "code",
   "execution_count": 12,
   "metadata": {},
   "outputs": [],
   "source": [
    "# frame2.to_csv(os.path.join(\"..\", \"outputdata\", \"processed\", \"ga_simpliestcrossover.csv\"))"
   ]
  },
  {
   "cell_type": "code",
   "execution_count": 18,
   "metadata": {},
   "outputs": [],
   "source": [
    "frame2.to_clipboard()"
   ]
  },
  {
   "cell_type": "code",
   "execution_count": 13,
   "metadata": {},
   "outputs": [
    {
     "data": {
      "text/plain": [
       "array(['stagnation'], dtype=object)"
      ]
     },
     "execution_count": 13,
     "metadata": {},
     "output_type": "execute_result"
    }
   ],
   "source": [
    "raw_data[\"why_stopped\"].unique()"
   ]
  },
  {
   "cell_type": "code",
   "execution_count": 14,
   "metadata": {},
   "outputs": [],
   "source": [
    "DATASET = \"B13\"\n",
    "file = \"trial_{0}_best_fitness.csv\"\n",
    "dfbest_fit = read_simulation_dataset(DATASET,SIMULATION_FOLDER, file, mintrial=0, maxtrial=29)"
   ]
  },
  {
   "cell_type": "code",
   "execution_count": 15,
   "metadata": {},
   "outputs": [
    {
     "name": "stdout",
     "output_type": "stream",
     "text": [
      "<class 'pandas.core.frame.DataFrame'>\n",
      "Int64Index: 32 entries, 0 to 0\n",
      "Data columns (total 4 columns):\n",
      " #   Column     Non-Null Count  Dtype \n",
      "---  ------     --------------  ----- \n",
      " 0   iteration  32 non-null     int64 \n",
      " 1   cost       32 non-null     int64 \n",
      " 2   fitness    32 non-null     int64 \n",
      " 3   trial      32 non-null     object\n",
      "dtypes: int64(3), object(1)\n",
      "memory usage: 1.2+ KB\n"
     ]
    }
   ],
   "source": [
    "dfbest_fit.info()"
   ]
  },
  {
   "cell_type": "code",
   "execution_count": 16,
   "metadata": {},
   "outputs": [
    {
     "data": {
      "text/plain": [
       "array([0, 1], dtype=int64)"
      ]
     },
     "execution_count": 16,
     "metadata": {},
     "output_type": "execute_result"
    }
   ],
   "source": [
    "dfbest_fit['iteration'].unique() # it's a bad thing"
   ]
  },
  {
   "cell_type": "code",
   "execution_count": 17,
   "metadata": {},
   "outputs": [
    {
     "data": {
      "text/html": [
       "<div>\n",
       "<style scoped>\n",
       "    .dataframe tbody tr th:only-of-type {\n",
       "        vertical-align: middle;\n",
       "    }\n",
       "\n",
       "    .dataframe tbody tr th {\n",
       "        vertical-align: top;\n",
       "    }\n",
       "\n",
       "    .dataframe thead th {\n",
       "        text-align: right;\n",
       "    }\n",
       "</style>\n",
       "<table border=\"1\" class=\"dataframe\">\n",
       "  <thead>\n",
       "    <tr style=\"text-align: right;\">\n",
       "      <th></th>\n",
       "      <th>iteration</th>\n",
       "      <th>cost</th>\n",
       "      <th>fitness</th>\n",
       "      <th>trial</th>\n",
       "    </tr>\n",
       "  </thead>\n",
       "  <tbody>\n",
       "    <tr>\n",
       "      <th>0</th>\n",
       "      <td>0</td>\n",
       "      <td>504</td>\n",
       "      <td>1453</td>\n",
       "      <td>0</td>\n",
       "    </tr>\n",
       "    <tr>\n",
       "      <th>0</th>\n",
       "      <td>0</td>\n",
       "      <td>503</td>\n",
       "      <td>1523</td>\n",
       "      <td>1</td>\n",
       "    </tr>\n",
       "    <tr>\n",
       "      <th>0</th>\n",
       "      <td>0</td>\n",
       "      <td>501</td>\n",
       "      <td>1510</td>\n",
       "      <td>2</td>\n",
       "    </tr>\n",
       "    <tr>\n",
       "      <th>0</th>\n",
       "      <td>0</td>\n",
       "      <td>514</td>\n",
       "      <td>1197</td>\n",
       "      <td>3</td>\n",
       "    </tr>\n",
       "    <tr>\n",
       "      <th>0</th>\n",
       "      <td>0</td>\n",
       "      <td>527</td>\n",
       "      <td>1254</td>\n",
       "      <td>4</td>\n",
       "    </tr>\n",
       "    <tr>\n",
       "      <th>0</th>\n",
       "      <td>0</td>\n",
       "      <td>523</td>\n",
       "      <td>915</td>\n",
       "      <td>5</td>\n",
       "    </tr>\n",
       "    <tr>\n",
       "      <th>1</th>\n",
       "      <td>1</td>\n",
       "      <td>518</td>\n",
       "      <td>1094</td>\n",
       "      <td>5</td>\n",
       "    </tr>\n",
       "    <tr>\n",
       "      <th>0</th>\n",
       "      <td>0</td>\n",
       "      <td>499</td>\n",
       "      <td>1645</td>\n",
       "      <td>6</td>\n",
       "    </tr>\n",
       "    <tr>\n",
       "      <th>0</th>\n",
       "      <td>0</td>\n",
       "      <td>506</td>\n",
       "      <td>1788</td>\n",
       "      <td>7</td>\n",
       "    </tr>\n",
       "    <tr>\n",
       "      <th>0</th>\n",
       "      <td>0</td>\n",
       "      <td>488</td>\n",
       "      <td>1402</td>\n",
       "      <td>8</td>\n",
       "    </tr>\n",
       "  </tbody>\n",
       "</table>\n",
       "</div>"
      ],
      "text/plain": [
       "   iteration  cost  fitness trial\n",
       "0          0   504     1453     0\n",
       "0          0   503     1523     1\n",
       "0          0   501     1510     2\n",
       "0          0   514     1197     3\n",
       "0          0   527     1254     4\n",
       "0          0   523      915     5\n",
       "1          1   518     1094     5\n",
       "0          0   499     1645     6\n",
       "0          0   506     1788     7\n",
       "0          0   488     1402     8"
      ]
     },
     "execution_count": 17,
     "metadata": {},
     "output_type": "execute_result"
    }
   ],
   "source": [
    "dfbest_fit.head(10)"
   ]
  },
  {
   "cell_type": "code",
   "execution_count": null,
   "metadata": {},
   "outputs": [],
   "source": []
  },
  {
   "cell_type": "code",
   "execution_count": null,
   "metadata": {},
   "outputs": [],
   "source": []
  }
 ],
 "metadata": {
  "kernelspec": {
   "display_name": "Python 3.8.2 64-bit ('ppgisteiner': conda)",
   "language": "python",
   "name": "python38264bitppgisteinerconda7461375648ff4cabb4e0c0e4657acb3d"
  },
  "language_info": {
   "codemirror_mode": {
    "name": "ipython",
    "version": 3
   },
   "file_extension": ".py",
   "mimetype": "text/x-python",
   "name": "python",
   "nbconvert_exporter": "python",
   "pygments_lexer": "ipython3",
   "version": "3.8.2"
  }
 },
 "nbformat": 4,
 "nbformat_minor": 4
}
